{
  "nbformat": 4,
  "nbformat_minor": 0,
  "metadata": {
    "colab": {
      "name": "09-01-attention-강의.ipynb의 사본",
      "provenance": [],
      "collapsed_sections": [
        "6dfJPT-2XMTB",
        "JHkHg6XAXoyK",
        "tPfBcykRf6TH",
        "D-bjMMvkBRLU",
        "XwriCkq_R1Lc",
        "kTgzpx2Wl6uv",
        "gcG7zBAr_R_4",
        "jv0OPyaKSpjw",
        "IFTsdA3kE2h-",
        "PQvKAxTbaEpt",
        "wZSehzviqJW3",
        "x0ZAlao5qJW4",
        "ByyA-3bbqJW6",
        "2lWovHbAqJW7"
      ]
    },
    "kernelspec": {
      "name": "python3",
      "display_name": "Python 3"
    },
    "accelerator": "GPU",
    "widgets": {
      "application/vnd.jupyter.widget-state+json": {
        "d4613d78fe53455199872c936d423746": {
          "model_module": "@jupyter-widgets/controls",
          "model_name": "HBoxModel",
          "state": {
            "_view_name": "HBoxView",
            "_dom_classes": [],
            "_model_name": "HBoxModel",
            "_view_module": "@jupyter-widgets/controls",
            "_model_module_version": "1.5.0",
            "_view_count": null,
            "_view_module_version": "1.5.0",
            "box_style": "",
            "layout": "IPY_MODEL_8e9430cf8a7a44efac447c6e11258ec1",
            "_model_module": "@jupyter-widgets/controls",
            "children": [
              "IPY_MODEL_3bc3e881450743a0a5ac3d6d251c9685",
              "IPY_MODEL_9101ca47430e4f2bb90b4688c5f502e4"
            ]
          }
        },
        "8e9430cf8a7a44efac447c6e11258ec1": {
          "model_module": "@jupyter-widgets/base",
          "model_name": "LayoutModel",
          "state": {
            "_view_name": "LayoutView",
            "grid_template_rows": null,
            "right": null,
            "justify_content": null,
            "_view_module": "@jupyter-widgets/base",
            "overflow": null,
            "_model_module_version": "1.2.0",
            "_view_count": null,
            "flex_flow": null,
            "width": null,
            "min_width": null,
            "border": null,
            "align_items": null,
            "bottom": null,
            "_model_module": "@jupyter-widgets/base",
            "top": null,
            "grid_column": null,
            "overflow_y": null,
            "overflow_x": null,
            "grid_auto_flow": null,
            "grid_area": null,
            "grid_template_columns": null,
            "flex": null,
            "_model_name": "LayoutModel",
            "justify_items": null,
            "grid_row": null,
            "max_height": null,
            "align_content": null,
            "visibility": null,
            "align_self": null,
            "height": null,
            "min_height": null,
            "padding": null,
            "grid_auto_rows": null,
            "grid_gap": null,
            "max_width": null,
            "order": null,
            "_view_module_version": "1.2.0",
            "grid_template_areas": null,
            "object_position": null,
            "object_fit": null,
            "grid_auto_columns": null,
            "margin": null,
            "display": null,
            "left": null
          }
        },
        "3bc3e881450743a0a5ac3d6d251c9685": {
          "model_module": "@jupyter-widgets/controls",
          "model_name": "FloatProgressModel",
          "state": {
            "_view_name": "ProgressView",
            "style": "IPY_MODEL_5fcc6b32716447f19be9a7454c3964d2",
            "_dom_classes": [],
            "description": "100%",
            "_model_name": "FloatProgressModel",
            "bar_style": "success",
            "max": 10,
            "_view_module": "@jupyter-widgets/controls",
            "_model_module_version": "1.5.0",
            "value": 10,
            "_view_count": null,
            "_view_module_version": "1.5.0",
            "orientation": "horizontal",
            "min": 0,
            "description_tooltip": null,
            "_model_module": "@jupyter-widgets/controls",
            "layout": "IPY_MODEL_491c3bf746cc4ab3ae1e28f352d4ac0c"
          }
        },
        "9101ca47430e4f2bb90b4688c5f502e4": {
          "model_module": "@jupyter-widgets/controls",
          "model_name": "HTMLModel",
          "state": {
            "_view_name": "HTMLView",
            "style": "IPY_MODEL_183cfb35b9164fefa66f158a15416359",
            "_dom_classes": [],
            "description": "",
            "_model_name": "HTMLModel",
            "placeholder": "​",
            "_view_module": "@jupyter-widgets/controls",
            "_model_module_version": "1.5.0",
            "value": " 10/10 [00:02&lt;00:00,  3.71it/s]",
            "_view_count": null,
            "_view_module_version": "1.5.0",
            "description_tooltip": null,
            "_model_module": "@jupyter-widgets/controls",
            "layout": "IPY_MODEL_ddcff04bef0a426a92a689155ea39dd7"
          }
        },
        "5fcc6b32716447f19be9a7454c3964d2": {
          "model_module": "@jupyter-widgets/controls",
          "model_name": "ProgressStyleModel",
          "state": {
            "_view_name": "StyleView",
            "_model_name": "ProgressStyleModel",
            "description_width": "initial",
            "_view_module": "@jupyter-widgets/base",
            "_model_module_version": "1.5.0",
            "_view_count": null,
            "_view_module_version": "1.2.0",
            "bar_color": null,
            "_model_module": "@jupyter-widgets/controls"
          }
        },
        "491c3bf746cc4ab3ae1e28f352d4ac0c": {
          "model_module": "@jupyter-widgets/base",
          "model_name": "LayoutModel",
          "state": {
            "_view_name": "LayoutView",
            "grid_template_rows": null,
            "right": null,
            "justify_content": null,
            "_view_module": "@jupyter-widgets/base",
            "overflow": null,
            "_model_module_version": "1.2.0",
            "_view_count": null,
            "flex_flow": null,
            "width": null,
            "min_width": null,
            "border": null,
            "align_items": null,
            "bottom": null,
            "_model_module": "@jupyter-widgets/base",
            "top": null,
            "grid_column": null,
            "overflow_y": null,
            "overflow_x": null,
            "grid_auto_flow": null,
            "grid_area": null,
            "grid_template_columns": null,
            "flex": null,
            "_model_name": "LayoutModel",
            "justify_items": null,
            "grid_row": null,
            "max_height": null,
            "align_content": null,
            "visibility": null,
            "align_self": null,
            "height": null,
            "min_height": null,
            "padding": null,
            "grid_auto_rows": null,
            "grid_gap": null,
            "max_width": null,
            "order": null,
            "_view_module_version": "1.2.0",
            "grid_template_areas": null,
            "object_position": null,
            "object_fit": null,
            "grid_auto_columns": null,
            "margin": null,
            "display": null,
            "left": null
          }
        },
        "183cfb35b9164fefa66f158a15416359": {
          "model_module": "@jupyter-widgets/controls",
          "model_name": "DescriptionStyleModel",
          "state": {
            "_view_name": "StyleView",
            "_model_name": "DescriptionStyleModel",
            "description_width": "",
            "_view_module": "@jupyter-widgets/base",
            "_model_module_version": "1.5.0",
            "_view_count": null,
            "_view_module_version": "1.2.0",
            "_model_module": "@jupyter-widgets/controls"
          }
        },
        "ddcff04bef0a426a92a689155ea39dd7": {
          "model_module": "@jupyter-widgets/base",
          "model_name": "LayoutModel",
          "state": {
            "_view_name": "LayoutView",
            "grid_template_rows": null,
            "right": null,
            "justify_content": null,
            "_view_module": "@jupyter-widgets/base",
            "overflow": null,
            "_model_module_version": "1.2.0",
            "_view_count": null,
            "flex_flow": null,
            "width": null,
            "min_width": null,
            "border": null,
            "align_items": null,
            "bottom": null,
            "_model_module": "@jupyter-widgets/base",
            "top": null,
            "grid_column": null,
            "overflow_y": null,
            "overflow_x": null,
            "grid_auto_flow": null,
            "grid_area": null,
            "grid_template_columns": null,
            "flex": null,
            "_model_name": "LayoutModel",
            "justify_items": null,
            "grid_row": null,
            "max_height": null,
            "align_content": null,
            "visibility": null,
            "align_self": null,
            "height": null,
            "min_height": null,
            "padding": null,
            "grid_auto_rows": null,
            "grid_gap": null,
            "max_width": null,
            "order": null,
            "_view_module_version": "1.2.0",
            "grid_template_areas": null,
            "object_position": null,
            "object_fit": null,
            "grid_auto_columns": null,
            "margin": null,
            "display": null,
            "left": null
          }
        },
        "2a90fb7c34d447a492239aa70d3c4821": {
          "model_module": "@jupyter-widgets/controls",
          "model_name": "HBoxModel",
          "state": {
            "_view_name": "HBoxView",
            "_dom_classes": [],
            "_model_name": "HBoxModel",
            "_view_module": "@jupyter-widgets/controls",
            "_model_module_version": "1.5.0",
            "_view_count": null,
            "_view_module_version": "1.5.0",
            "box_style": "",
            "layout": "IPY_MODEL_d3db4c56dc244102bcecf26385d0464e",
            "_model_module": "@jupyter-widgets/controls",
            "children": [
              "IPY_MODEL_5f13b5e529c3456d81437fd2d9a5e75c",
              "IPY_MODEL_cf75a58b87914f65b6c1914791602da1"
            ]
          }
        },
        "d3db4c56dc244102bcecf26385d0464e": {
          "model_module": "@jupyter-widgets/base",
          "model_name": "LayoutModel",
          "state": {
            "_view_name": "LayoutView",
            "grid_template_rows": null,
            "right": null,
            "justify_content": null,
            "_view_module": "@jupyter-widgets/base",
            "overflow": null,
            "_model_module_version": "1.2.0",
            "_view_count": null,
            "flex_flow": null,
            "width": null,
            "min_width": null,
            "border": null,
            "align_items": null,
            "bottom": null,
            "_model_module": "@jupyter-widgets/base",
            "top": null,
            "grid_column": null,
            "overflow_y": null,
            "overflow_x": null,
            "grid_auto_flow": null,
            "grid_area": null,
            "grid_template_columns": null,
            "flex": null,
            "_model_name": "LayoutModel",
            "justify_items": null,
            "grid_row": null,
            "max_height": null,
            "align_content": null,
            "visibility": null,
            "align_self": null,
            "height": null,
            "min_height": null,
            "padding": null,
            "grid_auto_rows": null,
            "grid_gap": null,
            "max_width": null,
            "order": null,
            "_view_module_version": "1.2.0",
            "grid_template_areas": null,
            "object_position": null,
            "object_fit": null,
            "grid_auto_columns": null,
            "margin": null,
            "display": null,
            "left": null
          }
        },
        "5f13b5e529c3456d81437fd2d9a5e75c": {
          "model_module": "@jupyter-widgets/controls",
          "model_name": "FloatProgressModel",
          "state": {
            "_view_name": "ProgressView",
            "style": "IPY_MODEL_251ca7ad5d074463b5b05bb5567f1ee2",
            "_dom_classes": [],
            "description": "100%",
            "_model_name": "FloatProgressModel",
            "bar_style": "success",
            "max": 11823,
            "_view_module": "@jupyter-widgets/controls",
            "_model_module_version": "1.5.0",
            "value": 11823,
            "_view_count": null,
            "_view_module_version": "1.5.0",
            "orientation": "horizontal",
            "min": 0,
            "description_tooltip": null,
            "_model_module": "@jupyter-widgets/controls",
            "layout": "IPY_MODEL_6fa27735c6344b319ff4749bf06fe315"
          }
        },
        "cf75a58b87914f65b6c1914791602da1": {
          "model_module": "@jupyter-widgets/controls",
          "model_name": "HTMLModel",
          "state": {
            "_view_name": "HTMLView",
            "style": "IPY_MODEL_23f8067877dc4e9b91a45c9f5cfb04e2",
            "_dom_classes": [],
            "description": "",
            "_model_name": "HTMLModel",
            "placeholder": "​",
            "_view_module": "@jupyter-widgets/controls",
            "_model_module_version": "1.5.0",
            "value": " 11823/11823 [00:02&lt;00:00, 5876.72it/s]",
            "_view_count": null,
            "_view_module_version": "1.5.0",
            "description_tooltip": null,
            "_model_module": "@jupyter-widgets/controls",
            "layout": "IPY_MODEL_2e5335a66e5d4cb99487fc2d7aec3f20"
          }
        },
        "251ca7ad5d074463b5b05bb5567f1ee2": {
          "model_module": "@jupyter-widgets/controls",
          "model_name": "ProgressStyleModel",
          "state": {
            "_view_name": "StyleView",
            "_model_name": "ProgressStyleModel",
            "description_width": "initial",
            "_view_module": "@jupyter-widgets/base",
            "_model_module_version": "1.5.0",
            "_view_count": null,
            "_view_module_version": "1.2.0",
            "bar_color": null,
            "_model_module": "@jupyter-widgets/controls"
          }
        },
        "6fa27735c6344b319ff4749bf06fe315": {
          "model_module": "@jupyter-widgets/base",
          "model_name": "LayoutModel",
          "state": {
            "_view_name": "LayoutView",
            "grid_template_rows": null,
            "right": null,
            "justify_content": null,
            "_view_module": "@jupyter-widgets/base",
            "overflow": null,
            "_model_module_version": "1.2.0",
            "_view_count": null,
            "flex_flow": null,
            "width": null,
            "min_width": null,
            "border": null,
            "align_items": null,
            "bottom": null,
            "_model_module": "@jupyter-widgets/base",
            "top": null,
            "grid_column": null,
            "overflow_y": null,
            "overflow_x": null,
            "grid_auto_flow": null,
            "grid_area": null,
            "grid_template_columns": null,
            "flex": null,
            "_model_name": "LayoutModel",
            "justify_items": null,
            "grid_row": null,
            "max_height": null,
            "align_content": null,
            "visibility": null,
            "align_self": null,
            "height": null,
            "min_height": null,
            "padding": null,
            "grid_auto_rows": null,
            "grid_gap": null,
            "max_width": null,
            "order": null,
            "_view_module_version": "1.2.0",
            "grid_template_areas": null,
            "object_position": null,
            "object_fit": null,
            "grid_auto_columns": null,
            "margin": null,
            "display": null,
            "left": null
          }
        },
        "23f8067877dc4e9b91a45c9f5cfb04e2": {
          "model_module": "@jupyter-widgets/controls",
          "model_name": "DescriptionStyleModel",
          "state": {
            "_view_name": "StyleView",
            "_model_name": "DescriptionStyleModel",
            "description_width": "",
            "_view_module": "@jupyter-widgets/base",
            "_model_module_version": "1.5.0",
            "_view_count": null,
            "_view_module_version": "1.2.0",
            "_model_module": "@jupyter-widgets/controls"
          }
        },
        "2e5335a66e5d4cb99487fc2d7aec3f20": {
          "model_module": "@jupyter-widgets/base",
          "model_name": "LayoutModel",
          "state": {
            "_view_name": "LayoutView",
            "grid_template_rows": null,
            "right": null,
            "justify_content": null,
            "_view_module": "@jupyter-widgets/base",
            "overflow": null,
            "_model_module_version": "1.2.0",
            "_view_count": null,
            "flex_flow": null,
            "width": null,
            "min_width": null,
            "border": null,
            "align_items": null,
            "bottom": null,
            "_model_module": "@jupyter-widgets/base",
            "top": null,
            "grid_column": null,
            "overflow_y": null,
            "overflow_x": null,
            "grid_auto_flow": null,
            "grid_area": null,
            "grid_template_columns": null,
            "flex": null,
            "_model_name": "LayoutModel",
            "justify_items": null,
            "grid_row": null,
            "max_height": null,
            "align_content": null,
            "visibility": null,
            "align_self": null,
            "height": null,
            "min_height": null,
            "padding": null,
            "grid_auto_rows": null,
            "grid_gap": null,
            "max_width": null,
            "order": null,
            "_view_module_version": "1.2.0",
            "grid_template_areas": null,
            "object_position": null,
            "object_fit": null,
            "grid_auto_columns": null,
            "margin": null,
            "display": null,
            "left": null
          }
        }
      }
    }
  },
  "cells": [
    {
      "cell_type": "markdown",
      "metadata": {
        "id": "6dfJPT-2XMTB"
      },
      "source": [
        "# Install"
      ]
    },
    {
      "cell_type": "code",
      "metadata": {
        "id": "a193aGJWVaqb",
        "colab": {
          "base_uri": "https://localhost:8080/"
        },
        "outputId": "9b03a1e1-fd46-494e-d076-b4fda754b67e"
      },
      "source": [
        "!pip install sentencepiece"
      ],
      "execution_count": 1,
      "outputs": [
        {
          "output_type": "stream",
          "text": [
            "Collecting sentencepiece\n",
            "\u001b[?25l  Downloading https://files.pythonhosted.org/packages/14/67/e42bd1181472c95c8cda79305df848264f2a7f62740995a46945d9797b67/sentencepiece-0.1.95-cp36-cp36m-manylinux2014_x86_64.whl (1.2MB)\n",
            "\r\u001b[K     |▎                               | 10kB 21.5MB/s eta 0:00:01\r\u001b[K     |▌                               | 20kB 15.9MB/s eta 0:00:01\r\u001b[K     |▉                               | 30kB 14.0MB/s eta 0:00:01\r\u001b[K     |█                               | 40kB 13.2MB/s eta 0:00:01\r\u001b[K     |█▍                              | 51kB 10.2MB/s eta 0:00:01\r\u001b[K     |█▋                              | 61kB 10.8MB/s eta 0:00:01\r\u001b[K     |██                              | 71kB 10.6MB/s eta 0:00:01\r\u001b[K     |██▏                             | 81kB 11.7MB/s eta 0:00:01\r\u001b[K     |██▌                             | 92kB 10.6MB/s eta 0:00:01\r\u001b[K     |██▊                             | 102kB 9.7MB/s eta 0:00:01\r\u001b[K     |███                             | 112kB 9.7MB/s eta 0:00:01\r\u001b[K     |███▎                            | 122kB 9.7MB/s eta 0:00:01\r\u001b[K     |███▌                            | 133kB 9.7MB/s eta 0:00:01\r\u001b[K     |███▉                            | 143kB 9.7MB/s eta 0:00:01\r\u001b[K     |████                            | 153kB 9.7MB/s eta 0:00:01\r\u001b[K     |████▍                           | 163kB 9.7MB/s eta 0:00:01\r\u001b[K     |████▋                           | 174kB 9.7MB/s eta 0:00:01\r\u001b[K     |█████                           | 184kB 9.7MB/s eta 0:00:01\r\u001b[K     |█████▏                          | 194kB 9.7MB/s eta 0:00:01\r\u001b[K     |█████▌                          | 204kB 9.7MB/s eta 0:00:01\r\u001b[K     |█████▊                          | 215kB 9.7MB/s eta 0:00:01\r\u001b[K     |██████                          | 225kB 9.7MB/s eta 0:00:01\r\u001b[K     |██████▎                         | 235kB 9.7MB/s eta 0:00:01\r\u001b[K     |██████▌                         | 245kB 9.7MB/s eta 0:00:01\r\u001b[K     |██████▉                         | 256kB 9.7MB/s eta 0:00:01\r\u001b[K     |███████                         | 266kB 9.7MB/s eta 0:00:01\r\u001b[K     |███████▍                        | 276kB 9.7MB/s eta 0:00:01\r\u001b[K     |███████▋                        | 286kB 9.7MB/s eta 0:00:01\r\u001b[K     |████████                        | 296kB 9.7MB/s eta 0:00:01\r\u001b[K     |████████▏                       | 307kB 9.7MB/s eta 0:00:01\r\u001b[K     |████████▍                       | 317kB 9.7MB/s eta 0:00:01\r\u001b[K     |████████▊                       | 327kB 9.7MB/s eta 0:00:01\r\u001b[K     |█████████                       | 337kB 9.7MB/s eta 0:00:01\r\u001b[K     |█████████▎                      | 348kB 9.7MB/s eta 0:00:01\r\u001b[K     |█████████▌                      | 358kB 9.7MB/s eta 0:00:01\r\u001b[K     |█████████▉                      | 368kB 9.7MB/s eta 0:00:01\r\u001b[K     |██████████                      | 378kB 9.7MB/s eta 0:00:01\r\u001b[K     |██████████▍                     | 389kB 9.7MB/s eta 0:00:01\r\u001b[K     |██████████▋                     | 399kB 9.7MB/s eta 0:00:01\r\u001b[K     |███████████                     | 409kB 9.7MB/s eta 0:00:01\r\u001b[K     |███████████▏                    | 419kB 9.7MB/s eta 0:00:01\r\u001b[K     |███████████▍                    | 430kB 9.7MB/s eta 0:00:01\r\u001b[K     |███████████▊                    | 440kB 9.7MB/s eta 0:00:01\r\u001b[K     |████████████                    | 450kB 9.7MB/s eta 0:00:01\r\u001b[K     |████████████▎                   | 460kB 9.7MB/s eta 0:00:01\r\u001b[K     |████████████▌                   | 471kB 9.7MB/s eta 0:00:01\r\u001b[K     |████████████▉                   | 481kB 9.7MB/s eta 0:00:01\r\u001b[K     |█████████████                   | 491kB 9.7MB/s eta 0:00:01\r\u001b[K     |█████████████▍                  | 501kB 9.7MB/s eta 0:00:01\r\u001b[K     |█████████████▋                  | 512kB 9.7MB/s eta 0:00:01\r\u001b[K     |█████████████▉                  | 522kB 9.7MB/s eta 0:00:01\r\u001b[K     |██████████████▏                 | 532kB 9.7MB/s eta 0:00:01\r\u001b[K     |██████████████▍                 | 542kB 9.7MB/s eta 0:00:01\r\u001b[K     |██████████████▊                 | 552kB 9.7MB/s eta 0:00:01\r\u001b[K     |███████████████                 | 563kB 9.7MB/s eta 0:00:01\r\u001b[K     |███████████████▎                | 573kB 9.7MB/s eta 0:00:01\r\u001b[K     |███████████████▌                | 583kB 9.7MB/s eta 0:00:01\r\u001b[K     |███████████████▉                | 593kB 9.7MB/s eta 0:00:01\r\u001b[K     |████████████████                | 604kB 9.7MB/s eta 0:00:01\r\u001b[K     |████████████████▍               | 614kB 9.7MB/s eta 0:00:01\r\u001b[K     |████████████████▋               | 624kB 9.7MB/s eta 0:00:01\r\u001b[K     |████████████████▉               | 634kB 9.7MB/s eta 0:00:01\r\u001b[K     |█████████████████▏              | 645kB 9.7MB/s eta 0:00:01\r\u001b[K     |█████████████████▍              | 655kB 9.7MB/s eta 0:00:01\r\u001b[K     |█████████████████▊              | 665kB 9.7MB/s eta 0:00:01\r\u001b[K     |██████████████████              | 675kB 9.7MB/s eta 0:00:01\r\u001b[K     |██████████████████▎             | 686kB 9.7MB/s eta 0:00:01\r\u001b[K     |██████████████████▌             | 696kB 9.7MB/s eta 0:00:01\r\u001b[K     |██████████████████▉             | 706kB 9.7MB/s eta 0:00:01\r\u001b[K     |███████████████████             | 716kB 9.7MB/s eta 0:00:01\r\u001b[K     |███████████████████▎            | 727kB 9.7MB/s eta 0:00:01\r\u001b[K     |███████████████████▋            | 737kB 9.7MB/s eta 0:00:01\r\u001b[K     |███████████████████▉            | 747kB 9.7MB/s eta 0:00:01\r\u001b[K     |████████████████████▏           | 757kB 9.7MB/s eta 0:00:01\r\u001b[K     |████████████████████▍           | 768kB 9.7MB/s eta 0:00:01\r\u001b[K     |████████████████████▊           | 778kB 9.7MB/s eta 0:00:01\r\u001b[K     |█████████████████████           | 788kB 9.7MB/s eta 0:00:01\r\u001b[K     |█████████████████████▎          | 798kB 9.7MB/s eta 0:00:01\r\u001b[K     |█████████████████████▌          | 808kB 9.7MB/s eta 0:00:01\r\u001b[K     |█████████████████████▉          | 819kB 9.7MB/s eta 0:00:01\r\u001b[K     |██████████████████████          | 829kB 9.7MB/s eta 0:00:01\r\u001b[K     |██████████████████████▎         | 839kB 9.7MB/s eta 0:00:01\r\u001b[K     |██████████████████████▋         | 849kB 9.7MB/s eta 0:00:01\r\u001b[K     |██████████████████████▉         | 860kB 9.7MB/s eta 0:00:01\r\u001b[K     |███████████████████████▏        | 870kB 9.7MB/s eta 0:00:01\r\u001b[K     |███████████████████████▍        | 880kB 9.7MB/s eta 0:00:01\r\u001b[K     |███████████████████████▊        | 890kB 9.7MB/s eta 0:00:01\r\u001b[K     |████████████████████████        | 901kB 9.7MB/s eta 0:00:01\r\u001b[K     |████████████████████████▎       | 911kB 9.7MB/s eta 0:00:01\r\u001b[K     |████████████████████████▌       | 921kB 9.7MB/s eta 0:00:01\r\u001b[K     |████████████████████████▊       | 931kB 9.7MB/s eta 0:00:01\r\u001b[K     |█████████████████████████       | 942kB 9.7MB/s eta 0:00:01\r\u001b[K     |█████████████████████████▎      | 952kB 9.7MB/s eta 0:00:01\r\u001b[K     |█████████████████████████▋      | 962kB 9.7MB/s eta 0:00:01\r\u001b[K     |█████████████████████████▉      | 972kB 9.7MB/s eta 0:00:01\r\u001b[K     |██████████████████████████▏     | 983kB 9.7MB/s eta 0:00:01\r\u001b[K     |██████████████████████████▍     | 993kB 9.7MB/s eta 0:00:01\r\u001b[K     |██████████████████████████▊     | 1.0MB 9.7MB/s eta 0:00:01\r\u001b[K     |███████████████████████████     | 1.0MB 9.7MB/s eta 0:00:01\r\u001b[K     |███████████████████████████▎    | 1.0MB 9.7MB/s eta 0:00:01\r\u001b[K     |███████████████████████████▌    | 1.0MB 9.7MB/s eta 0:00:01\r\u001b[K     |███████████████████████████▊    | 1.0MB 9.7MB/s eta 0:00:01\r\u001b[K     |████████████████████████████    | 1.1MB 9.7MB/s eta 0:00:01\r\u001b[K     |████████████████████████████▎   | 1.1MB 9.7MB/s eta 0:00:01\r\u001b[K     |████████████████████████████▋   | 1.1MB 9.7MB/s eta 0:00:01\r\u001b[K     |████████████████████████████▉   | 1.1MB 9.7MB/s eta 0:00:01\r\u001b[K     |█████████████████████████████▏  | 1.1MB 9.7MB/s eta 0:00:01\r\u001b[K     |█████████████████████████████▍  | 1.1MB 9.7MB/s eta 0:00:01\r\u001b[K     |█████████████████████████████▊  | 1.1MB 9.7MB/s eta 0:00:01\r\u001b[K     |██████████████████████████████  | 1.1MB 9.7MB/s eta 0:00:01\r\u001b[K     |██████████████████████████████▏ | 1.1MB 9.7MB/s eta 0:00:01\r\u001b[K     |██████████████████████████████▌ | 1.1MB 9.7MB/s eta 0:00:01\r\u001b[K     |██████████████████████████████▊ | 1.2MB 9.7MB/s eta 0:00:01\r\u001b[K     |███████████████████████████████ | 1.2MB 9.7MB/s eta 0:00:01\r\u001b[K     |███████████████████████████████▎| 1.2MB 9.7MB/s eta 0:00:01\r\u001b[K     |███████████████████████████████▋| 1.2MB 9.7MB/s eta 0:00:01\r\u001b[K     |███████████████████████████████▉| 1.2MB 9.7MB/s eta 0:00:01\r\u001b[K     |████████████████████████████████| 1.2MB 9.7MB/s \n",
            "\u001b[?25hInstalling collected packages: sentencepiece\n",
            "Successfully installed sentencepiece-0.1.95\n"
          ],
          "name": "stdout"
        }
      ]
    },
    {
      "cell_type": "markdown",
      "metadata": {
        "id": "JHkHg6XAXoyK"
      },
      "source": [
        "# Evn"
      ]
    },
    {
      "cell_type": "code",
      "metadata": {
        "id": "WkYXFwcBXJDG"
      },
      "source": [
        "import os\n",
        "import random\n",
        "import shutil\n",
        "import json\n",
        "import zipfile\n",
        "import math\n",
        "import copy\n",
        "import collections\n",
        "import re\n",
        "\n",
        "import matplotlib.pyplot as plt\n",
        "import pandas as pd\n",
        "import numpy as np\n",
        "import sentencepiece as spm\n",
        "import tensorflow as tf\n",
        "import tensorflow.keras.backend as KK\n",
        "\n",
        "from tqdm.notebook import tqdm"
      ],
      "execution_count": 2,
      "outputs": []
    },
    {
      "cell_type": "code",
      "metadata": {
        "id": "nvjyruUlXtlR"
      },
      "source": [
        "# random seed initialize\n",
        "random_seed = 1234\n",
        "random.seed(random_seed)\n",
        "np.random.seed(random_seed)\n",
        "tf.random.set_seed(random_seed)"
      ],
      "execution_count": 3,
      "outputs": []
    },
    {
      "cell_type": "code",
      "metadata": {
        "id": "BC3fXkhdYcYt",
        "colab": {
          "base_uri": "https://localhost:8080/"
        },
        "outputId": "fcc77f1a-a153-4496-bf20-53065a0882b0"
      },
      "source": [
        "!nvidia-smi"
      ],
      "execution_count": 4,
      "outputs": [
        {
          "output_type": "stream",
          "text": [
            "Fri Feb  5 14:04:49 2021       \n",
            "+-----------------------------------------------------------------------------+\n",
            "| NVIDIA-SMI 460.39       Driver Version: 418.67       CUDA Version: 10.1     |\n",
            "|-------------------------------+----------------------+----------------------+\n",
            "| GPU  Name        Persistence-M| Bus-Id        Disp.A | Volatile Uncorr. ECC |\n",
            "| Fan  Temp  Perf  Pwr:Usage/Cap|         Memory-Usage | GPU-Util  Compute M. |\n",
            "|                               |                      |               MIG M. |\n",
            "|===============================+======================+======================|\n",
            "|   0  Tesla P100-PCIE...  Off  | 00000000:00:04.0 Off |                    0 |\n",
            "| N/A   35C    P0    25W / 250W |      0MiB / 16280MiB |      0%      Default |\n",
            "|                               |                      |                 ERR! |\n",
            "+-------------------------------+----------------------+----------------------+\n",
            "                                                                               \n",
            "+-----------------------------------------------------------------------------+\n",
            "| Processes:                                                                  |\n",
            "|  GPU   GI   CI        PID   Type   Process name                  GPU Memory |\n",
            "|        ID   ID                                                   Usage      |\n",
            "|=============================================================================|\n",
            "|  No running processes found                                                 |\n",
            "+-----------------------------------------------------------------------------+\n"
          ],
          "name": "stdout"
        }
      ]
    },
    {
      "cell_type": "code",
      "metadata": {
        "id": "xVRdxYReYeQj",
        "colab": {
          "base_uri": "https://localhost:8080/"
        },
        "outputId": "b55512a5-8062-45a8-e62d-ec5b8545e5f1"
      },
      "source": [
        "# google drive mount\n",
        "from google.colab import drive\n",
        "drive.mount('/content/drive')"
      ],
      "execution_count": 5,
      "outputs": [
        {
          "output_type": "stream",
          "text": [
            "Mounted at /content/drive\n"
          ],
          "name": "stdout"
        }
      ]
    },
    {
      "cell_type": "code",
      "metadata": {
        "id": "byCIiLJBbFHh",
        "colab": {
          "base_uri": "https://localhost:8080/"
        },
        "outputId": "fd9aeb81-6973-4c67-b180-e29aa11477aa"
      },
      "source": [
        "# data dir\n",
        "data_dir = '/content/drive/MyDrive/NLP_data'\n",
        "os.listdir(data_dir)"
      ],
      "execution_count": 6,
      "outputs": [
        {
          "output_type": "execute_result",
          "data": {
            "text/plain": [
              "['ko_32000.model',\n",
              " 'ko_32000.vocab',\n",
              " 'kowiki',\n",
              " '.ipynb_checkpoints',\n",
              " 'nsmc',\n",
              " 'quora',\n",
              " 'songys']"
            ]
          },
          "metadata": {
            "tags": []
          },
          "execution_count": 6
        }
      ]
    },
    {
      "cell_type": "code",
      "metadata": {
        "id": "_Ru56YS3-SME",
        "colab": {
          "base_uri": "https://localhost:8080/"
        },
        "outputId": "42bbd571-df20-4ab0-92a7-065fe2d92fbd"
      },
      "source": [
        "# songys chatbot dir\n",
        "songys_dir = os.path.join(data_dir, 'songys')\n",
        "if not os.path.exists(songys_dir):\n",
        "    os.makedirs(songys_dir)\n",
        "os.listdir(songys_dir)"
      ],
      "execution_count": 7,
      "outputs": [
        {
          "output_type": "execute_result",
          "data": {
            "text/plain": [
              "['ChatbotData.csv', 'lstm.csv', 'lstm.hdf5', 'lstm_dot.csv', 'lstm_dot.hdf5']"
            ]
          },
          "metadata": {
            "tags": []
          },
          "execution_count": 7
        }
      ]
    },
    {
      "cell_type": "markdown",
      "metadata": {
        "id": "tPfBcykRf6TH"
      },
      "source": [
        "# Attention"
      ]
    },
    {
      "cell_type": "code",
      "metadata": {
        "id": "GBCgqohCf-kO"
      },
      "source": [
        "# 입력 문장\n",
        "sentences = [\n",
        "    ['나는 오늘 기분이 좋아', '네가 좋으니 나도 좋아'],\n",
        "    ['나는 오늘 행복해', '나도 행복하다'],\n",
        "]"
      ],
      "execution_count": 8,
      "outputs": []
    },
    {
      "cell_type": "code",
      "metadata": {
        "id": "e0C4BfF9e7yg",
        "colab": {
          "base_uri": "https://localhost:8080/"
        },
        "outputId": "4bdf23ae-324d-4a36-b0fe-7c3877ff6db2"
      },
      "source": [
        "# 각 문장을 띄어쓰기 단위로 분할\n",
        "words = []\n",
        "for pair in sentences:\n",
        "    for sentence in pair:\n",
        "        words.extend(sentence.split())\n",
        "\n",
        "# 중복 단어 제거\n",
        "words = list(dict.fromkeys(words))\n",
        "\n",
        "# 각 단어별 고유한 번호 부여\n",
        "word_to_id = {'[PAD]': 0, '[UNK]': 1, '[BOS]': 2, '[EOS]': 3}\n",
        "for word in words:\n",
        "    word_to_id[word] = len(word_to_id)\n",
        "\n",
        "# 각 숫자별 단어 부여\n",
        "id_to_word = {_id:word for word, _id in word_to_id.items()}\n",
        "\n",
        "word_to_id, id_to_word"
      ],
      "execution_count": 9,
      "outputs": [
        {
          "output_type": "execute_result",
          "data": {
            "text/plain": [
              "({'[BOS]': 2,\n",
              "  '[EOS]': 3,\n",
              "  '[PAD]': 0,\n",
              "  '[UNK]': 1,\n",
              "  '기분이': 6,\n",
              "  '나는': 4,\n",
              "  '나도': 10,\n",
              "  '네가': 8,\n",
              "  '오늘': 5,\n",
              "  '좋아': 7,\n",
              "  '좋으니': 9,\n",
              "  '행복하다': 12,\n",
              "  '행복해': 11},\n",
              " {0: '[PAD]',\n",
              "  1: '[UNK]',\n",
              "  2: '[BOS]',\n",
              "  3: '[EOS]',\n",
              "  4: '나는',\n",
              "  5: '오늘',\n",
              "  6: '기분이',\n",
              "  7: '좋아',\n",
              "  8: '네가',\n",
              "  9: '좋으니',\n",
              "  10: '나도',\n",
              "  11: '행복해',\n",
              "  12: '행복하다'})"
            ]
          },
          "metadata": {
            "tags": []
          },
          "execution_count": 9
        }
      ]
    },
    {
      "cell_type": "code",
      "metadata": {
        "id": "t6eZMVpZfOQp",
        "colab": {
          "base_uri": "https://localhost:8080/"
        },
        "outputId": "cf3a4239-8869-4de3-c817-802bd4667bf0"
      },
      "source": [
        "# Question과 Answer를 숫자료\n",
        "question_list, answer_list = [], []\n",
        "\n",
        "for pair in sentences:\n",
        "    question_list.append([word_to_id[word] for word in pair[0].split()])\n",
        "    answer_list.append([word_to_id[word] for word in pair[1].split()])\n",
        "\n",
        "# 학습용 입력 데이터 생성\n",
        "train_enc_inputs, train_dec_inputs, train_labels = [], [], []\n",
        "\n",
        "for question, answer in zip(question_list, answer_list):\n",
        "    train_enc_inputs.append(question)\n",
        "    train_dec_inputs.append([word_to_id['[BOS]']] + answer)\n",
        "    train_labels.append(answer + [word_to_id['[EOS]']])\n",
        "\n",
        "# Encoder 입력의 길이를 모두 동일하게 변경 (최대길이 4)\n",
        "for row in train_enc_inputs:\n",
        "    row += [0] * (4 - len(row))\n",
        "\n",
        "# Decoder 입력의 길이를 모두 동일하게 변경 (최대길이 5)\n",
        "for row in train_dec_inputs:\n",
        "    row += [0] * (5 - len(row))\n",
        "\n",
        "# 정답의 길이를 모두 동일하게 변경 (최대길이 5)\n",
        "for row in train_labels:\n",
        "    row += [0] * (5 - len(row))\n",
        "\n",
        "# numpy array로 변환\n",
        "train_enc_inputs = np.array(train_enc_inputs)\n",
        "train_dec_inputs = np.array(train_dec_inputs)\n",
        "train_labels = np.array(train_labels)\n",
        "\n",
        "train_enc_inputs, train_dec_inputs, train_labels"
      ],
      "execution_count": 10,
      "outputs": [
        {
          "output_type": "execute_result",
          "data": {
            "text/plain": [
              "(array([[ 4,  5,  6,  7],\n",
              "        [ 4,  5, 11,  0]]), array([[ 2,  8,  9, 10,  7],\n",
              "        [ 2, 10, 12,  0,  0]]), array([[ 8,  9, 10,  7,  3],\n",
              "        [10, 12,  3,  0,  0]]))"
            ]
          },
          "metadata": {
            "tags": []
          },
          "execution_count": 10
        }
      ]
    },
    {
      "cell_type": "code",
      "metadata": {
        "id": "BljdfhNYfae4",
        "colab": {
          "base_uri": "https://localhost:8080/"
        },
        "outputId": "5647dfeb-e5d8-4bc6-efdf-e8a1bb9cb9f1"
      },
      "source": [
        "# random embed weight\n",
        "embed_weight = np.random.randint(-9, 9, (len(id_to_word), 5)) / 10\n",
        "\n",
        "# embedding 생성\n",
        "embedding = tf.keras.layers.Embedding(len(id_to_word), 5, weights=[embed_weight])\n",
        "\n",
        "# word embedding\n",
        "hidden_enc = embedding(train_enc_inputs)  # (bs, n_enc_seq, 5)\n",
        "hidden_dec = embedding(train_dec_inputs)  # (bs, n_dec_seq, 5)\n",
        "hidden_enc, hidden_dec"
      ],
      "execution_count": 11,
      "outputs": [
        {
          "output_type": "execute_result",
          "data": {
            "text/plain": [
              "(<tf.Tensor: shape=(2, 4, 5), dtype=float32, numpy=\n",
              " array([[[ 0.2, -0.9,  0. ,  0.2,  0.7],\n",
              "         [-0.6, -0.7,  0.3, -0.8,  0.2],\n",
              "         [ 0.2,  0.8,  0.5, -0.2,  0.1],\n",
              "         [ 0.2,  0.5,  0.8,  0.4, -0.9]],\n",
              " \n",
              "        [[ 0.2, -0.9,  0. ,  0.2,  0.7],\n",
              "         [-0.6, -0.7,  0.3, -0.8,  0.2],\n",
              "         [-0.4,  0.4, -0.3, -0.2, -0.5],\n",
              "         [ 0.6, -0.3,  0.3,  0.6,  0.8]]], dtype=float32)>,\n",
              " <tf.Tensor: shape=(2, 5, 5), dtype=float32, numpy=\n",
              " array([[[ 0.7,  0. ,  0.6,  0.7,  0.3],\n",
              "         [ 0.3, -0.4,  0.8, -0.4,  0.4],\n",
              "         [ 0.7,  0. , -0.1,  0.3, -0.3],\n",
              "         [ 0.3,  0.6,  0.8,  0.5, -0.7],\n",
              "         [ 0.2,  0.5,  0.8,  0.4, -0.9]],\n",
              " \n",
              "        [[ 0.7,  0. ,  0.6,  0.7,  0.3],\n",
              "         [ 0.3,  0.6,  0.8,  0.5, -0.7],\n",
              "         [-0.6, -0.4,  0.5,  0.6,  0.6],\n",
              "         [ 0.6, -0.3,  0.3,  0.6,  0.8],\n",
              "         [ 0.6, -0.3,  0.3,  0.6,  0.8]]], dtype=float32)>)"
            ]
          },
          "metadata": {
            "tags": []
          },
          "execution_count": 11
        }
      ]
    },
    {
      "cell_type": "code",
      "metadata": {
        "id": "8SH71jMNfg-b"
      },
      "source": [
        "# Q, K, V 선언\r\n",
        "# Q = decoder, K, V = encoder\r\n",
        "Q = hidden_dec\r\n",
        "K = hidden_enc\r\n",
        "V = K"
      ],
      "execution_count": 12,
      "outputs": []
    },
    {
      "cell_type": "code",
      "metadata": {
        "id": "Uqu9CiA_fpPK",
        "colab": {
          "base_uri": "https://localhost:8080/"
        },
        "outputId": "55d4e71c-3d69-4a06-fbdb-a62e5fd75bf0"
      },
      "source": [
        "# Q[0][0] & K[0][0]\r\n",
        "q_idx, k_idx = 0, 0\r\n",
        "q_val = Q[0][q_idx]\r\n",
        "k_val = K[0][k_idx]\r\n",
        "print(q_val)\r\n",
        "print(k_val)\r\n",
        "print(np.dot(q_val, np.transpose(k_val)))\r\n",
        "print(tf.matmul([q_val], [k_val], transpose_b = True))\r\n",
        "print(np.sum(q_val * k_val))"
      ],
      "execution_count": 13,
      "outputs": [
        {
          "output_type": "stream",
          "text": [
            "tf.Tensor([0.7 0.  0.6 0.7 0.3], shape=(5,), dtype=float32)\n",
            "tf.Tensor([ 0.2 -0.9  0.   0.2  0.7], shape=(5,), dtype=float32)\n",
            "0.49\n",
            "tf.Tensor([[0.49]], shape=(1, 1), dtype=float32)\n",
            "0.49\n"
          ],
          "name": "stdout"
        }
      ]
    },
    {
      "cell_type": "code",
      "metadata": {
        "id": "UzhoY1t7hiCt",
        "colab": {
          "base_uri": "https://localhost:8080/"
        },
        "outputId": "38799634-3bf6-4730-e357-7bf88c0c389b"
      },
      "source": [
        "# Q[0][0] & K[0][1]\r\n",
        "q_idx, k_idx = 0, 1\r\n",
        "q_val = Q[0][q_idx]\r\n",
        "k_val = K[0][k_idx]\r\n",
        "print(q_val)\r\n",
        "print(k_val)\r\n",
        "print(np.dot(q_val, np.transpose(k_val)))\r\n",
        "print(tf.matmul([q_val], [k_val], transpose_b = True))\r\n",
        "print(np.sum(q_val * k_val))"
      ],
      "execution_count": 14,
      "outputs": [
        {
          "output_type": "stream",
          "text": [
            "tf.Tensor([0.7 0.  0.6 0.7 0.3], shape=(5,), dtype=float32)\n",
            "tf.Tensor([-0.6 -0.7  0.3 -0.8  0.2], shape=(5,), dtype=float32)\n",
            "-0.74\n",
            "tf.Tensor([[-0.74]], shape=(1, 1), dtype=float32)\n",
            "-0.74\n"
          ],
          "name": "stdout"
        }
      ]
    },
    {
      "cell_type": "code",
      "metadata": {
        "id": "80ZhiP3nh9kF",
        "colab": {
          "base_uri": "https://localhost:8080/"
        },
        "outputId": "9e10549a-f377-492d-f5f2-269d41ace62a"
      },
      "source": [
        "# Q[0][0] & K[0][2]\r\n",
        "q_idx, k_idx = 0, 2\r\n",
        "q_val = Q[0][q_idx]\r\n",
        "k_val = K[0][k_idx]\r\n",
        "print(q_val)\r\n",
        "print(k_val)\r\n",
        "print(np.dot(q_val, np.transpose(k_val)))\r\n",
        "print(tf.matmul([q_val], [k_val], transpose_b = True))\r\n",
        "print(np.sum(q_val * k_val))"
      ],
      "execution_count": 15,
      "outputs": [
        {
          "output_type": "stream",
          "text": [
            "tf.Tensor([0.7 0.  0.6 0.7 0.3], shape=(5,), dtype=float32)\n",
            "tf.Tensor([ 0.2  0.8  0.5 -0.2  0.1], shape=(5,), dtype=float32)\n",
            "0.33\n",
            "tf.Tensor([[0.33]], shape=(1, 1), dtype=float32)\n",
            "0.33\n"
          ],
          "name": "stdout"
        }
      ]
    },
    {
      "cell_type": "code",
      "metadata": {
        "id": "N8MFqsj0iQZm",
        "colab": {
          "base_uri": "https://localhost:8080/"
        },
        "outputId": "7f215464-d054-40b9-f14b-9b7aa2d73a99"
      },
      "source": [
        "# Q[0][0] & K[0][3]\r\n",
        "q_idx, k_idx = 0, 3\r\n",
        "q_val = Q[0][q_idx]\r\n",
        "k_val = K[0][k_idx]\r\n",
        "print(q_val)\r\n",
        "print(k_val)\r\n",
        "print(np.dot(q_val, np.transpose(k_val)))\r\n",
        "print(tf.matmul([q_val], [k_val], transpose_b = True))\r\n",
        "print(np.sum(q_val * k_val))"
      ],
      "execution_count": 16,
      "outputs": [
        {
          "output_type": "stream",
          "text": [
            "tf.Tensor([0.7 0.  0.6 0.7 0.3], shape=(5,), dtype=float32)\n",
            "tf.Tensor([ 0.2  0.5  0.8  0.4 -0.9], shape=(5,), dtype=float32)\n",
            "0.63\n",
            "tf.Tensor([[0.63]], shape=(1, 1), dtype=float32)\n",
            "0.63\n"
          ],
          "name": "stdout"
        }
      ]
    },
    {
      "cell_type": "code",
      "metadata": {
        "id": "f0PQ5AyAifES",
        "colab": {
          "base_uri": "https://localhost:8080/"
        },
        "outputId": "288c325a-18d2-42a6-a38b-9e5908bf94d0"
      },
      "source": [
        "# Q[0][0] & K[0][*]q_idx, k_idx = 0, 3\r\n",
        "attn_now = []\r\n",
        "q_val = Q[0][0]\r\n",
        "print(q_val)\r\n",
        "for k_idx in range(4):\r\n",
        "  k_val = K[0][k_idx]\r\n",
        "  attn_now.append(tf.matmul([q_val], [k_val], transpose_b = True).numpy()[0][0])\r\n",
        "attn_now"
      ],
      "execution_count": 17,
      "outputs": [
        {
          "output_type": "stream",
          "text": [
            "tf.Tensor([0.7 0.  0.6 0.7 0.3], shape=(5,), dtype=float32)\n"
          ],
          "name": "stdout"
        },
        {
          "output_type": "execute_result",
          "data": {
            "text/plain": [
              "[0.49, -0.74, 0.33, 0.63]"
            ]
          },
          "metadata": {
            "tags": []
          },
          "execution_count": 17
        }
      ]
    },
    {
      "cell_type": "code",
      "metadata": {
        "id": "-MFt5KvtizL7",
        "colab": {
          "base_uri": "https://localhost:8080/"
        },
        "outputId": "85039e38-5d5e-4608-b2f7-b2e5812fb128"
      },
      "source": [
        "# Q[0][*] & K[0][*]\r\n",
        "for q_idx in range(5):\r\n",
        "  q_val = Q[0][q_idx]\r\n",
        "  attn_now = []\r\n",
        "  for k_idx in range(4):\r\n",
        "    k_val = K[0][k_idx]\r\n",
        "    attn_now.append(tf.matmul([q_val], [k_val], transpose_b = True).numpy()[0][0])\r\n",
        "  print(attn_now)"
      ],
      "execution_count": 18,
      "outputs": [
        {
          "output_type": "stream",
          "text": [
            "[0.49, -0.74, 0.33, 0.63]\n",
            "[0.62, 0.74, 0.26, -0.019999951]\n",
            "[-0.010000005, -0.75000006, 0.0, 0.45000002]\n",
            "[-0.87, -0.9, 0.77000004, 1.83]\n",
            "[-0.96, -0.73, 0.6700001, 1.9]\n"
          ],
          "name": "stdout"
        }
      ]
    },
    {
      "cell_type": "code",
      "metadata": {
        "id": "99yg9lw_k8AT",
        "colab": {
          "base_uri": "https://localhost:8080/"
        },
        "outputId": "5d686d75-a607-4a93-cc99-0078651ecb8f"
      },
      "source": [
        "# attention score\r\n",
        "attn_score = tf.matmul(Q, K, transpose_b=True).numpy()\r\n",
        "attn_score"
      ],
      "execution_count": 19,
      "outputs": [
        {
          "output_type": "execute_result",
          "data": {
            "text/plain": [
              "array([[[ 0.49      , -0.74      ,  0.33      ,  0.63      ],\n",
              "        [ 0.62      ,  0.74      ,  0.26      , -0.01999995],\n",
              "        [-0.01000001, -0.75000006,  0.        ,  0.45000002],\n",
              "        [-0.87      , -0.9       ,  0.77000004,  1.83      ],\n",
              "        [-0.96      , -0.73      ,  0.6700001 ,  1.9       ]],\n",
              "\n",
              "       [[ 0.49      , -0.74      , -0.75      ,  1.26      ],\n",
              "        [-0.87      , -0.9       ,  0.13      , -0.01999998],\n",
              "        [ 0.78      ,  0.42999995, -0.49      ,  0.75      ],\n",
              "        [ 1.0699999 , -0.38      , -0.97      ,  1.5400001 ],\n",
              "        [ 1.0699999 , -0.38      , -0.97      ,  1.5400001 ]]],\n",
              "      dtype=float32)"
            ]
          },
          "metadata": {
            "tags": []
          },
          "execution_count": 19
        }
      ]
    },
    {
      "cell_type": "code",
      "metadata": {
        "id": "qdlBCEbzlIqN",
        "colab": {
          "base_uri": "https://localhost:8080/"
        },
        "outputId": "6b5a9d9d-8977-4b9e-de64-207ec0a6175b"
      },
      "source": [
        "# attention prob\r\n",
        "attn_prob = tf.nn.softmax(attn_score, axis=-1).numpy()\r\n",
        "attn_prob"
      ],
      "execution_count": 20,
      "outputs": [
        {
          "output_type": "execute_result",
          "data": {
            "text/plain": [
              "array([[[0.30351683, 0.08871571, 0.25863996, 0.34912744],\n",
              "        [0.2982879 , 0.3363187 , 0.20810843, 0.15728496],\n",
              "        [0.24562553, 0.11719136, 0.24809413, 0.38908905],\n",
              "        [0.0454435 , 0.04410044, 0.23426896, 0.6761871 ],\n",
              "        [0.0402836 , 0.05070093, 0.20560242, 0.70341307]],\n",
              "\n",
              "       [[0.26727656, 0.07812295, 0.07734562, 0.5772549 ],\n",
              "        [0.14228041, 0.13807541, 0.38675827, 0.3328859 ],\n",
              "        [0.33829898, 0.23839524, 0.09500505, 0.32830074],\n",
              "        [0.33731437, 0.07912394, 0.04386055, 0.53970116],\n",
              "        [0.33731437, 0.07912394, 0.04386055, 0.53970116]]], dtype=float32)"
            ]
          },
          "metadata": {
            "tags": []
          },
          "execution_count": 20
        }
      ]
    },
    {
      "cell_type": "code",
      "metadata": {
        "colab": {
          "base_uri": "https://localhost:8080/"
        },
        "id": "Ogxn2lZAEWTJ",
        "outputId": "9eb135e3-f3bd-405e-c266-2c741bf60a87"
      },
      "source": [
        "# prob sum 확인\r\n",
        "np.sum(attn_prob, axis=-1)"
      ],
      "execution_count": 21,
      "outputs": [
        {
          "output_type": "execute_result",
          "data": {
            "text/plain": [
              "array([[0.9999999, 1.       , 1.       , 1.       , 1.       ],\n",
              "       [1.       , 1.       , 1.       , 1.       , 1.       ]],\n",
              "      dtype=float32)"
            ]
          },
          "metadata": {
            "tags": []
          },
          "execution_count": 21
        }
      ]
    },
    {
      "cell_type": "code",
      "metadata": {
        "id": "1MP4LSBtlPfY",
        "colab": {
          "base_uri": "https://localhost:8080/"
        },
        "outputId": "b0478e3b-76f3-49a4-8094-2a8ee7768bba"
      },
      "source": [
        "# attn_prov[0][0][0] & V[0][0]\r\n",
        "p_idx, v_idx = 0, 0 \r\n",
        "p_val = attn_prob[0][0][p_idx]\r\n",
        "v_val = V[0][v_idx]\r\n",
        "print(p_val)\r\n",
        "print(v_val)\r\n",
        "attn_out_000 = p_val * v_val\r\n",
        "attn_out_000"
      ],
      "execution_count": 22,
      "outputs": [
        {
          "output_type": "stream",
          "text": [
            "0.30351683\n",
            "tf.Tensor([ 0.2 -0.9  0.   0.2  0.7], shape=(5,), dtype=float32)\n"
          ],
          "name": "stdout"
        },
        {
          "output_type": "execute_result",
          "data": {
            "text/plain": [
              "<tf.Tensor: shape=(5,), dtype=float32, numpy=\n",
              "array([ 0.06070337, -0.27316514,  0.        ,  0.06070337,  0.21246178],\n",
              "      dtype=float32)>"
            ]
          },
          "metadata": {
            "tags": []
          },
          "execution_count": 22
        }
      ]
    },
    {
      "cell_type": "code",
      "metadata": {
        "id": "GgO7FjFwl9sB",
        "colab": {
          "base_uri": "https://localhost:8080/"
        },
        "outputId": "c932b001-118b-4a54-a6be-256be0e690db"
      },
      "source": [
        "# attn_prov[0][0][1] & V[0][1]\r\n",
        "p_idx, v_idx = 1, 1\r\n",
        "p_val = attn_prob[0][0][p_idx]\r\n",
        "v_val = V[0][v_idx]\r\n",
        "print(p_val)\r\n",
        "print(v_val)\r\n",
        "attn_out_001 = p_val * v_val\r\n",
        "attn_out_001"
      ],
      "execution_count": 23,
      "outputs": [
        {
          "output_type": "stream",
          "text": [
            "0.08871571\n",
            "tf.Tensor([-0.6 -0.7  0.3 -0.8  0.2], shape=(5,), dtype=float32)\n"
          ],
          "name": "stdout"
        },
        {
          "output_type": "execute_result",
          "data": {
            "text/plain": [
              "<tf.Tensor: shape=(5,), dtype=float32, numpy=\n",
              "array([-0.05322943, -0.062101  ,  0.02661471, -0.07097257,  0.01774314],\n",
              "      dtype=float32)>"
            ]
          },
          "metadata": {
            "tags": []
          },
          "execution_count": 23
        }
      ]
    },
    {
      "cell_type": "code",
      "metadata": {
        "id": "Hd_qEqVRmGcx",
        "colab": {
          "base_uri": "https://localhost:8080/"
        },
        "outputId": "16a76539-e529-4c0d-d20c-cfc0bfaf23bb"
      },
      "source": [
        "# attn_prov[0][0][2] & V[0][2]\r\n",
        "p_idx, v_idx = 2,2\r\n",
        "p_val = attn_prob[0][0][p_idx]\r\n",
        "v_val = V[0][v_idx]\r\n",
        "print(p_val)\r\n",
        "print(v_val)\r\n",
        "attn_out_002 = p_val * v_val\r\n",
        "attn_out_002"
      ],
      "execution_count": 24,
      "outputs": [
        {
          "output_type": "stream",
          "text": [
            "0.25863996\n",
            "tf.Tensor([ 0.2  0.8  0.5 -0.2  0.1], shape=(5,), dtype=float32)\n"
          ],
          "name": "stdout"
        },
        {
          "output_type": "execute_result",
          "data": {
            "text/plain": [
              "<tf.Tensor: shape=(5,), dtype=float32, numpy=\n",
              "array([ 0.05172799,  0.20691197,  0.12931998, -0.05172799,  0.025864  ],\n",
              "      dtype=float32)>"
            ]
          },
          "metadata": {
            "tags": []
          },
          "execution_count": 24
        }
      ]
    },
    {
      "cell_type": "code",
      "metadata": {
        "id": "q3bMneusmL5C",
        "colab": {
          "base_uri": "https://localhost:8080/"
        },
        "outputId": "e354b8b2-205d-48b3-f343-3e4654aa8efe"
      },
      "source": [
        "# attn_prov[0][0][3] & V[0][3]\r\n",
        "p_idx, v_idx = 3,3\r\n",
        "p_val = attn_prob[0][0][p_idx]\r\n",
        "v_val = V[0][v_idx]\r\n",
        "print(p_val)\r\n",
        "print(v_val)\r\n",
        "attn_out_003 = p_val * v_val\r\n",
        "attn_out_003"
      ],
      "execution_count": 25,
      "outputs": [
        {
          "output_type": "stream",
          "text": [
            "0.34912744\n",
            "tf.Tensor([ 0.2  0.5  0.8  0.4 -0.9], shape=(5,), dtype=float32)\n"
          ],
          "name": "stdout"
        },
        {
          "output_type": "execute_result",
          "data": {
            "text/plain": [
              "<tf.Tensor: shape=(5,), dtype=float32, numpy=\n",
              "array([ 0.06982549,  0.17456372,  0.27930197,  0.13965099, -0.31421468],\n",
              "      dtype=float32)>"
            ]
          },
          "metadata": {
            "tags": []
          },
          "execution_count": 25
        }
      ]
    },
    {
      "cell_type": "code",
      "metadata": {
        "id": "GT_QmsqrmUxB"
      },
      "source": [
        "# attn_prov[0][0][*] & V[0][*]\r\n",
        "attn_out_00 = attn_out_000 + attn_out_001 + attn_out_002 + attn_out_003"
      ],
      "execution_count": 26,
      "outputs": []
    },
    {
      "cell_type": "code",
      "metadata": {
        "id": "ZLC8443Dpvr1",
        "colab": {
          "base_uri": "https://localhost:8080/"
        },
        "outputId": "2c4ef687-9efd-4c0c-9a9d-f65357a2024d"
      },
      "source": [
        "# attn_prov[0][0][*] & V[0][*]\r\n",
        "attn_row = []\r\n",
        "for v_idx in range(4):\r\n",
        "  attn_row.append(attn_prob[0][q_idx][v_idx] * V[0][v_idx])\r\n",
        "print(np.sum(attn_row, axis=0))"
      ],
      "execution_count": 27,
      "outputs": [
        {
          "output_type": "stream",
          "text": [
            "[ 0.15943927  0.44444257  0.68074197  0.20774074 -0.5741728 ]\n"
          ],
          "name": "stdout"
        }
      ]
    },
    {
      "cell_type": "code",
      "metadata": {
        "id": "uXu-zatbqXkB",
        "colab": {
          "base_uri": "https://localhost:8080/"
        },
        "outputId": "9d72438f-870b-4abe-be34-ad9bafb9776b"
      },
      "source": [
        "# attn_prov[0][*] & V[0][*]\r\n",
        "for q_idx in range(5):\r\n",
        "    attn_row = []\r\n",
        "    for v_idx in range(4):\r\n",
        "        attn_row.append(attn_prob[0][q_idx][v_idx] * V[0][v_idx])\r\n",
        "    print(np.sum(attn_row, axis=0))"
      ],
      "execution_count": 28,
      "outputs": [
        {
          "output_type": "stream",
          "text": [
            "[ 0.12902743  0.04620954  0.43523666  0.0776538  -0.05814576]\n",
            "[-0.06905498 -0.25875294  0.3307778  -0.1881051   0.15531965]\n",
            "[ 0.10624693  0.0899229   0.47047573  0.06138881 -0.12999457]\n",
            "[ 0.16471966  0.45373926  0.6713143   0.1974294  -0.54451096]\n",
            "[ 0.15943927  0.44444257  0.68074197  0.20774074 -0.5741728 ]\n"
          ],
          "name": "stdout"
        }
      ]
    },
    {
      "cell_type": "code",
      "metadata": {
        "id": "rgcaDOmeq3CP",
        "colab": {
          "base_uri": "https://localhost:8080/"
        },
        "outputId": "b8665c87-9d4b-44ff-9c72-4bd0b2b11d2f"
      },
      "source": [
        "# attn_prov & V\r\n",
        "attn_out = tf.matmul(attn_prob, V)\r\n",
        "attn_out"
      ],
      "execution_count": 29,
      "outputs": [
        {
          "output_type": "execute_result",
          "data": {
            "text/plain": [
              "<tf.Tensor: shape=(2, 5, 5), dtype=float32, numpy=\n",
              "array([[[ 0.12902743,  0.04620954,  0.43523666,  0.07765379,\n",
              "         -0.05814578],\n",
              "        [-0.06905498, -0.25875294,  0.3307778 , -0.18810509,\n",
              "          0.15531965],\n",
              "        [ 0.10624693,  0.0899229 ,  0.47047573,  0.06138882,\n",
              "         -0.12999459],\n",
              "        [ 0.16471964,  0.45373926,  0.6713143 ,  0.1974294 ,\n",
              "         -0.54451096],\n",
              "        [ 0.15943927,  0.44444263,  0.68074197,  0.20774072,\n",
              "         -0.5741728 ]],\n",
              "\n",
              "       [[ 0.32199624, -0.43747318,  0.17340967,  0.3218408 ,\n",
              "          0.6258493 ],\n",
              "        [-0.00936093, -0.16986763,  0.02526091,  0.04037564,\n",
              "          0.20014095],\n",
              "        [ 0.08360107, -0.53183395,  0.1415073 ,  0.05492304,\n",
              "          0.4996264 ],\n",
              "        [ 0.326265  , -0.50333583,  0.17248936,  0.31921232,\n",
              "          0.66177547],\n",
              "        [ 0.326265  , -0.50333583,  0.17248936,  0.31921232,\n",
              "          0.66177547]]], dtype=float32)>"
            ]
          },
          "metadata": {
            "tags": []
          },
          "execution_count": 29
        }
      ]
    },
    {
      "cell_type": "code",
      "metadata": {
        "id": "ZqJWz2uIYPiQ"
      },
      "source": [
        "class DotProductAttention(tf.keras.layers.Layer):\n",
        "    def __init__(self, **kwargs):\n",
        "        super().__init__(**kwargs)\n",
        "\n",
        "    def call(self, inputs):\n",
        "        Q, K, V = inputs\n",
        "        #####################################\n",
        "        # attention score (dot-product)\n",
        "        attn_score = tf.matmul(Q, K, transpose_b=True)\n",
        "        # attention prov\n",
        "        attn_prob = tf.nn.softmax(attn_score)\n",
        "        # weighted sum\n",
        "        attn_out = tf.matmul(attn_prob, V)\n",
        "        #####################################\n",
        "        return attn_out"
      ],
      "execution_count": 30,
      "outputs": []
    },
    {
      "cell_type": "code",
      "metadata": {
        "id": "5rsUvTC6Y4hM",
        "colab": {
          "base_uri": "https://localhost:8080/"
        },
        "outputId": "8665c09c-63e9-4713-b671-d241adf530f8"
      },
      "source": [
        "attention = DotProductAttention()\n",
        "attention((Q, K, V))"
      ],
      "execution_count": 31,
      "outputs": [
        {
          "output_type": "execute_result",
          "data": {
            "text/plain": [
              "<tf.Tensor: shape=(2, 5, 5), dtype=float32, numpy=\n",
              "array([[[ 0.12902743,  0.04620954,  0.43523666,  0.07765379,\n",
              "         -0.05814578],\n",
              "        [-0.06905498, -0.25875294,  0.3307778 , -0.18810509,\n",
              "          0.15531965],\n",
              "        [ 0.10624693,  0.0899229 ,  0.47047573,  0.06138882,\n",
              "         -0.12999459],\n",
              "        [ 0.16471964,  0.45373926,  0.6713143 ,  0.1974294 ,\n",
              "         -0.54451096],\n",
              "        [ 0.15943927,  0.44444263,  0.68074197,  0.20774072,\n",
              "         -0.5741728 ]],\n",
              "\n",
              "       [[ 0.32199624, -0.43747318,  0.17340967,  0.3218408 ,\n",
              "          0.6258493 ],\n",
              "        [-0.00936093, -0.16986763,  0.02526091,  0.04037564,\n",
              "          0.20014095],\n",
              "        [ 0.08360107, -0.53183395,  0.1415073 ,  0.05492304,\n",
              "          0.4996264 ],\n",
              "        [ 0.326265  , -0.50333583,  0.17248936,  0.31921232,\n",
              "          0.66177547],\n",
              "        [ 0.326265  , -0.50333583,  0.17248936,  0.31921232,\n",
              "          0.66177547]]], dtype=float32)>"
            ]
          },
          "metadata": {
            "tags": []
          },
          "execution_count": 31
        }
      ]
    },
    {
      "cell_type": "markdown",
      "metadata": {
        "id": "D-bjMMvkBRLU"
      },
      "source": [
        "# 모델링"
      ]
    },
    {
      "cell_type": "code",
      "metadata": {
        "id": "9h-hm9yHsDbr",
        "colab": {
          "base_uri": "https://localhost:8080/"
        },
        "outputId": "f36c93e8-fba3-4ee7-c398-927f435d3ac7"
      },
      "source": [
        "# word embedding\n",
        "hidden_enc = embedding(train_enc_inputs)  # (bs, n_enc_seq, 5)\n",
        "hidden_dec = embedding(train_dec_inputs)  # (bs, n_dec_seq, 5)\n",
        "hidden_enc, hidden_dec"
      ],
      "execution_count": 32,
      "outputs": [
        {
          "output_type": "execute_result",
          "data": {
            "text/plain": [
              "(<tf.Tensor: shape=(2, 4, 5), dtype=float32, numpy=\n",
              " array([[[ 0.2, -0.9,  0. ,  0.2,  0.7],\n",
              "         [-0.6, -0.7,  0.3, -0.8,  0.2],\n",
              "         [ 0.2,  0.8,  0.5, -0.2,  0.1],\n",
              "         [ 0.2,  0.5,  0.8,  0.4, -0.9]],\n",
              " \n",
              "        [[ 0.2, -0.9,  0. ,  0.2,  0.7],\n",
              "         [-0.6, -0.7,  0.3, -0.8,  0.2],\n",
              "         [-0.4,  0.4, -0.3, -0.2, -0.5],\n",
              "         [ 0.6, -0.3,  0.3,  0.6,  0.8]]], dtype=float32)>,\n",
              " <tf.Tensor: shape=(2, 5, 5), dtype=float32, numpy=\n",
              " array([[[ 0.7,  0. ,  0.6,  0.7,  0.3],\n",
              "         [ 0.3, -0.4,  0.8, -0.4,  0.4],\n",
              "         [ 0.7,  0. , -0.1,  0.3, -0.3],\n",
              "         [ 0.3,  0.6,  0.8,  0.5, -0.7],\n",
              "         [ 0.2,  0.5,  0.8,  0.4, -0.9]],\n",
              " \n",
              "        [[ 0.7,  0. ,  0.6,  0.7,  0.3],\n",
              "         [ 0.3,  0.6,  0.8,  0.5, -0.7],\n",
              "         [-0.6, -0.4,  0.5,  0.6,  0.6],\n",
              "         [ 0.6, -0.3,  0.3,  0.6,  0.8],\n",
              "         [ 0.6, -0.3,  0.3,  0.6,  0.8]]], dtype=float32)>)"
            ]
          },
          "metadata": {
            "tags": []
          },
          "execution_count": 32
        }
      ]
    },
    {
      "cell_type": "code",
      "metadata": {
        "id": "0sPE6mN6rjVI",
        "colab": {
          "base_uri": "https://localhost:8080/"
        },
        "outputId": "c3ff6d39-eedb-4a2b-dbf8-f91a28e88eab"
      },
      "source": [
        "# encoder lstm\n",
        "fw_cell = tf.keras.layers.LSTM(units=4, return_state=True, return_sequences=True)\n",
        "bw_cell = tf.keras.layers.LSTM(units=4, go_backwards=True, return_state=True, return_sequences=True)\n",
        "lstm_enc = tf.keras.layers.Bidirectional(fw_cell, backward_layer=bw_cell)\n",
        "hidden_enc, fw_h, fw_c, bw_h, bw_c = lstm_enc(hidden_enc)  # (bs, d_model * 2), (bs, d_model), (bs, d_model), (bs, d_model), (bs, d_model)\n",
        "hidden_enc.shape, fw_h.shape, fw_c.shape, bw_h.shape, bw_c.shape\n"
      ],
      "execution_count": 33,
      "outputs": [
        {
          "output_type": "execute_result",
          "data": {
            "text/plain": [
              "(TensorShape([2, 4, 8]),\n",
              " TensorShape([2, 4]),\n",
              " TensorShape([2, 4]),\n",
              " TensorShape([2, 4]),\n",
              " TensorShape([2, 4]))"
            ]
          },
          "metadata": {
            "tags": []
          },
          "execution_count": 33
        }
      ]
    },
    {
      "cell_type": "code",
      "metadata": {
        "id": "WjINyjN_ryYS",
        "colab": {
          "base_uri": "https://localhost:8080/"
        },
        "outputId": "214edc16-911e-4e33-d078-bdb618f072a7"
      },
      "source": [
        "# concat hidden & cell\n",
        "s_h = tf.concat([fw_h, bw_h], axis=-1)  # (bs, d_model * 2)\n",
        "s_c = tf.concat([fw_c, bw_c], axis=-1)  # (bs, d_model * 2)\n",
        "s_h.shape, s_c.shape"
      ],
      "execution_count": 34,
      "outputs": [
        {
          "output_type": "execute_result",
          "data": {
            "text/plain": [
              "(TensorShape([2, 8]), TensorShape([2, 8]))"
            ]
          },
          "metadata": {
            "tags": []
          },
          "execution_count": 34
        }
      ]
    },
    {
      "cell_type": "code",
      "metadata": {
        "id": "Jm8UyN8hr2HR",
        "colab": {
          "base_uri": "https://localhost:8080/"
        },
        "outputId": "a5a6f4ca-25cd-43cf-a988-a686250c7d90"
      },
      "source": [
        "# decoder LSTM\n",
        "lstm_dec = tf.keras.layers.LSTM(units=8, return_sequences=True)\n",
        "hidden_dec = lstm_dec(hidden_dec, initial_state=[s_h, s_c])  # (bs, n_dec_seq, d_model)\n",
        "hidden_dec.shape"
      ],
      "execution_count": 35,
      "outputs": [
        {
          "output_type": "execute_result",
          "data": {
            "text/plain": [
              "TensorShape([2, 5, 8])"
            ]
          },
          "metadata": {
            "tags": []
          },
          "execution_count": 35
        }
      ]
    },
    {
      "cell_type": "code",
      "metadata": {
        "id": "o2MF4uCHsX8L",
        "colab": {
          "base_uri": "https://localhost:8080/"
        },
        "outputId": "81fd76bd-0ee3-4062-b778-f027e49bb700"
      },
      "source": [
        "# attention\r\n",
        "attention = DotProductAttention()\r\n",
        "attn_out = attention((hidden_dec, hidden_enc, hidden_enc))\r\n",
        "attn_out.shape"
      ],
      "execution_count": 36,
      "outputs": [
        {
          "output_type": "execute_result",
          "data": {
            "text/plain": [
              "TensorShape([2, 5, 8])"
            ]
          },
          "metadata": {
            "tags": []
          },
          "execution_count": 36
        }
      ]
    },
    {
      "cell_type": "code",
      "metadata": {
        "id": "poyo-V79spZD",
        "colab": {
          "base_uri": "https://localhost:8080/"
        },
        "outputId": "429a4548-0b3f-4603-b51f-e17ac39ec6b8"
      },
      "source": [
        "# concat output\r\n",
        "dec_out = tf.concat([attn_out, hidden_dec], axis=-1)\r\n",
        "dec_out.shape"
      ],
      "execution_count": 37,
      "outputs": [
        {
          "output_type": "execute_result",
          "data": {
            "text/plain": [
              "TensorShape([2, 5, 16])"
            ]
          },
          "metadata": {
            "tags": []
          },
          "execution_count": 37
        }
      ]
    },
    {
      "cell_type": "code",
      "metadata": {
        "id": "3vEkJI5ossNJ",
        "colab": {
          "base_uri": "https://localhost:8080/"
        },
        "outputId": "2ed3350a-a49a-4ac4-c1d6-35510f86d630"
      },
      "source": [
        "# 다음단어 예측\n",
        "dense_out = tf.keras.layers.Dense(units=len(word_to_id), activation=tf.nn.softmax)\n",
        "outputs = dense_out(dec_out)  # (bs, n_dec_seq, n_vocab)\n",
        "outputs.shape"
      ],
      "execution_count": 38,
      "outputs": [
        {
          "output_type": "execute_result",
          "data": {
            "text/plain": [
              "TensorShape([2, 5, 13])"
            ]
          },
          "metadata": {
            "tags": []
          },
          "execution_count": 38
        }
      ]
    },
    {
      "cell_type": "code",
      "metadata": {
        "id": "in7q0WMfm64D"
      },
      "source": [
        "def build_model(n_vocab, d_model, n_enc_seq, n_dec_seq):\n",
        "    \"\"\"\n",
        "    seq2seq 모델\n",
        "    :param n_vocab: vocabulary 단어 수\n",
        "    :param d_model: 단어를 의미하는 벡터의 차원 수\n",
        "    :param n_enc_seq: encoder 문장 길이 (단어 수)\n",
        "    :param n_dec_seq: decoder 문장 길이 (단어 수)\n",
        "    \"\"\"\n",
        "    inputs_enc = tf.keras.layers.Input((n_enc_seq,))  # (bs, n_enc_seq)\n",
        "    inputs_dec = tf.keras.layers.Input((n_dec_seq,))  # (bs, n_dec_seq)\n",
        "    ################################################\n",
        "    # 입력 단어를 vector로 변환\n",
        "    embedding = tf.keras.layers.Embedding(n_vocab, d_model)\n",
        "    hidden_enc = embedding(inputs_enc)  # (bs, n_enc_seq, d_model)\n",
        "    hidden_dec = embedding(inputs_dec)  # (bs, n_dec_seq, d_model)\n",
        "\n",
        "    # Encoder LSTM (uni-direction, bi-direction 가능)\n",
        "    fw_cell = tf.keras.layers.LSTM(units=d_model, return_state=True)\n",
        "    bw_cell = tf.keras.layers.LSTM(units=d_model, go_backwards=True, return_state=True)\n",
        "    lstm_enc = tf.keras.layers.Bidirectional(fw_cell, backward_layer=bw_cell)\n",
        "    hidden_enc, fw_h, fw_c, bw_h, bw_c = lstm_enc(hidden_enc)  # (bs, d_model * 2), (bs, d_model), (bs, d_model), (bs, d_model), (bs, d_model)\n",
        "\n",
        "    # Concatenate hidden states and cell states\n",
        "    s_h = tf.concat([fw_h, bw_h], axis=-1)  # (bs, d_model * 2)\n",
        "    s_c = tf.concat([fw_c, bw_c], axis=-1)  # (bs, d_model * 2)\n",
        "\n",
        "    # Decoder LSTM (uni-direction만 가능)\n",
        "    lstm_dec = tf.keras.layers.LSTM(units=d_model * 2, return_sequences=True)\n",
        "    hidden_dec = lstm_dec(hidden_dec, initial_state=[s_h, s_c])  # (bs, n_dec_seq, d_model)\n",
        "\n",
        "    # attention\n",
        "    attention = DotProductAttention()\n",
        "    attn_out = attention((hidden_dec, hidden_enc, hidden_enc))\n",
        "\n",
        "    # concat output\n",
        "    dec_out = tf.concat([attn_out, hidden_dec], axis=-1)\n",
        "    dec_out.shape\n",
        "    \n",
        "    # 다음단어 예측\n",
        "    dense_out = tf.keras.layers.Dense(units=n_vocab, activation=tf.nn.softmax)\n",
        "    outputs = dense_out(dec_out)  # (bs, n_dec_seq, n_vocab)\n",
        "    ################################################\n",
        "    # 학습할 모델 선언\n",
        "    model = tf.keras.Model(inputs=(inputs_enc, inputs_dec), outputs=outputs)\n",
        "    return model"
      ],
      "execution_count": 39,
      "outputs": []
    },
    {
      "cell_type": "code",
      "metadata": {
        "id": "H8Bkh2pYB8zp",
        "colab": {
          "base_uri": "https://localhost:8080/",
          "height": 734
        },
        "outputId": "e46c37b4-7e4a-46e3-9c42-39acb67075cf"
      },
      "source": [
        "# 모델 생성\n",
        "model = build_model(len(vocab), d_model, n_enc_seq, n_dec_seq)\n",
        "# 모델 내용 그래프 출력\n",
        "tf.keras.utils.plot_model(model, 'model.png', show_shapes=True)"
      ],
      "execution_count": 43,
      "outputs": [
        {
          "output_type": "execute_result",
          "data": {
            "image/png": "[encoded data removed]",
            "text/plain": [
              "<IPython.core.display.Image object>"
            ]
          },
          "metadata": {
            "tags": []
          },
          "execution_count": 43
        }
      ]
    },
    {
      "cell_type": "markdown",
      "metadata": {
        "id": "XwriCkq_R1Lc"
      },
      "source": [
        "# Vocabulary & config"
      ]
    },
    {
      "cell_type": "code",
      "metadata": {
        "id": "2H0BLydCb7lg",
        "colab": {
          "base_uri": "https://localhost:8080/"
        },
        "outputId": "8d2f35c2-9b52-442d-f316-0bb2fe8703a8"
      },
      "source": [
        "# vocab loading\n",
        "vocab = spm.SentencePieceProcessor()\n",
        "vocab.load(os.path.join(data_dir, 'ko_32000.model'))"
      ],
      "execution_count": 41,
      "outputs": [
        {
          "output_type": "execute_result",
          "data": {
            "text/plain": [
              "True"
            ]
          },
          "metadata": {
            "tags": []
          },
          "execution_count": 41
        }
      ]
    },
    {
      "cell_type": "code",
      "metadata": {
        "id": "0ETZ19flTRmt"
      },
      "source": [
        "n_vocab = len(vocab)  # number of vocabulary\n",
        "n_enc_seq = 32  # number of sequence 1\n",
        "n_dec_seq = 40  # number of sequence 2\n",
        "d_model = 256  # dimension of model"
      ],
      "execution_count": 42,
      "outputs": []
    },
    {
      "cell_type": "markdown",
      "metadata": {
        "id": "kTgzpx2Wl6uv"
      },
      "source": [
        "# Loss & Acc"
      ]
    },
    {
      "cell_type": "code",
      "metadata": {
        "id": "hQRKhodYtQHr"
      },
      "source": [
        "def lm_loss(y_true, y_pred):\n",
        "    \"\"\"\n",
        "    pad 부분을 제외하고 loss를 계산하는 함수\n",
        "    :param y_true: 정답\n",
        "    :param y_pred: 예측 값\n",
        "    :retrun loss: pad 부분이 제외된 loss 값\n",
        "    \"\"\"\n",
        "    # loss = sparse_entropy = tf.keras.losses.SparseCategoricalCrossentropy()(y_true, y_pred)\n",
        "    loss = tf.keras.losses.SparseCategoricalCrossentropy(reduction=tf.keras.losses.Reduction.NONE)(y_true, y_pred)\n",
        "    mask = tf.not_equal(y_true, 0)\n",
        "    mask = tf.cast(mask, tf.float32)\n",
        "    # print(mask)\n",
        "    loss *= mask\n",
        "    return loss"
      ],
      "execution_count": 44,
      "outputs": []
    },
    {
      "cell_type": "code",
      "metadata": {
        "id": "xQqs7xzA3N3Q"
      },
      "source": [
        "def lm_acc(y_true, y_pred):\n",
        "    \"\"\"\n",
        "    pad 부분을 제외하고 accuracy를 계산하는 함수\n",
        "    :param y_true: 정답\n",
        "    :param y_pred: 예측 값\n",
        "    :retrun loss: pad 부분이 제외된 accuracy 값\n",
        "    \"\"\"\n",
        "    y_true = tf.cast(y_true, tf.float32)\n",
        "    # print(y_true)\n",
        "    y_pred_class = tf.cast(tf.argmax(y_pred, axis=-1), tf.float32)\n",
        "    # print(y_pred_class)\n",
        "    matches = tf.cast(tf.equal(y_true, y_pred_class), tf.float32)\n",
        "    # print(matches)\n",
        "    mask = tf.not_equal(y_true, 0)\n",
        "    mask = tf.cast(mask, tf.float32)\n",
        "    # print(mask)\n",
        "    matches *= mask\n",
        "    # print(matches)\n",
        "    # accuracy = tf.reduce_sum(matches) / tf.maximum(tf.reduce_sum(tf.ones_like(matches)), 1)\n",
        "    accuracy = tf.reduce_sum(matches) / tf.maximum(tf.reduce_sum(mask), 1)\n",
        "    return accuracy"
      ],
      "execution_count": 45,
      "outputs": []
    },
    {
      "cell_type": "markdown",
      "metadata": {
        "id": "gcG7zBAr_R_4"
      },
      "source": [
        "# Sample Data Project"
      ]
    },
    {
      "cell_type": "markdown",
      "metadata": {
        "id": "jv0OPyaKSpjw"
      },
      "source": [
        "## Data\n"
      ]
    },
    {
      "cell_type": "code",
      "metadata": {
        "id": "98u39IsbSoBk",
        "colab": {
          "base_uri": "https://localhost:8080/",
          "height": 0
        },
        "outputId": "e9242bec-ed7c-41ea-ada9-dd8fd3687d4c"
      },
      "source": [
        "df_train = pd.read_csv(os.path.join(songys_dir, 'ChatbotData.csv'))\n",
        "df_train"
      ],
      "execution_count": 46,
      "outputs": [
        {
          "output_type": "execute_result",
          "data": {
            "text/html": [
              "<div>\n",
              "<style scoped>\n",
              "    .dataframe tbody tr th:only-of-type {\n",
              "        vertical-align: middle;\n",
              "    }\n",
              "\n",
              "    .dataframe tbody tr th {\n",
              "        vertical-align: top;\n",
              "    }\n",
              "\n",
              "    .dataframe thead th {\n",
              "        text-align: right;\n",
              "    }\n",
              "</style>\n",
              "<table border=\"1\" class=\"dataframe\">\n",
              "  <thead>\n",
              "    <tr style=\"text-align: right;\">\n",
              "      <th></th>\n",
              "      <th>Q</th>\n",
              "      <th>A</th>\n",
              "      <th>label</th>\n",
              "    </tr>\n",
              "  </thead>\n",
              "  <tbody>\n",
              "    <tr>\n",
              "      <th>0</th>\n",
              "      <td>12시 땡!</td>\n",
              "      <td>하루가 또 가네요.</td>\n",
              "      <td>0</td>\n",
              "    </tr>\n",
              "    <tr>\n",
              "      <th>1</th>\n",
              "      <td>1지망 학교 떨어졌어</td>\n",
              "      <td>위로해 드립니다.</td>\n",
              "      <td>0</td>\n",
              "    </tr>\n",
              "    <tr>\n",
              "      <th>2</th>\n",
              "      <td>3박4일 놀러가고 싶다</td>\n",
              "      <td>여행은 언제나 좋죠.</td>\n",
              "      <td>0</td>\n",
              "    </tr>\n",
              "    <tr>\n",
              "      <th>3</th>\n",
              "      <td>3박4일 정도 놀러가고 싶다</td>\n",
              "      <td>여행은 언제나 좋죠.</td>\n",
              "      <td>0</td>\n",
              "    </tr>\n",
              "    <tr>\n",
              "      <th>4</th>\n",
              "      <td>PPL 심하네</td>\n",
              "      <td>눈살이 찌푸려지죠.</td>\n",
              "      <td>0</td>\n",
              "    </tr>\n",
              "    <tr>\n",
              "      <th>...</th>\n",
              "      <td>...</td>\n",
              "      <td>...</td>\n",
              "      <td>...</td>\n",
              "    </tr>\n",
              "    <tr>\n",
              "      <th>11818</th>\n",
              "      <td>훔쳐보는 것도 눈치 보임.</td>\n",
              "      <td>티가 나니까 눈치가 보이는 거죠!</td>\n",
              "      <td>2</td>\n",
              "    </tr>\n",
              "    <tr>\n",
              "      <th>11819</th>\n",
              "      <td>훔쳐보는 것도 눈치 보임.</td>\n",
              "      <td>훔쳐보는 거 티나나봐요.</td>\n",
              "      <td>2</td>\n",
              "    </tr>\n",
              "    <tr>\n",
              "      <th>11820</th>\n",
              "      <td>흑기사 해주는 짝남.</td>\n",
              "      <td>설렜겠어요.</td>\n",
              "      <td>2</td>\n",
              "    </tr>\n",
              "    <tr>\n",
              "      <th>11821</th>\n",
              "      <td>힘든 연애 좋은 연애라는게 무슨 차이일까?</td>\n",
              "      <td>잘 헤어질 수 있는 사이 여부인 거 같아요.</td>\n",
              "      <td>2</td>\n",
              "    </tr>\n",
              "    <tr>\n",
              "      <th>11822</th>\n",
              "      <td>힘들어서 결혼할까봐</td>\n",
              "      <td>도피성 결혼은 하지 않길 바라요.</td>\n",
              "      <td>2</td>\n",
              "    </tr>\n",
              "  </tbody>\n",
              "</table>\n",
              "<p>11823 rows × 3 columns</p>\n",
              "</div>"
            ],
            "text/plain": [
              "                             Q                         A  label\n",
              "0                       12시 땡!                하루가 또 가네요.      0\n",
              "1                  1지망 학교 떨어졌어                 위로해 드립니다.      0\n",
              "2                 3박4일 놀러가고 싶다               여행은 언제나 좋죠.      0\n",
              "3              3박4일 정도 놀러가고 싶다               여행은 언제나 좋죠.      0\n",
              "4                      PPL 심하네                눈살이 찌푸려지죠.      0\n",
              "...                        ...                       ...    ...\n",
              "11818           훔쳐보는 것도 눈치 보임.        티가 나니까 눈치가 보이는 거죠!      2\n",
              "11819           훔쳐보는 것도 눈치 보임.             훔쳐보는 거 티나나봐요.      2\n",
              "11820              흑기사 해주는 짝남.                    설렜겠어요.      2\n",
              "11821  힘든 연애 좋은 연애라는게 무슨 차이일까?  잘 헤어질 수 있는 사이 여부인 거 같아요.      2\n",
              "11822               힘들어서 결혼할까봐        도피성 결혼은 하지 않길 바라요.      2\n",
              "\n",
              "[11823 rows x 3 columns]"
            ]
          },
          "metadata": {
            "tags": []
          },
          "execution_count": 46
        }
      ]
    },
    {
      "cell_type": "code",
      "metadata": {
        "id": "FPVe-1M7tJyO",
        "colab": {
          "base_uri": "https://localhost:8080/",
          "height": 0
        },
        "outputId": "4506a8f5-c3ca-4ee9-eb12-0c9bda6661b4"
      },
      "source": [
        "df_train = df_train.dropna()\n",
        "df_train"
      ],
      "execution_count": 47,
      "outputs": [
        {
          "output_type": "execute_result",
          "data": {
            "text/html": [
              "<div>\n",
              "<style scoped>\n",
              "    .dataframe tbody tr th:only-of-type {\n",
              "        vertical-align: middle;\n",
              "    }\n",
              "\n",
              "    .dataframe tbody tr th {\n",
              "        vertical-align: top;\n",
              "    }\n",
              "\n",
              "    .dataframe thead th {\n",
              "        text-align: right;\n",
              "    }\n",
              "</style>\n",
              "<table border=\"1\" class=\"dataframe\">\n",
              "  <thead>\n",
              "    <tr style=\"text-align: right;\">\n",
              "      <th></th>\n",
              "      <th>Q</th>\n",
              "      <th>A</th>\n",
              "      <th>label</th>\n",
              "    </tr>\n",
              "  </thead>\n",
              "  <tbody>\n",
              "    <tr>\n",
              "      <th>0</th>\n",
              "      <td>12시 땡!</td>\n",
              "      <td>하루가 또 가네요.</td>\n",
              "      <td>0</td>\n",
              "    </tr>\n",
              "    <tr>\n",
              "      <th>1</th>\n",
              "      <td>1지망 학교 떨어졌어</td>\n",
              "      <td>위로해 드립니다.</td>\n",
              "      <td>0</td>\n",
              "    </tr>\n",
              "    <tr>\n",
              "      <th>2</th>\n",
              "      <td>3박4일 놀러가고 싶다</td>\n",
              "      <td>여행은 언제나 좋죠.</td>\n",
              "      <td>0</td>\n",
              "    </tr>\n",
              "    <tr>\n",
              "      <th>3</th>\n",
              "      <td>3박4일 정도 놀러가고 싶다</td>\n",
              "      <td>여행은 언제나 좋죠.</td>\n",
              "      <td>0</td>\n",
              "    </tr>\n",
              "    <tr>\n",
              "      <th>4</th>\n",
              "      <td>PPL 심하네</td>\n",
              "      <td>눈살이 찌푸려지죠.</td>\n",
              "      <td>0</td>\n",
              "    </tr>\n",
              "    <tr>\n",
              "      <th>...</th>\n",
              "      <td>...</td>\n",
              "      <td>...</td>\n",
              "      <td>...</td>\n",
              "    </tr>\n",
              "    <tr>\n",
              "      <th>11818</th>\n",
              "      <td>훔쳐보는 것도 눈치 보임.</td>\n",
              "      <td>티가 나니까 눈치가 보이는 거죠!</td>\n",
              "      <td>2</td>\n",
              "    </tr>\n",
              "    <tr>\n",
              "      <th>11819</th>\n",
              "      <td>훔쳐보는 것도 눈치 보임.</td>\n",
              "      <td>훔쳐보는 거 티나나봐요.</td>\n",
              "      <td>2</td>\n",
              "    </tr>\n",
              "    <tr>\n",
              "      <th>11820</th>\n",
              "      <td>흑기사 해주는 짝남.</td>\n",
              "      <td>설렜겠어요.</td>\n",
              "      <td>2</td>\n",
              "    </tr>\n",
              "    <tr>\n",
              "      <th>11821</th>\n",
              "      <td>힘든 연애 좋은 연애라는게 무슨 차이일까?</td>\n",
              "      <td>잘 헤어질 수 있는 사이 여부인 거 같아요.</td>\n",
              "      <td>2</td>\n",
              "    </tr>\n",
              "    <tr>\n",
              "      <th>11822</th>\n",
              "      <td>힘들어서 결혼할까봐</td>\n",
              "      <td>도피성 결혼은 하지 않길 바라요.</td>\n",
              "      <td>2</td>\n",
              "    </tr>\n",
              "  </tbody>\n",
              "</table>\n",
              "<p>11823 rows × 3 columns</p>\n",
              "</div>"
            ],
            "text/plain": [
              "                             Q                         A  label\n",
              "0                       12시 땡!                하루가 또 가네요.      0\n",
              "1                  1지망 학교 떨어졌어                 위로해 드립니다.      0\n",
              "2                 3박4일 놀러가고 싶다               여행은 언제나 좋죠.      0\n",
              "3              3박4일 정도 놀러가고 싶다               여행은 언제나 좋죠.      0\n",
              "4                      PPL 심하네                눈살이 찌푸려지죠.      0\n",
              "...                        ...                       ...    ...\n",
              "11818           훔쳐보는 것도 눈치 보임.        티가 나니까 눈치가 보이는 거죠!      2\n",
              "11819           훔쳐보는 것도 눈치 보임.             훔쳐보는 거 티나나봐요.      2\n",
              "11820              흑기사 해주는 짝남.                    설렜겠어요.      2\n",
              "11821  힘든 연애 좋은 연애라는게 무슨 차이일까?  잘 헤어질 수 있는 사이 여부인 거 같아요.      2\n",
              "11822               힘들어서 결혼할까봐        도피성 결혼은 하지 않길 바라요.      2\n",
              "\n",
              "[11823 rows x 3 columns]"
            ]
          },
          "metadata": {
            "tags": []
          },
          "execution_count": 47
        }
      ]
    },
    {
      "cell_type": "code",
      "metadata": {
        "id": "lAZD9iR6_oO_",
        "colab": {
          "base_uri": "https://localhost:8080/",
          "height": 0
        },
        "outputId": "6ad5fc35-2def-439b-ba6b-6ca0a3f8363e"
      },
      "source": [
        "# 랜덤하게 10개만 확인\n",
        "df_train = df_train.sample(10)\n",
        "df_train"
      ],
      "execution_count": 48,
      "outputs": [
        {
          "output_type": "execute_result",
          "data": {
            "text/html": [
              "<div>\n",
              "<style scoped>\n",
              "    .dataframe tbody tr th:only-of-type {\n",
              "        vertical-align: middle;\n",
              "    }\n",
              "\n",
              "    .dataframe tbody tr th {\n",
              "        vertical-align: top;\n",
              "    }\n",
              "\n",
              "    .dataframe thead th {\n",
              "        text-align: right;\n",
              "    }\n",
              "</style>\n",
              "<table border=\"1\" class=\"dataframe\">\n",
              "  <thead>\n",
              "    <tr style=\"text-align: right;\">\n",
              "      <th></th>\n",
              "      <th>Q</th>\n",
              "      <th>A</th>\n",
              "      <th>label</th>\n",
              "    </tr>\n",
              "  </thead>\n",
              "  <tbody>\n",
              "    <tr>\n",
              "      <th>9996</th>\n",
              "      <td>사랑한 만큼 배려해야했어</td>\n",
              "      <td>이제야 깨달았나봐요.</td>\n",
              "      <td>2</td>\n",
              "    </tr>\n",
              "    <tr>\n",
              "      <th>10749</th>\n",
              "      <td>연애하는데도 외로워</td>\n",
              "      <td>진정한 사랑을 찾아보세요.</td>\n",
              "      <td>2</td>\n",
              "    </tr>\n",
              "    <tr>\n",
              "      <th>473</th>\n",
              "      <td>나 노트북 사줘</td>\n",
              "      <td>노트북은 비싸요.</td>\n",
              "      <td>0</td>\n",
              "    </tr>\n",
              "    <tr>\n",
              "      <th>6841</th>\n",
              "      <td>아무리 기다려도 이젠 안돌아오나봐</td>\n",
              "      <td>그게 끝이라면 받아들여야 해요.</td>\n",
              "      <td>1</td>\n",
              "    </tr>\n",
              "    <tr>\n",
              "      <th>5696</th>\n",
              "      <td>기다리다 지친듯해</td>\n",
              "      <td>몸도 마음도 쉬세요.</td>\n",
              "      <td>1</td>\n",
              "    </tr>\n",
              "    <tr>\n",
              "      <th>8074</th>\n",
              "      <td>정말. 정말 쉽지가 않네. 이럴 땐 어떡해야 할까</td>\n",
              "      <td>마음 가는 대로 하세요.</td>\n",
              "      <td>1</td>\n",
              "    </tr>\n",
              "    <tr>\n",
              "      <th>6554</th>\n",
              "      <td>비오는날</td>\n",
              "      <td>마음이 가라 앉죠.</td>\n",
              "      <td>1</td>\n",
              "    </tr>\n",
              "    <tr>\n",
              "      <th>7746</th>\n",
              "      <td>이젠 붙잡을 수 도 없는 사람.</td>\n",
              "      <td>달라지는게 없다면 이런 상황이 더 나을지도 몰라요.</td>\n",
              "      <td>1</td>\n",
              "    </tr>\n",
              "    <tr>\n",
              "      <th>2196</th>\n",
              "      <td>비 오는 날은 만나서 뭐할까</td>\n",
              "      <td>실내 데이트가 좋겠네요.</td>\n",
              "      <td>0</td>\n",
              "    </tr>\n",
              "    <tr>\n",
              "      <th>7723</th>\n",
              "      <td>이제는 이별을 받아드리려고 합니다</td>\n",
              "      <td>이별을 받아들이는 것도 중요해요.</td>\n",
              "      <td>1</td>\n",
              "    </tr>\n",
              "  </tbody>\n",
              "</table>\n",
              "</div>"
            ],
            "text/plain": [
              "                                 Q                             A  label\n",
              "9996                 사랑한 만큼 배려해야했어                   이제야 깨달았나봐요.      2\n",
              "10749                   연애하는데도 외로워                진정한 사랑을 찾아보세요.      2\n",
              "473                       나 노트북 사줘                     노트북은 비싸요.      0\n",
              "6841            아무리 기다려도 이젠 안돌아오나봐             그게 끝이라면 받아들여야 해요.      1\n",
              "5696                     기다리다 지친듯해                   몸도 마음도 쉬세요.      1\n",
              "8074   정말. 정말 쉽지가 않네. 이럴 땐 어떡해야 할까                 마음 가는 대로 하세요.      1\n",
              "6554                          비오는날                    마음이 가라 앉죠.      1\n",
              "7746             이젠 붙잡을 수 도 없는 사람.  달라지는게 없다면 이런 상황이 더 나을지도 몰라요.      1\n",
              "2196               비 오는 날은 만나서 뭐할까                 실내 데이트가 좋겠네요.      0\n",
              "7723            이제는 이별을 받아드리려고 합니다            이별을 받아들이는 것도 중요해요.      1"
            ]
          },
          "metadata": {
            "tags": []
          },
          "execution_count": 48
        }
      ]
    },
    {
      "cell_type": "code",
      "metadata": {
        "id": "pkzwlvcVS1cj"
      },
      "source": [
        "def load_data(df, n_enc_seq, n_dec_seq):\n",
        "    \"\"\"\n",
        "    Quora 학습 데이터 생성\n",
        "    :param df: data frame\n",
        "    :param n_enc_seq: number of encoder sequence\n",
        "    :param n_dec_seq: number of decoder sequence\n",
        "    :return enc_inputs: encoder input data\n",
        "    :return dec_inputs: decoder input data\n",
        "    :return labels: label data\n",
        "    \"\"\"\n",
        "    n_enc_max = n_enc_seq\n",
        "    n_dec_max = n_dec_seq - 1\n",
        "    enc_inputs = np.zeros((len(df), n_enc_seq)).astype(np.int32)\n",
        "    dec_inputs = np.zeros((len(df), n_dec_seq)).astype(np.int32)\n",
        "    labels = np.zeros((len(df), n_dec_seq)).astype(np.int32)\n",
        "    index = 0\n",
        "    for i, row in tqdm(df.iterrows(), total=len(df)):\n",
        "        # tokens 저장\n",
        "        print()\n",
        "        Q = row['Q']\n",
        "        A = row['A']\n",
        "        print(Q, '/', A)\n",
        "\n",
        "        tokens_q = vocab.encode_as_pieces(Q)\n",
        "        print(len(tokens_q), ':', tokens_q)\n",
        "        tokens_a = vocab.encode_as_pieces(A)\n",
        "        print(len(tokens_a), ':', tokens_a)\n",
        "\n",
        "        tokens_ids_q = vocab.encode_as_ids(Q)[:n_enc_max]\n",
        "        print(len(tokens_ids_q), ':', tokens_ids_q)\n",
        "        tokens_ids_a = vocab.encode_as_ids(A)[:n_dec_max]\n",
        "        print(len(tokens_ids_a), ':', tokens_ids_a)\n",
        "\n",
        "        tokens_dec_in = [vocab.bos_id()] + tokens_ids_a\n",
        "        tokens_dec_out = tokens_ids_a + [vocab.eos_id()]\n",
        "\n",
        "        tokens_ids_q += [0] * (n_enc_seq - len(tokens_ids_q))\n",
        "        print(len(tokens_ids_q), ':', tokens_ids_q)\n",
        "        tokens_dec_in += [0] * (n_dec_seq - len(tokens_dec_in))\n",
        "        print(len(tokens_dec_in), ':', tokens_dec_in)\n",
        "        tokens_dec_out += [0] * (n_dec_seq - len(tokens_dec_out))\n",
        "        print(len(tokens_dec_out), ':', tokens_dec_out)\n",
        "\n",
        "        enc_inputs[index] = tokens_ids_q\n",
        "        dec_inputs[index] = tokens_dec_in\n",
        "        labels[index] = tokens_dec_out\n",
        "        index += 1\n",
        "    return enc_inputs, dec_inputs, labels"
      ],
      "execution_count": 49,
      "outputs": []
    },
    {
      "cell_type": "code",
      "metadata": {
        "id": "bfEwG-jgS4aN",
        "colab": {
          "base_uri": "https://localhost:8080/",
          "height": 0,
          "referenced_widgets": [
            "d4613d78fe53455199872c936d423746",
            "8e9430cf8a7a44efac447c6e11258ec1",
            "3bc3e881450743a0a5ac3d6d251c9685",
            "9101ca47430e4f2bb90b4688c5f502e4",
            "5fcc6b32716447f19be9a7454c3964d2",
            "491c3bf746cc4ab3ae1e28f352d4ac0c",
            "183cfb35b9164fefa66f158a15416359",
            "ddcff04bef0a426a92a689155ea39dd7"
          ]
        },
        "outputId": "d6e41b83-145c-4f98-e7af-12d23cdc376f"
      },
      "source": [
        "# train data 생성\n",
        "train_enc_inputs, train_dec_inputs, train_labels = load_data(df_train, n_enc_seq, n_dec_seq)\n",
        "train_enc_inputs, train_dec_inputs, train_labels"
      ],
      "execution_count": 50,
      "outputs": [
        {
          "output_type": "display_data",
          "data": {
            "application/vnd.jupyter.widget-view+json": {
              "model_id": "d4613d78fe53455199872c936d423746",
              "version_minor": 0,
              "version_major": 2
            },
            "text/plain": [
              "HBox(children=(FloatProgress(value=0.0, max=10.0), HTML(value='')))"
            ]
          },
          "metadata": {
            "tags": []
          }
        },
        {
          "output_type": "stream",
          "text": [
            "\n",
            "사랑한 만큼 배려해야했어 / 이제야 깨달았나봐요.\n",
            "7 : ['▁사랑', '한', '▁만큼', '▁배려', '해야', '했', '어']\n",
            "9 : ['▁이제', '야', '▁깨', '달', '았', '나', '봐', '요', '.']\n",
            "7 : [1816, 33, 2881, 14519, 755, 5120, 110]\n",
            "9 : [3379, 173, 4221, 726, 9815, 58, 15346, 431, 7]\n",
            "32 : [1816, 33, 2881, 14519, 755, 5120, 110, 0, 0, 0, 0, 0, 0, 0, 0, 0, 0, 0, 0, 0, 0, 0, 0, 0, 0, 0, 0, 0, 0, 0, 0, 0]\n",
            "40 : [2, 3379, 173, 4221, 726, 9815, 58, 15346, 431, 7, 0, 0, 0, 0, 0, 0, 0, 0, 0, 0, 0, 0, 0, 0, 0, 0, 0, 0, 0, 0, 0, 0, 0, 0, 0, 0, 0, 0, 0, 0]\n",
            "40 : [3379, 173, 4221, 726, 9815, 58, 15346, 431, 7, 3, 0, 0, 0, 0, 0, 0, 0, 0, 0, 0, 0, 0, 0, 0, 0, 0, 0, 0, 0, 0, 0, 0, 0, 0, 0, 0, 0, 0, 0, 0]\n",
            "\n",
            "연애하는데도 외로워 / 진정한 사랑을 찾아보세요.\n",
            "6 : ['▁연애', '하는데', '도', '▁외', '로', '워']\n",
            "6 : ['▁진정한', '▁사랑을', '▁찾아', '보', '세요', '.']\n",
            "6 : [8256, 987, 32, 538, 21, 1384]\n",
            "6 : [9022, 5775, 2309, 191, 15319, 7]\n",
            "32 : [8256, 987, 32, 538, 21, 1384, 0, 0, 0, 0, 0, 0, 0, 0, 0, 0, 0, 0, 0, 0, 0, 0, 0, 0, 0, 0, 0, 0, 0, 0, 0, 0]\n",
            "40 : [2, 9022, 5775, 2309, 191, 15319, 7, 0, 0, 0, 0, 0, 0, 0, 0, 0, 0, 0, 0, 0, 0, 0, 0, 0, 0, 0, 0, 0, 0, 0, 0, 0, 0, 0, 0, 0, 0, 0, 0, 0]\n",
            "40 : [9022, 5775, 2309, 191, 15319, 7, 3, 0, 0, 0, 0, 0, 0, 0, 0, 0, 0, 0, 0, 0, 0, 0, 0, 0, 0, 0, 0, 0, 0, 0, 0, 0, 0, 0, 0, 0, 0, 0, 0, 0]\n",
            "\n",
            "나 노트북 사줘 / 노트북은 비싸요.\n",
            "4 : ['▁나', '▁노트북', '▁사', '줘']\n",
            "5 : ['▁노트북', '은', '▁비싸', '요', '.']\n",
            "4 : [339, 25427, 207, 14904]\n",
            "5 : [25427, 18, 22324, 431, 7]\n",
            "32 : [339, 25427, 207, 14904, 0, 0, 0, 0, 0, 0, 0, 0, 0, 0, 0, 0, 0, 0, 0, 0, 0, 0, 0, 0, 0, 0, 0, 0, 0, 0, 0, 0]\n",
            "40 : [2, 25427, 18, 22324, 431, 7, 0, 0, 0, 0, 0, 0, 0, 0, 0, 0, 0, 0, 0, 0, 0, 0, 0, 0, 0, 0, 0, 0, 0, 0, 0, 0, 0, 0, 0, 0, 0, 0, 0, 0]\n",
            "40 : [25427, 18, 22324, 431, 7, 3, 0, 0, 0, 0, 0, 0, 0, 0, 0, 0, 0, 0, 0, 0, 0, 0, 0, 0, 0, 0, 0, 0, 0, 0, 0, 0, 0, 0, 0, 0, 0, 0, 0, 0]\n",
            "\n",
            "아무리 기다려도 이젠 안돌아오나봐 / 그게 끝이라면 받아들여야 해요.\n",
            "10 : ['▁아무리', '▁기다려', '도', '▁이', '젠', '▁안', '돌아', '오', '나', '봐']\n",
            "9 : ['▁그', '게', '▁끝', '이라면', '▁받아들여', '야', '▁해', '요', '.']\n",
            "10 : [19228, 27953, 32, 29, 2201, 295, 26022, 177, 58, 15346]\n",
            "9 : [39, 128, 2793, 7107, 5015, 173, 210, 431, 7]\n",
            "32 : [19228, 27953, 32, 29, 2201, 295, 26022, 177, 58, 15346, 0, 0, 0, 0, 0, 0, 0, 0, 0, 0, 0, 0, 0, 0, 0, 0, 0, 0, 0, 0, 0, 0]\n",
            "40 : [2, 39, 128, 2793, 7107, 5015, 173, 210, 431, 7, 0, 0, 0, 0, 0, 0, 0, 0, 0, 0, 0, 0, 0, 0, 0, 0, 0, 0, 0, 0, 0, 0, 0, 0, 0, 0, 0, 0, 0, 0]\n",
            "40 : [39, 128, 2793, 7107, 5015, 173, 210, 431, 7, 3, 0, 0, 0, 0, 0, 0, 0, 0, 0, 0, 0, 0, 0, 0, 0, 0, 0, 0, 0, 0, 0, 0, 0, 0, 0, 0, 0, 0, 0, 0]\n",
            "\n",
            "기다리다 지친듯해 / 몸도 마음도 쉬세요.\n",
            "6 : ['▁기다리', '다', '▁지', '친', '듯', '해']\n",
            "7 : ['▁몸', '도', '▁마음', '도', '▁쉬', '세요', '.']\n",
            "6 : [12064, 50, 278, 1604, 6872, 61]\n",
            "7 : [1652, 32, 2851, 32, 4550, 15319, 7]\n",
            "32 : [12064, 50, 278, 1604, 6872, 61, 0, 0, 0, 0, 0, 0, 0, 0, 0, 0, 0, 0, 0, 0, 0, 0, 0, 0, 0, 0, 0, 0, 0, 0, 0, 0]\n",
            "40 : [2, 1652, 32, 2851, 32, 4550, 15319, 7, 0, 0, 0, 0, 0, 0, 0, 0, 0, 0, 0, 0, 0, 0, 0, 0, 0, 0, 0, 0, 0, 0, 0, 0, 0, 0, 0, 0, 0, 0, 0, 0]\n",
            "40 : [1652, 32, 2851, 32, 4550, 15319, 7, 3, 0, 0, 0, 0, 0, 0, 0, 0, 0, 0, 0, 0, 0, 0, 0, 0, 0, 0, 0, 0, 0, 0, 0, 0, 0, 0, 0, 0, 0, 0, 0, 0]\n",
            "\n",
            "정말. 정말 쉽지가 않네. 이럴 땐 어떡해야 할까 / 마음 가는 대로 하세요.\n",
            "18 : ['▁정말', '.', '▁정말', '▁쉽지', '가', '▁', '않', '네', '.', '▁이', '럴', '▁', '땐', '▁어', '떡', '해야', '▁할', '까']\n",
            "6 : ['▁마음', '▁가는', '▁대로', '▁하', '세요', '.']\n",
            "18 : [9653, 7, 9653, 15394, 19, 10, 7506, 343, 7, 29, 4897, 10, 26705, 492, 22526, 755, 276, 2657]\n",
            "6 : [2851, 2244, 7957, 379, 15319, 7]\n",
            "32 : [9653, 7, 9653, 15394, 19, 10, 7506, 343, 7, 29, 4897, 10, 26705, 492, 22526, 755, 276, 2657, 0, 0, 0, 0, 0, 0, 0, 0, 0, 0, 0, 0, 0, 0]\n",
            "40 : [2, 2851, 2244, 7957, 379, 15319, 7, 0, 0, 0, 0, 0, 0, 0, 0, 0, 0, 0, 0, 0, 0, 0, 0, 0, 0, 0, 0, 0, 0, 0, 0, 0, 0, 0, 0, 0, 0, 0, 0, 0]\n",
            "40 : [2851, 2244, 7957, 379, 15319, 7, 3, 0, 0, 0, 0, 0, 0, 0, 0, 0, 0, 0, 0, 0, 0, 0, 0, 0, 0, 0, 0, 0, 0, 0, 0, 0, 0, 0, 0, 0, 0, 0, 0, 0]\n",
            "\n",
            "비오는날 / 마음이 가라 앉죠.\n",
            "3 : ['▁비오', '는', '날']\n",
            "5 : ['▁마음이', '▁가라', '▁앉', '죠', '.']\n",
            "3 : [9953, 11, 1421]\n",
            "5 : [12043, 12798, 8129, 8319, 7]\n",
            "32 : [9953, 11, 1421, 0, 0, 0, 0, 0, 0, 0, 0, 0, 0, 0, 0, 0, 0, 0, 0, 0, 0, 0, 0, 0, 0, 0, 0, 0, 0, 0, 0, 0]\n",
            "40 : [2, 12043, 12798, 8129, 8319, 7, 0, 0, 0, 0, 0, 0, 0, 0, 0, 0, 0, 0, 0, 0, 0, 0, 0, 0, 0, 0, 0, 0, 0, 0, 0, 0, 0, 0, 0, 0, 0, 0, 0, 0]\n",
            "40 : [12043, 12798, 8129, 8319, 7, 3, 0, 0, 0, 0, 0, 0, 0, 0, 0, 0, 0, 0, 0, 0, 0, 0, 0, 0, 0, 0, 0, 0, 0, 0, 0, 0, 0, 0, 0, 0, 0, 0, 0, 0]\n",
            "\n",
            "이젠 붙잡을 수 도 없는 사람. / 달라지는게 없다면 이런 상황이 더 나을지도 몰라요.\n",
            "9 : ['▁이', '젠', '▁붙잡', '을', '▁수', '▁도', '▁없는', '▁사람', '.']\n",
            "14 : ['▁달라지', '는', '게', '▁없다', '면', '▁이런', '▁상황이', '▁더', '▁나', '을', '지도', '▁몰라', '요', '.']\n",
            "9 : [29, 2201, 9547, 16, 34, 275, 500, 1257, 7]\n",
            "14 : [17450, 11, 128, 488, 122, 1001, 5817, 149, 339, 16, 2889, 24290, 431, 7]\n",
            "32 : [29, 2201, 9547, 16, 34, 275, 500, 1257, 7, 0, 0, 0, 0, 0, 0, 0, 0, 0, 0, 0, 0, 0, 0, 0, 0, 0, 0, 0, 0, 0, 0, 0]\n",
            "40 : [2, 17450, 11, 128, 488, 122, 1001, 5817, 149, 339, 16, 2889, 24290, 431, 7, 0, 0, 0, 0, 0, 0, 0, 0, 0, 0, 0, 0, 0, 0, 0, 0, 0, 0, 0, 0, 0, 0, 0, 0, 0]\n",
            "40 : [17450, 11, 128, 488, 122, 1001, 5817, 149, 339, 16, 2889, 24290, 431, 7, 3, 0, 0, 0, 0, 0, 0, 0, 0, 0, 0, 0, 0, 0, 0, 0, 0, 0, 0, 0, 0, 0, 0, 0, 0, 0]\n",
            "\n",
            "비 오는 날은 만나서 뭐할까 / 실내 데이트가 좋겠네요.\n",
            "9 : ['▁비', '▁오는', '▁날', '은', '▁만나', '서', '▁뭐', '할', '까']\n",
            "8 : ['▁실내', '▁데이트', '가', '▁좋', '겠', '네', '요', '.']\n",
            "9 : [196, 8045, 673, 18, 2014, 70, 19999, 60, 2657]\n",
            "8 : [7185, 24710, 19, 10720, 12273, 343, 431, 7]\n",
            "32 : [196, 8045, 673, 18, 2014, 70, 19999, 60, 2657, 0, 0, 0, 0, 0, 0, 0, 0, 0, 0, 0, 0, 0, 0, 0, 0, 0, 0, 0, 0, 0, 0, 0]\n",
            "40 : [2, 7185, 24710, 19, 10720, 12273, 343, 431, 7, 0, 0, 0, 0, 0, 0, 0, 0, 0, 0, 0, 0, 0, 0, 0, 0, 0, 0, 0, 0, 0, 0, 0, 0, 0, 0, 0, 0, 0, 0, 0]\n",
            "40 : [7185, 24710, 19, 10720, 12273, 343, 431, 7, 3, 0, 0, 0, 0, 0, 0, 0, 0, 0, 0, 0, 0, 0, 0, 0, 0, 0, 0, 0, 0, 0, 0, 0, 0, 0, 0, 0, 0, 0, 0, 0]\n",
            "\n",
            "이제는 이별을 받아드리려고 합니다 / 이별을 받아들이는 것도 중요해요.\n",
            "9 : ['▁이제는', '▁이', '별', '을', '▁받아', '드리', '려고', '▁', '합니다']\n",
            "9 : ['▁이', '별', '을', '▁받아들이는', '▁것도', '▁중요', '해', '요', '.']\n",
            "9 : [20908, 29, 1086, 16, 747, 5537, 3670, 10, 5563]\n",
            "9 : [29, 1086, 16, 23577, 1800, 4367, 61, 431, 7]\n",
            "32 : [20908, 29, 1086, 16, 747, 5537, 3670, 10, 5563, 0, 0, 0, 0, 0, 0, 0, 0, 0, 0, 0, 0, 0, 0, 0, 0, 0, 0, 0, 0, 0, 0, 0]\n",
            "40 : [2, 29, 1086, 16, 23577, 1800, 4367, 61, 431, 7, 0, 0, 0, 0, 0, 0, 0, 0, 0, 0, 0, 0, 0, 0, 0, 0, 0, 0, 0, 0, 0, 0, 0, 0, 0, 0, 0, 0, 0, 0]\n",
            "40 : [29, 1086, 16, 23577, 1800, 4367, 61, 431, 7, 3, 0, 0, 0, 0, 0, 0, 0, 0, 0, 0, 0, 0, 0, 0, 0, 0, 0, 0, 0, 0, 0, 0, 0, 0, 0, 0, 0, 0, 0, 0]\n",
            "\n"
          ],
          "name": "stdout"
        },
        {
          "output_type": "execute_result",
          "data": {
            "text/plain": [
              "(array([[ 1816,    33,  2881, 14519,   755,  5120,   110,     0,     0,\n",
              "             0,     0,     0,     0,     0,     0,     0,     0,     0,\n",
              "             0,     0,     0,     0,     0,     0,     0,     0,     0,\n",
              "             0,     0,     0,     0,     0],\n",
              "        [ 8256,   987,    32,   538,    21,  1384,     0,     0,     0,\n",
              "             0,     0,     0,     0,     0,     0,     0,     0,     0,\n",
              "             0,     0,     0,     0,     0,     0,     0,     0,     0,\n",
              "             0,     0,     0,     0,     0],\n",
              "        [  339, 25427,   207, 14904,     0,     0,     0,     0,     0,\n",
              "             0,     0,     0,     0,     0,     0,     0,     0,     0,\n",
              "             0,     0,     0,     0,     0,     0,     0,     0,     0,\n",
              "             0,     0,     0,     0,     0],\n",
              "        [19228, 27953,    32,    29,  2201,   295, 26022,   177,    58,\n",
              "         15346,     0,     0,     0,     0,     0,     0,     0,     0,\n",
              "             0,     0,     0,     0,     0,     0,     0,     0,     0,\n",
              "             0,     0,     0,     0,     0],\n",
              "        [12064,    50,   278,  1604,  6872,    61,     0,     0,     0,\n",
              "             0,     0,     0,     0,     0,     0,     0,     0,     0,\n",
              "             0,     0,     0,     0,     0,     0,     0,     0,     0,\n",
              "             0,     0,     0,     0,     0],\n",
              "        [ 9653,     7,  9653, 15394,    19,    10,  7506,   343,     7,\n",
              "            29,  4897,    10, 26705,   492, 22526,   755,   276,  2657,\n",
              "             0,     0,     0,     0,     0,     0,     0,     0,     0,\n",
              "             0,     0,     0,     0,     0],\n",
              "        [ 9953,    11,  1421,     0,     0,     0,     0,     0,     0,\n",
              "             0,     0,     0,     0,     0,     0,     0,     0,     0,\n",
              "             0,     0,     0,     0,     0,     0,     0,     0,     0,\n",
              "             0,     0,     0,     0,     0],\n",
              "        [   29,  2201,  9547,    16,    34,   275,   500,  1257,     7,\n",
              "             0,     0,     0,     0,     0,     0,     0,     0,     0,\n",
              "             0,     0,     0,     0,     0,     0,     0,     0,     0,\n",
              "             0,     0,     0,     0,     0],\n",
              "        [  196,  8045,   673,    18,  2014,    70, 19999,    60,  2657,\n",
              "             0,     0,     0,     0,     0,     0,     0,     0,     0,\n",
              "             0,     0,     0,     0,     0,     0,     0,     0,     0,\n",
              "             0,     0,     0,     0,     0],\n",
              "        [20908,    29,  1086,    16,   747,  5537,  3670,    10,  5563,\n",
              "             0,     0,     0,     0,     0,     0,     0,     0,     0,\n",
              "             0,     0,     0,     0,     0,     0,     0,     0,     0,\n",
              "             0,     0,     0,     0,     0]], dtype=int32),\n",
              " array([[    2,  3379,   173,  4221,   726,  9815,    58, 15346,   431,\n",
              "             7,     0,     0,     0,     0,     0,     0,     0,     0,\n",
              "             0,     0,     0,     0,     0,     0,     0,     0,     0,\n",
              "             0,     0,     0,     0,     0,     0,     0,     0,     0,\n",
              "             0,     0,     0,     0],\n",
              "        [    2,  9022,  5775,  2309,   191, 15319,     7,     0,     0,\n",
              "             0,     0,     0,     0,     0,     0,     0,     0,     0,\n",
              "             0,     0,     0,     0,     0,     0,     0,     0,     0,\n",
              "             0,     0,     0,     0,     0,     0,     0,     0,     0,\n",
              "             0,     0,     0,     0],\n",
              "        [    2, 25427,    18, 22324,   431,     7,     0,     0,     0,\n",
              "             0,     0,     0,     0,     0,     0,     0,     0,     0,\n",
              "             0,     0,     0,     0,     0,     0,     0,     0,     0,\n",
              "             0,     0,     0,     0,     0,     0,     0,     0,     0,\n",
              "             0,     0,     0,     0],\n",
              "        [    2,    39,   128,  2793,  7107,  5015,   173,   210,   431,\n",
              "             7,     0,     0,     0,     0,     0,     0,     0,     0,\n",
              "             0,     0,     0,     0,     0,     0,     0,     0,     0,\n",
              "             0,     0,     0,     0,     0,     0,     0,     0,     0,\n",
              "             0,     0,     0,     0],\n",
              "        [    2,  1652,    32,  2851,    32,  4550, 15319,     7,     0,\n",
              "             0,     0,     0,     0,     0,     0,     0,     0,     0,\n",
              "             0,     0,     0,     0,     0,     0,     0,     0,     0,\n",
              "             0,     0,     0,     0,     0,     0,     0,     0,     0,\n",
              "             0,     0,     0,     0],\n",
              "        [    2,  2851,  2244,  7957,   379, 15319,     7,     0,     0,\n",
              "             0,     0,     0,     0,     0,     0,     0,     0,     0,\n",
              "             0,     0,     0,     0,     0,     0,     0,     0,     0,\n",
              "             0,     0,     0,     0,     0,     0,     0,     0,     0,\n",
              "             0,     0,     0,     0],\n",
              "        [    2, 12043, 12798,  8129,  8319,     7,     0,     0,     0,\n",
              "             0,     0,     0,     0,     0,     0,     0,     0,     0,\n",
              "             0,     0,     0,     0,     0,     0,     0,     0,     0,\n",
              "             0,     0,     0,     0,     0,     0,     0,     0,     0,\n",
              "             0,     0,     0,     0],\n",
              "        [    2, 17450,    11,   128,   488,   122,  1001,  5817,   149,\n",
              "           339,    16,  2889, 24290,   431,     7,     0,     0,     0,\n",
              "             0,     0,     0,     0,     0,     0,     0,     0,     0,\n",
              "             0,     0,     0,     0,     0,     0,     0,     0,     0,\n",
              "             0,     0,     0,     0],\n",
              "        [    2,  7185, 24710,    19, 10720, 12273,   343,   431,     7,\n",
              "             0,     0,     0,     0,     0,     0,     0,     0,     0,\n",
              "             0,     0,     0,     0,     0,     0,     0,     0,     0,\n",
              "             0,     0,     0,     0,     0,     0,     0,     0,     0,\n",
              "             0,     0,     0,     0],\n",
              "        [    2,    29,  1086,    16, 23577,  1800,  4367,    61,   431,\n",
              "             7,     0,     0,     0,     0,     0,     0,     0,     0,\n",
              "             0,     0,     0,     0,     0,     0,     0,     0,     0,\n",
              "             0,     0,     0,     0,     0,     0,     0,     0,     0,\n",
              "             0,     0,     0,     0]], dtype=int32),\n",
              " array([[ 3379,   173,  4221,   726,  9815,    58, 15346,   431,     7,\n",
              "             3,     0,     0,     0,     0,     0,     0,     0,     0,\n",
              "             0,     0,     0,     0,     0,     0,     0,     0,     0,\n",
              "             0,     0,     0,     0,     0,     0,     0,     0,     0,\n",
              "             0,     0,     0,     0],\n",
              "        [ 9022,  5775,  2309,   191, 15319,     7,     3,     0,     0,\n",
              "             0,     0,     0,     0,     0,     0,     0,     0,     0,\n",
              "             0,     0,     0,     0,     0,     0,     0,     0,     0,\n",
              "             0,     0,     0,     0,     0,     0,     0,     0,     0,\n",
              "             0,     0,     0,     0],\n",
              "        [25427,    18, 22324,   431,     7,     3,     0,     0,     0,\n",
              "             0,     0,     0,     0,     0,     0,     0,     0,     0,\n",
              "             0,     0,     0,     0,     0,     0,     0,     0,     0,\n",
              "             0,     0,     0,     0,     0,     0,     0,     0,     0,\n",
              "             0,     0,     0,     0],\n",
              "        [   39,   128,  2793,  7107,  5015,   173,   210,   431,     7,\n",
              "             3,     0,     0,     0,     0,     0,     0,     0,     0,\n",
              "             0,     0,     0,     0,     0,     0,     0,     0,     0,\n",
              "             0,     0,     0,     0,     0,     0,     0,     0,     0,\n",
              "             0,     0,     0,     0],\n",
              "        [ 1652,    32,  2851,    32,  4550, 15319,     7,     3,     0,\n",
              "             0,     0,     0,     0,     0,     0,     0,     0,     0,\n",
              "             0,     0,     0,     0,     0,     0,     0,     0,     0,\n",
              "             0,     0,     0,     0,     0,     0,     0,     0,     0,\n",
              "             0,     0,     0,     0],\n",
              "        [ 2851,  2244,  7957,   379, 15319,     7,     3,     0,     0,\n",
              "             0,     0,     0,     0,     0,     0,     0,     0,     0,\n",
              "             0,     0,     0,     0,     0,     0,     0,     0,     0,\n",
              "             0,     0,     0,     0,     0,     0,     0,     0,     0,\n",
              "             0,     0,     0,     0],\n",
              "        [12043, 12798,  8129,  8319,     7,     3,     0,     0,     0,\n",
              "             0,     0,     0,     0,     0,     0,     0,     0,     0,\n",
              "             0,     0,     0,     0,     0,     0,     0,     0,     0,\n",
              "             0,     0,     0,     0,     0,     0,     0,     0,     0,\n",
              "             0,     0,     0,     0],\n",
              "        [17450,    11,   128,   488,   122,  1001,  5817,   149,   339,\n",
              "            16,  2889, 24290,   431,     7,     3,     0,     0,     0,\n",
              "             0,     0,     0,     0,     0,     0,     0,     0,     0,\n",
              "             0,     0,     0,     0,     0,     0,     0,     0,     0,\n",
              "             0,     0,     0,     0],\n",
              "        [ 7185, 24710,    19, 10720, 12273,   343,   431,     7,     3,\n",
              "             0,     0,     0,     0,     0,     0,     0,     0,     0,\n",
              "             0,     0,     0,     0,     0,     0,     0,     0,     0,\n",
              "             0,     0,     0,     0,     0,     0,     0,     0,     0,\n",
              "             0,     0,     0,     0],\n",
              "        [   29,  1086,    16, 23577,  1800,  4367,    61,   431,     7,\n",
              "             3,     0,     0,     0,     0,     0,     0,     0,     0,\n",
              "             0,     0,     0,     0,     0,     0,     0,     0,     0,\n",
              "             0,     0,     0,     0,     0,     0,     0,     0,     0,\n",
              "             0,     0,     0,     0]], dtype=int32))"
            ]
          },
          "metadata": {
            "tags": []
          },
          "execution_count": 50
        }
      ]
    },
    {
      "cell_type": "markdown",
      "metadata": {
        "id": "IFTsdA3kE2h-"
      },
      "source": [
        "## 학습"
      ]
    },
    {
      "cell_type": "code",
      "metadata": {
        "id": "oTbV-P7IpsLH",
        "colab": {
          "base_uri": "https://localhost:8080/",
          "height": 726
        },
        "outputId": "38ce1135-d802-43e0-8a56-2804116976aa"
      },
      "source": [
        "# 모델 생성\n",
        "model = build_model(len(vocab), d_model, n_enc_seq, n_dec_seq)\n",
        "# 모델 내용 그래프 출력\n",
        "tf.keras.utils.plot_model(model, 'model.png', show_shapes=True)"
      ],
      "execution_count": 51,
      "outputs": [
        {
          "output_type": "execute_result",
          "data": {
            "image/png": "[encoded data removed]",
            "text/plain": [
              "<IPython.core.display.Image object>"
            ]
          },
          "metadata": {
            "tags": []
          },
          "execution_count": 51
        }
      ]
    },
    {
      "cell_type": "code",
      "metadata": {
        "id": "X7UDvaPqEx1c"
      },
      "source": [
        "# 모델 loss, optimizer, metric 정의\n",
        "model.compile(loss=lm_loss, optimizer='adam', metrics=[lm_acc])"
      ],
      "execution_count": 52,
      "outputs": []
    },
    {
      "cell_type": "code",
      "metadata": {
        "id": "-FQBJ2aQLXdp"
      },
      "source": [
        "# early stopping\n",
        "early_stopping = tf.keras.callbacks.EarlyStopping(monitor='lm_acc', patience=100)\n",
        "# save weights callback\n",
        "save_weights = tf.keras.callbacks.ModelCheckpoint(os.path.join(songys_dir, 'lstm_dot.hdf5'),\n",
        "                                                  monitor='lm_acc',\n",
        "                                                  verbose=1,\n",
        "                                                  save_best_only=True,\n",
        "                                                  mode=\"max\",\n",
        "                                                  save_freq=\"epoch\",\n",
        "                                                  save_weights_only=True)\n",
        "# csv logger\n",
        "csv_logger = tf.keras.callbacks.CSVLogger(os.path.join(songys_dir, 'lstm_dot.csv'))"
      ],
      "execution_count": 53,
      "outputs": []
    },
    {
      "cell_type": "code",
      "metadata": {
        "id": "MSyF0MvAFGoJ",
        "colab": {
          "base_uri": "https://localhost:8080/"
        },
        "outputId": "c41d2da2-a4b8-4058-ae16-04947807f3ba"
      },
      "source": [
        "# 모델 학습\n",
        "history = model.fit((train_enc_inputs, train_dec_inputs),\n",
        "                    train_labels,\n",
        "                    epochs=400,\n",
        "                    batch_size=256,\n",
        "                    callbacks=[early_stopping, save_weights, csv_logger])"
      ],
      "execution_count": 54,
      "outputs": [
        {
          "output_type": "stream",
          "text": [
            "Epoch 1/400\n",
            "1/1 [==============================] - 4s 4s/step - loss: 2.2822 - lm_acc: 0.0000e+00\n",
            "\n",
            "Epoch 00001: lm_acc improved from -inf to 0.00000, saving model to /content/drive/MyDrive/NLP_data/songys/lstm_dot.hdf5\n",
            "Epoch 2/400\n",
            "1/1 [==============================] - 0s 152ms/step - loss: 2.2788 - lm_acc: 0.1136\n",
            "\n",
            "Epoch 00002: lm_acc improved from 0.00000 to 0.11364, saving model to /content/drive/MyDrive/NLP_data/songys/lstm_dot.hdf5\n",
            "Epoch 3/400\n",
            "1/1 [==============================] - 0s 166ms/step - loss: 2.2732 - lm_acc: 0.1136\n",
            "\n",
            "Epoch 00003: lm_acc did not improve from 0.11364\n",
            "Epoch 4/400\n",
            "1/1 [==============================] - 0s 118ms/step - loss: 2.2611 - lm_acc: 0.1136\n",
            "\n",
            "Epoch 00004: lm_acc did not improve from 0.11364\n",
            "Epoch 5/400\n",
            "1/1 [==============================] - 0s 113ms/step - loss: 2.2310 - lm_acc: 0.1136\n",
            "\n",
            "Epoch 00005: lm_acc did not improve from 0.11364\n",
            "Epoch 6/400\n",
            "1/1 [==============================] - 0s 120ms/step - loss: 2.1498 - lm_acc: 0.1136\n",
            "\n",
            "Epoch 00006: lm_acc did not improve from 0.11364\n",
            "Epoch 7/400\n",
            "1/1 [==============================] - 0s 109ms/step - loss: 1.9701 - lm_acc: 0.1136\n",
            "\n",
            "Epoch 00007: lm_acc did not improve from 0.11364\n",
            "Epoch 8/400\n",
            "1/1 [==============================] - 0s 112ms/step - loss: 1.7279 - lm_acc: 0.1136\n",
            "\n",
            "Epoch 00008: lm_acc did not improve from 0.11364\n",
            "Epoch 9/400\n",
            "1/1 [==============================] - 0s 115ms/step - loss: 1.4784 - lm_acc: 0.1364\n",
            "\n",
            "Epoch 00009: lm_acc improved from 0.11364 to 0.13636, saving model to /content/drive/MyDrive/NLP_data/songys/lstm_dot.hdf5\n",
            "Epoch 10/400\n",
            "1/1 [==============================] - 0s 114ms/step - loss: 1.2241 - lm_acc: 0.1250\n",
            "\n",
            "Epoch 00010: lm_acc did not improve from 0.13636\n",
            "Epoch 11/400\n",
            "1/1 [==============================] - 0s 112ms/step - loss: 0.9885 - lm_acc: 0.1250\n",
            "\n",
            "Epoch 00011: lm_acc did not improve from 0.13636\n",
            "Epoch 12/400\n",
            "1/1 [==============================] - 0s 113ms/step - loss: 0.8345 - lm_acc: 0.1250\n",
            "\n",
            "Epoch 00012: lm_acc did not improve from 0.13636\n",
            "Epoch 13/400\n",
            "1/1 [==============================] - 0s 113ms/step - loss: 0.7654 - lm_acc: 0.1364\n",
            "\n",
            "Epoch 00013: lm_acc did not improve from 0.13636\n",
            "Epoch 14/400\n",
            "1/1 [==============================] - 0s 112ms/step - loss: 0.7343 - lm_acc: 0.1364\n",
            "\n",
            "Epoch 00014: lm_acc did not improve from 0.13636\n",
            "Epoch 15/400\n",
            "1/1 [==============================] - 0s 103ms/step - loss: 0.7183 - lm_acc: 0.1477\n",
            "\n",
            "Epoch 00015: lm_acc improved from 0.13636 to 0.14773, saving model to /content/drive/MyDrive/NLP_data/songys/lstm_dot.hdf5\n",
            "Epoch 16/400\n",
            "1/1 [==============================] - 0s 123ms/step - loss: 0.7076 - lm_acc: 0.1364\n",
            "\n",
            "Epoch 00016: lm_acc did not improve from 0.14773\n",
            "Epoch 17/400\n",
            "1/1 [==============================] - 0s 118ms/step - loss: 0.6993 - lm_acc: 0.1477\n",
            "\n",
            "Epoch 00017: lm_acc did not improve from 0.14773\n",
            "Epoch 18/400\n",
            "1/1 [==============================] - 0s 112ms/step - loss: 0.6908 - lm_acc: 0.1250\n",
            "\n",
            "Epoch 00018: lm_acc did not improve from 0.14773\n",
            "Epoch 19/400\n",
            "1/1 [==============================] - 0s 112ms/step - loss: 0.6799 - lm_acc: 0.1364\n",
            "\n",
            "Epoch 00019: lm_acc did not improve from 0.14773\n",
            "Epoch 20/400\n",
            "1/1 [==============================] - 0s 113ms/step - loss: 0.6697 - lm_acc: 0.1364\n",
            "\n",
            "Epoch 00020: lm_acc did not improve from 0.14773\n",
            "Epoch 21/400\n",
            "1/1 [==============================] - 0s 123ms/step - loss: 0.6628 - lm_acc: 0.1591\n",
            "\n",
            "Epoch 00021: lm_acc improved from 0.14773 to 0.15909, saving model to /content/drive/MyDrive/NLP_data/songys/lstm_dot.hdf5\n",
            "Epoch 22/400\n",
            "1/1 [==============================] - 0s 96ms/step - loss: 0.6573 - lm_acc: 0.1477\n",
            "\n",
            "Epoch 00022: lm_acc did not improve from 0.15909\n",
            "Epoch 23/400\n",
            "1/1 [==============================] - 0s 120ms/step - loss: 0.6515 - lm_acc: 0.1477\n",
            "\n",
            "Epoch 00023: lm_acc did not improve from 0.15909\n",
            "Epoch 24/400\n",
            "1/1 [==============================] - 0s 116ms/step - loss: 0.6457 - lm_acc: 0.1477\n",
            "\n",
            "Epoch 00024: lm_acc did not improve from 0.15909\n",
            "Epoch 25/400\n",
            "1/1 [==============================] - 0s 95ms/step - loss: 0.6395 - lm_acc: 0.1477\n",
            "\n",
            "Epoch 00025: lm_acc did not improve from 0.15909\n",
            "Epoch 26/400\n",
            "1/1 [==============================] - 0s 109ms/step - loss: 0.6333 - lm_acc: 0.1364\n",
            "\n",
            "Epoch 00026: lm_acc did not improve from 0.15909\n",
            "Epoch 27/400\n",
            "1/1 [==============================] - 0s 112ms/step - loss: 0.6279 - lm_acc: 0.1705\n",
            "\n",
            "Epoch 00027: lm_acc improved from 0.15909 to 0.17045, saving model to /content/drive/MyDrive/NLP_data/songys/lstm_dot.hdf5\n",
            "Epoch 28/400\n",
            "1/1 [==============================] - 0s 111ms/step - loss: 0.6232 - lm_acc: 0.1477\n",
            "\n",
            "Epoch 00028: lm_acc did not improve from 0.17045\n",
            "Epoch 29/400\n",
            "1/1 [==============================] - 0s 118ms/step - loss: 0.6191 - lm_acc: 0.1477\n",
            "\n",
            "Epoch 00029: lm_acc did not improve from 0.17045\n",
            "Epoch 30/400\n",
            "1/1 [==============================] - 0s 115ms/step - loss: 0.6146 - lm_acc: 0.1477\n",
            "\n",
            "Epoch 00030: lm_acc did not improve from 0.17045\n",
            "Epoch 31/400\n",
            "1/1 [==============================] - 0s 108ms/step - loss: 0.6100 - lm_acc: 0.1705\n",
            "\n",
            "Epoch 00031: lm_acc did not improve from 0.17045\n",
            "Epoch 32/400\n",
            "1/1 [==============================] - 0s 113ms/step - loss: 0.6056 - lm_acc: 0.1705\n",
            "\n",
            "Epoch 00032: lm_acc did not improve from 0.17045\n",
            "Epoch 33/400\n",
            "1/1 [==============================] - 0s 111ms/step - loss: 0.6018 - lm_acc: 0.1591\n",
            "\n",
            "Epoch 00033: lm_acc did not improve from 0.17045\n",
            "Epoch 34/400\n",
            "1/1 [==============================] - 0s 114ms/step - loss: 0.5980 - lm_acc: 0.1705\n",
            "\n",
            "Epoch 00034: lm_acc did not improve from 0.17045\n",
            "Epoch 35/400\n",
            "1/1 [==============================] - 0s 117ms/step - loss: 0.5941 - lm_acc: 0.1591\n",
            "\n",
            "Epoch 00035: lm_acc did not improve from 0.17045\n",
            "Epoch 36/400\n",
            "1/1 [==============================] - 0s 108ms/step - loss: 0.5902 - lm_acc: 0.1477\n",
            "\n",
            "Epoch 00036: lm_acc did not improve from 0.17045\n",
            "Epoch 37/400\n",
            "1/1 [==============================] - 0s 111ms/step - loss: 0.5864 - lm_acc: 0.1818\n",
            "\n",
            "Epoch 00037: lm_acc improved from 0.17045 to 0.18182, saving model to /content/drive/MyDrive/NLP_data/songys/lstm_dot.hdf5\n",
            "Epoch 38/400\n",
            "1/1 [==============================] - 0s 113ms/step - loss: 0.5828 - lm_acc: 0.1705\n",
            "\n",
            "Epoch 00038: lm_acc did not improve from 0.18182\n",
            "Epoch 39/400\n",
            "1/1 [==============================] - 0s 115ms/step - loss: 0.5793 - lm_acc: 0.2273\n",
            "\n",
            "Epoch 00039: lm_acc improved from 0.18182 to 0.22727, saving model to /content/drive/MyDrive/NLP_data/songys/lstm_dot.hdf5\n",
            "Epoch 40/400\n",
            "1/1 [==============================] - 0s 100ms/step - loss: 0.5759 - lm_acc: 0.1818\n",
            "\n",
            "Epoch 00040: lm_acc did not improve from 0.22727\n",
            "Epoch 41/400\n",
            "1/1 [==============================] - 0s 111ms/step - loss: 0.5725 - lm_acc: 0.1818\n",
            "\n",
            "Epoch 00041: lm_acc did not improve from 0.22727\n",
            "Epoch 42/400\n",
            "1/1 [==============================] - 0s 110ms/step - loss: 0.5691 - lm_acc: 0.1932\n",
            "\n",
            "Epoch 00042: lm_acc did not improve from 0.22727\n",
            "Epoch 43/400\n",
            "1/1 [==============================] - 0s 113ms/step - loss: 0.5658 - lm_acc: 0.2045\n",
            "\n",
            "Epoch 00043: lm_acc did not improve from 0.22727\n",
            "Epoch 44/400\n",
            "1/1 [==============================] - 0s 112ms/step - loss: 0.5625 - lm_acc: 0.2045\n",
            "\n",
            "Epoch 00044: lm_acc did not improve from 0.22727\n",
            "Epoch 45/400\n",
            "1/1 [==============================] - 0s 99ms/step - loss: 0.5594 - lm_acc: 0.2273\n",
            "\n",
            "Epoch 00045: lm_acc did not improve from 0.22727\n",
            "Epoch 46/400\n",
            "1/1 [==============================] - 0s 116ms/step - loss: 0.5560 - lm_acc: 0.2500\n",
            "\n",
            "Epoch 00046: lm_acc improved from 0.22727 to 0.25000, saving model to /content/drive/MyDrive/NLP_data/songys/lstm_dot.hdf5\n",
            "Epoch 47/400\n",
            "1/1 [==============================] - 0s 107ms/step - loss: 0.5527 - lm_acc: 0.2273\n",
            "\n",
            "Epoch 00047: lm_acc did not improve from 0.25000\n",
            "Epoch 48/400\n",
            "1/1 [==============================] - 0s 109ms/step - loss: 0.5494 - lm_acc: 0.2273\n",
            "\n",
            "Epoch 00048: lm_acc did not improve from 0.25000\n",
            "Epoch 49/400\n",
            "1/1 [==============================] - 0s 110ms/step - loss: 0.5462 - lm_acc: 0.2159\n",
            "\n",
            "Epoch 00049: lm_acc did not improve from 0.25000\n",
            "Epoch 50/400\n",
            "1/1 [==============================] - 0s 114ms/step - loss: 0.5428 - lm_acc: 0.2273\n",
            "\n",
            "Epoch 00050: lm_acc did not improve from 0.25000\n",
            "Epoch 51/400\n",
            "1/1 [==============================] - 0s 111ms/step - loss: 0.5465 - lm_acc: 0.2500\n",
            "\n",
            "Epoch 00051: lm_acc did not improve from 0.25000\n",
            "Epoch 52/400\n",
            "1/1 [==============================] - 0s 114ms/step - loss: 0.5375 - lm_acc: 0.2386\n",
            "\n",
            "Epoch 00052: lm_acc did not improve from 0.25000\n",
            "Epoch 53/400\n",
            "1/1 [==============================] - 0s 111ms/step - loss: 0.5347 - lm_acc: 0.2727\n",
            "\n",
            "Epoch 00053: lm_acc improved from 0.25000 to 0.27273, saving model to /content/drive/MyDrive/NLP_data/songys/lstm_dot.hdf5\n",
            "Epoch 54/400\n",
            "1/1 [==============================] - 0s 108ms/step - loss: 0.5322 - lm_acc: 0.2500\n",
            "\n",
            "Epoch 00054: lm_acc did not improve from 0.27273\n",
            "Epoch 55/400\n",
            "1/1 [==============================] - 0s 112ms/step - loss: 0.5286 - lm_acc: 0.2614\n",
            "\n",
            "Epoch 00055: lm_acc did not improve from 0.27273\n",
            "Epoch 56/400\n",
            "1/1 [==============================] - 0s 112ms/step - loss: 0.5259 - lm_acc: 0.2841\n",
            "\n",
            "Epoch 00056: lm_acc improved from 0.27273 to 0.28409, saving model to /content/drive/MyDrive/NLP_data/songys/lstm_dot.hdf5\n",
            "Epoch 57/400\n",
            "1/1 [==============================] - 0s 110ms/step - loss: 0.5228 - lm_acc: 0.2500\n",
            "\n",
            "Epoch 00057: lm_acc did not improve from 0.28409\n",
            "Epoch 58/400\n",
            "1/1 [==============================] - 0s 111ms/step - loss: 0.5202 - lm_acc: 0.2955\n",
            "\n",
            "Epoch 00058: lm_acc improved from 0.28409 to 0.29545, saving model to /content/drive/MyDrive/NLP_data/songys/lstm_dot.hdf5\n",
            "Epoch 59/400\n",
            "1/1 [==============================] - 0s 113ms/step - loss: 0.5169 - lm_acc: 0.3068\n",
            "\n",
            "Epoch 00059: lm_acc improved from 0.29545 to 0.30682, saving model to /content/drive/MyDrive/NLP_data/songys/lstm_dot.hdf5\n",
            "Epoch 60/400\n",
            "1/1 [==============================] - 0s 111ms/step - loss: 0.5140 - lm_acc: 0.3068\n",
            "\n",
            "Epoch 00060: lm_acc did not improve from 0.30682\n",
            "Epoch 61/400\n",
            "1/1 [==============================] - 0s 113ms/step - loss: 0.5109 - lm_acc: 0.3068\n",
            "\n",
            "Epoch 00061: lm_acc did not improve from 0.30682\n",
            "Epoch 62/400\n",
            "1/1 [==============================] - 0s 110ms/step - loss: 0.5081 - lm_acc: 0.3068\n",
            "\n",
            "Epoch 00062: lm_acc did not improve from 0.30682\n",
            "Epoch 63/400\n",
            "1/1 [==============================] - 0s 115ms/step - loss: 0.5049 - lm_acc: 0.3409\n",
            "\n",
            "Epoch 00063: lm_acc improved from 0.30682 to 0.34091, saving model to /content/drive/MyDrive/NLP_data/songys/lstm_dot.hdf5\n",
            "Epoch 64/400\n",
            "1/1 [==============================] - 0s 135ms/step - loss: 0.5019 - lm_acc: 0.3636\n",
            "\n",
            "Epoch 00064: lm_acc improved from 0.34091 to 0.36364, saving model to /content/drive/MyDrive/NLP_data/songys/lstm_dot.hdf5\n",
            "Epoch 65/400\n",
            "1/1 [==============================] - 0s 108ms/step - loss: 0.4988 - lm_acc: 0.3636\n",
            "\n",
            "Epoch 00065: lm_acc did not improve from 0.36364\n",
            "Epoch 66/400\n",
            "1/1 [==============================] - 0s 119ms/step - loss: 0.4956 - lm_acc: 0.3636\n",
            "\n",
            "Epoch 00066: lm_acc did not improve from 0.36364\n",
            "Epoch 67/400\n",
            "1/1 [==============================] - 0s 112ms/step - loss: 0.4924 - lm_acc: 0.3523\n",
            "\n",
            "Epoch 00067: lm_acc did not improve from 0.36364\n",
            "Epoch 68/400\n",
            "1/1 [==============================] - 0s 113ms/step - loss: 0.4892 - lm_acc: 0.3409\n",
            "\n",
            "Epoch 00068: lm_acc did not improve from 0.36364\n",
            "Epoch 69/400\n",
            "1/1 [==============================] - 0s 111ms/step - loss: 0.4859 - lm_acc: 0.3409\n",
            "\n",
            "Epoch 00069: lm_acc did not improve from 0.36364\n",
            "Epoch 70/400\n",
            "1/1 [==============================] - 0s 113ms/step - loss: 0.4826 - lm_acc: 0.3636\n",
            "\n",
            "Epoch 00070: lm_acc did not improve from 0.36364\n",
            "Epoch 71/400\n",
            "1/1 [==============================] - 0s 110ms/step - loss: 0.4791 - lm_acc: 0.3977\n",
            "\n",
            "Epoch 00071: lm_acc improved from 0.36364 to 0.39773, saving model to /content/drive/MyDrive/NLP_data/songys/lstm_dot.hdf5\n",
            "Epoch 72/400\n",
            "1/1 [==============================] - 0s 107ms/step - loss: 0.4757 - lm_acc: 0.3977\n",
            "\n",
            "Epoch 00072: lm_acc did not improve from 0.39773\n",
            "Epoch 73/400\n",
            "1/1 [==============================] - 0s 115ms/step - loss: 0.4722 - lm_acc: 0.3864\n",
            "\n",
            "Epoch 00073: lm_acc did not improve from 0.39773\n",
            "Epoch 74/400\n",
            "1/1 [==============================] - 0s 110ms/step - loss: 0.4687 - lm_acc: 0.3864\n",
            "\n",
            "Epoch 00074: lm_acc did not improve from 0.39773\n",
            "Epoch 75/400\n",
            "1/1 [==============================] - 0s 115ms/step - loss: 0.4649 - lm_acc: 0.3864\n",
            "\n",
            "Epoch 00075: lm_acc did not improve from 0.39773\n",
            "Epoch 76/400\n",
            "1/1 [==============================] - 0s 109ms/step - loss: 0.4613 - lm_acc: 0.4318\n",
            "\n",
            "Epoch 00076: lm_acc improved from 0.39773 to 0.43182, saving model to /content/drive/MyDrive/NLP_data/songys/lstm_dot.hdf5\n",
            "Epoch 77/400\n",
            "1/1 [==============================] - 0s 114ms/step - loss: 0.4574 - lm_acc: 0.4432\n",
            "\n",
            "Epoch 00077: lm_acc improved from 0.43182 to 0.44318, saving model to /content/drive/MyDrive/NLP_data/songys/lstm_dot.hdf5\n",
            "Epoch 78/400\n",
            "1/1 [==============================] - 0s 113ms/step - loss: 0.4536 - lm_acc: 0.4773\n",
            "\n",
            "Epoch 00078: lm_acc improved from 0.44318 to 0.47727, saving model to /content/drive/MyDrive/NLP_data/songys/lstm_dot.hdf5\n",
            "Epoch 79/400\n",
            "1/1 [==============================] - 0s 112ms/step - loss: 0.4495 - lm_acc: 0.4659\n",
            "\n",
            "Epoch 00079: lm_acc did not improve from 0.47727\n",
            "Epoch 80/400\n",
            "1/1 [==============================] - 0s 113ms/step - loss: 0.4454 - lm_acc: 0.4773\n",
            "\n",
            "Epoch 00080: lm_acc did not improve from 0.47727\n",
            "Epoch 81/400\n",
            "1/1 [==============================] - 0s 112ms/step - loss: 0.4411 - lm_acc: 0.4773\n",
            "\n",
            "Epoch 00081: lm_acc did not improve from 0.47727\n",
            "Epoch 82/400\n",
            "1/1 [==============================] - 0s 151ms/step - loss: 0.4366 - lm_acc: 0.5114\n",
            "\n",
            "Epoch 00082: lm_acc improved from 0.47727 to 0.51136, saving model to /content/drive/MyDrive/NLP_data/songys/lstm_dot.hdf5\n",
            "Epoch 83/400\n",
            "1/1 [==============================] - 0s 134ms/step - loss: 0.4320 - lm_acc: 0.5114\n",
            "\n",
            "Epoch 00083: lm_acc did not improve from 0.51136\n",
            "Epoch 84/400\n",
            "1/1 [==============================] - 0s 141ms/step - loss: 0.4276 - lm_acc: 0.5568\n",
            "\n",
            "Epoch 00084: lm_acc improved from 0.51136 to 0.55682, saving model to /content/drive/MyDrive/NLP_data/songys/lstm_dot.hdf5\n",
            "Epoch 85/400\n",
            "1/1 [==============================] - 0s 107ms/step - loss: 0.4234 - lm_acc: 0.5568\n",
            "\n",
            "Epoch 00085: lm_acc did not improve from 0.55682\n",
            "Epoch 86/400\n",
            "1/1 [==============================] - 0s 115ms/step - loss: 0.4181 - lm_acc: 0.5682\n",
            "\n",
            "Epoch 00086: lm_acc improved from 0.55682 to 0.56818, saving model to /content/drive/MyDrive/NLP_data/songys/lstm_dot.hdf5\n",
            "Epoch 87/400\n",
            "1/1 [==============================] - 0s 113ms/step - loss: 0.4134 - lm_acc: 0.5909\n",
            "\n",
            "Epoch 00087: lm_acc improved from 0.56818 to 0.59091, saving model to /content/drive/MyDrive/NLP_data/songys/lstm_dot.hdf5\n",
            "Epoch 88/400\n",
            "1/1 [==============================] - 0s 105ms/step - loss: 0.4081 - lm_acc: 0.6023\n",
            "\n",
            "Epoch 00088: lm_acc improved from 0.59091 to 0.60227, saving model to /content/drive/MyDrive/NLP_data/songys/lstm_dot.hdf5\n",
            "Epoch 89/400\n",
            "1/1 [==============================] - 0s 107ms/step - loss: 0.4031 - lm_acc: 0.6136\n",
            "\n",
            "Epoch 00089: lm_acc improved from 0.60227 to 0.61364, saving model to /content/drive/MyDrive/NLP_data/songys/lstm_dot.hdf5\n",
            "Epoch 90/400\n",
            "1/1 [==============================] - 0s 114ms/step - loss: 0.3978 - lm_acc: 0.6364\n",
            "\n",
            "Epoch 00090: lm_acc improved from 0.61364 to 0.63636, saving model to /content/drive/MyDrive/NLP_data/songys/lstm_dot.hdf5\n",
            "Epoch 91/400\n",
            "1/1 [==============================] - 0s 107ms/step - loss: 0.3926 - lm_acc: 0.6591\n",
            "\n",
            "Epoch 00091: lm_acc improved from 0.63636 to 0.65909, saving model to /content/drive/MyDrive/NLP_data/songys/lstm_dot.hdf5\n",
            "Epoch 92/400\n",
            "1/1 [==============================] - 0s 100ms/step - loss: 0.3877 - lm_acc: 0.6591\n",
            "\n",
            "Epoch 00092: lm_acc did not improve from 0.65909\n",
            "Epoch 93/400\n",
            "1/1 [==============================] - 0s 105ms/step - loss: 0.3832 - lm_acc: 0.6818\n",
            "\n",
            "Epoch 00093: lm_acc improved from 0.65909 to 0.68182, saving model to /content/drive/MyDrive/NLP_data/songys/lstm_dot.hdf5\n",
            "Epoch 94/400\n",
            "1/1 [==============================] - 0s 108ms/step - loss: 0.3767 - lm_acc: 0.6932\n",
            "\n",
            "Epoch 00094: lm_acc improved from 0.68182 to 0.69318, saving model to /content/drive/MyDrive/NLP_data/songys/lstm_dot.hdf5\n",
            "Epoch 95/400\n",
            "1/1 [==============================] - 0s 108ms/step - loss: 0.3702 - lm_acc: 0.7386\n",
            "\n",
            "Epoch 00095: lm_acc improved from 0.69318 to 0.73864, saving model to /content/drive/MyDrive/NLP_data/songys/lstm_dot.hdf5\n",
            "Epoch 96/400\n",
            "1/1 [==============================] - 0s 107ms/step - loss: 0.3650 - lm_acc: 0.7614\n",
            "\n",
            "Epoch 00096: lm_acc improved from 0.73864 to 0.76136, saving model to /content/drive/MyDrive/NLP_data/songys/lstm_dot.hdf5\n",
            "Epoch 97/400\n",
            "1/1 [==============================] - 0s 103ms/step - loss: 0.3590 - lm_acc: 0.7386\n",
            "\n",
            "Epoch 00097: lm_acc did not improve from 0.76136\n",
            "Epoch 98/400\n",
            "1/1 [==============================] - 0s 110ms/step - loss: 0.3526 - lm_acc: 0.7841\n",
            "\n",
            "Epoch 00098: lm_acc improved from 0.76136 to 0.78409, saving model to /content/drive/MyDrive/NLP_data/songys/lstm_dot.hdf5\n",
            "Epoch 99/400\n",
            "1/1 [==============================] - 0s 114ms/step - loss: 0.3469 - lm_acc: 0.7614\n",
            "\n",
            "Epoch 00099: lm_acc did not improve from 0.78409\n",
            "Epoch 100/400\n",
            "1/1 [==============================] - 0s 108ms/step - loss: 0.3408 - lm_acc: 0.7955\n",
            "\n",
            "Epoch 00100: lm_acc improved from 0.78409 to 0.79545, saving model to /content/drive/MyDrive/NLP_data/songys/lstm_dot.hdf5\n",
            "Epoch 101/400\n",
            "1/1 [==============================] - 0s 110ms/step - loss: 0.3344 - lm_acc: 0.7841\n",
            "\n",
            "Epoch 00101: lm_acc did not improve from 0.79545\n",
            "Epoch 102/400\n",
            "1/1 [==============================] - 0s 114ms/step - loss: 0.3284 - lm_acc: 0.7955\n",
            "\n",
            "Epoch 00102: lm_acc did not improve from 0.79545\n",
            "Epoch 103/400\n",
            "1/1 [==============================] - 0s 110ms/step - loss: 0.3221 - lm_acc: 0.7955\n",
            "\n",
            "Epoch 00103: lm_acc did not improve from 0.79545\n",
            "Epoch 104/400\n",
            "1/1 [==============================] - 0s 121ms/step - loss: 0.3158 - lm_acc: 0.7955\n",
            "\n",
            "Epoch 00104: lm_acc did not improve from 0.79545\n",
            "Epoch 105/400\n",
            "1/1 [==============================] - 0s 108ms/step - loss: 0.3096 - lm_acc: 0.8068\n",
            "\n",
            "Epoch 00105: lm_acc improved from 0.79545 to 0.80682, saving model to /content/drive/MyDrive/NLP_data/songys/lstm_dot.hdf5\n",
            "Epoch 106/400\n",
            "1/1 [==============================] - 0s 108ms/step - loss: 0.3032 - lm_acc: 0.7955\n",
            "\n",
            "Epoch 00106: lm_acc did not improve from 0.80682\n",
            "Epoch 107/400\n",
            "1/1 [==============================] - 0s 110ms/step - loss: 0.2968 - lm_acc: 0.8068\n",
            "\n",
            "Epoch 00107: lm_acc did not improve from 0.80682\n",
            "Epoch 108/400\n",
            "1/1 [==============================] - 0s 104ms/step - loss: 0.2906 - lm_acc: 0.8409\n",
            "\n",
            "Epoch 00108: lm_acc improved from 0.80682 to 0.84091, saving model to /content/drive/MyDrive/NLP_data/songys/lstm_dot.hdf5\n",
            "Epoch 109/400\n",
            "1/1 [==============================] - 0s 108ms/step - loss: 0.2841 - lm_acc: 0.8636\n",
            "\n",
            "Epoch 00109: lm_acc improved from 0.84091 to 0.86364, saving model to /content/drive/MyDrive/NLP_data/songys/lstm_dot.hdf5\n",
            "Epoch 110/400\n",
            "1/1 [==============================] - 0s 113ms/step - loss: 0.2778 - lm_acc: 0.8636\n",
            "\n",
            "Epoch 00110: lm_acc did not improve from 0.86364\n",
            "Epoch 111/400\n",
            "1/1 [==============================] - 0s 109ms/step - loss: 0.2713 - lm_acc: 0.8409\n",
            "\n",
            "Epoch 00111: lm_acc did not improve from 0.86364\n",
            "Epoch 112/400\n",
            "1/1 [==============================] - 0s 115ms/step - loss: 0.2649 - lm_acc: 0.8523\n",
            "\n",
            "Epoch 00112: lm_acc did not improve from 0.86364\n",
            "Epoch 113/400\n",
            "1/1 [==============================] - 0s 112ms/step - loss: 0.2586 - lm_acc: 0.8636\n",
            "\n",
            "Epoch 00113: lm_acc did not improve from 0.86364\n",
            "Epoch 114/400\n",
            "1/1 [==============================] - 0s 107ms/step - loss: 0.2523 - lm_acc: 0.8636\n",
            "\n",
            "Epoch 00114: lm_acc did not improve from 0.86364\n",
            "Epoch 115/400\n",
            "1/1 [==============================] - 0s 104ms/step - loss: 0.2462 - lm_acc: 0.8636\n",
            "\n",
            "Epoch 00115: lm_acc did not improve from 0.86364\n",
            "Epoch 116/400\n",
            "1/1 [==============================] - 0s 113ms/step - loss: 0.2404 - lm_acc: 0.8636\n",
            "\n",
            "Epoch 00116: lm_acc did not improve from 0.86364\n",
            "Epoch 117/400\n",
            "1/1 [==============================] - 0s 108ms/step - loss: 0.2347 - lm_acc: 0.8636\n",
            "\n",
            "Epoch 00117: lm_acc did not improve from 0.86364\n",
            "Epoch 118/400\n",
            "1/1 [==============================] - 0s 111ms/step - loss: 0.2278 - lm_acc: 0.8636\n",
            "\n",
            "Epoch 00118: lm_acc did not improve from 0.86364\n",
            "Epoch 119/400\n",
            "1/1 [==============================] - 0s 107ms/step - loss: 0.2222 - lm_acc: 0.8864\n",
            "\n",
            "Epoch 00119: lm_acc improved from 0.86364 to 0.88636, saving model to /content/drive/MyDrive/NLP_data/songys/lstm_dot.hdf5\n",
            "Epoch 120/400\n",
            "1/1 [==============================] - 0s 109ms/step - loss: 0.2165 - lm_acc: 0.8864\n",
            "\n",
            "Epoch 00120: lm_acc did not improve from 0.88636\n",
            "Epoch 121/400\n",
            "1/1 [==============================] - 0s 108ms/step - loss: 0.2105 - lm_acc: 0.8977\n",
            "\n",
            "Epoch 00121: lm_acc improved from 0.88636 to 0.89773, saving model to /content/drive/MyDrive/NLP_data/songys/lstm_dot.hdf5\n",
            "Epoch 122/400\n",
            "1/1 [==============================] - 0s 107ms/step - loss: 0.2052 - lm_acc: 0.8750\n",
            "\n",
            "Epoch 00122: lm_acc did not improve from 0.89773\n",
            "Epoch 123/400\n",
            "1/1 [==============================] - 0s 110ms/step - loss: 0.2002 - lm_acc: 0.8750\n",
            "\n",
            "Epoch 00123: lm_acc did not improve from 0.89773\n",
            "Epoch 124/400\n",
            "1/1 [==============================] - 0s 112ms/step - loss: 0.1951 - lm_acc: 0.8864\n",
            "\n",
            "Epoch 00124: lm_acc did not improve from 0.89773\n",
            "Epoch 125/400\n",
            "1/1 [==============================] - 0s 113ms/step - loss: 0.1901 - lm_acc: 0.8750\n",
            "\n",
            "Epoch 00125: lm_acc did not improve from 0.89773\n",
            "Epoch 126/400\n",
            "1/1 [==============================] - 0s 109ms/step - loss: 0.1848 - lm_acc: 0.8977\n",
            "\n",
            "Epoch 00126: lm_acc did not improve from 0.89773\n",
            "Epoch 127/400\n",
            "1/1 [==============================] - 0s 110ms/step - loss: 0.1799 - lm_acc: 0.8977\n",
            "\n",
            "Epoch 00127: lm_acc did not improve from 0.89773\n",
            "Epoch 128/400\n",
            "1/1 [==============================] - 0s 113ms/step - loss: 0.1746 - lm_acc: 0.8750\n",
            "\n",
            "Epoch 00128: lm_acc did not improve from 0.89773\n",
            "Epoch 129/400\n",
            "1/1 [==============================] - 0s 108ms/step - loss: 0.1697 - lm_acc: 0.8977\n",
            "\n",
            "Epoch 00129: lm_acc did not improve from 0.89773\n",
            "Epoch 130/400\n",
            "1/1 [==============================] - 0s 108ms/step - loss: 0.1649 - lm_acc: 0.8977\n",
            "\n",
            "Epoch 00130: lm_acc did not improve from 0.89773\n",
            "Epoch 131/400\n",
            "1/1 [==============================] - 0s 113ms/step - loss: 0.1600 - lm_acc: 0.8750\n",
            "\n",
            "Epoch 00131: lm_acc did not improve from 0.89773\n",
            "Epoch 132/400\n",
            "1/1 [==============================] - 0s 116ms/step - loss: 0.1554 - lm_acc: 0.8864\n",
            "\n",
            "Epoch 00132: lm_acc did not improve from 0.89773\n",
            "Epoch 133/400\n",
            "1/1 [==============================] - 0s 107ms/step - loss: 0.1509 - lm_acc: 0.9091\n",
            "\n",
            "Epoch 00133: lm_acc improved from 0.89773 to 0.90909, saving model to /content/drive/MyDrive/NLP_data/songys/lstm_dot.hdf5\n",
            "Epoch 134/400\n",
            "1/1 [==============================] - 0s 108ms/step - loss: 0.1466 - lm_acc: 0.9205\n",
            "\n",
            "Epoch 00134: lm_acc improved from 0.90909 to 0.92045, saving model to /content/drive/MyDrive/NLP_data/songys/lstm_dot.hdf5\n",
            "Epoch 135/400\n",
            "1/1 [==============================] - 0s 115ms/step - loss: 0.1423 - lm_acc: 0.9545\n",
            "\n",
            "Epoch 00135: lm_acc improved from 0.92045 to 0.95455, saving model to /content/drive/MyDrive/NLP_data/songys/lstm_dot.hdf5\n",
            "Epoch 136/400\n",
            "1/1 [==============================] - 0s 105ms/step - loss: 0.1382 - lm_acc: 0.9545\n",
            "\n",
            "Epoch 00136: lm_acc did not improve from 0.95455\n",
            "Epoch 137/400\n",
            "1/1 [==============================] - 0s 107ms/step - loss: 0.1343 - lm_acc: 0.9545\n",
            "\n",
            "Epoch 00137: lm_acc did not improve from 0.95455\n",
            "Epoch 138/400\n",
            "1/1 [==============================] - 0s 109ms/step - loss: 0.1304 - lm_acc: 0.9659\n",
            "\n",
            "Epoch 00138: lm_acc improved from 0.95455 to 0.96591, saving model to /content/drive/MyDrive/NLP_data/songys/lstm_dot.hdf5\n",
            "Epoch 139/400\n",
            "1/1 [==============================] - 0s 106ms/step - loss: 0.1268 - lm_acc: 0.9659\n",
            "\n",
            "Epoch 00139: lm_acc did not improve from 0.96591\n",
            "Epoch 140/400\n",
            "1/1 [==============================] - 0s 106ms/step - loss: 0.1233 - lm_acc: 0.9773\n",
            "\n",
            "Epoch 00140: lm_acc improved from 0.96591 to 0.97727, saving model to /content/drive/MyDrive/NLP_data/songys/lstm_dot.hdf5\n",
            "Epoch 141/400\n",
            "1/1 [==============================] - 0s 106ms/step - loss: 0.1206 - lm_acc: 0.9659\n",
            "\n",
            "Epoch 00141: lm_acc did not improve from 0.97727\n",
            "Epoch 142/400\n",
            "1/1 [==============================] - 0s 120ms/step - loss: 0.1166 - lm_acc: 0.9773\n",
            "\n",
            "Epoch 00142: lm_acc did not improve from 0.97727\n",
            "Epoch 143/400\n",
            "1/1 [==============================] - 0s 113ms/step - loss: 0.1132 - lm_acc: 0.9773\n",
            "\n",
            "Epoch 00143: lm_acc did not improve from 0.97727\n",
            "Epoch 144/400\n",
            "1/1 [==============================] - 0s 112ms/step - loss: 0.1102 - lm_acc: 0.9773\n",
            "\n",
            "Epoch 00144: lm_acc did not improve from 0.97727\n",
            "Epoch 145/400\n",
            "1/1 [==============================] - 0s 149ms/step - loss: 0.1064 - lm_acc: 1.0000\n",
            "\n",
            "Epoch 00145: lm_acc improved from 0.97727 to 1.00000, saving model to /content/drive/MyDrive/NLP_data/songys/lstm_dot.hdf5\n",
            "Epoch 146/400\n",
            "1/1 [==============================] - 0s 106ms/step - loss: 0.1040 - lm_acc: 0.9886\n",
            "\n",
            "Epoch 00146: lm_acc did not improve from 1.00000\n",
            "Epoch 147/400\n",
            "1/1 [==============================] - 0s 110ms/step - loss: 0.1007 - lm_acc: 0.9886\n",
            "\n",
            "Epoch 00147: lm_acc did not improve from 1.00000\n",
            "Epoch 148/400\n",
            "1/1 [==============================] - 0s 110ms/step - loss: 0.0980 - lm_acc: 0.9773\n",
            "\n",
            "Epoch 00148: lm_acc did not improve from 1.00000\n",
            "Epoch 149/400\n",
            "1/1 [==============================] - 0s 114ms/step - loss: 0.0951 - lm_acc: 1.0000\n",
            "\n",
            "Epoch 00149: lm_acc did not improve from 1.00000\n",
            "Epoch 150/400\n",
            "1/1 [==============================] - 0s 108ms/step - loss: 0.0924 - lm_acc: 1.0000\n",
            "\n",
            "Epoch 00150: lm_acc did not improve from 1.00000\n",
            "Epoch 151/400\n",
            "1/1 [==============================] - 0s 109ms/step - loss: 0.0902 - lm_acc: 1.0000\n",
            "\n",
            "Epoch 00151: lm_acc did not improve from 1.00000\n",
            "Epoch 152/400\n",
            "1/1 [==============================] - 0s 112ms/step - loss: 0.0873 - lm_acc: 1.0000\n",
            "\n",
            "Epoch 00152: lm_acc did not improve from 1.00000\n",
            "Epoch 153/400\n",
            "1/1 [==============================] - 0s 110ms/step - loss: 0.0851 - lm_acc: 1.0000\n",
            "\n",
            "Epoch 00153: lm_acc did not improve from 1.00000\n",
            "Epoch 154/400\n",
            "1/1 [==============================] - 0s 113ms/step - loss: 0.0832 - lm_acc: 1.0000\n",
            "\n",
            "Epoch 00154: lm_acc did not improve from 1.00000\n",
            "Epoch 155/400\n",
            "1/1 [==============================] - 0s 109ms/step - loss: 0.0806 - lm_acc: 1.0000\n",
            "\n",
            "Epoch 00155: lm_acc did not improve from 1.00000\n",
            "Epoch 156/400\n",
            "1/1 [==============================] - 0s 108ms/step - loss: 0.0788 - lm_acc: 1.0000\n",
            "\n",
            "Epoch 00156: lm_acc did not improve from 1.00000\n",
            "Epoch 157/400\n",
            "1/1 [==============================] - 0s 112ms/step - loss: 0.0764 - lm_acc: 1.0000\n",
            "\n",
            "Epoch 00157: lm_acc did not improve from 1.00000\n",
            "Epoch 158/400\n",
            "1/1 [==============================] - 0s 111ms/step - loss: 0.0746 - lm_acc: 1.0000\n",
            "\n",
            "Epoch 00158: lm_acc did not improve from 1.00000\n",
            "Epoch 159/400\n",
            "1/1 [==============================] - 0s 110ms/step - loss: 0.0724 - lm_acc: 1.0000\n",
            "\n",
            "Epoch 00159: lm_acc did not improve from 1.00000\n",
            "Epoch 160/400\n",
            "1/1 [==============================] - 0s 106ms/step - loss: 0.0707 - lm_acc: 1.0000\n",
            "\n",
            "Epoch 00160: lm_acc did not improve from 1.00000\n",
            "Epoch 161/400\n",
            "1/1 [==============================] - 0s 112ms/step - loss: 0.0686 - lm_acc: 1.0000\n",
            "\n",
            "Epoch 00161: lm_acc did not improve from 1.00000\n",
            "Epoch 162/400\n",
            "1/1 [==============================] - 0s 111ms/step - loss: 0.0669 - lm_acc: 1.0000\n",
            "\n",
            "Epoch 00162: lm_acc did not improve from 1.00000\n",
            "Epoch 163/400\n",
            "1/1 [==============================] - 0s 112ms/step - loss: 0.0654 - lm_acc: 1.0000\n",
            "\n",
            "Epoch 00163: lm_acc did not improve from 1.00000\n",
            "Epoch 164/400\n",
            "1/1 [==============================] - 0s 112ms/step - loss: 0.0635 - lm_acc: 1.0000\n",
            "\n",
            "Epoch 00164: lm_acc did not improve from 1.00000\n",
            "Epoch 165/400\n",
            "1/1 [==============================] - 0s 121ms/step - loss: 0.0620 - lm_acc: 1.0000\n",
            "\n",
            "Epoch 00165: lm_acc did not improve from 1.00000\n",
            "Epoch 166/400\n",
            "1/1 [==============================] - 0s 111ms/step - loss: 0.0603 - lm_acc: 1.0000\n",
            "\n",
            "Epoch 00166: lm_acc did not improve from 1.00000\n",
            "Epoch 167/400\n",
            "1/1 [==============================] - 0s 112ms/step - loss: 0.0590 - lm_acc: 1.0000\n",
            "\n",
            "Epoch 00167: lm_acc did not improve from 1.00000\n",
            "Epoch 168/400\n",
            "1/1 [==============================] - 0s 111ms/step - loss: 0.0575 - lm_acc: 1.0000\n",
            "\n",
            "Epoch 00168: lm_acc did not improve from 1.00000\n",
            "Epoch 169/400\n",
            "1/1 [==============================] - 0s 120ms/step - loss: 0.0560 - lm_acc: 1.0000\n",
            "\n",
            "Epoch 00169: lm_acc did not improve from 1.00000\n",
            "Epoch 170/400\n",
            "1/1 [==============================] - 0s 106ms/step - loss: 0.0547 - lm_acc: 1.0000\n",
            "\n",
            "Epoch 00170: lm_acc did not improve from 1.00000\n",
            "Epoch 171/400\n",
            "1/1 [==============================] - 0s 110ms/step - loss: 0.0534 - lm_acc: 1.0000\n",
            "\n",
            "Epoch 00171: lm_acc did not improve from 1.00000\n",
            "Epoch 172/400\n",
            "1/1 [==============================] - 0s 111ms/step - loss: 0.0523 - lm_acc: 1.0000\n",
            "\n",
            "Epoch 00172: lm_acc did not improve from 1.00000\n",
            "Epoch 173/400\n",
            "1/1 [==============================] - 0s 103ms/step - loss: 0.0510 - lm_acc: 1.0000\n",
            "\n",
            "Epoch 00173: lm_acc did not improve from 1.00000\n",
            "Epoch 174/400\n",
            "1/1 [==============================] - 0s 117ms/step - loss: 0.0498 - lm_acc: 1.0000\n",
            "\n",
            "Epoch 00174: lm_acc did not improve from 1.00000\n",
            "Epoch 175/400\n",
            "1/1 [==============================] - 0s 108ms/step - loss: 0.0496 - lm_acc: 1.0000\n",
            "\n",
            "Epoch 00175: lm_acc did not improve from 1.00000\n",
            "Epoch 176/400\n",
            "1/1 [==============================] - 0s 109ms/step - loss: 0.0487 - lm_acc: 1.0000\n",
            "\n",
            "Epoch 00176: lm_acc did not improve from 1.00000\n",
            "Epoch 177/400\n",
            "1/1 [==============================] - 0s 117ms/step - loss: 0.0481 - lm_acc: 1.0000\n",
            "\n",
            "Epoch 00177: lm_acc did not improve from 1.00000\n",
            "Epoch 178/400\n",
            "1/1 [==============================] - 0s 111ms/step - loss: 0.0472 - lm_acc: 1.0000\n",
            "\n",
            "Epoch 00178: lm_acc did not improve from 1.00000\n",
            "Epoch 179/400\n",
            "1/1 [==============================] - 0s 109ms/step - loss: 0.0463 - lm_acc: 1.0000\n",
            "\n",
            "Epoch 00179: lm_acc did not improve from 1.00000\n",
            "Epoch 180/400\n",
            "1/1 [==============================] - 0s 108ms/step - loss: 0.0451 - lm_acc: 1.0000\n",
            "\n",
            "Epoch 00180: lm_acc did not improve from 1.00000\n",
            "Epoch 181/400\n",
            "1/1 [==============================] - 0s 110ms/step - loss: 0.0443 - lm_acc: 1.0000\n",
            "\n",
            "Epoch 00181: lm_acc did not improve from 1.00000\n",
            "Epoch 182/400\n",
            "1/1 [==============================] - 0s 114ms/step - loss: 0.0435 - lm_acc: 1.0000\n",
            "\n",
            "Epoch 00182: lm_acc did not improve from 1.00000\n",
            "Epoch 183/400\n",
            "1/1 [==============================] - 0s 107ms/step - loss: 0.0424 - lm_acc: 1.0000\n",
            "\n",
            "Epoch 00183: lm_acc did not improve from 1.00000\n",
            "Epoch 184/400\n",
            "1/1 [==============================] - 0s 110ms/step - loss: 0.0416 - lm_acc: 1.0000\n",
            "\n",
            "Epoch 00184: lm_acc did not improve from 1.00000\n",
            "Epoch 185/400\n",
            "1/1 [==============================] - 0s 109ms/step - loss: 0.0407 - lm_acc: 1.0000\n",
            "\n",
            "Epoch 00185: lm_acc did not improve from 1.00000\n",
            "Epoch 186/400\n",
            "1/1 [==============================] - 0s 107ms/step - loss: 0.0399 - lm_acc: 1.0000\n",
            "\n",
            "Epoch 00186: lm_acc did not improve from 1.00000\n",
            "Epoch 187/400\n",
            "1/1 [==============================] - 0s 110ms/step - loss: 0.0391 - lm_acc: 1.0000\n",
            "\n",
            "Epoch 00187: lm_acc did not improve from 1.00000\n",
            "Epoch 188/400\n",
            "1/1 [==============================] - 0s 109ms/step - loss: 0.0383 - lm_acc: 1.0000\n",
            "\n",
            "Epoch 00188: lm_acc did not improve from 1.00000\n",
            "Epoch 189/400\n",
            "1/1 [==============================] - 0s 112ms/step - loss: 0.0375 - lm_acc: 1.0000\n",
            "\n",
            "Epoch 00189: lm_acc did not improve from 1.00000\n",
            "Epoch 190/400\n",
            "1/1 [==============================] - 0s 108ms/step - loss: 0.0368 - lm_acc: 1.0000\n",
            "\n",
            "Epoch 00190: lm_acc did not improve from 1.00000\n",
            "Epoch 191/400\n",
            "1/1 [==============================] - 0s 114ms/step - loss: 0.0360 - lm_acc: 1.0000\n",
            "\n",
            "Epoch 00191: lm_acc did not improve from 1.00000\n",
            "Epoch 192/400\n",
            "1/1 [==============================] - 0s 109ms/step - loss: 0.0353 - lm_acc: 1.0000\n",
            "\n",
            "Epoch 00192: lm_acc did not improve from 1.00000\n",
            "Epoch 193/400\n",
            "1/1 [==============================] - 0s 124ms/step - loss: 0.0346 - lm_acc: 1.0000\n",
            "\n",
            "Epoch 00193: lm_acc did not improve from 1.00000\n",
            "Epoch 194/400\n",
            "1/1 [==============================] - 0s 134ms/step - loss: 0.0339 - lm_acc: 1.0000\n",
            "\n",
            "Epoch 00194: lm_acc did not improve from 1.00000\n",
            "Epoch 195/400\n",
            "1/1 [==============================] - 0s 118ms/step - loss: 0.0333 - lm_acc: 1.0000\n",
            "\n",
            "Epoch 00195: lm_acc did not improve from 1.00000\n",
            "Epoch 196/400\n",
            "1/1 [==============================] - 0s 129ms/step - loss: 0.0326 - lm_acc: 1.0000\n",
            "\n",
            "Epoch 00196: lm_acc did not improve from 1.00000\n",
            "Epoch 197/400\n",
            "1/1 [==============================] - 0s 120ms/step - loss: 0.0320 - lm_acc: 1.0000\n",
            "\n",
            "Epoch 00197: lm_acc did not improve from 1.00000\n",
            "Epoch 198/400\n",
            "1/1 [==============================] - 0s 110ms/step - loss: 0.0314 - lm_acc: 1.0000\n",
            "\n",
            "Epoch 00198: lm_acc did not improve from 1.00000\n",
            "Epoch 199/400\n",
            "1/1 [==============================] - 0s 134ms/step - loss: 0.0308 - lm_acc: 1.0000\n",
            "\n",
            "Epoch 00199: lm_acc did not improve from 1.00000\n",
            "Epoch 200/400\n",
            "1/1 [==============================] - 0s 114ms/step - loss: 0.0302 - lm_acc: 1.0000\n",
            "\n",
            "Epoch 00200: lm_acc did not improve from 1.00000\n",
            "Epoch 201/400\n",
            "1/1 [==============================] - 0s 118ms/step - loss: 0.0296 - lm_acc: 1.0000\n",
            "\n",
            "Epoch 00201: lm_acc did not improve from 1.00000\n",
            "Epoch 202/400\n",
            "1/1 [==============================] - 0s 118ms/step - loss: 0.0290 - lm_acc: 1.0000\n",
            "\n",
            "Epoch 00202: lm_acc did not improve from 1.00000\n",
            "Epoch 203/400\n",
            "1/1 [==============================] - 0s 116ms/step - loss: 0.0285 - lm_acc: 1.0000\n",
            "\n",
            "Epoch 00203: lm_acc did not improve from 1.00000\n",
            "Epoch 204/400\n",
            "1/1 [==============================] - 0s 113ms/step - loss: 0.0280 - lm_acc: 1.0000\n",
            "\n",
            "Epoch 00204: lm_acc did not improve from 1.00000\n",
            "Epoch 205/400\n",
            "1/1 [==============================] - 0s 100ms/step - loss: 0.0274 - lm_acc: 1.0000\n",
            "\n",
            "Epoch 00205: lm_acc did not improve from 1.00000\n",
            "Epoch 206/400\n",
            "1/1 [==============================] - 0s 133ms/step - loss: 0.0269 - lm_acc: 1.0000\n",
            "\n",
            "Epoch 00206: lm_acc did not improve from 1.00000\n",
            "Epoch 207/400\n",
            "1/1 [==============================] - 0s 124ms/step - loss: 0.0264 - lm_acc: 1.0000\n",
            "\n",
            "Epoch 00207: lm_acc did not improve from 1.00000\n",
            "Epoch 208/400\n",
            "1/1 [==============================] - 0s 123ms/step - loss: 0.0259 - lm_acc: 1.0000\n",
            "\n",
            "Epoch 00208: lm_acc did not improve from 1.00000\n",
            "Epoch 209/400\n",
            "1/1 [==============================] - 0s 108ms/step - loss: 0.0255 - lm_acc: 1.0000\n",
            "\n",
            "Epoch 00209: lm_acc did not improve from 1.00000\n",
            "Epoch 210/400\n",
            "1/1 [==============================] - 0s 111ms/step - loss: 0.0250 - lm_acc: 1.0000\n",
            "\n",
            "Epoch 00210: lm_acc did not improve from 1.00000\n",
            "Epoch 211/400\n",
            "1/1 [==============================] - 0s 110ms/step - loss: 0.0246 - lm_acc: 1.0000\n",
            "\n",
            "Epoch 00211: lm_acc did not improve from 1.00000\n",
            "Epoch 212/400\n",
            "1/1 [==============================] - 0s 109ms/step - loss: 0.0241 - lm_acc: 1.0000\n",
            "\n",
            "Epoch 00212: lm_acc did not improve from 1.00000\n",
            "Epoch 213/400\n",
            "1/1 [==============================] - 0s 117ms/step - loss: 0.0237 - lm_acc: 1.0000\n",
            "\n",
            "Epoch 00213: lm_acc did not improve from 1.00000\n",
            "Epoch 214/400\n",
            "1/1 [==============================] - 0s 111ms/step - loss: 0.0233 - lm_acc: 1.0000\n",
            "\n",
            "Epoch 00214: lm_acc did not improve from 1.00000\n",
            "Epoch 215/400\n",
            "1/1 [==============================] - 0s 113ms/step - loss: 0.0229 - lm_acc: 1.0000\n",
            "\n",
            "Epoch 00215: lm_acc did not improve from 1.00000\n",
            "Epoch 216/400\n",
            "1/1 [==============================] - 0s 105ms/step - loss: 0.0225 - lm_acc: 1.0000\n",
            "\n",
            "Epoch 00216: lm_acc did not improve from 1.00000\n",
            "Epoch 217/400\n",
            "1/1 [==============================] - 0s 108ms/step - loss: 0.0221 - lm_acc: 1.0000\n",
            "\n",
            "Epoch 00217: lm_acc did not improve from 1.00000\n",
            "Epoch 218/400\n",
            "1/1 [==============================] - 0s 102ms/step - loss: 0.0217 - lm_acc: 1.0000\n",
            "\n",
            "Epoch 00218: lm_acc did not improve from 1.00000\n",
            "Epoch 219/400\n",
            "1/1 [==============================] - 0s 109ms/step - loss: 0.0213 - lm_acc: 1.0000\n",
            "\n",
            "Epoch 00219: lm_acc did not improve from 1.00000\n",
            "Epoch 220/400\n",
            "1/1 [==============================] - 0s 95ms/step - loss: 0.0209 - lm_acc: 1.0000\n",
            "\n",
            "Epoch 00220: lm_acc did not improve from 1.00000\n",
            "Epoch 221/400\n",
            "1/1 [==============================] - 0s 112ms/step - loss: 0.0206 - lm_acc: 1.0000\n",
            "\n",
            "Epoch 00221: lm_acc did not improve from 1.00000\n",
            "Epoch 222/400\n",
            "1/1 [==============================] - 0s 117ms/step - loss: 0.0202 - lm_acc: 1.0000\n",
            "\n",
            "Epoch 00222: lm_acc did not improve from 1.00000\n",
            "Epoch 223/400\n",
            "1/1 [==============================] - 0s 114ms/step - loss: 0.0199 - lm_acc: 1.0000\n",
            "\n",
            "Epoch 00223: lm_acc did not improve from 1.00000\n",
            "Epoch 224/400\n",
            "1/1 [==============================] - 0s 107ms/step - loss: 0.0195 - lm_acc: 1.0000\n",
            "\n",
            "Epoch 00224: lm_acc did not improve from 1.00000\n",
            "Epoch 225/400\n",
            "1/1 [==============================] - 0s 113ms/step - loss: 0.0192 - lm_acc: 1.0000\n",
            "\n",
            "Epoch 00225: lm_acc did not improve from 1.00000\n",
            "Epoch 226/400\n",
            "1/1 [==============================] - 0s 112ms/step - loss: 0.0189 - lm_acc: 1.0000\n",
            "\n",
            "Epoch 00226: lm_acc did not improve from 1.00000\n",
            "Epoch 227/400\n",
            "1/1 [==============================] - 0s 110ms/step - loss: 0.0186 - lm_acc: 1.0000\n",
            "\n",
            "Epoch 00227: lm_acc did not improve from 1.00000\n",
            "Epoch 228/400\n",
            "1/1 [==============================] - 0s 110ms/step - loss: 0.0182 - lm_acc: 1.0000\n",
            "\n",
            "Epoch 00228: lm_acc did not improve from 1.00000\n",
            "Epoch 229/400\n",
            "1/1 [==============================] - 0s 116ms/step - loss: 0.0179 - lm_acc: 1.0000\n",
            "\n",
            "Epoch 00229: lm_acc did not improve from 1.00000\n",
            "Epoch 230/400\n",
            "1/1 [==============================] - 0s 112ms/step - loss: 0.0176 - lm_acc: 1.0000\n",
            "\n",
            "Epoch 00230: lm_acc did not improve from 1.00000\n",
            "Epoch 231/400\n",
            "1/1 [==============================] - 0s 115ms/step - loss: 0.0173 - lm_acc: 1.0000\n",
            "\n",
            "Epoch 00231: lm_acc did not improve from 1.00000\n",
            "Epoch 232/400\n",
            "1/1 [==============================] - 0s 111ms/step - loss: 0.0171 - lm_acc: 1.0000\n",
            "\n",
            "Epoch 00232: lm_acc did not improve from 1.00000\n",
            "Epoch 233/400\n",
            "1/1 [==============================] - 0s 112ms/step - loss: 0.0168 - lm_acc: 1.0000\n",
            "\n",
            "Epoch 00233: lm_acc did not improve from 1.00000\n",
            "Epoch 234/400\n",
            "1/1 [==============================] - 0s 99ms/step - loss: 0.0165 - lm_acc: 1.0000\n",
            "\n",
            "Epoch 00234: lm_acc did not improve from 1.00000\n",
            "Epoch 235/400\n",
            "1/1 [==============================] - 0s 107ms/step - loss: 0.0162 - lm_acc: 1.0000\n",
            "\n",
            "Epoch 00235: lm_acc did not improve from 1.00000\n",
            "Epoch 236/400\n",
            "1/1 [==============================] - 0s 109ms/step - loss: 0.0160 - lm_acc: 1.0000\n",
            "\n",
            "Epoch 00236: lm_acc did not improve from 1.00000\n",
            "Epoch 237/400\n",
            "1/1 [==============================] - 0s 109ms/step - loss: 0.0157 - lm_acc: 1.0000\n",
            "\n",
            "Epoch 00237: lm_acc did not improve from 1.00000\n",
            "Epoch 238/400\n",
            "1/1 [==============================] - 0s 99ms/step - loss: 0.0155 - lm_acc: 1.0000\n",
            "\n",
            "Epoch 00238: lm_acc did not improve from 1.00000\n",
            "Epoch 239/400\n",
            "1/1 [==============================] - 0s 111ms/step - loss: 0.0152 - lm_acc: 1.0000\n",
            "\n",
            "Epoch 00239: lm_acc did not improve from 1.00000\n",
            "Epoch 240/400\n",
            "1/1 [==============================] - 0s 112ms/step - loss: 0.0150 - lm_acc: 1.0000\n",
            "\n",
            "Epoch 00240: lm_acc did not improve from 1.00000\n",
            "Epoch 241/400\n",
            "1/1 [==============================] - 0s 103ms/step - loss: 0.0148 - lm_acc: 1.0000\n",
            "\n",
            "Epoch 00241: lm_acc did not improve from 1.00000\n",
            "Epoch 242/400\n",
            "1/1 [==============================] - 0s 109ms/step - loss: 0.0145 - lm_acc: 1.0000\n",
            "\n",
            "Epoch 00242: lm_acc did not improve from 1.00000\n",
            "Epoch 243/400\n",
            "1/1 [==============================] - 0s 114ms/step - loss: 0.0143 - lm_acc: 1.0000\n",
            "\n",
            "Epoch 00243: lm_acc did not improve from 1.00000\n",
            "Epoch 244/400\n",
            "1/1 [==============================] - 0s 105ms/step - loss: 0.0141 - lm_acc: 1.0000\n",
            "\n",
            "Epoch 00244: lm_acc did not improve from 1.00000\n",
            "Epoch 245/400\n",
            "1/1 [==============================] - 0s 107ms/step - loss: 0.0139 - lm_acc: 1.0000\n",
            "\n",
            "Epoch 00245: lm_acc did not improve from 1.00000\n"
          ],
          "name": "stdout"
        }
      ]
    },
    {
      "cell_type": "code",
      "metadata": {
        "id": "m1UWJMf4FTiZ",
        "colab": {
          "base_uri": "https://localhost:8080/",
          "height": 279
        },
        "outputId": "d45a5325-48bd-45ca-f136-46d9254889fd"
      },
      "source": [
        "plt.figure(figsize=(12, 4))\n",
        "\n",
        "plt.subplot(1, 2, 1)\n",
        "plt.plot(history.history['loss'], 'b-', label='loss')\n",
        "plt.xlabel('Epoch')\n",
        "plt.legend()\n",
        "\n",
        "plt.subplot(1, 2, 2)\n",
        "plt.plot(history.history['lm_acc'], 'g-', label='acc')\n",
        "plt.xlabel('Epoch')\n",
        "plt.legend()\n",
        "\n",
        "plt.show()"
      ],
      "execution_count": 55,
      "outputs": [
        {
          "output_type": "display_data",
          "data": {
            "image/png": "[encoded data removed]",
            "text/plain": [
              "<Figure size 864x288 with 2 Axes>"
            ]
          },
          "metadata": {
            "tags": [],
            "needs_background": "light"
          }
        }
      ]
    },
    {
      "cell_type": "markdown",
      "metadata": {
        "id": "PQvKAxTbaEpt"
      },
      "source": [
        "## Inference"
      ]
    },
    {
      "cell_type": "code",
      "metadata": {
        "id": "ZuK60XkEOSUS"
      },
      "source": [
        "# 모델 생성\n",
        "model = build_model(len(vocab), d_model, n_enc_seq, n_dec_seq)\n",
        "# train weight로 초기화\n",
        "model.load_weights(os.path.join(songys_dir, 'lstm_dot.hdf5'))"
      ],
      "execution_count": 56,
      "outputs": []
    },
    {
      "cell_type": "code",
      "metadata": {
        "id": "KzaDEUSbaeu4"
      },
      "source": [
        "def do_chat(vocab, model, n_enc_seq, n_dec_seq, string):\n",
        "    \"\"\"\n",
        "    seq2seq chat\n",
        "    :param vocab: vocab\n",
        "    :param model: model\n",
        "    :param n_enc_seq: number of enc seqence\n",
        "    :param n_dec_seq: number of dec seqence\n",
        "    :param string: inpust string\n",
        "    \"\"\"\n",
        "    # qeustion\n",
        "    q = vocab.encode_as_pieces(string)\n",
        "    q_id = [vocab.piece_to_id(p) for p in q][:n_enc_seq]\n",
        "    q_id += [0] * (n_enc_seq - len(q_id))\n",
        "    assert len(q_id) == n_enc_seq\n",
        "\n",
        "    # answer\n",
        "    a_id = [vocab.bos_id()]\n",
        "    a_id += [0] * (n_dec_seq - len(a_id))\n",
        "    assert len(a_id) == n_dec_seq\n",
        "\n",
        "    # 처음부터 예측\n",
        "    start_idx = 0\n",
        "\n",
        "    for _ in range(start_idx, n_dec_seq - 1):\n",
        "        outputs = model.predict((np.array([q_id]), np.array([a_id])))\n",
        "        prob = outputs[0][start_idx]\n",
        "        word_id = np.argmax(prob)\n",
        "        if word_id == vocab.eos_id():\n",
        "            break\n",
        "        a_id[start_idx + 1] = int(word_id)\n",
        "        start_idx += 1\n",
        "    predict_id = a_id[1:start_idx + 1]\n",
        "    predict_str = vocab.decode_ids(predict_id)\n",
        "    return predict_str"
      ],
      "execution_count": 57,
      "outputs": []
    },
    {
      "cell_type": "code",
      "metadata": {
        "id": "mQVkuBylavCr",
        "colab": {
          "base_uri": "https://localhost:8080/"
        },
        "outputId": "8f2650a4-a754-485f-c0f8-6d7cbb7ebaaa"
      },
      "source": [
        "while True:\n",
        "    string = input('질문 > ')\n",
        "    string = string.strip()\n",
        "    if len(string) == 0:\n",
        "        break\n",
        "    predict_str = do_chat(vocab, model, n_enc_seq, n_dec_seq, string)\n",
        "    print(f'답변 > {predict_str}')"
      ],
      "execution_count": 58,
      "outputs": [
        {
          "output_type": "stream",
          "text": [
            "질문 > 안녕하세요\n",
            "답변 > 마음이 가라 앉죠.\n",
            "질문 > 안녕\n",
            "답변 > 실내 데이트가 좋겠네요.\n",
            "질문 > 날씨가 좋아\n",
            "답변 > 마음이 가라 앉죠.\n",
            "질문 > 어떤 기분이야?\n",
            "답변 > 마음이 가라 앉죠.\n",
            "질문 > 기분이 나빠\n",
            "답변 > 마음이 가라 앉죠.\n",
            "질문 > 우울해\n",
            "답변 > 실내 데이트가 좋겠네요.\n",
            "질문 > 졸려\n",
            "답변 > 실내 데이트가 좋겠네요.\n",
            "질문 > 데이트 안 해\n",
            "답변 > 마음이 가라 앉죠.\n",
            "질문 > 그래\n",
            "답변 > 실내 데이트가 좋겠네요.\n",
            "질문 > 아니\n",
            "답변 > 실내 데이트가 좋겠네요.\n",
            "질문 > \n"
          ],
          "name": "stdout"
        }
      ]
    },
    {
      "cell_type": "markdown",
      "metadata": {
        "id": "wZSehzviqJW3"
      },
      "source": [
        "# All Data Project"
      ]
    },
    {
      "cell_type": "markdown",
      "metadata": {
        "id": "x0ZAlao5qJW4"
      },
      "source": [
        "## Data\n"
      ]
    },
    {
      "cell_type": "code",
      "metadata": {
        "id": "0B-0r3bjqJW4",
        "colab": {
          "base_uri": "https://localhost:8080/",
          "height": 0
        },
        "outputId": "b37f534d-5fc0-452b-e76b-df0e2a63073d"
      },
      "source": [
        "df_train = pd.read_csv(os.path.join(songys_dir, 'ChatbotData.csv'))\n",
        "print(len(df_train))\n",
        "df_train = df_train.dropna()\n",
        "print(len(df_train))\n",
        "df_train"
      ],
      "execution_count": 59,
      "outputs": [
        {
          "output_type": "stream",
          "text": [
            "11823\n",
            "11823\n"
          ],
          "name": "stdout"
        },
        {
          "output_type": "execute_result",
          "data": {
            "text/html": [
              "<div>\n",
              "<style scoped>\n",
              "    .dataframe tbody tr th:only-of-type {\n",
              "        vertical-align: middle;\n",
              "    }\n",
              "\n",
              "    .dataframe tbody tr th {\n",
              "        vertical-align: top;\n",
              "    }\n",
              "\n",
              "    .dataframe thead th {\n",
              "        text-align: right;\n",
              "    }\n",
              "</style>\n",
              "<table border=\"1\" class=\"dataframe\">\n",
              "  <thead>\n",
              "    <tr style=\"text-align: right;\">\n",
              "      <th></th>\n",
              "      <th>Q</th>\n",
              "      <th>A</th>\n",
              "      <th>label</th>\n",
              "    </tr>\n",
              "  </thead>\n",
              "  <tbody>\n",
              "    <tr>\n",
              "      <th>0</th>\n",
              "      <td>12시 땡!</td>\n",
              "      <td>하루가 또 가네요.</td>\n",
              "      <td>0</td>\n",
              "    </tr>\n",
              "    <tr>\n",
              "      <th>1</th>\n",
              "      <td>1지망 학교 떨어졌어</td>\n",
              "      <td>위로해 드립니다.</td>\n",
              "      <td>0</td>\n",
              "    </tr>\n",
              "    <tr>\n",
              "      <th>2</th>\n",
              "      <td>3박4일 놀러가고 싶다</td>\n",
              "      <td>여행은 언제나 좋죠.</td>\n",
              "      <td>0</td>\n",
              "    </tr>\n",
              "    <tr>\n",
              "      <th>3</th>\n",
              "      <td>3박4일 정도 놀러가고 싶다</td>\n",
              "      <td>여행은 언제나 좋죠.</td>\n",
              "      <td>0</td>\n",
              "    </tr>\n",
              "    <tr>\n",
              "      <th>4</th>\n",
              "      <td>PPL 심하네</td>\n",
              "      <td>눈살이 찌푸려지죠.</td>\n",
              "      <td>0</td>\n",
              "    </tr>\n",
              "    <tr>\n",
              "      <th>...</th>\n",
              "      <td>...</td>\n",
              "      <td>...</td>\n",
              "      <td>...</td>\n",
              "    </tr>\n",
              "    <tr>\n",
              "      <th>11818</th>\n",
              "      <td>훔쳐보는 것도 눈치 보임.</td>\n",
              "      <td>티가 나니까 눈치가 보이는 거죠!</td>\n",
              "      <td>2</td>\n",
              "    </tr>\n",
              "    <tr>\n",
              "      <th>11819</th>\n",
              "      <td>훔쳐보는 것도 눈치 보임.</td>\n",
              "      <td>훔쳐보는 거 티나나봐요.</td>\n",
              "      <td>2</td>\n",
              "    </tr>\n",
              "    <tr>\n",
              "      <th>11820</th>\n",
              "      <td>흑기사 해주는 짝남.</td>\n",
              "      <td>설렜겠어요.</td>\n",
              "      <td>2</td>\n",
              "    </tr>\n",
              "    <tr>\n",
              "      <th>11821</th>\n",
              "      <td>힘든 연애 좋은 연애라는게 무슨 차이일까?</td>\n",
              "      <td>잘 헤어질 수 있는 사이 여부인 거 같아요.</td>\n",
              "      <td>2</td>\n",
              "    </tr>\n",
              "    <tr>\n",
              "      <th>11822</th>\n",
              "      <td>힘들어서 결혼할까봐</td>\n",
              "      <td>도피성 결혼은 하지 않길 바라요.</td>\n",
              "      <td>2</td>\n",
              "    </tr>\n",
              "  </tbody>\n",
              "</table>\n",
              "<p>11823 rows × 3 columns</p>\n",
              "</div>"
            ],
            "text/plain": [
              "                             Q                         A  label\n",
              "0                       12시 땡!                하루가 또 가네요.      0\n",
              "1                  1지망 학교 떨어졌어                 위로해 드립니다.      0\n",
              "2                 3박4일 놀러가고 싶다               여행은 언제나 좋죠.      0\n",
              "3              3박4일 정도 놀러가고 싶다               여행은 언제나 좋죠.      0\n",
              "4                      PPL 심하네                눈살이 찌푸려지죠.      0\n",
              "...                        ...                       ...    ...\n",
              "11818           훔쳐보는 것도 눈치 보임.        티가 나니까 눈치가 보이는 거죠!      2\n",
              "11819           훔쳐보는 것도 눈치 보임.             훔쳐보는 거 티나나봐요.      2\n",
              "11820              흑기사 해주는 짝남.                    설렜겠어요.      2\n",
              "11821  힘든 연애 좋은 연애라는게 무슨 차이일까?  잘 헤어질 수 있는 사이 여부인 거 같아요.      2\n",
              "11822               힘들어서 결혼할까봐        도피성 결혼은 하지 않길 바라요.      2\n",
              "\n",
              "[11823 rows x 3 columns]"
            ]
          },
          "metadata": {
            "tags": []
          },
          "execution_count": 59
        }
      ]
    },
    {
      "cell_type": "code",
      "metadata": {
        "id": "SQkIYiRSqJW5"
      },
      "source": [
        "def load_data(df, n_enc_seq, n_dec_seq):\n",
        "    \"\"\"\n",
        "    Quora 학습 데이터 생성\n",
        "    :param df: data frame\n",
        "    :param n_enc_seq: number of encoder sequence\n",
        "    :param n_dec_seq: number of decoder sequence\n",
        "    :return enc_inputs: encoder input data\n",
        "    :return dec_inputs: decoder input data\n",
        "    :return labels: label data\n",
        "    \"\"\"\n",
        "    n_enc_max = n_enc_seq\n",
        "    n_dec_max = n_dec_seq - 1\n",
        "    enc_inputs = np.zeros((len(df), n_enc_seq)).astype(np.int32)\n",
        "    dec_inputs = np.zeros((len(df), n_dec_seq)).astype(np.int32)\n",
        "    labels = np.zeros((len(df), n_dec_seq)).astype(np.int32)\n",
        "    index = 0\n",
        "    for i, row in tqdm(df.iterrows(), total=len(df)):\n",
        "        # tokens 저장\n",
        "        Q = row['Q']\n",
        "        A = row['A']\n",
        "\n",
        "        tokens_q = vocab.encode_as_pieces(Q)\n",
        "        tokens_a = vocab.encode_as_pieces(A)\n",
        "\n",
        "        tokens_ids_q = vocab.encode_as_ids(Q)[:n_enc_max]\n",
        "        tokens_ids_a = vocab.encode_as_ids(A)[:n_dec_max]\n",
        "\n",
        "        tokens_dec_in = [vocab.bos_id()] + tokens_ids_a\n",
        "        tokens_dec_out = tokens_ids_a + [vocab.eos_id()]\n",
        "\n",
        "        tokens_ids_q += [0] * (n_enc_seq - len(tokens_ids_q))\n",
        "        tokens_dec_in += [0] * (n_dec_seq - len(tokens_dec_in))\n",
        "        tokens_dec_out += [0] * (n_dec_seq - len(tokens_dec_out))\n",
        "\n",
        "        enc_inputs[index] = tokens_ids_q\n",
        "        dec_inputs[index] = tokens_dec_in\n",
        "        labels[index] = tokens_dec_out\n",
        "        index += 1\n",
        "    return enc_inputs, dec_inputs, labels"
      ],
      "execution_count": 60,
      "outputs": []
    },
    {
      "cell_type": "code",
      "metadata": {
        "id": "FguUxO5xqJW5",
        "colab": {
          "base_uri": "https://localhost:8080/",
          "height": 0,
          "referenced_widgets": [
            "2a90fb7c34d447a492239aa70d3c4821",
            "d3db4c56dc244102bcecf26385d0464e",
            "5f13b5e529c3456d81437fd2d9a5e75c",
            "cf75a58b87914f65b6c1914791602da1",
            "251ca7ad5d074463b5b05bb5567f1ee2",
            "6fa27735c6344b319ff4749bf06fe315",
            "23f8067877dc4e9b91a45c9f5cfb04e2",
            "2e5335a66e5d4cb99487fc2d7aec3f20"
          ]
        },
        "outputId": "f8e33e3f-4c22-4d0e-c0f4-a467acf63acf"
      },
      "source": [
        "# train data 생성\n",
        "train_enc_inputs, train_dec_inputs, train_labels = load_data(df_train, n_enc_seq, n_dec_seq)\n",
        "train_enc_inputs, train_dec_inputs, train_labels"
      ],
      "execution_count": 61,
      "outputs": [
        {
          "output_type": "display_data",
          "data": {
            "application/vnd.jupyter.widget-view+json": {
              "model_id": "2a90fb7c34d447a492239aa70d3c4821",
              "version_minor": 0,
              "version_major": 2
            },
            "text/plain": [
              "HBox(children=(FloatProgress(value=0.0, max=11823.0), HTML(value='')))"
            ]
          },
          "metadata": {
            "tags": []
          }
        },
        {
          "output_type": "stream",
          "text": [
            "\n"
          ],
          "name": "stdout"
        },
        {
          "output_type": "execute_result",
          "data": {
            "text/plain": [
              "(array([[   89,    56,    10, ...,     0,     0,     0],\n",
              "        [   35,    47,  1004, ...,     0,     0,     0],\n",
              "        [   38,   819,   362, ...,     0,     0,     0],\n",
              "        ...,\n",
              "        [ 2886,  9525, 21930, ...,     0,     0,     0],\n",
              "        [10736,  8256,  1172, ...,     0,     0,     0],\n",
              "        [26128,    70,  1381, ...,     0,     0,     0]], dtype=int32),\n",
              " array([[    2,  2261,    19, ...,     0,     0,     0],\n",
              "        [    2,  4594,    61, ...,     0,     0,     0],\n",
              "        [    2,  2350,    18, ...,     0,     0,     0],\n",
              "        ...,\n",
              "        [    2,  1522,     1, ...,     0,     0,     0],\n",
              "        [    2,   441, 10316, ...,     0,     0,     0],\n",
              "        [    2, 16665,    90, ...,     0,     0,     0]], dtype=int32),\n",
              " array([[ 2261,    19,   375, ...,     0,     0,     0],\n",
              "        [ 4594,    61,   929, ...,     0,     0,     0],\n",
              "        [ 2350,    18,  9001, ...,     0,     0,     0],\n",
              "        ...,\n",
              "        [ 1522,     1, 12273, ...,     0,     0,     0],\n",
              "        [  441, 10316,   515, ...,     0,     0,     0],\n",
              "        [16665,    90,  1381, ...,     0,     0,     0]], dtype=int32))"
            ]
          },
          "metadata": {
            "tags": []
          },
          "execution_count": 61
        }
      ]
    },
    {
      "cell_type": "markdown",
      "metadata": {
        "id": "ByyA-3bbqJW6"
      },
      "source": [
        "## 학습"
      ]
    },
    {
      "cell_type": "code",
      "metadata": {
        "id": "Li7XjkxHqJW6",
        "colab": {
          "base_uri": "https://localhost:8080/",
          "height": 723
        },
        "outputId": "19e2156a-98ac-4804-eebd-a4581484bd7b"
      },
      "source": [
        "# 모델 생성\n",
        "model = build_model(len(vocab), d_model, n_enc_seq, n_dec_seq)\n",
        "# 모델 내용 그래프 출력\n",
        "tf.keras.utils.plot_model(model, 'model.png', show_shapes=True)"
      ],
      "execution_count": 62,
      "outputs": [
        {
          "output_type": "execute_result",
          "data": {
            "image/png": "[encoded data removed]",
            "text/plain": [
              "<IPython.core.display.Image object>"
            ]
          },
          "metadata": {
            "tags": []
          },
          "execution_count": 62
        }
      ]
    },
    {
      "cell_type": "code",
      "metadata": {
        "id": "yRh1IFPCqJW6"
      },
      "source": [
        "# 모델 loss, optimizer, metric 정의\n",
        "model.compile(loss=lm_loss, optimizer='adam', metrics=[lm_acc])"
      ],
      "execution_count": 63,
      "outputs": []
    },
    {
      "cell_type": "code",
      "metadata": {
        "id": "s5CzpAnaqJW6"
      },
      "source": [
        "# early stopping\n",
        "early_stopping = tf.keras.callbacks.EarlyStopping(monitor='lm_acc', patience=5)\n",
        "# save weights callback\n",
        "save_weights = tf.keras.callbacks.ModelCheckpoint(os.path.join(songys_dir, 'lstm_dot.hdf5'),\n",
        "                                                  monitor='lm_acc',\n",
        "                                                  verbose=1,\n",
        "                                                  save_best_only=True,\n",
        "                                                  mode=\"max\",\n",
        "                                                  save_freq=\"epoch\",\n",
        "                                                  save_weights_only=True)\n",
        "# csv logger\n",
        "csv_logger = tf.keras.callbacks.CSVLogger(os.path.join(songys_dir, 'lstm_dot.csv'))"
      ],
      "execution_count": 64,
      "outputs": []
    },
    {
      "cell_type": "code",
      "metadata": {
        "id": "9q0mkUKuqJW6",
        "colab": {
          "base_uri": "https://localhost:8080/"
        },
        "outputId": "df1a15b4-8cea-4709-acee-707da59ba8c8"
      },
      "source": [
        "# 모델 학습\n",
        "history = model.fit((train_enc_inputs, train_dec_inputs),\n",
        "                    train_labels,\n",
        "                    epochs=100,\n",
        "                    batch_size=256,\n",
        "                    callbacks=[early_stopping, save_weights, csv_logger])"
      ],
      "execution_count": 65,
      "outputs": [
        {
          "output_type": "stream",
          "text": [
            "Epoch 1/100\n",
            "47/47 [==============================] - 26s 481ms/step - loss: 1.8574 - lm_acc: 0.1037\n",
            "\n",
            "Epoch 00001: lm_acc improved from -inf to 0.12046, saving model to /content/drive/MyDrive/NLP_data/songys/lstm_dot.hdf5\n",
            "Epoch 2/100\n",
            "47/47 [==============================] - 23s 486ms/step - loss: 1.2719 - lm_acc: 0.1731\n",
            "\n",
            "Epoch 00002: lm_acc improved from 0.12046 to 0.20251, saving model to /content/drive/MyDrive/NLP_data/songys/lstm_dot.hdf5\n",
            "Epoch 3/100\n",
            "47/47 [==============================] - 23s 482ms/step - loss: 1.1342 - lm_acc: 0.2743\n",
            "\n",
            "Epoch 00003: lm_acc improved from 0.20251 to 0.28395, saving model to /content/drive/MyDrive/NLP_data/songys/lstm_dot.hdf5\n",
            "Epoch 4/100\n",
            "47/47 [==============================] - 23s 483ms/step - loss: 1.0633 - lm_acc: 0.3151\n",
            "\n",
            "Epoch 00004: lm_acc improved from 0.28395 to 0.32542, saving model to /content/drive/MyDrive/NLP_data/songys/lstm_dot.hdf5\n",
            "Epoch 5/100\n",
            "47/47 [==============================] - 23s 483ms/step - loss: 1.0017 - lm_acc: 0.3511\n",
            "\n",
            "Epoch 00005: lm_acc improved from 0.32542 to 0.35786, saving model to /content/drive/MyDrive/NLP_data/songys/lstm_dot.hdf5\n",
            "Epoch 6/100\n",
            "47/47 [==============================] - 23s 482ms/step - loss: 0.9432 - lm_acc: 0.3761\n",
            "\n",
            "Epoch 00006: lm_acc improved from 0.35786 to 0.37921, saving model to /content/drive/MyDrive/NLP_data/songys/lstm_dot.hdf5\n",
            "Epoch 7/100\n",
            "47/47 [==============================] - 23s 482ms/step - loss: 0.8998 - lm_acc: 0.3921\n",
            "\n",
            "Epoch 00007: lm_acc improved from 0.37921 to 0.39666, saving model to /content/drive/MyDrive/NLP_data/songys/lstm_dot.hdf5\n",
            "Epoch 8/100\n",
            "47/47 [==============================] - 23s 483ms/step - loss: 0.8565 - lm_acc: 0.4074\n",
            "\n",
            "Epoch 00008: lm_acc improved from 0.39666 to 0.41163, saving model to /content/drive/MyDrive/NLP_data/songys/lstm_dot.hdf5\n",
            "Epoch 9/100\n",
            "47/47 [==============================] - 23s 482ms/step - loss: 0.8178 - lm_acc: 0.4214\n",
            "\n",
            "Epoch 00009: lm_acc improved from 0.41163 to 0.42343, saving model to /content/drive/MyDrive/NLP_data/songys/lstm_dot.hdf5\n",
            "Epoch 10/100\n",
            "47/47 [==============================] - 23s 480ms/step - loss: 0.7879 - lm_acc: 0.4328\n",
            "\n",
            "Epoch 00010: lm_acc improved from 0.42343 to 0.43358, saving model to /content/drive/MyDrive/NLP_data/songys/lstm_dot.hdf5\n",
            "Epoch 11/100\n",
            "47/47 [==============================] - 23s 480ms/step - loss: 0.7561 - lm_acc: 0.4448\n",
            "\n",
            "Epoch 00011: lm_acc improved from 0.43358 to 0.44436, saving model to /content/drive/MyDrive/NLP_data/songys/lstm_dot.hdf5\n",
            "Epoch 12/100\n",
            "47/47 [==============================] - 23s 480ms/step - loss: 0.7291 - lm_acc: 0.4538\n",
            "\n",
            "Epoch 00012: lm_acc improved from 0.44436 to 0.45484, saving model to /content/drive/MyDrive/NLP_data/songys/lstm_dot.hdf5\n",
            "Epoch 13/100\n",
            "47/47 [==============================] - 23s 480ms/step - loss: 0.7041 - lm_acc: 0.4668\n",
            "\n",
            "Epoch 00013: lm_acc improved from 0.45484 to 0.46633, saving model to /content/drive/MyDrive/NLP_data/songys/lstm_dot.hdf5\n",
            "Epoch 14/100\n",
            "47/47 [==============================] - 23s 480ms/step - loss: 0.6865 - lm_acc: 0.4774\n",
            "\n",
            "Epoch 00014: lm_acc improved from 0.46633 to 0.47879, saving model to /content/drive/MyDrive/NLP_data/songys/lstm_dot.hdf5\n",
            "Epoch 15/100\n",
            "47/47 [==============================] - 22s 478ms/step - loss: 0.6602 - lm_acc: 0.4892\n",
            "\n",
            "Epoch 00015: lm_acc improved from 0.47879 to 0.48989, saving model to /content/drive/MyDrive/NLP_data/songys/lstm_dot.hdf5\n",
            "Epoch 16/100\n",
            "47/47 [==============================] - 23s 480ms/step - loss: 0.6351 - lm_acc: 0.5042\n",
            "\n",
            "Epoch 00016: lm_acc improved from 0.48989 to 0.50134, saving model to /content/drive/MyDrive/NLP_data/songys/lstm_dot.hdf5\n",
            "Epoch 17/100\n",
            "47/47 [==============================] - 23s 480ms/step - loss: 0.6209 - lm_acc: 0.5131\n",
            "\n",
            "Epoch 00017: lm_acc improved from 0.50134 to 0.51311, saving model to /content/drive/MyDrive/NLP_data/songys/lstm_dot.hdf5\n",
            "Epoch 18/100\n",
            "47/47 [==============================] - 23s 480ms/step - loss: 0.6018 - lm_acc: 0.5241\n",
            "\n",
            "Epoch 00018: lm_acc improved from 0.51311 to 0.52399, saving model to /content/drive/MyDrive/NLP_data/songys/lstm_dot.hdf5\n",
            "Epoch 19/100\n",
            "47/47 [==============================] - 23s 480ms/step - loss: 0.5834 - lm_acc: 0.5376\n",
            "\n",
            "Epoch 00019: lm_acc improved from 0.52399 to 0.53547, saving model to /content/drive/MyDrive/NLP_data/songys/lstm_dot.hdf5\n",
            "Epoch 20/100\n",
            "47/47 [==============================] - 23s 479ms/step - loss: 0.5623 - lm_acc: 0.5498\n",
            "\n",
            "Epoch 00020: lm_acc improved from 0.53547 to 0.54750, saving model to /content/drive/MyDrive/NLP_data/songys/lstm_dot.hdf5\n",
            "Epoch 21/100\n",
            "47/47 [==============================] - 23s 481ms/step - loss: 0.5479 - lm_acc: 0.5600\n",
            "\n",
            "Epoch 00021: lm_acc improved from 0.54750 to 0.55760, saving model to /content/drive/MyDrive/NLP_data/songys/lstm_dot.hdf5\n",
            "Epoch 22/100\n",
            "47/47 [==============================] - 23s 481ms/step - loss: 0.5327 - lm_acc: 0.5713\n",
            "\n",
            "Epoch 00022: lm_acc improved from 0.55760 to 0.56758, saving model to /content/drive/MyDrive/NLP_data/songys/lstm_dot.hdf5\n",
            "Epoch 23/100\n",
            "47/47 [==============================] - 23s 480ms/step - loss: 0.5206 - lm_acc: 0.5783\n",
            "\n",
            "Epoch 00023: lm_acc improved from 0.56758 to 0.57817, saving model to /content/drive/MyDrive/NLP_data/songys/lstm_dot.hdf5\n",
            "Epoch 24/100\n",
            "47/47 [==============================] - 23s 481ms/step - loss: 0.5014 - lm_acc: 0.5920\n",
            "\n",
            "Epoch 00024: lm_acc improved from 0.57817 to 0.59073, saving model to /content/drive/MyDrive/NLP_data/songys/lstm_dot.hdf5\n",
            "Epoch 25/100\n",
            "47/47 [==============================] - 23s 481ms/step - loss: 0.4899 - lm_acc: 0.6005\n",
            "\n",
            "Epoch 00025: lm_acc improved from 0.59073 to 0.60046, saving model to /content/drive/MyDrive/NLP_data/songys/lstm_dot.hdf5\n",
            "Epoch 26/100\n",
            "47/47 [==============================] - 23s 481ms/step - loss: 0.4743 - lm_acc: 0.6107\n",
            "\n",
            "Epoch 00026: lm_acc improved from 0.60046 to 0.60840, saving model to /content/drive/MyDrive/NLP_data/songys/lstm_dot.hdf5\n",
            "Epoch 27/100\n",
            "47/47 [==============================] - 23s 480ms/step - loss: 0.4576 - lm_acc: 0.6235\n",
            "\n",
            "Epoch 00027: lm_acc improved from 0.60840 to 0.62094, saving model to /content/drive/MyDrive/NLP_data/songys/lstm_dot.hdf5\n",
            "Epoch 28/100\n",
            "47/47 [==============================] - 23s 480ms/step - loss: 0.4426 - lm_acc: 0.6335\n",
            "\n",
            "Epoch 00028: lm_acc improved from 0.62094 to 0.62991, saving model to /content/drive/MyDrive/NLP_data/songys/lstm_dot.hdf5\n",
            "Epoch 29/100\n",
            "47/47 [==============================] - 23s 479ms/step - loss: 0.4337 - lm_acc: 0.6413\n",
            "\n",
            "Epoch 00029: lm_acc improved from 0.62991 to 0.63896, saving model to /content/drive/MyDrive/NLP_data/songys/lstm_dot.hdf5\n",
            "Epoch 30/100\n",
            "47/47 [==============================] - 22s 478ms/step - loss: 0.4209 - lm_acc: 0.6501\n",
            "\n",
            "Epoch 00030: lm_acc improved from 0.63896 to 0.64740, saving model to /content/drive/MyDrive/NLP_data/songys/lstm_dot.hdf5\n",
            "Epoch 31/100\n",
            "47/47 [==============================] - 23s 480ms/step - loss: 0.4100 - lm_acc: 0.6605\n",
            "\n",
            "Epoch 00031: lm_acc improved from 0.64740 to 0.65772, saving model to /content/drive/MyDrive/NLP_data/songys/lstm_dot.hdf5\n",
            "Epoch 32/100\n",
            "47/47 [==============================] - 23s 480ms/step - loss: 0.3945 - lm_acc: 0.6695\n",
            "\n",
            "Epoch 00032: lm_acc improved from 0.65772 to 0.66535, saving model to /content/drive/MyDrive/NLP_data/songys/lstm_dot.hdf5\n",
            "Epoch 33/100\n",
            "47/47 [==============================] - 23s 481ms/step - loss: 0.3861 - lm_acc: 0.6754\n",
            "\n",
            "Epoch 00033: lm_acc improved from 0.66535 to 0.67535, saving model to /content/drive/MyDrive/NLP_data/songys/lstm_dot.hdf5\n",
            "Epoch 34/100\n",
            "47/47 [==============================] - 23s 481ms/step - loss: 0.3710 - lm_acc: 0.6887\n",
            "\n",
            "Epoch 00034: lm_acc improved from 0.67535 to 0.68414, saving model to /content/drive/MyDrive/NLP_data/songys/lstm_dot.hdf5\n",
            "Epoch 35/100\n",
            "47/47 [==============================] - 23s 481ms/step - loss: 0.3595 - lm_acc: 0.6968\n",
            "\n",
            "Epoch 00035: lm_acc improved from 0.68414 to 0.69385, saving model to /content/drive/MyDrive/NLP_data/songys/lstm_dot.hdf5\n",
            "Epoch 36/100\n",
            "47/47 [==============================] - 23s 481ms/step - loss: 0.3526 - lm_acc: 0.7008\n",
            "\n",
            "Epoch 00036: lm_acc improved from 0.69385 to 0.69869, saving model to /content/drive/MyDrive/NLP_data/songys/lstm_dot.hdf5\n",
            "Epoch 37/100\n",
            "47/47 [==============================] - 23s 481ms/step - loss: 0.3436 - lm_acc: 0.7077\n",
            "\n",
            "Epoch 00037: lm_acc improved from 0.69869 to 0.70626, saving model to /content/drive/MyDrive/NLP_data/songys/lstm_dot.hdf5\n",
            "Epoch 38/100\n",
            "47/47 [==============================] - 23s 481ms/step - loss: 0.3338 - lm_acc: 0.7191\n",
            "\n",
            "Epoch 00038: lm_acc improved from 0.70626 to 0.71521, saving model to /content/drive/MyDrive/NLP_data/songys/lstm_dot.hdf5\n",
            "Epoch 39/100\n",
            "47/47 [==============================] - 23s 482ms/step - loss: 0.3187 - lm_acc: 0.7290\n",
            "\n",
            "Epoch 00039: lm_acc improved from 0.71521 to 0.72365, saving model to /content/drive/MyDrive/NLP_data/songys/lstm_dot.hdf5\n",
            "Epoch 40/100\n",
            "47/47 [==============================] - 23s 482ms/step - loss: 0.3087 - lm_acc: 0.7402\n",
            "\n",
            "Epoch 00040: lm_acc improved from 0.72365 to 0.73508, saving model to /content/drive/MyDrive/NLP_data/songys/lstm_dot.hdf5\n",
            "Epoch 41/100\n",
            "47/47 [==============================] - 23s 480ms/step - loss: 0.2996 - lm_acc: 0.7467\n",
            "\n",
            "Epoch 00041: lm_acc improved from 0.73508 to 0.74107, saving model to /content/drive/MyDrive/NLP_data/songys/lstm_dot.hdf5\n",
            "Epoch 42/100\n",
            "47/47 [==============================] - 23s 480ms/step - loss: 0.2908 - lm_acc: 0.7522\n",
            "\n",
            "Epoch 00042: lm_acc improved from 0.74107 to 0.74955, saving model to /content/drive/MyDrive/NLP_data/songys/lstm_dot.hdf5\n",
            "Epoch 43/100\n",
            "47/47 [==============================] - 23s 481ms/step - loss: 0.2835 - lm_acc: 0.7591\n",
            "\n",
            "Epoch 00043: lm_acc improved from 0.74955 to 0.75507, saving model to /content/drive/MyDrive/NLP_data/songys/lstm_dot.hdf5\n",
            "Epoch 44/100\n",
            "47/47 [==============================] - 23s 481ms/step - loss: 0.2732 - lm_acc: 0.7658\n",
            "\n",
            "Epoch 00044: lm_acc improved from 0.75507 to 0.76088, saving model to /content/drive/MyDrive/NLP_data/songys/lstm_dot.hdf5\n",
            "Epoch 45/100\n",
            "47/47 [==============================] - 23s 480ms/step - loss: 0.2682 - lm_acc: 0.7701\n",
            "\n",
            "Epoch 00045: lm_acc improved from 0.76088 to 0.76802, saving model to /content/drive/MyDrive/NLP_data/songys/lstm_dot.hdf5\n",
            "Epoch 46/100\n",
            "47/47 [==============================] - 23s 482ms/step - loss: 0.2563 - lm_acc: 0.7807\n",
            "\n",
            "Epoch 00046: lm_acc improved from 0.76802 to 0.77640, saving model to /content/drive/MyDrive/NLP_data/songys/lstm_dot.hdf5\n",
            "Epoch 47/100\n",
            "47/47 [==============================] - 23s 480ms/step - loss: 0.2500 - lm_acc: 0.7881\n",
            "\n",
            "Epoch 00047: lm_acc improved from 0.77640 to 0.78458, saving model to /content/drive/MyDrive/NLP_data/songys/lstm_dot.hdf5\n",
            "Epoch 48/100\n",
            "47/47 [==============================] - 23s 480ms/step - loss: 0.2400 - lm_acc: 0.7950\n",
            "\n",
            "Epoch 00048: lm_acc improved from 0.78458 to 0.79180, saving model to /content/drive/MyDrive/NLP_data/songys/lstm_dot.hdf5\n",
            "Epoch 49/100\n",
            "47/47 [==============================] - 23s 481ms/step - loss: 0.2344 - lm_acc: 0.7990\n",
            "\n",
            "Epoch 00049: lm_acc improved from 0.79180 to 0.79569, saving model to /content/drive/MyDrive/NLP_data/songys/lstm_dot.hdf5\n",
            "Epoch 50/100\n",
            "47/47 [==============================] - 23s 479ms/step - loss: 0.2264 - lm_acc: 0.8078\n",
            "\n",
            "Epoch 00050: lm_acc improved from 0.79569 to 0.80370, saving model to /content/drive/MyDrive/NLP_data/songys/lstm_dot.hdf5\n",
            "Epoch 51/100\n",
            "47/47 [==============================] - 23s 480ms/step - loss: 0.2201 - lm_acc: 0.8142\n",
            "\n",
            "Epoch 00051: lm_acc improved from 0.80370 to 0.81001, saving model to /content/drive/MyDrive/NLP_data/songys/lstm_dot.hdf5\n",
            "Epoch 52/100\n",
            "47/47 [==============================] - 23s 480ms/step - loss: 0.2136 - lm_acc: 0.8195\n",
            "\n",
            "Epoch 00052: lm_acc improved from 0.81001 to 0.81835, saving model to /content/drive/MyDrive/NLP_data/songys/lstm_dot.hdf5\n",
            "Epoch 53/100\n",
            "47/47 [==============================] - 23s 481ms/step - loss: 0.2054 - lm_acc: 0.8268\n",
            "\n",
            "Epoch 00053: lm_acc improved from 0.81835 to 0.82473, saving model to /content/drive/MyDrive/NLP_data/songys/lstm_dot.hdf5\n",
            "Epoch 54/100\n",
            "47/47 [==============================] - 23s 479ms/step - loss: 0.1966 - lm_acc: 0.8351\n",
            "\n",
            "Epoch 00054: lm_acc improved from 0.82473 to 0.83147, saving model to /content/drive/MyDrive/NLP_data/songys/lstm_dot.hdf5\n",
            "Epoch 55/100\n",
            "47/47 [==============================] - 23s 482ms/step - loss: 0.1906 - lm_acc: 0.8413\n",
            "\n",
            "Epoch 00055: lm_acc improved from 0.83147 to 0.83830, saving model to /content/drive/MyDrive/NLP_data/songys/lstm_dot.hdf5\n",
            "Epoch 56/100\n",
            "47/47 [==============================] - 23s 481ms/step - loss: 0.1840 - lm_acc: 0.8495\n",
            "\n",
            "Epoch 00056: lm_acc improved from 0.83830 to 0.84492, saving model to /content/drive/MyDrive/NLP_data/songys/lstm_dot.hdf5\n",
            "Epoch 57/100\n",
            "47/47 [==============================] - 23s 479ms/step - loss: 0.1757 - lm_acc: 0.8556\n",
            "\n",
            "Epoch 00057: lm_acc improved from 0.84492 to 0.84896, saving model to /content/drive/MyDrive/NLP_data/songys/lstm_dot.hdf5\n",
            "Epoch 58/100\n",
            "47/47 [==============================] - 23s 479ms/step - loss: 0.1777 - lm_acc: 0.8519\n",
            "\n",
            "Epoch 00058: lm_acc improved from 0.84896 to 0.85006, saving model to /content/drive/MyDrive/NLP_data/songys/lstm_dot.hdf5\n",
            "Epoch 59/100\n",
            "47/47 [==============================] - 23s 481ms/step - loss: 0.1670 - lm_acc: 0.8633\n",
            "\n",
            "Epoch 00059: lm_acc improved from 0.85006 to 0.85963, saving model to /content/drive/MyDrive/NLP_data/songys/lstm_dot.hdf5\n",
            "Epoch 60/100\n",
            "47/47 [==============================] - 23s 480ms/step - loss: 0.1614 - lm_acc: 0.8694\n",
            "\n",
            "Epoch 00060: lm_acc improved from 0.85963 to 0.86532, saving model to /content/drive/MyDrive/NLP_data/songys/lstm_dot.hdf5\n",
            "Epoch 61/100\n",
            "47/47 [==============================] - 23s 480ms/step - loss: 0.1547 - lm_acc: 0.8742\n",
            "\n",
            "Epoch 00061: lm_acc improved from 0.86532 to 0.86847, saving model to /content/drive/MyDrive/NLP_data/songys/lstm_dot.hdf5\n",
            "Epoch 62/100\n",
            "47/47 [==============================] - 23s 481ms/step - loss: 0.1550 - lm_acc: 0.8716\n",
            "\n",
            "Epoch 00062: lm_acc improved from 0.86847 to 0.87166, saving model to /content/drive/MyDrive/NLP_data/songys/lstm_dot.hdf5\n",
            "Epoch 63/100\n",
            "47/47 [==============================] - 23s 480ms/step - loss: 0.1458 - lm_acc: 0.8817\n",
            "\n",
            "Epoch 00063: lm_acc improved from 0.87166 to 0.87930, saving model to /content/drive/MyDrive/NLP_data/songys/lstm_dot.hdf5\n",
            "Epoch 64/100\n",
            "47/47 [==============================] - 23s 481ms/step - loss: 0.1406 - lm_acc: 0.8880\n",
            "\n",
            "Epoch 00064: lm_acc improved from 0.87930 to 0.88538, saving model to /content/drive/MyDrive/NLP_data/songys/lstm_dot.hdf5\n",
            "Epoch 65/100\n",
            "47/47 [==============================] - 22s 478ms/step - loss: 0.1357 - lm_acc: 0.8923\n",
            "\n",
            "Epoch 00065: lm_acc improved from 0.88538 to 0.88818, saving model to /content/drive/MyDrive/NLP_data/songys/lstm_dot.hdf5\n",
            "Epoch 66/100\n",
            "47/47 [==============================] - 23s 481ms/step - loss: 0.1314 - lm_acc: 0.8953\n",
            "\n",
            "Epoch 00066: lm_acc improved from 0.88818 to 0.89004, saving model to /content/drive/MyDrive/NLP_data/songys/lstm_dot.hdf5\n",
            "Epoch 67/100\n",
            "47/47 [==============================] - 23s 481ms/step - loss: 0.1256 - lm_acc: 0.9006\n",
            "\n",
            "Epoch 00067: lm_acc improved from 0.89004 to 0.89773, saving model to /content/drive/MyDrive/NLP_data/songys/lstm_dot.hdf5\n",
            "Epoch 68/100\n",
            "47/47 [==============================] - 23s 480ms/step - loss: 0.1211 - lm_acc: 0.9060\n",
            "\n",
            "Epoch 00068: lm_acc improved from 0.89773 to 0.90253, saving model to /content/drive/MyDrive/NLP_data/songys/lstm_dot.hdf5\n",
            "Epoch 69/100\n",
            "47/47 [==============================] - 23s 479ms/step - loss: 0.1157 - lm_acc: 0.9101\n",
            "\n",
            "Epoch 00069: lm_acc improved from 0.90253 to 0.90728, saving model to /content/drive/MyDrive/NLP_data/songys/lstm_dot.hdf5\n",
            "Epoch 70/100\n",
            "47/47 [==============================] - 22s 478ms/step - loss: 0.1139 - lm_acc: 0.9135\n",
            "\n",
            "Epoch 00070: lm_acc improved from 0.90728 to 0.91085, saving model to /content/drive/MyDrive/NLP_data/songys/lstm_dot.hdf5\n",
            "Epoch 71/100\n",
            "47/47 [==============================] - 23s 480ms/step - loss: 0.1089 - lm_acc: 0.9166\n",
            "\n",
            "Epoch 00071: lm_acc improved from 0.91085 to 0.91349, saving model to /content/drive/MyDrive/NLP_data/songys/lstm_dot.hdf5\n",
            "Epoch 72/100\n",
            "47/47 [==============================] - 23s 482ms/step - loss: 0.1075 - lm_acc: 0.9181\n",
            "\n",
            "Epoch 00072: lm_acc improved from 0.91349 to 0.91493, saving model to /content/drive/MyDrive/NLP_data/songys/lstm_dot.hdf5\n",
            "Epoch 73/100\n",
            "47/47 [==============================] - 23s 479ms/step - loss: 0.1022 - lm_acc: 0.9224\n",
            "\n",
            "Epoch 00073: lm_acc improved from 0.91493 to 0.91988, saving model to /content/drive/MyDrive/NLP_data/songys/lstm_dot.hdf5\n",
            "Epoch 74/100\n",
            "47/47 [==============================] - 22s 478ms/step - loss: 0.0965 - lm_acc: 0.9274\n",
            "\n",
            "Epoch 00074: lm_acc improved from 0.91988 to 0.92273, saving model to /content/drive/MyDrive/NLP_data/songys/lstm_dot.hdf5\n",
            "Epoch 75/100\n",
            "47/47 [==============================] - 23s 479ms/step - loss: 0.0994 - lm_acc: 0.9236\n",
            "\n",
            "Epoch 00075: lm_acc did not improve from 0.92273\n",
            "Epoch 76/100\n",
            "47/47 [==============================] - 22s 478ms/step - loss: 0.0929 - lm_acc: 0.9309\n",
            "\n",
            "Epoch 00076: lm_acc improved from 0.92273 to 0.92930, saving model to /content/drive/MyDrive/NLP_data/songys/lstm_dot.hdf5\n",
            "Epoch 77/100\n",
            "47/47 [==============================] - 22s 478ms/step - loss: 0.0863 - lm_acc: 0.9370\n",
            "\n",
            "Epoch 00077: lm_acc improved from 0.92930 to 0.93388, saving model to /content/drive/MyDrive/NLP_data/songys/lstm_dot.hdf5\n",
            "Epoch 78/100\n",
            "47/47 [==============================] - 23s 479ms/step - loss: 0.0836 - lm_acc: 0.9391\n",
            "\n",
            "Epoch 00078: lm_acc improved from 0.93388 to 0.93769, saving model to /content/drive/MyDrive/NLP_data/songys/lstm_dot.hdf5\n",
            "Epoch 79/100\n",
            "47/47 [==============================] - 23s 479ms/step - loss: 0.0794 - lm_acc: 0.9443\n",
            "\n",
            "Epoch 00079: lm_acc improved from 0.93769 to 0.94090, saving model to /content/drive/MyDrive/NLP_data/songys/lstm_dot.hdf5\n",
            "Epoch 80/100\n",
            "47/47 [==============================] - 23s 479ms/step - loss: 0.0770 - lm_acc: 0.9457\n",
            "\n",
            "Epoch 00080: lm_acc improved from 0.94090 to 0.94268, saving model to /content/drive/MyDrive/NLP_data/songys/lstm_dot.hdf5\n",
            "Epoch 81/100\n",
            "47/47 [==============================] - 22s 477ms/step - loss: 0.0737 - lm_acc: 0.9486\n",
            "\n",
            "Epoch 00081: lm_acc improved from 0.94268 to 0.94424, saving model to /content/drive/MyDrive/NLP_data/songys/lstm_dot.hdf5\n",
            "Epoch 82/100\n",
            "47/47 [==============================] - 23s 479ms/step - loss: 0.0724 - lm_acc: 0.9492\n",
            "\n",
            "Epoch 00082: lm_acc improved from 0.94424 to 0.94583, saving model to /content/drive/MyDrive/NLP_data/songys/lstm_dot.hdf5\n",
            "Epoch 83/100\n",
            "47/47 [==============================] - 23s 479ms/step - loss: 0.0700 - lm_acc: 0.9520\n",
            "\n",
            "Epoch 00083: lm_acc improved from 0.94583 to 0.95017, saving model to /content/drive/MyDrive/NLP_data/songys/lstm_dot.hdf5\n",
            "Epoch 84/100\n",
            "47/47 [==============================] - 23s 481ms/step - loss: 0.0657 - lm_acc: 0.9561\n",
            "\n",
            "Epoch 00084: lm_acc improved from 0.95017 to 0.95391, saving model to /content/drive/MyDrive/NLP_data/songys/lstm_dot.hdf5\n",
            "Epoch 85/100\n",
            "47/47 [==============================] - 23s 479ms/step - loss: 0.0629 - lm_acc: 0.9578\n",
            "\n",
            "Epoch 00085: lm_acc did not improve from 0.95391\n",
            "Epoch 86/100\n",
            "47/47 [==============================] - 22s 478ms/step - loss: 0.0658 - lm_acc: 0.9544\n",
            "\n",
            "Epoch 00086: lm_acc did not improve from 0.95391\n",
            "Epoch 87/100\n",
            "47/47 [==============================] - 22s 478ms/step - loss: 0.0584 - lm_acc: 0.9615\n",
            "\n",
            "Epoch 00087: lm_acc improved from 0.95391 to 0.95937, saving model to /content/drive/MyDrive/NLP_data/songys/lstm_dot.hdf5\n",
            "Epoch 88/100\n",
            "47/47 [==============================] - 23s 481ms/step - loss: 0.0555 - lm_acc: 0.9635\n",
            "\n",
            "Epoch 00088: lm_acc improved from 0.95937 to 0.96218, saving model to /content/drive/MyDrive/NLP_data/songys/lstm_dot.hdf5\n",
            "Epoch 89/100\n",
            "47/47 [==============================] - 23s 481ms/step - loss: 0.0529 - lm_acc: 0.9658\n",
            "\n",
            "Epoch 00089: lm_acc improved from 0.96218 to 0.96449, saving model to /content/drive/MyDrive/NLP_data/songys/lstm_dot.hdf5\n",
            "Epoch 90/100\n",
            "47/47 [==============================] - 23s 480ms/step - loss: 0.0563 - lm_acc: 0.9612\n",
            "\n",
            "Epoch 00090: lm_acc did not improve from 0.96449\n",
            "Epoch 91/100\n",
            "47/47 [==============================] - 22s 478ms/step - loss: 0.0568 - lm_acc: 0.9608\n",
            "\n",
            "Epoch 00091: lm_acc did not improve from 0.96449\n",
            "Epoch 92/100\n",
            "47/47 [==============================] - 22s 478ms/step - loss: 0.0508 - lm_acc: 0.9673\n",
            "\n",
            "Epoch 00092: lm_acc improved from 0.96449 to 0.96563, saving model to /content/drive/MyDrive/NLP_data/songys/lstm_dot.hdf5\n",
            "Epoch 93/100\n",
            "47/47 [==============================] - 23s 481ms/step - loss: 0.0473 - lm_acc: 0.9709\n",
            "\n",
            "Epoch 00093: lm_acc improved from 0.96563 to 0.96877, saving model to /content/drive/MyDrive/NLP_data/songys/lstm_dot.hdf5\n",
            "Epoch 94/100\n",
            "47/47 [==============================] - 23s 481ms/step - loss: 0.0461 - lm_acc: 0.9719\n",
            "\n",
            "Epoch 00094: lm_acc improved from 0.96877 to 0.96953, saving model to /content/drive/MyDrive/NLP_data/songys/lstm_dot.hdf5\n",
            "Epoch 95/100\n",
            "47/47 [==============================] - 23s 480ms/step - loss: 0.0458 - lm_acc: 0.9710\n",
            "\n",
            "Epoch 00095: lm_acc improved from 0.96953 to 0.96984, saving model to /content/drive/MyDrive/NLP_data/songys/lstm_dot.hdf5\n",
            "Epoch 96/100\n",
            "47/47 [==============================] - 23s 480ms/step - loss: 0.0432 - lm_acc: 0.9741\n",
            "\n",
            "Epoch 00096: lm_acc improved from 0.96984 to 0.97249, saving model to /content/drive/MyDrive/NLP_data/songys/lstm_dot.hdf5\n",
            "Epoch 97/100\n",
            "47/47 [==============================] - 23s 480ms/step - loss: 0.0417 - lm_acc: 0.9747\n",
            "\n",
            "Epoch 00097: lm_acc did not improve from 0.97249\n",
            "Epoch 98/100\n",
            "47/47 [==============================] - 22s 478ms/step - loss: 0.0416 - lm_acc: 0.9744\n",
            "\n",
            "Epoch 00098: lm_acc improved from 0.97249 to 0.97360, saving model to /content/drive/MyDrive/NLP_data/songys/lstm_dot.hdf5\n",
            "Epoch 99/100\n",
            "47/47 [==============================] - 23s 480ms/step - loss: 0.0385 - lm_acc: 0.9776\n",
            "\n",
            "Epoch 00099: lm_acc improved from 0.97360 to 0.97520, saving model to /content/drive/MyDrive/NLP_data/songys/lstm_dot.hdf5\n",
            "Epoch 100/100\n",
            "47/47 [==============================] - 23s 480ms/step - loss: 0.0386 - lm_acc: 0.9776\n",
            "\n",
            "Epoch 00100: lm_acc improved from 0.97520 to 0.97636, saving model to /content/drive/MyDrive/NLP_data/songys/lstm_dot.hdf5\n"
          ],
          "name": "stdout"
        }
      ]
    },
    {
      "cell_type": "code",
      "metadata": {
        "id": "6PMeESUYqJW6",
        "colab": {
          "base_uri": "https://localhost:8080/",
          "height": 281
        },
        "outputId": "c849fca7-63c0-4cef-cccc-3ce89af87b51"
      },
      "source": [
        "plt.figure(figsize=(12, 4))\n",
        "\n",
        "plt.subplot(1, 2, 1)\n",
        "plt.plot(history.history['loss'], 'b-', label='loss')\n",
        "plt.xlabel('Epoch')\n",
        "plt.legend()\n",
        "\n",
        "plt.subplot(1, 2, 2)\n",
        "plt.plot(history.history['lm_acc'], 'g-', label='acc')\n",
        "plt.xlabel('Epoch')\n",
        "plt.legend()\n",
        "\n",
        "plt.show()"
      ],
      "execution_count": 70,
      "outputs": [
        {
          "output_type": "display_data",
          "data": {
            "image/png": "[encoded data removed]",
            "text/plain": [
              "<Figure size 864x288 with 2 Axes>"
            ]
          },
          "metadata": {
            "tags": [],
            "needs_background": "light"
          }
        }
      ]
    },
    {
      "cell_type": "markdown",
      "metadata": {
        "id": "2lWovHbAqJW7"
      },
      "source": [
        "## Inference"
      ]
    },
    {
      "cell_type": "code",
      "metadata": {
        "id": "V11xf5bUqJW7"
      },
      "source": [
        "# 모델 생성\n",
        "model = build_model(len(vocab), d_model, n_enc_seq, n_dec_seq)\n",
        "# train weight로 초기화\n",
        "model.load_weights(os.path.join(songys_dir, 'lstm_dot.hdf5'))"
      ],
      "execution_count": 67,
      "outputs": []
    },
    {
      "cell_type": "code",
      "metadata": {
        "id": "rqMWscTSqJW7"
      },
      "source": [
        "def do_chat(vocab, model, n_enc_seq, n_dec_seq, string):\n",
        "    \"\"\"\n",
        "    seq2seq chat\n",
        "    :param vocab: vocab\n",
        "    :param model: model\n",
        "    :param n_enc_seq: number of enc seqence\n",
        "    :param n_dec_seq: number of dec seqence\n",
        "    :param string: inpust string\n",
        "    \"\"\"\n",
        "    # qeustion\n",
        "    q = vocab.encode_as_pieces(string)\n",
        "    q_id = [vocab.piece_to_id(p) for p in q][:n_enc_seq]\n",
        "    q_id += [0] * (n_enc_seq - len(q_id))\n",
        "    assert len(q_id) == n_enc_seq\n",
        "\n",
        "    # answer\n",
        "    a_id = [vocab.bos_id()]\n",
        "    a_id += [0] * (n_dec_seq - len(a_id))\n",
        "    assert len(a_id) == n_dec_seq\n",
        "\n",
        "    # 처음부터 예측\n",
        "    start_idx = 0\n",
        "\n",
        "    for _ in range(start_idx, n_dec_seq - 1):\n",
        "        outputs = model.predict((np.array([q_id]), np.array([a_id])))\n",
        "        prob = outputs[0][start_idx]\n",
        "        word_id = np.argmax(prob)\n",
        "        if word_id == vocab.eos_id():\n",
        "            break\n",
        "        a_id[start_idx + 1] = int(word_id)\n",
        "        start_idx += 1\n",
        "    predict_id = a_id[1:start_idx + 1]\n",
        "    predict_str = vocab.decode_ids(predict_id)\n",
        "    return predict_str"
      ],
      "execution_count": 68,
      "outputs": []
    },
    {
      "cell_type": "code",
      "metadata": {
        "id": "LiEbtt7JqJW7",
        "colab": {
          "base_uri": "https://localhost:8080/"
        },
        "outputId": "6640325f-9929-407f-f4c1-f7046d263231"
      },
      "source": [
        "while True:\n",
        "    string = input('질문 > ')\n",
        "    string = string.strip()\n",
        "    if len(string) == 0:\n",
        "        break\n",
        "    predict_str = do_chat(vocab, model, n_enc_seq, n_dec_seq, string)\n",
        "    print(f'답변 > {predict_str}')"
      ],
      "execution_count": 69,
      "outputs": [
        {
          "output_type": "stream",
          "text": [
            "질문 > 안녕\n",
            "답변 > 안녕하세요.\n",
            "질문 > 너도 우리 강아지가 귀엽니?\n",
            "답변 > 매일 조금씩 먹으면 좋죠.\n",
            "질문 > 너 강아지 먹어..?\n",
            "답변 > 긍정적이네요.\n",
            "질문 > 요즘 재밌는 뮤지컬 뭐야?\n",
            "답변 > 적에서 내일이 쉽죠.\n",
            "질문 > 재밌는 연극 뭐야?\n",
            "답변 > 잼 있는 거는 딸기잼에게 물어봐 주세요.\n",
            "질문 > 노잼...\n",
            "답변 > 곧 방학이예요.\n",
            "질문 > 오늘 며칠이야?\n",
            "답변 > 직접 물어보세요.\n",
            "질문 > ㅋㅋㅋㅋㅋㅋㅋㅋㅋ\n",
            "답변 > 아무래도 부담되면 마음이 가지 않는 거니 이해해주세요.\n",
            "질문 > 고양이 귀여워\n",
            "답변 > 천천히 깨요.\n",
            "질문 > 뭘 깨?\n",
            "답변 > 활기찬 사람이 있으면 좋겠네요.\n",
            "질문 > 하루에 물 몇 잔 마셔?\n",
            "답변 > 정말 많이 사랑주세요.\n",
            "질문 > 구글\n",
            "답변 > 그 사람도 당신을 사랑하고 있어요.\n",
            "질문 > 머리가 길어\n",
            "답변 > 잠시 휴식기를 가져요.\n",
            "질문 > 손시려워\n",
            "답변 > 천천히 생각해봐요.\n",
            "질문 > 따뜻해\n",
            "답변 > 현재를 즐기세요!\n",
            "질문 > 그래\n",
            "답변 > 오늘 미세먼한 곳으로일 뿐이에요.\n",
            "질문 > 아니\n",
            "답변 > 혼자인 기분이에요.\n",
            "질문 > 힘내\n",
            "답변 > 현재를 즐기세요!\n",
            "질문 > \n"
          ],
          "name": "stdout"
        }
      ]
    },
    {
      "cell_type": "code",
      "metadata": {
        "id": "Yo6cyrr2ehCH"
      },
      "source": [
        ""
      ],
      "execution_count": 69,
      "outputs": []
    }
  ]
}