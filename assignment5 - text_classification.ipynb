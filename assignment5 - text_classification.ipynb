{
  "nbformat": 4,
  "nbformat_minor": 0,
  "metadata": {
    "colab": {
      "name": "05-01-text-classification-과제.ipynb의 사본",
      "provenance": [],
      "collapsed_sections": [
        "6dfJPT-2XMTB",
        "JHkHg6XAXoyK",
        "XwriCkq_R1Lc",
        "3myBX8hNEH1u",
        "yOqjtjEtgG_i",
        "RZq-UvbOgG_j",
        "QbzBPXwqgG_n",
        "fFOkITDzgG_o"
      ]
    },
    "kernelspec": {
      "name": "python3",
      "display_name": "Python 3"
    },
    "accelerator": "GPU",
    "widgets": {
      "application/vnd.jupyter.widget-state+json": {
        "f11b012a5d7243969be929eb4d415bf6": {
          "model_module": "@jupyter-widgets/controls",
          "model_name": "HBoxModel",
          "state": {
            "_view_name": "HBoxView",
            "_dom_classes": [],
            "_model_name": "HBoxModel",
            "_view_module": "@jupyter-widgets/controls",
            "_model_module_version": "1.5.0",
            "_view_count": null,
            "_view_module_version": "1.5.0",
            "box_style": "",
            "layout": "IPY_MODEL_247b5fd3fbcd44e3bca5be0e5970c52f",
            "_model_module": "@jupyter-widgets/controls",
            "children": [
              "IPY_MODEL_e7e0e264900943dc8a877e2c7a10c053",
              "IPY_MODEL_19c753829c4d470c9284f1df4292068a"
            ]
          }
        },
        "247b5fd3fbcd44e3bca5be0e5970c52f": {
          "model_module": "@jupyter-widgets/base",
          "model_name": "LayoutModel",
          "state": {
            "_view_name": "LayoutView",
            "grid_template_rows": null,
            "right": null,
            "justify_content": null,
            "_view_module": "@jupyter-widgets/base",
            "overflow": null,
            "_model_module_version": "1.2.0",
            "_view_count": null,
            "flex_flow": null,
            "width": null,
            "min_width": null,
            "border": null,
            "align_items": null,
            "bottom": null,
            "_model_module": "@jupyter-widgets/base",
            "top": null,
            "grid_column": null,
            "overflow_y": null,
            "overflow_x": null,
            "grid_auto_flow": null,
            "grid_area": null,
            "grid_template_columns": null,
            "flex": null,
            "_model_name": "LayoutModel",
            "justify_items": null,
            "grid_row": null,
            "max_height": null,
            "align_content": null,
            "visibility": null,
            "align_self": null,
            "height": null,
            "min_height": null,
            "padding": null,
            "grid_auto_rows": null,
            "grid_gap": null,
            "max_width": null,
            "order": null,
            "_view_module_version": "1.2.0",
            "grid_template_areas": null,
            "object_position": null,
            "object_fit": null,
            "grid_auto_columns": null,
            "margin": null,
            "display": null,
            "left": null
          }
        },
        "e7e0e264900943dc8a877e2c7a10c053": {
          "model_module": "@jupyter-widgets/controls",
          "model_name": "FloatProgressModel",
          "state": {
            "_view_name": "ProgressView",
            "style": "IPY_MODEL_89cd60ecb5c04645aad4f705aed1cb54",
            "_dom_classes": [],
            "description": "100%",
            "_model_name": "FloatProgressModel",
            "bar_style": "success",
            "max": 149995,
            "_view_module": "@jupyter-widgets/controls",
            "_model_module_version": "1.5.0",
            "value": 149995,
            "_view_count": null,
            "_view_module_version": "1.5.0",
            "orientation": "horizontal",
            "min": 0,
            "description_tooltip": null,
            "_model_module": "@jupyter-widgets/controls",
            "layout": "IPY_MODEL_8d6f808e6a3b45a58661975f50c7a04a"
          }
        },
        "19c753829c4d470c9284f1df4292068a": {
          "model_module": "@jupyter-widgets/controls",
          "model_name": "HTMLModel",
          "state": {
            "_view_name": "HTMLView",
            "style": "IPY_MODEL_1ea07a26d3ef47bfa3c487a5518b92ce",
            "_dom_classes": [],
            "description": "",
            "_model_name": "HTMLModel",
            "placeholder": "​",
            "_view_module": "@jupyter-widgets/controls",
            "_model_module_version": "1.5.0",
            "value": " 149995/149995 [01:18&lt;00:00, 1901.99it/s]",
            "_view_count": null,
            "_view_module_version": "1.5.0",
            "description_tooltip": null,
            "_model_module": "@jupyter-widgets/controls",
            "layout": "IPY_MODEL_35f1dc2dd51c4aaa8aef53807e20d5e2"
          }
        },
        "89cd60ecb5c04645aad4f705aed1cb54": {
          "model_module": "@jupyter-widgets/controls",
          "model_name": "ProgressStyleModel",
          "state": {
            "_view_name": "StyleView",
            "_model_name": "ProgressStyleModel",
            "description_width": "initial",
            "_view_module": "@jupyter-widgets/base",
            "_model_module_version": "1.5.0",
            "_view_count": null,
            "_view_module_version": "1.2.0",
            "bar_color": null,
            "_model_module": "@jupyter-widgets/controls"
          }
        },
        "8d6f808e6a3b45a58661975f50c7a04a": {
          "model_module": "@jupyter-widgets/base",
          "model_name": "LayoutModel",
          "state": {
            "_view_name": "LayoutView",
            "grid_template_rows": null,
            "right": null,
            "justify_content": null,
            "_view_module": "@jupyter-widgets/base",
            "overflow": null,
            "_model_module_version": "1.2.0",
            "_view_count": null,
            "flex_flow": null,
            "width": null,
            "min_width": null,
            "border": null,
            "align_items": null,
            "bottom": null,
            "_model_module": "@jupyter-widgets/base",
            "top": null,
            "grid_column": null,
            "overflow_y": null,
            "overflow_x": null,
            "grid_auto_flow": null,
            "grid_area": null,
            "grid_template_columns": null,
            "flex": null,
            "_model_name": "LayoutModel",
            "justify_items": null,
            "grid_row": null,
            "max_height": null,
            "align_content": null,
            "visibility": null,
            "align_self": null,
            "height": null,
            "min_height": null,
            "padding": null,
            "grid_auto_rows": null,
            "grid_gap": null,
            "max_width": null,
            "order": null,
            "_view_module_version": "1.2.0",
            "grid_template_areas": null,
            "object_position": null,
            "object_fit": null,
            "grid_auto_columns": null,
            "margin": null,
            "display": null,
            "left": null
          }
        },
        "1ea07a26d3ef47bfa3c487a5518b92ce": {
          "model_module": "@jupyter-widgets/controls",
          "model_name": "DescriptionStyleModel",
          "state": {
            "_view_name": "StyleView",
            "_model_name": "DescriptionStyleModel",
            "description_width": "",
            "_view_module": "@jupyter-widgets/base",
            "_model_module_version": "1.5.0",
            "_view_count": null,
            "_view_module_version": "1.2.0",
            "_model_module": "@jupyter-widgets/controls"
          }
        },
        "35f1dc2dd51c4aaa8aef53807e20d5e2": {
          "model_module": "@jupyter-widgets/base",
          "model_name": "LayoutModel",
          "state": {
            "_view_name": "LayoutView",
            "grid_template_rows": null,
            "right": null,
            "justify_content": null,
            "_view_module": "@jupyter-widgets/base",
            "overflow": null,
            "_model_module_version": "1.2.0",
            "_view_count": null,
            "flex_flow": null,
            "width": null,
            "min_width": null,
            "border": null,
            "align_items": null,
            "bottom": null,
            "_model_module": "@jupyter-widgets/base",
            "top": null,
            "grid_column": null,
            "overflow_y": null,
            "overflow_x": null,
            "grid_auto_flow": null,
            "grid_area": null,
            "grid_template_columns": null,
            "flex": null,
            "_model_name": "LayoutModel",
            "justify_items": null,
            "grid_row": null,
            "max_height": null,
            "align_content": null,
            "visibility": null,
            "align_self": null,
            "height": null,
            "min_height": null,
            "padding": null,
            "grid_auto_rows": null,
            "grid_gap": null,
            "max_width": null,
            "order": null,
            "_view_module_version": "1.2.0",
            "grid_template_areas": null,
            "object_position": null,
            "object_fit": null,
            "grid_auto_columns": null,
            "margin": null,
            "display": null,
            "left": null
          }
        },
        "a0bd0d15727141d69d2998dd04df93b1": {
          "model_module": "@jupyter-widgets/controls",
          "model_name": "HBoxModel",
          "state": {
            "_view_name": "HBoxView",
            "_dom_classes": [],
            "_model_name": "HBoxModel",
            "_view_module": "@jupyter-widgets/controls",
            "_model_module_version": "1.5.0",
            "_view_count": null,
            "_view_module_version": "1.5.0",
            "box_style": "",
            "layout": "IPY_MODEL_5f382f3811f84972b1bbe7e393a32f4f",
            "_model_module": "@jupyter-widgets/controls",
            "children": [
              "IPY_MODEL_e003fa7640594294952ae05bbd3df9f9",
              "IPY_MODEL_02c68eda3c7148c8a6bfd816ab6b7d69"
            ]
          }
        },
        "5f382f3811f84972b1bbe7e393a32f4f": {
          "model_module": "@jupyter-widgets/base",
          "model_name": "LayoutModel",
          "state": {
            "_view_name": "LayoutView",
            "grid_template_rows": null,
            "right": null,
            "justify_content": null,
            "_view_module": "@jupyter-widgets/base",
            "overflow": null,
            "_model_module_version": "1.2.0",
            "_view_count": null,
            "flex_flow": null,
            "width": null,
            "min_width": null,
            "border": null,
            "align_items": null,
            "bottom": null,
            "_model_module": "@jupyter-widgets/base",
            "top": null,
            "grid_column": null,
            "overflow_y": null,
            "overflow_x": null,
            "grid_auto_flow": null,
            "grid_area": null,
            "grid_template_columns": null,
            "flex": null,
            "_model_name": "LayoutModel",
            "justify_items": null,
            "grid_row": null,
            "max_height": null,
            "align_content": null,
            "visibility": null,
            "align_self": null,
            "height": null,
            "min_height": null,
            "padding": null,
            "grid_auto_rows": null,
            "grid_gap": null,
            "max_width": null,
            "order": null,
            "_view_module_version": "1.2.0",
            "grid_template_areas": null,
            "object_position": null,
            "object_fit": null,
            "grid_auto_columns": null,
            "margin": null,
            "display": null,
            "left": null
          }
        },
        "e003fa7640594294952ae05bbd3df9f9": {
          "model_module": "@jupyter-widgets/controls",
          "model_name": "FloatProgressModel",
          "state": {
            "_view_name": "ProgressView",
            "style": "IPY_MODEL_a18b3ab7b51d41ad8aa7d0f19b34ba4e",
            "_dom_classes": [],
            "description": "100%",
            "_model_name": "FloatProgressModel",
            "bar_style": "success",
            "max": 49997,
            "_view_module": "@jupyter-widgets/controls",
            "_model_module_version": "1.5.0",
            "value": 49997,
            "_view_count": null,
            "_view_module_version": "1.5.0",
            "orientation": "horizontal",
            "min": 0,
            "description_tooltip": null,
            "_model_module": "@jupyter-widgets/controls",
            "layout": "IPY_MODEL_307aea42cd684d9da77dd953027a6609"
          }
        },
        "02c68eda3c7148c8a6bfd816ab6b7d69": {
          "model_module": "@jupyter-widgets/controls",
          "model_name": "HTMLModel",
          "state": {
            "_view_name": "HTMLView",
            "style": "IPY_MODEL_3870f8cc394e4db0ac5eb6cee923ed37",
            "_dom_classes": [],
            "description": "",
            "_model_name": "HTMLModel",
            "placeholder": "​",
            "_view_module": "@jupyter-widgets/controls",
            "_model_module_version": "1.5.0",
            "value": " 49997/49997 [00:29&lt;00:00, 1714.15it/s]",
            "_view_count": null,
            "_view_module_version": "1.5.0",
            "description_tooltip": null,
            "_model_module": "@jupyter-widgets/controls",
            "layout": "IPY_MODEL_133be41c932c410a8e367706b347a3b8"
          }
        },
        "a18b3ab7b51d41ad8aa7d0f19b34ba4e": {
          "model_module": "@jupyter-widgets/controls",
          "model_name": "ProgressStyleModel",
          "state": {
            "_view_name": "StyleView",
            "_model_name": "ProgressStyleModel",
            "description_width": "initial",
            "_view_module": "@jupyter-widgets/base",
            "_model_module_version": "1.5.0",
            "_view_count": null,
            "_view_module_version": "1.2.0",
            "bar_color": null,
            "_model_module": "@jupyter-widgets/controls"
          }
        },
        "307aea42cd684d9da77dd953027a6609": {
          "model_module": "@jupyter-widgets/base",
          "model_name": "LayoutModel",
          "state": {
            "_view_name": "LayoutView",
            "grid_template_rows": null,
            "right": null,
            "justify_content": null,
            "_view_module": "@jupyter-widgets/base",
            "overflow": null,
            "_model_module_version": "1.2.0",
            "_view_count": null,
            "flex_flow": null,
            "width": null,
            "min_width": null,
            "border": null,
            "align_items": null,
            "bottom": null,
            "_model_module": "@jupyter-widgets/base",
            "top": null,
            "grid_column": null,
            "overflow_y": null,
            "overflow_x": null,
            "grid_auto_flow": null,
            "grid_area": null,
            "grid_template_columns": null,
            "flex": null,
            "_model_name": "LayoutModel",
            "justify_items": null,
            "grid_row": null,
            "max_height": null,
            "align_content": null,
            "visibility": null,
            "align_self": null,
            "height": null,
            "min_height": null,
            "padding": null,
            "grid_auto_rows": null,
            "grid_gap": null,
            "max_width": null,
            "order": null,
            "_view_module_version": "1.2.0",
            "grid_template_areas": null,
            "object_position": null,
            "object_fit": null,
            "grid_auto_columns": null,
            "margin": null,
            "display": null,
            "left": null
          }
        },
        "3870f8cc394e4db0ac5eb6cee923ed37": {
          "model_module": "@jupyter-widgets/controls",
          "model_name": "DescriptionStyleModel",
          "state": {
            "_view_name": "StyleView",
            "_model_name": "DescriptionStyleModel",
            "description_width": "",
            "_view_module": "@jupyter-widgets/base",
            "_model_module_version": "1.5.0",
            "_view_count": null,
            "_view_module_version": "1.2.0",
            "_model_module": "@jupyter-widgets/controls"
          }
        },
        "133be41c932c410a8e367706b347a3b8": {
          "model_module": "@jupyter-widgets/base",
          "model_name": "LayoutModel",
          "state": {
            "_view_name": "LayoutView",
            "grid_template_rows": null,
            "right": null,
            "justify_content": null,
            "_view_module": "@jupyter-widgets/base",
            "overflow": null,
            "_model_module_version": "1.2.0",
            "_view_count": null,
            "flex_flow": null,
            "width": null,
            "min_width": null,
            "border": null,
            "align_items": null,
            "bottom": null,
            "_model_module": "@jupyter-widgets/base",
            "top": null,
            "grid_column": null,
            "overflow_y": null,
            "overflow_x": null,
            "grid_auto_flow": null,
            "grid_area": null,
            "grid_template_columns": null,
            "flex": null,
            "_model_name": "LayoutModel",
            "justify_items": null,
            "grid_row": null,
            "max_height": null,
            "align_content": null,
            "visibility": null,
            "align_self": null,
            "height": null,
            "min_height": null,
            "padding": null,
            "grid_auto_rows": null,
            "grid_gap": null,
            "max_width": null,
            "order": null,
            "_view_module_version": "1.2.0",
            "grid_template_areas": null,
            "object_position": null,
            "object_fit": null,
            "grid_auto_columns": null,
            "margin": null,
            "display": null,
            "left": null
          }
        }
      }
    }
  },
  "cells": [
    {
      "cell_type": "markdown",
      "metadata": {
        "id": "6dfJPT-2XMTB"
      },
      "source": [
        "# Install"
      ]
    },
    {
      "cell_type": "code",
      "metadata": {
        "id": "a193aGJWVaqb",
        "colab": {
          "base_uri": "https://localhost:8080/"
        },
        "outputId": "2bbf0fd3-8e6d-41c8-9a9d-3dbaad3aea0a"
      },
      "source": [
        "!pip install sentencepiece"
      ],
      "execution_count": 1,
      "outputs": [
        {
          "output_type": "stream",
          "text": [
            "Collecting sentencepiece\n",
            "\u001b[?25l  Downloading https://files.pythonhosted.org/packages/14/67/e42bd1181472c95c8cda79305df848264f2a7f62740995a46945d9797b67/sentencepiece-0.1.95-cp36-cp36m-manylinux2014_x86_64.whl (1.2MB)\n",
            "\u001b[K     |████████████████████████████████| 1.2MB 5.4MB/s \n",
            "\u001b[?25hInstalling collected packages: sentencepiece\n",
            "Successfully installed sentencepiece-0.1.95\n"
          ],
          "name": "stdout"
        }
      ]
    },
    {
      "cell_type": "markdown",
      "metadata": {
        "id": "JHkHg6XAXoyK"
      },
      "source": [
        "# Evn"
      ]
    },
    {
      "cell_type": "code",
      "metadata": {
        "id": "WkYXFwcBXJDG"
      },
      "source": [
        "import os\n",
        "import random\n",
        "import shutil\n",
        "import json\n",
        "import zipfile\n",
        "import math\n",
        "import copy\n",
        "import collections\n",
        "import re\n",
        "\n",
        "import matplotlib.pyplot as plt\n",
        "import seaborn as sns\n",
        "from wordcloud import WordCloud\n",
        "import pandas as pd\n",
        "import numpy as np\n",
        "import sentencepiece as spm\n",
        "import tensorflow as tf\n",
        "import tensorflow.keras.backend as K\n",
        "\n",
        "from tqdm.notebook import tqdm"
      ],
      "execution_count": 2,
      "outputs": []
    },
    {
      "cell_type": "code",
      "metadata": {
        "id": "nvjyruUlXtlR"
      },
      "source": [
        "# random seed initialize\n",
        "random_seed = 1234\n",
        "random.seed(random_seed)\n",
        "np.random.seed(random_seed)\n",
        "tf.random.set_seed(random_seed)"
      ],
      "execution_count": 3,
      "outputs": []
    },
    {
      "cell_type": "code",
      "metadata": {
        "id": "BC3fXkhdYcYt",
        "colab": {
          "base_uri": "https://localhost:8080/"
        },
        "outputId": "a101d3c2-0349-44f6-bc65-b791356cf326"
      },
      "source": [
        "!nvidia-smi"
      ],
      "execution_count": 4,
      "outputs": [
        {
          "output_type": "stream",
          "text": [
            "Fri Jan 29 16:49:25 2021       \n",
            "+-----------------------------------------------------------------------------+\n",
            "| NVIDIA-SMI 460.32.03    Driver Version: 418.67       CUDA Version: 10.1     |\n",
            "|-------------------------------+----------------------+----------------------+\n",
            "| GPU  Name        Persistence-M| Bus-Id        Disp.A | Volatile Uncorr. ECC |\n",
            "| Fan  Temp  Perf  Pwr:Usage/Cap|         Memory-Usage | GPU-Util  Compute M. |\n",
            "|                               |                      |               MIG M. |\n",
            "|===============================+======================+======================|\n",
            "|   0  Tesla K80           Off  | 00000000:00:04.0 Off |                    0 |\n",
            "| N/A   46C    P8    32W / 149W |      0MiB / 11441MiB |      0%      Default |\n",
            "|                               |                      |                 ERR! |\n",
            "+-------------------------------+----------------------+----------------------+\n",
            "                                                                               \n",
            "+-----------------------------------------------------------------------------+\n",
            "| Processes:                                                                  |\n",
            "|  GPU   GI   CI        PID   Type   Process name                  GPU Memory |\n",
            "|        ID   ID                                                   Usage      |\n",
            "|=============================================================================|\n",
            "|  No running processes found                                                 |\n",
            "+-----------------------------------------------------------------------------+\n"
          ],
          "name": "stdout"
        }
      ]
    },
    {
      "cell_type": "code",
      "metadata": {
        "id": "xVRdxYReYeQj",
        "colab": {
          "base_uri": "https://localhost:8080/"
        },
        "outputId": "d1275cc7-4fd4-4d17-feed-d9cb3ad08c15"
      },
      "source": [
        "# google drive mount\n",
        "from google.colab import drive\n",
        "drive.mount('/content/drive')"
      ],
      "execution_count": 5,
      "outputs": [
        {
          "output_type": "stream",
          "text": [
            "Mounted at /content/drive\n"
          ],
          "name": "stdout"
        }
      ]
    },
    {
      "cell_type": "code",
      "metadata": {
        "id": "byCIiLJBbFHh",
        "colab": {
          "base_uri": "https://localhost:8080/"
        },
        "outputId": "dfa25eaf-c756-4702-df95-1390fc1a3767"
      },
      "source": [
        "# data dir\n",
        "data_dir = '/content/drive/MyDrive/NLP_data'\n",
        "os.listdir(data_dir)"
      ],
      "execution_count": 7,
      "outputs": [
        {
          "output_type": "execute_result",
          "data": {
            "text/plain": [
              "['ko_32000.model', 'ko_32000.vocab', 'kowiki', '.ipynb_checkpoints', 'nsmc']"
            ]
          },
          "metadata": {
            "tags": []
          },
          "execution_count": 7
        }
      ]
    },
    {
      "cell_type": "code",
      "metadata": {
        "colab": {
          "base_uri": "https://localhost:8080/"
        },
        "id": "_Ru56YS3-SME",
        "outputId": "890eee35-cd21-491a-ddc5-a6e8e16a31d3"
      },
      "source": [
        "# nsmc dir\n",
        "nsmc_dir = os.path.join(data_dir, 'nsmc')\n",
        "if not os.path.exists(nsmc_dir):\n",
        "    os.makedirs(nsmc_dir)\n",
        "os.listdir(nsmc_dir)"
      ],
      "execution_count": 8,
      "outputs": [
        {
          "output_type": "execute_result",
          "data": {
            "text/plain": [
              "['ratings_train.txt', 'ratings_test.txt', 'stub.csv', 'stub.hdf5']"
            ]
          },
          "metadata": {
            "tags": []
          },
          "execution_count": 8
        }
      ]
    },
    {
      "cell_type": "markdown",
      "metadata": {
        "id": "XwriCkq_R1Lc"
      },
      "source": [
        "# Vocabulary & config"
      ]
    },
    {
      "cell_type": "code",
      "metadata": {
        "id": "2H0BLydCb7lg",
        "colab": {
          "base_uri": "https://localhost:8080/"
        },
        "outputId": "e8dd44ef-ba78-49c0-b8fa-6112fdf54ee3"
      },
      "source": [
        "# vocab loading\n",
        "vocab = spm.SentencePieceProcessor()\n",
        "vocab.load(os.path.join(data_dir, 'ko_32000.model'))"
      ],
      "execution_count": 9,
      "outputs": [
        {
          "output_type": "execute_result",
          "data": {
            "text/plain": [
              "True"
            ]
          },
          "metadata": {
            "tags": []
          },
          "execution_count": 9
        }
      ]
    },
    {
      "cell_type": "code",
      "metadata": {
        "id": "0ETZ19flTRmt"
      },
      "source": [
        "n_vocab = len(vocab)  # number of vocabulary\n",
        "n_seq = 47  # number of sequence\n",
        "d_model = 256  # dimension of model\n",
        "n_out = 2  # number of output class"
      ],
      "execution_count": 22,
      "outputs": []
    },
    {
      "cell_type": "markdown",
      "metadata": {
        "id": "3myBX8hNEH1u"
      },
      "source": [
        "# 모델링"
      ]
    },
    {
      "cell_type": "code",
      "metadata": {
        "id": "SobekkcjEX_P"
      },
      "source": [
        "def build_model(n_vocab, d_model, n_seq, n_out):\n",
        "    \"\"\"\n",
        "    문장의 감정분류 모델\n",
        "    :param n_vocab: vocabulary 단어 수\n",
        "    :param d_model: 단어를 의미하는 벡터의 차원 수\n",
        "    :param n_seq: 문장길이 (단어 수)\n",
        "    :param n_out: 예측할 class 개수\n",
        "    \"\"\"\n",
        "    inputs = tf.keras.layers.Input((n_seq,))  # (bs, n_seq)\n",
        "    # 입력 단어를 vector로 변환\n",
        "    embedding = tf.keras.layers.Embedding(n_vocab, d_model)\n",
        "    hidden = embedding(inputs)  # (bs, n_seq, d_model)\n",
        "    ################################\n",
        "    # RNN / CNN 등을 추가해 보세요.\n",
        "    rnn = tf.keras.layers.SimpleRNN(units=128, return_sequences=True)\n",
        "    hidden = rnn(hidden)\n",
        "    cnn_1 = tf.keras.layers.Conv1D(filters=64, kernel_size=5, padding='causal')\n",
        "    hidden = cnn_1(hidden)\n",
        "    cnn_2 = tf.keras.layers.Conv1D(filters=32, kernel_size=5, padding='valid')\n",
        "    hidden = cnn_2(hidden)\n",
        "    ################################\n",
        "    # 각 단어 벡터의 최대값 기준으로 벡터를 더해서 차원을 줄여줌 (문장 vector 생성)\n",
        "    pool = tf.keras.layers.GlobalMaxPool1D()\n",
        "    hidden_pool = pool(hidden)  # (bs, d_model)\n",
        "    # 문장 vector를 이용해서 긍정(1), 부정(0) 확률값 예측\n",
        "    linear = tf.keras.layers.Dense(2, activation=tf.nn.softmax)\n",
        "    outputs = linear(hidden_pool)  # (bs, n_out)\n",
        "    # 학습할 모델 선언\n",
        "    model = tf.keras.Model(inputs=inputs, outputs=outputs)\n",
        "    return model"
      ],
      "execution_count": 27,
      "outputs": []
    },
    {
      "cell_type": "code",
      "metadata": {
        "colab": {
          "base_uri": "https://localhost:8080/"
        },
        "id": "ShnMKzbhD9i5",
        "outputId": "b9a2e9cd-4184-4b95-93ee-81f1260c7253"
      },
      "source": [
        "len(vocab)"
      ],
      "execution_count": 21,
      "outputs": [
        {
          "output_type": "execute_result",
          "data": {
            "text/plain": [
              "32007"
            ]
          },
          "metadata": {
            "tags": []
          },
          "execution_count": 21
        }
      ]
    },
    {
      "cell_type": "markdown",
      "metadata": {
        "id": "yOqjtjEtgG_i"
      },
      "source": [
        "# All Data Project"
      ]
    },
    {
      "cell_type": "markdown",
      "metadata": {
        "id": "RZq-UvbOgG_j"
      },
      "source": [
        "## Data\n"
      ]
    },
    {
      "cell_type": "code",
      "metadata": {
        "id": "62llcRx9gG_j",
        "colab": {
          "base_uri": "https://localhost:8080/",
          "height": 419
        },
        "outputId": "459e805f-18b5-410f-a652-fefb46e1592b"
      },
      "source": [
        "# train data load\n",
        "df_train = pd.read_csv(os.path.join(nsmc_dir, 'ratings_train.txt'), delimiter='\\t')\n",
        "df_train"
      ],
      "execution_count": 11,
      "outputs": [
        {
          "output_type": "execute_result",
          "data": {
            "text/html": [
              "<div>\n",
              "<style scoped>\n",
              "    .dataframe tbody tr th:only-of-type {\n",
              "        vertical-align: middle;\n",
              "    }\n",
              "\n",
              "    .dataframe tbody tr th {\n",
              "        vertical-align: top;\n",
              "    }\n",
              "\n",
              "    .dataframe thead th {\n",
              "        text-align: right;\n",
              "    }\n",
              "</style>\n",
              "<table border=\"1\" class=\"dataframe\">\n",
              "  <thead>\n",
              "    <tr style=\"text-align: right;\">\n",
              "      <th></th>\n",
              "      <th>id</th>\n",
              "      <th>document</th>\n",
              "      <th>label</th>\n",
              "    </tr>\n",
              "  </thead>\n",
              "  <tbody>\n",
              "    <tr>\n",
              "      <th>0</th>\n",
              "      <td>9976970</td>\n",
              "      <td>아 더빙.. 진짜 짜증나네요 목소리</td>\n",
              "      <td>0</td>\n",
              "    </tr>\n",
              "    <tr>\n",
              "      <th>1</th>\n",
              "      <td>3819312</td>\n",
              "      <td>흠...포스터보고 초딩영화줄....오버연기조차 가볍지 않구나</td>\n",
              "      <td>1</td>\n",
              "    </tr>\n",
              "    <tr>\n",
              "      <th>2</th>\n",
              "      <td>10265843</td>\n",
              "      <td>너무재밓었다그래서보는것을추천한다</td>\n",
              "      <td>0</td>\n",
              "    </tr>\n",
              "    <tr>\n",
              "      <th>3</th>\n",
              "      <td>9045019</td>\n",
              "      <td>교도소 이야기구먼 ..솔직히 재미는 없다..평점 조정</td>\n",
              "      <td>0</td>\n",
              "    </tr>\n",
              "    <tr>\n",
              "      <th>4</th>\n",
              "      <td>6483659</td>\n",
              "      <td>사이몬페그의 익살스런 연기가 돋보였던 영화!스파이더맨에서 늙어보이기만 했던 커스틴 ...</td>\n",
              "      <td>1</td>\n",
              "    </tr>\n",
              "    <tr>\n",
              "      <th>...</th>\n",
              "      <td>...</td>\n",
              "      <td>...</td>\n",
              "      <td>...</td>\n",
              "    </tr>\n",
              "    <tr>\n",
              "      <th>149995</th>\n",
              "      <td>6222902</td>\n",
              "      <td>인간이 문제지.. 소는 뭔죄인가..</td>\n",
              "      <td>0</td>\n",
              "    </tr>\n",
              "    <tr>\n",
              "      <th>149996</th>\n",
              "      <td>8549745</td>\n",
              "      <td>평점이 너무 낮아서...</td>\n",
              "      <td>1</td>\n",
              "    </tr>\n",
              "    <tr>\n",
              "      <th>149997</th>\n",
              "      <td>9311800</td>\n",
              "      <td>이게 뭐요? 한국인은 거들먹거리고 필리핀 혼혈은 착하다?</td>\n",
              "      <td>0</td>\n",
              "    </tr>\n",
              "    <tr>\n",
              "      <th>149998</th>\n",
              "      <td>2376369</td>\n",
              "      <td>청춘 영화의 최고봉.방황과 우울했던 날들의 자화상</td>\n",
              "      <td>1</td>\n",
              "    </tr>\n",
              "    <tr>\n",
              "      <th>149999</th>\n",
              "      <td>9619869</td>\n",
              "      <td>한국 영화 최초로 수간하는 내용이 담긴 영화</td>\n",
              "      <td>0</td>\n",
              "    </tr>\n",
              "  </tbody>\n",
              "</table>\n",
              "<p>150000 rows × 3 columns</p>\n",
              "</div>"
            ],
            "text/plain": [
              "              id                                           document  label\n",
              "0        9976970                                아 더빙.. 진짜 짜증나네요 목소리      0\n",
              "1        3819312                  흠...포스터보고 초딩영화줄....오버연기조차 가볍지 않구나      1\n",
              "2       10265843                                  너무재밓었다그래서보는것을추천한다      0\n",
              "3        9045019                      교도소 이야기구먼 ..솔직히 재미는 없다..평점 조정      0\n",
              "4        6483659  사이몬페그의 익살스런 연기가 돋보였던 영화!스파이더맨에서 늙어보이기만 했던 커스틴 ...      1\n",
              "...          ...                                                ...    ...\n",
              "149995   6222902                                인간이 문제지.. 소는 뭔죄인가..      0\n",
              "149996   8549745                                      평점이 너무 낮아서...      1\n",
              "149997   9311800                    이게 뭐요? 한국인은 거들먹거리고 필리핀 혼혈은 착하다?      0\n",
              "149998   2376369                        청춘 영화의 최고봉.방황과 우울했던 날들의 자화상      1\n",
              "149999   9619869                           한국 영화 최초로 수간하는 내용이 담긴 영화      0\n",
              "\n",
              "[150000 rows x 3 columns]"
            ]
          },
          "metadata": {
            "tags": []
          },
          "execution_count": 11
        }
      ]
    },
    {
      "cell_type": "code",
      "metadata": {
        "id": "UnjJp4r4gG_k",
        "colab": {
          "base_uri": "https://localhost:8080/",
          "height": 419
        },
        "outputId": "42400884-b85d-44b4-8632-edcd610e4bf3"
      },
      "source": [
        "# train null 데이터 제거\n",
        "df_train = df_train.dropna()\n",
        "df_train"
      ],
      "execution_count": 12,
      "outputs": [
        {
          "output_type": "execute_result",
          "data": {
            "text/html": [
              "<div>\n",
              "<style scoped>\n",
              "    .dataframe tbody tr th:only-of-type {\n",
              "        vertical-align: middle;\n",
              "    }\n",
              "\n",
              "    .dataframe tbody tr th {\n",
              "        vertical-align: top;\n",
              "    }\n",
              "\n",
              "    .dataframe thead th {\n",
              "        text-align: right;\n",
              "    }\n",
              "</style>\n",
              "<table border=\"1\" class=\"dataframe\">\n",
              "  <thead>\n",
              "    <tr style=\"text-align: right;\">\n",
              "      <th></th>\n",
              "      <th>id</th>\n",
              "      <th>document</th>\n",
              "      <th>label</th>\n",
              "    </tr>\n",
              "  </thead>\n",
              "  <tbody>\n",
              "    <tr>\n",
              "      <th>0</th>\n",
              "      <td>9976970</td>\n",
              "      <td>아 더빙.. 진짜 짜증나네요 목소리</td>\n",
              "      <td>0</td>\n",
              "    </tr>\n",
              "    <tr>\n",
              "      <th>1</th>\n",
              "      <td>3819312</td>\n",
              "      <td>흠...포스터보고 초딩영화줄....오버연기조차 가볍지 않구나</td>\n",
              "      <td>1</td>\n",
              "    </tr>\n",
              "    <tr>\n",
              "      <th>2</th>\n",
              "      <td>10265843</td>\n",
              "      <td>너무재밓었다그래서보는것을추천한다</td>\n",
              "      <td>0</td>\n",
              "    </tr>\n",
              "    <tr>\n",
              "      <th>3</th>\n",
              "      <td>9045019</td>\n",
              "      <td>교도소 이야기구먼 ..솔직히 재미는 없다..평점 조정</td>\n",
              "      <td>0</td>\n",
              "    </tr>\n",
              "    <tr>\n",
              "      <th>4</th>\n",
              "      <td>6483659</td>\n",
              "      <td>사이몬페그의 익살스런 연기가 돋보였던 영화!스파이더맨에서 늙어보이기만 했던 커스틴 ...</td>\n",
              "      <td>1</td>\n",
              "    </tr>\n",
              "    <tr>\n",
              "      <th>...</th>\n",
              "      <td>...</td>\n",
              "      <td>...</td>\n",
              "      <td>...</td>\n",
              "    </tr>\n",
              "    <tr>\n",
              "      <th>149995</th>\n",
              "      <td>6222902</td>\n",
              "      <td>인간이 문제지.. 소는 뭔죄인가..</td>\n",
              "      <td>0</td>\n",
              "    </tr>\n",
              "    <tr>\n",
              "      <th>149996</th>\n",
              "      <td>8549745</td>\n",
              "      <td>평점이 너무 낮아서...</td>\n",
              "      <td>1</td>\n",
              "    </tr>\n",
              "    <tr>\n",
              "      <th>149997</th>\n",
              "      <td>9311800</td>\n",
              "      <td>이게 뭐요? 한국인은 거들먹거리고 필리핀 혼혈은 착하다?</td>\n",
              "      <td>0</td>\n",
              "    </tr>\n",
              "    <tr>\n",
              "      <th>149998</th>\n",
              "      <td>2376369</td>\n",
              "      <td>청춘 영화의 최고봉.방황과 우울했던 날들의 자화상</td>\n",
              "      <td>1</td>\n",
              "    </tr>\n",
              "    <tr>\n",
              "      <th>149999</th>\n",
              "      <td>9619869</td>\n",
              "      <td>한국 영화 최초로 수간하는 내용이 담긴 영화</td>\n",
              "      <td>0</td>\n",
              "    </tr>\n",
              "  </tbody>\n",
              "</table>\n",
              "<p>149995 rows × 3 columns</p>\n",
              "</div>"
            ],
            "text/plain": [
              "              id                                           document  label\n",
              "0        9976970                                아 더빙.. 진짜 짜증나네요 목소리      0\n",
              "1        3819312                  흠...포스터보고 초딩영화줄....오버연기조차 가볍지 않구나      1\n",
              "2       10265843                                  너무재밓었다그래서보는것을추천한다      0\n",
              "3        9045019                      교도소 이야기구먼 ..솔직히 재미는 없다..평점 조정      0\n",
              "4        6483659  사이몬페그의 익살스런 연기가 돋보였던 영화!스파이더맨에서 늙어보이기만 했던 커스틴 ...      1\n",
              "...          ...                                                ...    ...\n",
              "149995   6222902                                인간이 문제지.. 소는 뭔죄인가..      0\n",
              "149996   8549745                                      평점이 너무 낮아서...      1\n",
              "149997   9311800                    이게 뭐요? 한국인은 거들먹거리고 필리핀 혼혈은 착하다?      0\n",
              "149998   2376369                        청춘 영화의 최고봉.방황과 우울했던 날들의 자화상      1\n",
              "149999   9619869                           한국 영화 최초로 수간하는 내용이 담긴 영화      0\n",
              "\n",
              "[149995 rows x 3 columns]"
            ]
          },
          "metadata": {
            "tags": []
          },
          "execution_count": 12
        }
      ]
    },
    {
      "cell_type": "code",
      "metadata": {
        "id": "9Xq3hIWugG_k",
        "colab": {
          "base_uri": "https://localhost:8080/",
          "height": 419
        },
        "outputId": "c2712d09-b9e0-473a-f2fd-64a6c5910324"
      },
      "source": [
        "# test data load\n",
        "df_test = pd.read_csv(os.path.join(nsmc_dir, 'ratings_test.txt'), delimiter='\\t')\n",
        "df_test"
      ],
      "execution_count": 13,
      "outputs": [
        {
          "output_type": "execute_result",
          "data": {
            "text/html": [
              "<div>\n",
              "<style scoped>\n",
              "    .dataframe tbody tr th:only-of-type {\n",
              "        vertical-align: middle;\n",
              "    }\n",
              "\n",
              "    .dataframe tbody tr th {\n",
              "        vertical-align: top;\n",
              "    }\n",
              "\n",
              "    .dataframe thead th {\n",
              "        text-align: right;\n",
              "    }\n",
              "</style>\n",
              "<table border=\"1\" class=\"dataframe\">\n",
              "  <thead>\n",
              "    <tr style=\"text-align: right;\">\n",
              "      <th></th>\n",
              "      <th>id</th>\n",
              "      <th>document</th>\n",
              "      <th>label</th>\n",
              "    </tr>\n",
              "  </thead>\n",
              "  <tbody>\n",
              "    <tr>\n",
              "      <th>0</th>\n",
              "      <td>6270596</td>\n",
              "      <td>굳 ㅋ</td>\n",
              "      <td>1</td>\n",
              "    </tr>\n",
              "    <tr>\n",
              "      <th>1</th>\n",
              "      <td>9274899</td>\n",
              "      <td>GDNTOPCLASSINTHECLUB</td>\n",
              "      <td>0</td>\n",
              "    </tr>\n",
              "    <tr>\n",
              "      <th>2</th>\n",
              "      <td>8544678</td>\n",
              "      <td>뭐야 이 평점들은.... 나쁘진 않지만 10점 짜리는 더더욱 아니잖아</td>\n",
              "      <td>0</td>\n",
              "    </tr>\n",
              "    <tr>\n",
              "      <th>3</th>\n",
              "      <td>6825595</td>\n",
              "      <td>지루하지는 않은데 완전 막장임... 돈주고 보기에는....</td>\n",
              "      <td>0</td>\n",
              "    </tr>\n",
              "    <tr>\n",
              "      <th>4</th>\n",
              "      <td>6723715</td>\n",
              "      <td>3D만 아니었어도 별 다섯 개 줬을텐데.. 왜 3D로 나와서 제 심기를 불편하게 하죠??</td>\n",
              "      <td>0</td>\n",
              "    </tr>\n",
              "    <tr>\n",
              "      <th>...</th>\n",
              "      <td>...</td>\n",
              "      <td>...</td>\n",
              "      <td>...</td>\n",
              "    </tr>\n",
              "    <tr>\n",
              "      <th>49995</th>\n",
              "      <td>4608761</td>\n",
              "      <td>오랜만에 평점 로긴했네ㅋㅋ 킹왕짱 쌈뽕한 영화를 만났습니다 강렬하게 육쾌함</td>\n",
              "      <td>1</td>\n",
              "    </tr>\n",
              "    <tr>\n",
              "      <th>49996</th>\n",
              "      <td>5308387</td>\n",
              "      <td>의지 박약들이나 하는거다 탈영은 일단 주인공 김대희 닮았고 이등병 찐따 OOOO</td>\n",
              "      <td>0</td>\n",
              "    </tr>\n",
              "    <tr>\n",
              "      <th>49997</th>\n",
              "      <td>9072549</td>\n",
              "      <td>그림도 좋고 완성도도 높았지만... 보는 내내 불안하게 만든다</td>\n",
              "      <td>0</td>\n",
              "    </tr>\n",
              "    <tr>\n",
              "      <th>49998</th>\n",
              "      <td>5802125</td>\n",
              "      <td>절대 봐서는 안 될 영화.. 재미도 없고 기분만 잡치고.. 한 세트장에서 다 해먹네</td>\n",
              "      <td>0</td>\n",
              "    </tr>\n",
              "    <tr>\n",
              "      <th>49999</th>\n",
              "      <td>6070594</td>\n",
              "      <td>마무리는 또 왜이래</td>\n",
              "      <td>0</td>\n",
              "    </tr>\n",
              "  </tbody>\n",
              "</table>\n",
              "<p>50000 rows × 3 columns</p>\n",
              "</div>"
            ],
            "text/plain": [
              "            id                                           document  label\n",
              "0      6270596                                                굳 ㅋ      1\n",
              "1      9274899                               GDNTOPCLASSINTHECLUB      0\n",
              "2      8544678             뭐야 이 평점들은.... 나쁘진 않지만 10점 짜리는 더더욱 아니잖아      0\n",
              "3      6825595                   지루하지는 않은데 완전 막장임... 돈주고 보기에는....      0\n",
              "4      6723715  3D만 아니었어도 별 다섯 개 줬을텐데.. 왜 3D로 나와서 제 심기를 불편하게 하죠??      0\n",
              "...        ...                                                ...    ...\n",
              "49995  4608761          오랜만에 평점 로긴했네ㅋㅋ 킹왕짱 쌈뽕한 영화를 만났습니다 강렬하게 육쾌함      1\n",
              "49996  5308387       의지 박약들이나 하는거다 탈영은 일단 주인공 김대희 닮았고 이등병 찐따 OOOO      0\n",
              "49997  9072549                 그림도 좋고 완성도도 높았지만... 보는 내내 불안하게 만든다      0\n",
              "49998  5802125     절대 봐서는 안 될 영화.. 재미도 없고 기분만 잡치고.. 한 세트장에서 다 해먹네      0\n",
              "49999  6070594                                         마무리는 또 왜이래      0\n",
              "\n",
              "[50000 rows x 3 columns]"
            ]
          },
          "metadata": {
            "tags": []
          },
          "execution_count": 13
        }
      ]
    },
    {
      "cell_type": "code",
      "metadata": {
        "id": "nzPZVnEBgG_k",
        "colab": {
          "base_uri": "https://localhost:8080/",
          "height": 419
        },
        "outputId": "42db0015-eb4e-441e-f003-4abed13c5364"
      },
      "source": [
        "# test null 데이터 제거\n",
        "df_test = df_test.dropna()\n",
        "df_test"
      ],
      "execution_count": 14,
      "outputs": [
        {
          "output_type": "execute_result",
          "data": {
            "text/html": [
              "<div>\n",
              "<style scoped>\n",
              "    .dataframe tbody tr th:only-of-type {\n",
              "        vertical-align: middle;\n",
              "    }\n",
              "\n",
              "    .dataframe tbody tr th {\n",
              "        vertical-align: top;\n",
              "    }\n",
              "\n",
              "    .dataframe thead th {\n",
              "        text-align: right;\n",
              "    }\n",
              "</style>\n",
              "<table border=\"1\" class=\"dataframe\">\n",
              "  <thead>\n",
              "    <tr style=\"text-align: right;\">\n",
              "      <th></th>\n",
              "      <th>id</th>\n",
              "      <th>document</th>\n",
              "      <th>label</th>\n",
              "    </tr>\n",
              "  </thead>\n",
              "  <tbody>\n",
              "    <tr>\n",
              "      <th>0</th>\n",
              "      <td>6270596</td>\n",
              "      <td>굳 ㅋ</td>\n",
              "      <td>1</td>\n",
              "    </tr>\n",
              "    <tr>\n",
              "      <th>1</th>\n",
              "      <td>9274899</td>\n",
              "      <td>GDNTOPCLASSINTHECLUB</td>\n",
              "      <td>0</td>\n",
              "    </tr>\n",
              "    <tr>\n",
              "      <th>2</th>\n",
              "      <td>8544678</td>\n",
              "      <td>뭐야 이 평점들은.... 나쁘진 않지만 10점 짜리는 더더욱 아니잖아</td>\n",
              "      <td>0</td>\n",
              "    </tr>\n",
              "    <tr>\n",
              "      <th>3</th>\n",
              "      <td>6825595</td>\n",
              "      <td>지루하지는 않은데 완전 막장임... 돈주고 보기에는....</td>\n",
              "      <td>0</td>\n",
              "    </tr>\n",
              "    <tr>\n",
              "      <th>4</th>\n",
              "      <td>6723715</td>\n",
              "      <td>3D만 아니었어도 별 다섯 개 줬을텐데.. 왜 3D로 나와서 제 심기를 불편하게 하죠??</td>\n",
              "      <td>0</td>\n",
              "    </tr>\n",
              "    <tr>\n",
              "      <th>...</th>\n",
              "      <td>...</td>\n",
              "      <td>...</td>\n",
              "      <td>...</td>\n",
              "    </tr>\n",
              "    <tr>\n",
              "      <th>49995</th>\n",
              "      <td>4608761</td>\n",
              "      <td>오랜만에 평점 로긴했네ㅋㅋ 킹왕짱 쌈뽕한 영화를 만났습니다 강렬하게 육쾌함</td>\n",
              "      <td>1</td>\n",
              "    </tr>\n",
              "    <tr>\n",
              "      <th>49996</th>\n",
              "      <td>5308387</td>\n",
              "      <td>의지 박약들이나 하는거다 탈영은 일단 주인공 김대희 닮았고 이등병 찐따 OOOO</td>\n",
              "      <td>0</td>\n",
              "    </tr>\n",
              "    <tr>\n",
              "      <th>49997</th>\n",
              "      <td>9072549</td>\n",
              "      <td>그림도 좋고 완성도도 높았지만... 보는 내내 불안하게 만든다</td>\n",
              "      <td>0</td>\n",
              "    </tr>\n",
              "    <tr>\n",
              "      <th>49998</th>\n",
              "      <td>5802125</td>\n",
              "      <td>절대 봐서는 안 될 영화.. 재미도 없고 기분만 잡치고.. 한 세트장에서 다 해먹네</td>\n",
              "      <td>0</td>\n",
              "    </tr>\n",
              "    <tr>\n",
              "      <th>49999</th>\n",
              "      <td>6070594</td>\n",
              "      <td>마무리는 또 왜이래</td>\n",
              "      <td>0</td>\n",
              "    </tr>\n",
              "  </tbody>\n",
              "</table>\n",
              "<p>49997 rows × 3 columns</p>\n",
              "</div>"
            ],
            "text/plain": [
              "            id                                           document  label\n",
              "0      6270596                                                굳 ㅋ      1\n",
              "1      9274899                               GDNTOPCLASSINTHECLUB      0\n",
              "2      8544678             뭐야 이 평점들은.... 나쁘진 않지만 10점 짜리는 더더욱 아니잖아      0\n",
              "3      6825595                   지루하지는 않은데 완전 막장임... 돈주고 보기에는....      0\n",
              "4      6723715  3D만 아니었어도 별 다섯 개 줬을텐데.. 왜 3D로 나와서 제 심기를 불편하게 하죠??      0\n",
              "...        ...                                                ...    ...\n",
              "49995  4608761          오랜만에 평점 로긴했네ㅋㅋ 킹왕짱 쌈뽕한 영화를 만났습니다 강렬하게 육쾌함      1\n",
              "49996  5308387       의지 박약들이나 하는거다 탈영은 일단 주인공 김대희 닮았고 이등병 찐따 OOOO      0\n",
              "49997  9072549                 그림도 좋고 완성도도 높았지만... 보는 내내 불안하게 만든다      0\n",
              "49998  5802125     절대 봐서는 안 될 영화.. 재미도 없고 기분만 잡치고.. 한 세트장에서 다 해먹네      0\n",
              "49999  6070594                                         마무리는 또 왜이래      0\n",
              "\n",
              "[49997 rows x 3 columns]"
            ]
          },
          "metadata": {
            "tags": []
          },
          "execution_count": 14
        }
      ]
    },
    {
      "cell_type": "code",
      "metadata": {
        "id": "np9hbxHIgG_l"
      },
      "source": [
        "def load_data(df, n_seq):\n",
        "    \"\"\"\n",
        "    NSMC 학습 데이터 생성\n",
        "    :param df: data frame\n",
        "    :param n_seq: number of sequence\n",
        "    :return inputs: input data\n",
        "    :return labels: label data\n",
        "    \"\"\"\n",
        "    inputs = np.zeros((len(df), n_seq)).astype(np.int32)\n",
        "    labels = np.zeros((len(df),))\n",
        "    index = 0\n",
        "    for i, row in tqdm(df.iterrows(), total=len(df)):\n",
        "        # tokens 저장\n",
        "        # print()\n",
        "        label = row['label']\n",
        "        document = row['document']\n",
        "        # print(label, document)\n",
        "        tokens = vocab.encode_as_pieces(document)\n",
        "        # print(len(tokens), ':', tokens)\n",
        "        token_ids = vocab.encode_as_ids(document)\n",
        "        # print(len(token_ids), ':', token_ids)\n",
        "        token_ids = token_ids[:n_seq]\n",
        "        # print(len(token_ids), ':', token_ids)\n",
        "        token_ids += [0] * (n_seq - len(token_ids))\n",
        "        # print(len(token_ids), ':', token_ids)\n",
        "\n",
        "        labels[index] = label\n",
        "        inputs[index] = token_ids\n",
        "        index += 1\n",
        "    return inputs, labels"
      ],
      "execution_count": 15,
      "outputs": []
    },
    {
      "cell_type": "code",
      "metadata": {
        "id": "RR4l0G_OgG_l",
        "colab": {
          "base_uri": "https://localhost:8080/",
          "height": 202,
          "referenced_widgets": [
            "f11b012a5d7243969be929eb4d415bf6",
            "247b5fd3fbcd44e3bca5be0e5970c52f",
            "e7e0e264900943dc8a877e2c7a10c053",
            "19c753829c4d470c9284f1df4292068a",
            "89cd60ecb5c04645aad4f705aed1cb54",
            "8d6f808e6a3b45a58661975f50c7a04a",
            "1ea07a26d3ef47bfa3c487a5518b92ce",
            "35f1dc2dd51c4aaa8aef53807e20d5e2"
          ]
        },
        "outputId": "b8ef7be6-1a5b-49a1-dfa9-8a10573a4eee"
      },
      "source": [
        "# train data 생성\n",
        "train_inputs, train_labels = load_data(df_train, n_seq)\n",
        "train_inputs, train_labels"
      ],
      "execution_count": 16,
      "outputs": [
        {
          "output_type": "display_data",
          "data": {
            "application/vnd.jupyter.widget-view+json": {
              "model_id": "f11b012a5d7243969be929eb4d415bf6",
              "version_minor": 0,
              "version_major": 2
            },
            "text/plain": [
              "HBox(children=(FloatProgress(value=0.0, max=149995.0), HTML(value='')))"
            ]
          },
          "metadata": {
            "tags": []
          }
        },
        {
          "output_type": "stream",
          "text": [
            "\n"
          ],
          "name": "stdout"
        },
        {
          "output_type": "execute_result",
          "data": {
            "text/plain": [
              "(array([[  188, 16337,     7, ...,     0,     0,     0],\n",
              "        [15825,     7,     7, ...,     0,     0,     0],\n",
              "        [ 2329,   349,     1, ...,     0,     0,     0],\n",
              "        ...,\n",
              "        [   29,   128, 19999, ...,     0,     0,     0],\n",
              "        [14943,  7071,   802, ...,     0,     0,     0],\n",
              "        [  253,   321,  1071, ...,     0,     0,     0]], dtype=int32),\n",
              " array([0., 1., 0., ..., 0., 1., 0.]))"
            ]
          },
          "metadata": {
            "tags": []
          },
          "execution_count": 16
        }
      ]
    },
    {
      "cell_type": "code",
      "metadata": {
        "id": "5EI5jjPYgG_m",
        "colab": {
          "base_uri": "https://localhost:8080/",
          "height": 202,
          "referenced_widgets": [
            "a0bd0d15727141d69d2998dd04df93b1",
            "5f382f3811f84972b1bbe7e393a32f4f",
            "e003fa7640594294952ae05bbd3df9f9",
            "02c68eda3c7148c8a6bfd816ab6b7d69",
            "a18b3ab7b51d41ad8aa7d0f19b34ba4e",
            "307aea42cd684d9da77dd953027a6609",
            "3870f8cc394e4db0ac5eb6cee923ed37",
            "133be41c932c410a8e367706b347a3b8"
          ]
        },
        "outputId": "98d1d345-5a0f-479e-a940-7df6d5afeec8"
      },
      "source": [
        "# test data 생성\n",
        "test_inputs, test_labels = load_data(df_test, n_seq)\n",
        "test_inputs, test_labels"
      ],
      "execution_count": 17,
      "outputs": [
        {
          "output_type": "display_data",
          "data": {
            "application/vnd.jupyter.widget-view+json": {
              "model_id": "a0bd0d15727141d69d2998dd04df93b1",
              "version_minor": 0,
              "version_major": 2
            },
            "text/plain": [
              "HBox(children=(FloatProgress(value=0.0, max=49997.0), HTML(value='')))"
            ]
          },
          "metadata": {
            "tags": []
          }
        },
        {
          "output_type": "stream",
          "text": [
            "\n"
          ],
          "name": "stdout"
        },
        {
          "output_type": "execute_result",
          "data": {
            "text/plain": [
              "(array([[ 5441,    10, 31026, ...,     0,     0,     0],\n",
              "        [  618,   509,   798, ...,     0,     0,     0],\n",
              "        [19999,   173,    29, ...,     0,     0,     0],\n",
              "        ...,\n",
              "        [ 2087,    32, 22687, ...,     0,     0,     0],\n",
              "        [ 3991, 27855,    11, ...,     0,     0,     0],\n",
              "        [ 4404,    11,   375, ...,     0,     0,     0]], dtype=int32),\n",
              " array([1., 0., 0., ..., 0., 0., 0.]))"
            ]
          },
          "metadata": {
            "tags": []
          },
          "execution_count": 17
        }
      ]
    },
    {
      "cell_type": "markdown",
      "metadata": {
        "id": "QbzBPXwqgG_n"
      },
      "source": [
        "## 학습"
      ]
    },
    {
      "cell_type": "code",
      "metadata": {
        "id": "xtECC96EgG_n",
        "colab": {
          "base_uri": "https://localhost:8080/",
          "height": 754
        },
        "outputId": "af9bd013-5473-46df-995b-855054320bb5"
      },
      "source": [
        "# 모델 생성\n",
        "model = build_model(len(vocab), d_model, n_seq, n_out)\n",
        "# 모델 내용 그래프 출력\n",
        "tf.keras.utils.plot_model(model, 'model.png', show_shapes=True)"
      ],
      "execution_count": 28,
      "outputs": [
        {
          "output_type": "execute_result",
          "data": {
            "image/png": "[encoded data removed]",
            "text/plain": [
              "<IPython.core.display.Image object>"
            ]
          },
          "metadata": {
            "tags": []
          },
          "execution_count": 28
        }
      ]
    },
    {
      "cell_type": "code",
      "metadata": {
        "id": "IsiZts95gG_n"
      },
      "source": [
        "# 모델 loss, optimizer, metric 정의\n",
        "model.compile(loss='sparse_categorical_crossentropy', optimizer='adam', metrics=['accuracy'])"
      ],
      "execution_count": 29,
      "outputs": []
    },
    {
      "cell_type": "code",
      "metadata": {
        "id": "0iFOHw2agG_n"
      },
      "source": [
        "# early stopping\n",
        "early_stopping = tf.keras.callbacks.EarlyStopping(monitor='val_accuracy', patience=5)\n",
        "# save weights callback\n",
        "save_weights = tf.keras.callbacks.ModelCheckpoint(os.path.join(nsmc_dir, 'stub.hdf5'),\n",
        "                                                  monitor='val_accuracy',\n",
        "                                                  verbose=1,\n",
        "                                                  save_best_only=True,\n",
        "                                                  mode=\"max\",\n",
        "                                                  save_freq=\"epoch\",\n",
        "                                                  save_weights_only=True)\n",
        "# csv logger\n",
        "csv_logger = tf.keras.callbacks.CSVLogger(os.path.join(nsmc_dir, 'stub.csv'))"
      ],
      "execution_count": 30,
      "outputs": []
    },
    {
      "cell_type": "code",
      "metadata": {
        "id": "9-ONLlbbgG_o",
        "colab": {
          "base_uri": "https://localhost:8080/"
        },
        "outputId": "3640ae6b-fccc-4ef5-df78-92591cdcb035"
      },
      "source": [
        "# 모델 학습\n",
        "history = model.fit(train_inputs,\n",
        "                    train_labels,\n",
        "                    validation_data=(test_inputs, test_labels),\n",
        "                    epochs=100,\n",
        "                    batch_size=256,\n",
        "                    callbacks=[early_stopping, save_weights, csv_logger])"
      ],
      "execution_count": 31,
      "outputs": [
        {
          "output_type": "stream",
          "text": [
            "Epoch 1/100\n",
            "586/586 [==============================] - 95s 159ms/step - loss: 0.4619 - accuracy: 0.7684 - val_loss: 0.3480 - val_accuracy: 0.8480\n",
            "\n",
            "Epoch 00001: val_accuracy improved from -inf to 0.84797, saving model to /content/drive/MyDrive/NLP_data/nsmc/stub.hdf5\n",
            "Epoch 2/100\n",
            "586/586 [==============================] - 91s 156ms/step - loss: 0.2759 - accuracy: 0.8876 - val_loss: 0.3590 - val_accuracy: 0.8488\n",
            "\n",
            "Epoch 00002: val_accuracy improved from 0.84797 to 0.84883, saving model to /content/drive/MyDrive/NLP_data/nsmc/stub.hdf5\n",
            "Epoch 3/100\n",
            "586/586 [==============================] - 91s 156ms/step - loss: 0.1957 - accuracy: 0.9249 - val_loss: 0.3800 - val_accuracy: 0.8434\n",
            "\n",
            "Epoch 00003: val_accuracy did not improve from 0.84883\n",
            "Epoch 4/100\n",
            "586/586 [==============================] - 91s 155ms/step - loss: 0.1372 - accuracy: 0.9507 - val_loss: 0.4775 - val_accuracy: 0.8328\n",
            "\n",
            "Epoch 00004: val_accuracy did not improve from 0.84883\n",
            "Epoch 5/100\n",
            "586/586 [==============================] - 90s 154ms/step - loss: 0.0947 - accuracy: 0.9662 - val_loss: 0.5133 - val_accuracy: 0.8346\n",
            "\n",
            "Epoch 00005: val_accuracy did not improve from 0.84883\n",
            "Epoch 6/100\n",
            "586/586 [==============================] - 90s 153ms/step - loss: 0.0728 - accuracy: 0.9746 - val_loss: 0.5928 - val_accuracy: 0.8367\n",
            "\n",
            "Epoch 00006: val_accuracy did not improve from 0.84883\n",
            "Epoch 7/100\n",
            "586/586 [==============================] - 91s 155ms/step - loss: 0.0614 - accuracy: 0.9788 - val_loss: 0.6780 - val_accuracy: 0.8330\n",
            "\n",
            "Epoch 00007: val_accuracy did not improve from 0.84883\n"
          ],
          "name": "stdout"
        }
      ]
    },
    {
      "cell_type": "code",
      "metadata": {
        "id": "GOHTftS4gG_o",
        "colab": {
          "base_uri": "https://localhost:8080/",
          "height": 281
        },
        "outputId": "605f8726-7e8e-4aab-9eff-7c35509b691f"
      },
      "source": [
        "plt.figure(figsize=(12, 4))\n",
        "\n",
        "plt.subplot(1, 2, 1)\n",
        "plt.plot(history.history['loss'], 'b-', label='loss')\n",
        "plt.plot(history.history['val_loss'], 'r--', label='val_loss')\n",
        "plt.xlabel('Epoch')\n",
        "plt.legend()\n",
        "\n",
        "plt.subplot(1, 2, 2)\n",
        "plt.plot(history.history['accuracy'], 'g-', label='acc')\n",
        "plt.plot(history.history['val_accuracy'], 'k--', label='val_acc')\n",
        "plt.xlabel('Epoch')\n",
        "plt.legend()\n",
        "\n",
        "plt.show()"
      ],
      "execution_count": 32,
      "outputs": [
        {
          "output_type": "display_data",
          "data": {
            "image/png": "[encoded data removed]",
            "text/plain": [
              "<Figure size 864x288 with 2 Axes>"
            ]
          },
          "metadata": {
            "tags": [],
            "needs_background": "light"
          }
        }
      ]
    },
    {
      "cell_type": "markdown",
      "metadata": {
        "id": "fFOkITDzgG_o"
      },
      "source": [
        "## Inference"
      ]
    },
    {
      "cell_type": "code",
      "metadata": {
        "id": "ghiWYAgUgG_o"
      },
      "source": [
        "# 모델 생성\n",
        "model = build_model(n_vocab, d_model, n_seq, n_out)\n",
        "# train weight로 초기화\n",
        "model.load_weights(os.path.join(nsmc_dir, 'stub.hdf5'))"
      ],
      "execution_count": 33,
      "outputs": []
    },
    {
      "cell_type": "code",
      "metadata": {
        "id": "Ws6V1OYgqpRC",
        "colab": {
          "base_uri": "https://localhost:8080/"
        },
        "outputId": "20cf4d33-10fd-4d7d-f8ac-09240677cee2"
      },
      "source": [
        "# 예측\n",
        "logits = model.predict(test_inputs)\n",
        "logits"
      ],
      "execution_count": 34,
      "outputs": [
        {
          "output_type": "execute_result",
          "data": {
            "text/plain": [
              "array([[0.02350953, 0.9764905 ],\n",
              "       [0.04512721, 0.9548728 ],\n",
              "       [0.5420656 , 0.45793438],\n",
              "       ...,\n",
              "       [0.0089578 , 0.99104214],\n",
              "       [0.9988066 , 0.00119338],\n",
              "       [0.7530833 , 0.24691674]], dtype=float32)"
            ]
          },
          "metadata": {
            "tags": []
          },
          "execution_count": 34
        }
      ]
    },
    {
      "cell_type": "code",
      "metadata": {
        "id": "RIacdlGorCBr",
        "colab": {
          "base_uri": "https://localhost:8080/"
        },
        "outputId": "b73d01e5-e296-4e5f-cee6-e6794075025a"
      },
      "source": [
        "# 확률 최대 값을 예측으로 사용\n",
        "test_preds = np.argmax(logits, axis=-1)\n",
        "test_preds"
      ],
      "execution_count": 35,
      "outputs": [
        {
          "output_type": "execute_result",
          "data": {
            "text/plain": [
              "array([1, 1, 0, ..., 1, 0, 0])"
            ]
          },
          "metadata": {
            "tags": []
          },
          "execution_count": 35
        }
      ]
    },
    {
      "cell_type": "code",
      "metadata": {
        "id": "9D8P5_7mgG_o",
        "colab": {
          "base_uri": "https://localhost:8080/"
        },
        "outputId": "68185884-64e6-4b61-ef1c-94fd0059d990"
      },
      "source": [
        "confusion_matrix = np.zeros((n_out, n_out)).astype(np.int)\n",
        "for y_true, y_pred in zip(test_labels, test_preds):\n",
        "    confusion_matrix[int(y_true), int(y_pred)] += 1\n",
        "confusion_matrix"
      ],
      "execution_count": 36,
      "outputs": [
        {
          "output_type": "execute_result",
          "data": {
            "text/plain": [
              "array([[20907,  3919],\n",
              "       [ 3639, 21532]])"
            ]
          },
          "metadata": {
            "tags": []
          },
          "execution_count": 36
        }
      ]
    },
    {
      "cell_type": "code",
      "metadata": {
        "id": "zTHIKSwMgG_p",
        "colab": {
          "base_uri": "https://localhost:8080/"
        },
        "outputId": "2204b4d8-8ee4-4bad-e9ff-a102e9ffc977"
      },
      "source": [
        "tp = confusion_matrix[1, 1]\n",
        "tn = confusion_matrix[0, 0]\n",
        "fp = confusion_matrix[0, 1]\n",
        "fn = confusion_matrix[1, 0]\n",
        "\n",
        "accuracy = (tp + tn) / max((tp + tn + fp + fn), 1)\n",
        "print(f'accuracy: {accuracy}')\n",
        "precision = (tp) / max((tp + fp), 1)\n",
        "print(f'precision: {precision}')\n",
        "recall = (tp) / max((tp + fn), 1)\n",
        "print(f'recall: {recall}')\n",
        "f1 = 2 * (precision * recall) / max((precision + recall), 1)\n",
        "print(f'f1: {f1}')"
      ],
      "execution_count": 37,
      "outputs": [
        {
          "output_type": "stream",
          "text": [
            "accuracy: 0.8488309298557913\n",
            "precision: 0.846017838198892\n",
            "recall: 0.8554288665527789\n",
            "f1: 0.8506973252735964\n"
          ],
          "name": "stdout"
        }
      ]
    },
    {
      "cell_type": "code",
      "metadata": {
        "id": "EEyJ7P4FgG_p"
      },
      "source": [
        "def do_predict(model, n_seq, string):\n",
        "    \"\"\"\n",
        "    입력에 대한 답변 생성하는 함수\n",
        "    :param model: model\n",
        "    :param n_seq: 입력 개수\n",
        "    :param string: 입력 문자열\n",
        "    \"\"\"\n",
        "    # token 생성: <string tokens>, [PAD] tokens\n",
        "    token = vocab.encode_as_ids(string)[:n_seq]\n",
        "    token += [0] * (n_seq - len(token))\n",
        "    token = token[:n_seq]\n",
        "\n",
        "    y_pred = model.predict(np.array([token]))\n",
        "    y_pred_class = K.argmax(y_pred, axis=-1)\n",
        "\n",
        "    return \"긍정\" if y_pred_class[0] == 1 else \"부정\""
      ],
      "execution_count": 38,
      "outputs": []
    },
    {
      "cell_type": "code",
      "metadata": {
        "id": "6AEE86LCgG_p",
        "colab": {
          "base_uri": "https://localhost:8080/"
        },
        "outputId": "42175106-0182-4731-98f4-a3954c206d36"
      },
      "source": [
        "while True:\n",
        "    print(\"input > \", end=\"\")\n",
        "    string = str(input())\n",
        "    if len(string) == 0:\n",
        "        break\n",
        "    print(f\"output > {do_predict(model, n_seq, string)}\")"
      ],
      "execution_count": 39,
      "outputs": [
        {
          "output_type": "stream",
          "text": [
            "input > 이 영화는 재미없어\n",
            "output > 부정\n",
            "input > 스토리가 좋아요\n",
            "output > 긍정\n",
            "input > 연출이 좀...\n",
            "output > 부정\n",
            "input > 연기와 음악이 풍부합니다\n",
            "output > 긍정\n",
            "input > 만들다 만 것 같아요\n",
            "output > 부정\n",
            "input > 나쁘지 않네요\n",
            "output > 긍정\n",
            "input > 음악은 좋은데 용두사미네요\n",
            "output > 부정\n",
            "input > 스토리가 산으로 가지만 괜찮았습니다\n",
            "output > 부정\n",
            "input > 감독 천재\n",
            "output > 긍정\n",
            "input > 왜 이 배우를 썼을까?\n",
            "output > 부정\n",
            "input > \n"
          ],
          "name": "stdout"
        }
      ]
    },
    {
      "cell_type": "code",
      "metadata": {
        "id": "11nAQ3WmrDoK"
      },
      "source": [
        ""
      ],
      "execution_count": null,
      "outputs": []
    }
  ]
}