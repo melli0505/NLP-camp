{
  "nbformat": 4,
  "nbformat_minor": 0,
  "metadata": {
    "colab": {
      "name": "04-03-simple-project-과제.ipynb의 사본",
      "provenance": [],
      "collapsed_sections": [
        "BuaFwJqDVumT",
        "erIr-mg8zneJ",
        "wS_edoagzneJ",
        "-0Mbb5GWzneK"
      ]
    },
    "kernelspec": {
      "name": "python3",
      "display_name": "Python 3"
    }
  },
  "cells": [
    {
      "cell_type": "markdown",
      "metadata": {
        "id": "BuaFwJqDVumT"
      },
      "source": [
        "# EVN"
      ]
    },
    {
      "cell_type": "code",
      "metadata": {
        "id": "ODiNPGQ9VwLK"
      },
      "source": [
        "import numpy as np\n",
        "import matplotlib.pyplot as plt\n",
        "\n",
        "import tensorflow as tf"
      ],
      "execution_count": 1,
      "outputs": []
    },
    {
      "cell_type": "markdown",
      "metadata": {
        "id": "sFo_3tAlzneI"
      },
      "source": [
        "# 단어 긍정(2), 중립(1), 부정(0) 분류 프로젝트"
      ]
    },
    {
      "cell_type": "markdown",
      "metadata": {
        "id": "erIr-mg8zneJ"
      },
      "source": [
        "## 데이터"
      ]
    },
    {
      "cell_type": "code",
      "metadata": {
        "id": "KQqU4MBIzneJ"
      },
      "source": [
        "# 입력 문장\n",
        "sentences = [\n",
        "    '나는 오늘 기분이 좋아',\n",
        "    '나는 오늘 우울해'\n",
        "]\n",
        "\n",
        "# 출력 정답\n",
        "labels = [[1, 1, 1, 2],\n",
        "          [1, 1, 0]]  # 긍정(2), 중립(1), 부정(0)\n",
        "\n",
        "# 정답 dic\n",
        "id_to_label = {0: '부정', 1: '중립', 2: '긍정'}"
      ],
      "execution_count": 2,
      "outputs": []
    },
    {
      "cell_type": "markdown",
      "metadata": {
        "id": "wS_edoagzneJ"
      },
      "source": [
        "## Vocabulary"
      ]
    },
    {
      "cell_type": "code",
      "metadata": {
        "colab": {
          "base_uri": "https://localhost:8080/"
        },
        "id": "BJA0tV61UMWv",
        "outputId": "33666a08-a626-440c-b762-13f2811fa2dc"
      },
      "source": [
        "# 각 문장을 띄어쓰기 단위로 분할\n",
        "words = []\n",
        "for sentence in sentences:\n",
        "    words.extend(sentence.split())\n",
        "words"
      ],
      "execution_count": 3,
      "outputs": [
        {
          "output_type": "execute_result",
          "data": {
            "text/plain": [
              "['나는', '오늘', '기분이', '좋아', '나는', '오늘', '우울해']"
            ]
          },
          "metadata": {
            "tags": []
          },
          "execution_count": 3
        }
      ]
    },
    {
      "cell_type": "code",
      "metadata": {
        "colab": {
          "base_uri": "https://localhost:8080/"
        },
        "id": "jrpIT_63UNu5",
        "outputId": "d9dfb2d4-37f8-45e8-e975-2fc7363c75c8"
      },
      "source": [
        "# 중복 단어 제거\n",
        "words = list(dict.fromkeys(words))\n",
        "words"
      ],
      "execution_count": 4,
      "outputs": [
        {
          "output_type": "execute_result",
          "data": {
            "text/plain": [
              "['나는', '오늘', '기분이', '좋아', '우울해']"
            ]
          },
          "metadata": {
            "tags": []
          },
          "execution_count": 4
        }
      ]
    },
    {
      "cell_type": "code",
      "metadata": {
        "colab": {
          "base_uri": "https://localhost:8080/"
        },
        "id": "RoT8iffUzneJ",
        "outputId": "dbddc04d-f718-447b-815c-1ddc7bbf9f62"
      },
      "source": [
        "# 각 단어별 고유한 번호 부여\n",
        "word_to_id = {'[PAD]': 0, '[UNK]': 1}\n",
        "for word in words:\n",
        "    word_to_id[word] = len(word_to_id)\n",
        "word_to_id"
      ],
      "execution_count": 5,
      "outputs": [
        {
          "output_type": "execute_result",
          "data": {
            "text/plain": [
              "{'[PAD]': 0, '[UNK]': 1, '기분이': 4, '나는': 2, '오늘': 3, '우울해': 6, '좋아': 5}"
            ]
          },
          "metadata": {
            "tags": []
          },
          "execution_count": 5
        }
      ]
    },
    {
      "cell_type": "code",
      "metadata": {
        "colab": {
          "base_uri": "https://localhost:8080/"
        },
        "id": "_qeklV9-UTzH",
        "outputId": "def34235-019e-49a0-df3f-15a64d09d502"
      },
      "source": [
        "# 각 숫자별 단어 부여\n",
        "id_to_word = {_id:word for word, _id in word_to_id.items()}\n",
        "id_to_word"
      ],
      "execution_count": 6,
      "outputs": [
        {
          "output_type": "execute_result",
          "data": {
            "text/plain": [
              "{0: '[PAD]', 1: '[UNK]', 2: '나는', 3: '오늘', 4: '기분이', 5: '좋아', 6: '우울해'}"
            ]
          },
          "metadata": {
            "tags": []
          },
          "execution_count": 6
        }
      ]
    },
    {
      "cell_type": "markdown",
      "metadata": {
        "id": "-0Mbb5GWzneK"
      },
      "source": [
        "## 모델 학습용 데이터 생성"
      ]
    },
    {
      "cell_type": "code",
      "metadata": {
        "colab": {
          "base_uri": "https://localhost:8080/"
        },
        "id": "TDA86OBnUZIw",
        "outputId": "43b5f79d-3ec3-4d9f-b251-7498252ab18e"
      },
      "source": [
        "# 학습용 입력 데이터 생성\n",
        "train_inputs = []\n",
        "for sentence in sentences:\n",
        "    train_inputs.append([word_to_id[word] for word in sentence.split()])\n",
        "train_inputs"
      ],
      "execution_count": 7,
      "outputs": [
        {
          "output_type": "execute_result",
          "data": {
            "text/plain": [
              "[[2, 3, 4, 5], [2, 3, 6]]"
            ]
          },
          "metadata": {
            "tags": []
          },
          "execution_count": 7
        }
      ]
    },
    {
      "cell_type": "code",
      "metadata": {
        "colab": {
          "base_uri": "https://localhost:8080/"
        },
        "id": "J-Wq04vBVWnq",
        "outputId": "515306e3-ef09-4b73-8f4d-237da5f3af56"
      },
      "source": [
        "# train label은 labels를 그래도 사용\n",
        "train_labels = labels\n",
        "train_labels"
      ],
      "execution_count": 8,
      "outputs": [
        {
          "output_type": "execute_result",
          "data": {
            "text/plain": [
              "[[1, 1, 1, 2], [1, 1, 0]]"
            ]
          },
          "metadata": {
            "tags": []
          },
          "execution_count": 8
        }
      ]
    },
    {
      "cell_type": "code",
      "metadata": {
        "colab": {
          "base_uri": "https://localhost:8080/"
        },
        "id": "tilT_K-8UfXh",
        "outputId": "0996bcb1-aefe-4bfd-c5a9-c4387d210163"
      },
      "source": [
        "# train inputs을 numpy array로 변환\n",
        "np.array(train_inputs)"
      ],
      "execution_count": 9,
      "outputs": [
        {
          "output_type": "stream",
          "text": [
            "/usr/local/lib/python3.6/dist-packages/ipykernel_launcher.py:2: VisibleDeprecationWarning: Creating an ndarray from ragged nested sequences (which is a list-or-tuple of lists-or-tuples-or ndarrays with different lengths or shapes) is deprecated. If you meant to do this, you must specify 'dtype=object' when creating the ndarray\n",
            "  \n"
          ],
          "name": "stderr"
        },
        {
          "output_type": "execute_result",
          "data": {
            "text/plain": [
              "array([list([2, 3, 4, 5]), list([2, 3, 6])], dtype=object)"
            ]
          },
          "metadata": {
            "tags": []
          },
          "execution_count": 9
        }
      ]
    },
    {
      "cell_type": "code",
      "metadata": {
        "colab": {
          "base_uri": "https://localhost:8080/"
        },
        "id": "xG1Y1uN9Vb7P",
        "outputId": "b9afcdcb-8d3e-4432-d5b2-fc160fafdb3a"
      },
      "source": [
        "# train labels을 numpy array로 변환\n",
        "np.array(train_labels)"
      ],
      "execution_count": 10,
      "outputs": [
        {
          "output_type": "stream",
          "text": [
            "/usr/local/lib/python3.6/dist-packages/ipykernel_launcher.py:2: VisibleDeprecationWarning: Creating an ndarray from ragged nested sequences (which is a list-or-tuple of lists-or-tuples-or ndarrays with different lengths or shapes) is deprecated. If you meant to do this, you must specify 'dtype=object' when creating the ndarray\n",
            "  \n"
          ],
          "name": "stderr"
        },
        {
          "output_type": "execute_result",
          "data": {
            "text/plain": [
              "array([list([1, 1, 1, 2]), list([1, 1, 0])], dtype=object)"
            ]
          },
          "metadata": {
            "tags": []
          },
          "execution_count": 10
        }
      ]
    },
    {
      "cell_type": "code",
      "metadata": {
        "colab": {
          "base_uri": "https://localhost:8080/"
        },
        "id": "ThQywmw3Uwjx",
        "outputId": "587bb2d1-5637-48f9-d456-4c746e30d567"
      },
      "source": [
        "# 문장의 길이를 모두 동일하게 변경 (최대길이 4)\n",
        "for row in train_inputs:\n",
        "    row += [0] * (4 - len(row))\n",
        "train_inputs"
      ],
      "execution_count": 11,
      "outputs": [
        {
          "output_type": "execute_result",
          "data": {
            "text/plain": [
              "[[2, 3, 4, 5], [2, 3, 6, 0]]"
            ]
          },
          "metadata": {
            "tags": []
          },
          "execution_count": 11
        }
      ]
    },
    {
      "cell_type": "code",
      "metadata": {
        "colab": {
          "base_uri": "https://localhost:8080/"
        },
        "id": "foPgXxYpU5A7",
        "outputId": "cfebbe56-5926-4fe3-d4a3-b3dec1505a14"
      },
      "source": [
        "# train inputs을 numpy array로 변환\n",
        "train_inputs = np.array(train_inputs)\n",
        "train_inputs"
      ],
      "execution_count": 12,
      "outputs": [
        {
          "output_type": "execute_result",
          "data": {
            "text/plain": [
              "array([[2, 3, 4, 5],\n",
              "       [2, 3, 6, 0]])"
            ]
          },
          "metadata": {
            "tags": []
          },
          "execution_count": 12
        }
      ]
    },
    {
      "cell_type": "code",
      "metadata": {
        "colab": {
          "base_uri": "https://localhost:8080/"
        },
        "id": "p1gl_act7dyT",
        "outputId": "3640fbbb-5dcd-4498-92c4-b8fc4a16b272"
      },
      "source": [
        "# 정답 길이를 모두 동일하게 변경 (최대길이 4)\n",
        "for row in train_labels:\n",
        "    row += [1] * (4 - len(row))\n",
        "train_labels"
      ],
      "execution_count": 13,
      "outputs": [
        {
          "output_type": "execute_result",
          "data": {
            "text/plain": [
              "[[1, 1, 1, 2], [1, 1, 0, 1]]"
            ]
          },
          "metadata": {
            "tags": []
          },
          "execution_count": 13
        }
      ]
    },
    {
      "cell_type": "code",
      "metadata": {
        "colab": {
          "base_uri": "https://localhost:8080/"
        },
        "id": "lXylNhS-70gv",
        "outputId": "d3a55d38-baff-4956-a47a-252cc931a7dd"
      },
      "source": [
        "# 학습용 정답을 numpy array로 변환\n",
        "train_labels = np.array(train_labels)\n",
        "train_labels"
      ],
      "execution_count": 14,
      "outputs": [
        {
          "output_type": "execute_result",
          "data": {
            "text/plain": [
              "array([[1, 1, 1, 2],\n",
              "       [1, 1, 0, 1]])"
            ]
          },
          "metadata": {
            "tags": []
          },
          "execution_count": 14
        }
      ]
    },
    {
      "cell_type": "markdown",
      "metadata": {
        "id": "milX02G6zneK"
      },
      "source": [
        "## 모델링"
      ]
    },
    {
      "cell_type": "code",
      "metadata": {
        "colab": {
          "base_uri": "https://localhost:8080/"
        },
        "id": "Ph7rB5G_V-CG",
        "outputId": "a976a2db-6ed8-4c1c-c7fa-9f44ebe2ee57"
      },
      "source": [
        "# 입력 단어를 vector로 변환\n",
        "embedding = tf.keras.layers.Embedding(len(word_to_id), 8)\n",
        "hidden = embedding(train_inputs)\n",
        "hidden"
      ],
      "execution_count": 15,
      "outputs": [
        {
          "output_type": "execute_result",
          "data": {
            "text/plain": [
              "<tf.Tensor: shape=(2, 4, 8), dtype=float32, numpy=\n",
              "array([[[ 1.2419067e-02, -2.1176172e-02, -1.1654675e-02,  1.4201056e-02,\n",
              "          1.9207504e-02,  2.7241472e-02, -4.2089045e-02, -4.1037425e-03],\n",
              "        [ 2.3614798e-02, -8.8751800e-03, -1.4380775e-02, -3.3266641e-02,\n",
              "         -6.7437291e-03, -7.2995536e-03, -4.7626257e-02,  4.3087490e-03],\n",
              "        [-3.4339607e-02, -4.6176899e-02, -1.9612337e-02, -2.4367785e-02,\n",
              "         -2.4910903e-02,  4.7244374e-02, -3.0440450e-02,  3.6931995e-02],\n",
              "        [-4.8279874e-03, -6.3328743e-03,  1.2054931e-02, -3.1769969e-02,\n",
              "          4.2891469e-02,  2.4716679e-02,  4.6049211e-02,  3.5105411e-02]],\n",
              "\n",
              "       [[ 1.2419067e-02, -2.1176172e-02, -1.1654675e-02,  1.4201056e-02,\n",
              "          1.9207504e-02,  2.7241472e-02, -4.2089045e-02, -4.1037425e-03],\n",
              "        [ 2.3614798e-02, -8.8751800e-03, -1.4380775e-02, -3.3266641e-02,\n",
              "         -6.7437291e-03, -7.2995536e-03, -4.7626257e-02,  4.3087490e-03],\n",
              "        [ 2.1482114e-02,  3.3576641e-02,  3.6519479e-02, -9.7632408e-05,\n",
              "         -4.3012787e-02,  4.9498860e-02, -4.4924747e-02,  5.4782629e-03],\n",
              "        [-4.9970984e-02,  4.3600146e-02, -1.9727755e-02,  4.9215700e-02,\n",
              "          2.1528278e-02, -1.2473844e-02, -2.2835279e-02,  4.5005348e-02]]],\n",
              "      dtype=float32)>"
            ]
          },
          "metadata": {
            "tags": []
          },
          "execution_count": 15
        }
      ]
    },
    {
      "cell_type": "code",
      "metadata": {
        "colab": {
          "base_uri": "https://localhost:8080/"
        },
        "id": "RQBpJJRO2EWX",
        "outputId": "d51d8ea3-007b-493e-dbb4-a184839e9e42"
      },
      "source": [
        "# embedding weight\n",
        "weight = embedding.get_weights()[0]\n",
        "weight"
      ],
      "execution_count": 16,
      "outputs": [
        {
          "output_type": "execute_result",
          "data": {
            "text/plain": [
              "array([[-4.9970984e-02,  4.3600146e-02, -1.9727755e-02,  4.9215700e-02,\n",
              "         2.1528278e-02, -1.2473844e-02, -2.2835279e-02,  4.5005348e-02],\n",
              "       [ 3.1732928e-02, -4.0571917e-02,  2.1162543e-02,  2.1940861e-02,\n",
              "        -1.9999659e-02,  3.8787428e-02,  2.5376763e-02, -3.2941252e-04],\n",
              "       [ 1.2419067e-02, -2.1176172e-02, -1.1654675e-02,  1.4201056e-02,\n",
              "         1.9207504e-02,  2.7241472e-02, -4.2089045e-02, -4.1037425e-03],\n",
              "       [ 2.3614798e-02, -8.8751800e-03, -1.4380775e-02, -3.3266641e-02,\n",
              "        -6.7437291e-03, -7.2995536e-03, -4.7626257e-02,  4.3087490e-03],\n",
              "       [-3.4339607e-02, -4.6176899e-02, -1.9612337e-02, -2.4367785e-02,\n",
              "        -2.4910903e-02,  4.7244374e-02, -3.0440450e-02,  3.6931995e-02],\n",
              "       [-4.8279874e-03, -6.3328743e-03,  1.2054931e-02, -3.1769969e-02,\n",
              "         4.2891469e-02,  2.4716679e-02,  4.6049211e-02,  3.5105411e-02],\n",
              "       [ 2.1482114e-02,  3.3576641e-02,  3.6519479e-02, -9.7632408e-05,\n",
              "        -4.3012787e-02,  4.9498860e-02, -4.4924747e-02,  5.4782629e-03]],\n",
              "      dtype=float32)"
            ]
          },
          "metadata": {
            "tags": []
          },
          "execution_count": 16
        }
      ]
    },
    {
      "cell_type": "code",
      "metadata": {
        "colab": {
          "base_uri": "https://localhost:8080/"
        },
        "id": "WM3fkoqs2TCt",
        "outputId": "f55045b6-84ee-40ca-97a5-c33b2c7c4347"
      },
      "source": [
        "# numpy를 이용해서 직접 조회 (두 결과값 비교)\n",
        "weight[train_inputs], hidden"
      ],
      "execution_count": 17,
      "outputs": [
        {
          "output_type": "execute_result",
          "data": {
            "text/plain": [
              "(array([[[ 1.2419067e-02, -2.1176172e-02, -1.1654675e-02,  1.4201056e-02,\n",
              "           1.9207504e-02,  2.7241472e-02, -4.2089045e-02, -4.1037425e-03],\n",
              "         [ 2.3614798e-02, -8.8751800e-03, -1.4380775e-02, -3.3266641e-02,\n",
              "          -6.7437291e-03, -7.2995536e-03, -4.7626257e-02,  4.3087490e-03],\n",
              "         [-3.4339607e-02, -4.6176899e-02, -1.9612337e-02, -2.4367785e-02,\n",
              "          -2.4910903e-02,  4.7244374e-02, -3.0440450e-02,  3.6931995e-02],\n",
              "         [-4.8279874e-03, -6.3328743e-03,  1.2054931e-02, -3.1769969e-02,\n",
              "           4.2891469e-02,  2.4716679e-02,  4.6049211e-02,  3.5105411e-02]],\n",
              " \n",
              "        [[ 1.2419067e-02, -2.1176172e-02, -1.1654675e-02,  1.4201056e-02,\n",
              "           1.9207504e-02,  2.7241472e-02, -4.2089045e-02, -4.1037425e-03],\n",
              "         [ 2.3614798e-02, -8.8751800e-03, -1.4380775e-02, -3.3266641e-02,\n",
              "          -6.7437291e-03, -7.2995536e-03, -4.7626257e-02,  4.3087490e-03],\n",
              "         [ 2.1482114e-02,  3.3576641e-02,  3.6519479e-02, -9.7632408e-05,\n",
              "          -4.3012787e-02,  4.9498860e-02, -4.4924747e-02,  5.4782629e-03],\n",
              "         [-4.9970984e-02,  4.3600146e-02, -1.9727755e-02,  4.9215700e-02,\n",
              "           2.1528278e-02, -1.2473844e-02, -2.2835279e-02,  4.5005348e-02]]],\n",
              "       dtype=float32), <tf.Tensor: shape=(2, 4, 8), dtype=float32, numpy=\n",
              " array([[[ 1.2419067e-02, -2.1176172e-02, -1.1654675e-02,  1.4201056e-02,\n",
              "           1.9207504e-02,  2.7241472e-02, -4.2089045e-02, -4.1037425e-03],\n",
              "         [ 2.3614798e-02, -8.8751800e-03, -1.4380775e-02, -3.3266641e-02,\n",
              "          -6.7437291e-03, -7.2995536e-03, -4.7626257e-02,  4.3087490e-03],\n",
              "         [-3.4339607e-02, -4.6176899e-02, -1.9612337e-02, -2.4367785e-02,\n",
              "          -2.4910903e-02,  4.7244374e-02, -3.0440450e-02,  3.6931995e-02],\n",
              "         [-4.8279874e-03, -6.3328743e-03,  1.2054931e-02, -3.1769969e-02,\n",
              "           4.2891469e-02,  2.4716679e-02,  4.6049211e-02,  3.5105411e-02]],\n",
              " \n",
              "        [[ 1.2419067e-02, -2.1176172e-02, -1.1654675e-02,  1.4201056e-02,\n",
              "           1.9207504e-02,  2.7241472e-02, -4.2089045e-02, -4.1037425e-03],\n",
              "         [ 2.3614798e-02, -8.8751800e-03, -1.4380775e-02, -3.3266641e-02,\n",
              "          -6.7437291e-03, -7.2995536e-03, -4.7626257e-02,  4.3087490e-03],\n",
              "         [ 2.1482114e-02,  3.3576641e-02,  3.6519479e-02, -9.7632408e-05,\n",
              "          -4.3012787e-02,  4.9498860e-02, -4.4924747e-02,  5.4782629e-03],\n",
              "         [-4.9970984e-02,  4.3600146e-02, -1.9727755e-02,  4.9215700e-02,\n",
              "           2.1528278e-02, -1.2473844e-02, -2.2835279e-02,  4.5005348e-02]]],\n",
              "       dtype=float32)>)"
            ]
          },
          "metadata": {
            "tags": []
          },
          "execution_count": 17
        }
      ]
    },
    {
      "cell_type": "code",
      "metadata": {
        "colab": {
          "base_uri": "https://localhost:8080/"
        },
        "id": "mvFLx9nAWV4a",
        "outputId": "ff04674e-19ba-414a-a227-0622c5f7e680"
      },
      "source": [
        "# 단어의 vector를 이용해서 긍정(2), 부정(0), 중립(1) 확률값 예측\n",
        "linear = tf.keras.layers.Dense(3, activation=tf.nn.softmax)\n",
        "outputs = linear(hidden)\n",
        "outputs"
      ],
      "execution_count": 18,
      "outputs": [
        {
          "output_type": "execute_result",
          "data": {
            "text/plain": [
              "<tf.Tensor: shape=(2, 4, 3), dtype=float32, numpy=\n",
              "array([[[0.3248762 , 0.32992664, 0.34519714],\n",
              "        [0.3419285 , 0.31954032, 0.33853114],\n",
              "        [0.30403996, 0.3378204 , 0.3581396 ],\n",
              "        [0.3369824 , 0.34342462, 0.319593  ]],\n",
              "\n",
              "       [[0.3248762 , 0.32992664, 0.34519714],\n",
              "        [0.3419285 , 0.31954032, 0.33853114],\n",
              "        [0.33021182, 0.33296874, 0.33681947],\n",
              "        [0.31851667, 0.35371208, 0.3277713 ]]], dtype=float32)>"
            ]
          },
          "metadata": {
            "tags": []
          },
          "execution_count": 18
        }
      ]
    },
    {
      "cell_type": "code",
      "metadata": {
        "colab": {
          "base_uri": "https://localhost:8080/"
        },
        "id": "WDmhXrH02hy_",
        "outputId": "e695add7-5c23-45cc-ad4f-8efc36c0518e"
      },
      "source": [
        "# dense의 wieght, bias\n",
        "weight, bias = linear.get_weights()\n",
        "weight, bias"
      ],
      "execution_count": 19,
      "outputs": [
        {
          "output_type": "execute_result",
          "data": {
            "text/plain": [
              "(array([[ 0.49012047, -0.55169976, -0.2750466 ],\n",
              "        [ 0.7041672 ,  0.22075099, -0.29814506],\n",
              "        [ 0.59796804,  0.5253106 , -0.54769313],\n",
              "        [-0.6734092 ,  0.44881624,  0.1462624 ],\n",
              "        [ 0.72792965,  0.36878902, -0.2458202 ],\n",
              "        [-0.56683064,  0.24440116,  0.61582977],\n",
              "        [ 0.16142148,  0.40285295, -0.08918887],\n",
              "        [-0.5434125 ,  0.35701865, -0.51770926]], dtype=float32),\n",
              " array([0., 0., 0.], dtype=float32))"
            ]
          },
          "metadata": {
            "tags": []
          },
          "execution_count": 19
        }
      ]
    },
    {
      "cell_type": "code",
      "metadata": {
        "colab": {
          "base_uri": "https://localhost:8080/"
        },
        "id": "FuxfnYul2wdY",
        "outputId": "c2ac8eef-c2c9-4309-ce2b-f92c3e6e0d1a"
      },
      "source": [
        "# numpy를 이용한 xW + b\n",
        "logits = np.matmul(hidden, weight) + bias\n",
        "logits"
      ],
      "execution_count": 20,
      "outputs": [
        {
          "output_type": "execute_result",
          "data": {
            "text/plain": [
              "array([[[-0.03138061, -0.01595436,  0.02929095],\n",
              "        [ 0.00832663, -0.05939157, -0.00165897],\n",
              "        [-0.11456085, -0.00920557,  0.04920287],\n",
              "        [ 0.02734537,  0.04628235, -0.02563692]],\n",
              "\n",
              "       [[-0.03138061, -0.01595436,  0.02929095],\n",
              "        [ 0.00832663, -0.05939157, -0.00165897],\n",
              "        [-0.01352091, -0.00520664,  0.00629188],\n",
              "        [-0.04412983,  0.06067862, -0.01548854]]], dtype=float32)"
            ]
          },
          "metadata": {
            "tags": []
          },
          "execution_count": 20
        }
      ]
    },
    {
      "cell_type": "code",
      "metadata": {
        "colab": {
          "base_uri": "https://localhost:8080/"
        },
        "id": "QUoP7xkV3Bmh",
        "outputId": "710f0709-a189-428d-de3d-6681888a0c2c"
      },
      "source": [
        "# softmax 계산을 위한 준비 exp(x') / sum(exp(x))\n",
        "numerator = np.exp(logits)\n",
        "denominator = np.sum(numerator, axis=2, keepdims=True)\n",
        "numerator, denominator"
      ],
      "execution_count": 21,
      "outputs": [
        {
          "output_type": "execute_result",
          "data": {
            "text/plain": [
              "(array([[[0.96910655, 0.9841722 , 1.0297241 ],\n",
              "         [1.0083615 , 0.94233763, 0.9983424 ],\n",
              "         [0.8917576 , 0.9908367 , 1.0504334 ],\n",
              "         [1.0277227 , 1.0473701 , 0.97468895]],\n",
              " \n",
              "        [[0.96910655, 0.9841722 , 1.0297241 ],\n",
              "         [1.0083615 , 0.94233763, 0.9983424 ],\n",
              "         [0.98657006, 0.99480695, 1.0063117 ],\n",
              "         [0.9568297 , 1.0625573 , 0.9846308 ]]], dtype=float32),\n",
              " array([[[2.983003 ],\n",
              "         [2.9490414],\n",
              "         [2.9330277],\n",
              "         [3.0497818]],\n",
              " \n",
              "        [[2.983003 ],\n",
              "         [2.9490414],\n",
              "         [2.9876885],\n",
              "         [3.0040178]]], dtype=float32))"
            ]
          },
          "metadata": {
            "tags": []
          },
          "execution_count": 21
        }
      ]
    },
    {
      "cell_type": "code",
      "metadata": {
        "colab": {
          "base_uri": "https://localhost:8080/"
        },
        "id": "tbUvx0FT3tJW",
        "outputId": "0e6334f0-d4a9-4c67-e5d7-a0f55b037160"
      },
      "source": [
        "# 두 결과값 비교\n",
        "probs = numerator / denominator\n",
        "probs, outputs"
      ],
      "execution_count": 22,
      "outputs": [
        {
          "output_type": "execute_result",
          "data": {
            "text/plain": [
              "(array([[[0.32487616, 0.32992667, 0.34519717],\n",
              "         [0.34192857, 0.31954032, 0.33853117],\n",
              "         [0.30403996, 0.3378204 , 0.3581396 ],\n",
              "         [0.33698237, 0.3434246 , 0.319593  ]],\n",
              " \n",
              "        [[0.32487616, 0.32992667, 0.34519717],\n",
              "         [0.34192857, 0.31954032, 0.33853117],\n",
              "         [0.33021182, 0.33296877, 0.33681947],\n",
              "         [0.31851667, 0.35371205, 0.3277713 ]]], dtype=float32),\n",
              " <tf.Tensor: shape=(2, 4, 3), dtype=float32, numpy=\n",
              " array([[[0.3248762 , 0.32992664, 0.34519714],\n",
              "         [0.3419285 , 0.31954032, 0.33853114],\n",
              "         [0.30403996, 0.3378204 , 0.3581396 ],\n",
              "         [0.3369824 , 0.34342462, 0.319593  ]],\n",
              " \n",
              "        [[0.3248762 , 0.32992664, 0.34519714],\n",
              "         [0.3419285 , 0.31954032, 0.33853114],\n",
              "         [0.33021182, 0.33296874, 0.33681947],\n",
              "         [0.31851667, 0.35371208, 0.3277713 ]]], dtype=float32)>)"
            ]
          },
          "metadata": {
            "tags": []
          },
          "execution_count": 22
        }
      ]
    },
    {
      "cell_type": "code",
      "metadata": {
        "id": "jF_ezLfIzneK"
      },
      "source": [
        "def build_model(n_vocab, d_model, n_seq, n_out):\n",
        "    \"\"\"\n",
        "    동작만 하는 간단한 모델\n",
        "    :param n_vocab: vocabulary 단어 수\n",
        "    :param d_model: 단어를 의미하는 벡터의 차원 수\n",
        "    :param n_seq: 문장길이 (단어 수)\n",
        "    :param n_out: 예측할 class 개수\n",
        "    \"\"\"\n",
        "    inputs = tf.keras.layers.Input((n_seq,))  # (bs, n_seq)\n",
        "    # 입력 단어를 vector로 변환\n",
        "    embedding = tf.keras.layers.Embedding(n_vocab, d_model)\n",
        "    hidden = embedding(inputs)  # (bs, n_seq, d_model)\n",
        "    #######################################\n",
        "    # RNN\n",
        "    rnn = tf.keras.layers.SimpleRNN(units=64, return_sequences=True) \n",
        "    # Bidirectional\n",
        "    bi_rnn = tf.keras.layers.Bidirectional(rnn) # 양방향, 128\n",
        "    hidden = bi_rnn(hidden)\n",
        "    # CNN\n",
        "    cnn = tf.keras.layers.Conv1D(filters=64, kernel_size=3, padding=\"causal\") # 64\n",
        "    hidden = cnn(hidden)\n",
        "    #######################################\n",
        "    # 단어의 vector를 이용해서 정답 확률값 예측\n",
        "    linear = tf.keras.layers.Dense(n_out, activation=tf.nn.softmax)\n",
        "    outputs = linear(hidden)  # (bs, n_seq, n_out)\n",
        "    # 학습할 모델 선언\n",
        "    model = tf.keras.Model(inputs=inputs, outputs=outputs)\n",
        "    return model"
      ],
      "execution_count": 53,
      "outputs": []
    },
    {
      "cell_type": "code",
      "metadata": {
        "colab": {
          "base_uri": "https://localhost:8080/",
          "height": 533
        },
        "id": "64I4xvdAzneL",
        "outputId": "94c06bc9-04ac-4c17-949e-ef47f5eaab65"
      },
      "source": [
        "# 모델 생성\n",
        "model = build_model(len(word_to_id), 8, 4, 3)\n",
        "# 모델 내용 그래프 출력\n",
        "tf.keras.utils.plot_model(model, 'model.png', show_shapes=True)"
      ],
      "execution_count": 54,
      "outputs": [
        {
          "output_type": "execute_result",
          "data": {
            "image/png": "[encoded data removed]",
            "text/plain": [
              "<IPython.core.display.Image object>"
            ]
          },
          "metadata": {
            "tags": []
          },
          "execution_count": 54
        }
      ]
    },
    {
      "cell_type": "markdown",
      "metadata": {
        "id": "DhXN7DHvlEpp"
      },
      "source": [
        "## 학습"
      ]
    },
    {
      "cell_type": "code",
      "metadata": {
        "id": "2P-a9TanzneL"
      },
      "source": [
        "# 모델 loss, optimizer, metric 정의\n",
        "model.compile(loss='sparse_categorical_crossentropy', optimizer='adam', metrics=['accuracy'])"
      ],
      "execution_count": 55,
      "outputs": []
    },
    {
      "cell_type": "code",
      "metadata": {
        "colab": {
          "base_uri": "https://localhost:8080/"
        },
        "id": "kw_41x2RzneL",
        "outputId": "264d45b4-db07-4733-b6b3-f80d2be2dd45"
      },
      "source": [
        "# 모델 학습\n",
        "history = model.fit(train_inputs, train_labels, epochs=100, batch_size=16)"
      ],
      "execution_count": 56,
      "outputs": [
        {
          "output_type": "stream",
          "text": [
            "Epoch 1/100\n",
            "1/1 [==============================] - 2s 2s/step - loss: 1.0947 - accuracy: 0.2500\n",
            "Epoch 2/100\n",
            "1/1 [==============================] - 0s 6ms/step - loss: 1.0620 - accuracy: 0.7500\n",
            "Epoch 3/100\n",
            "1/1 [==============================] - 0s 8ms/step - loss: 1.0293 - accuracy: 0.8750\n",
            "Epoch 4/100\n",
            "1/1 [==============================] - 0s 10ms/step - loss: 0.9956 - accuracy: 0.8750\n",
            "Epoch 5/100\n",
            "1/1 [==============================] - 0s 5ms/step - loss: 0.9600 - accuracy: 0.8750\n",
            "Epoch 6/100\n",
            "1/1 [==============================] - 0s 8ms/step - loss: 0.9217 - accuracy: 0.8750\n",
            "Epoch 7/100\n",
            "1/1 [==============================] - 0s 9ms/step - loss: 0.8806 - accuracy: 0.8750\n",
            "Epoch 8/100\n",
            "1/1 [==============================] - 0s 7ms/step - loss: 0.8363 - accuracy: 0.8750\n",
            "Epoch 9/100\n",
            "1/1 [==============================] - 0s 7ms/step - loss: 0.7891 - accuracy: 0.8750\n",
            "Epoch 10/100\n",
            "1/1 [==============================] - 0s 9ms/step - loss: 0.7391 - accuracy: 0.8750\n",
            "Epoch 11/100\n",
            "1/1 [==============================] - 0s 9ms/step - loss: 0.6872 - accuracy: 0.8750\n",
            "Epoch 12/100\n",
            "1/1 [==============================] - 0s 8ms/step - loss: 0.6341 - accuracy: 0.8750\n",
            "Epoch 13/100\n",
            "1/1 [==============================] - 0s 8ms/step - loss: 0.5806 - accuracy: 0.8750\n",
            "Epoch 14/100\n",
            "1/1 [==============================] - 0s 14ms/step - loss: 0.5276 - accuracy: 0.8750\n",
            "Epoch 15/100\n",
            "1/1 [==============================] - 0s 7ms/step - loss: 0.4755 - accuracy: 0.8750\n",
            "Epoch 16/100\n",
            "1/1 [==============================] - 0s 11ms/step - loss: 0.4247 - accuracy: 0.8750\n",
            "Epoch 17/100\n",
            "1/1 [==============================] - 0s 11ms/step - loss: 0.3753 - accuracy: 0.8750\n",
            "Epoch 18/100\n",
            "1/1 [==============================] - 0s 14ms/step - loss: 0.3279 - accuracy: 0.8750\n",
            "Epoch 19/100\n",
            "1/1 [==============================] - 0s 8ms/step - loss: 0.2830 - accuracy: 0.8750\n",
            "Epoch 20/100\n",
            "1/1 [==============================] - 0s 8ms/step - loss: 0.2417 - accuracy: 0.8750\n",
            "Epoch 21/100\n",
            "1/1 [==============================] - 0s 8ms/step - loss: 0.2048 - accuracy: 1.0000\n",
            "Epoch 22/100\n",
            "1/1 [==============================] - 0s 7ms/step - loss: 0.1728 - accuracy: 1.0000\n",
            "Epoch 23/100\n",
            "1/1 [==============================] - 0s 8ms/step - loss: 0.1455 - accuracy: 1.0000\n",
            "Epoch 24/100\n",
            "1/1 [==============================] - 0s 9ms/step - loss: 0.1224 - accuracy: 1.0000\n",
            "Epoch 25/100\n",
            "1/1 [==============================] - 0s 10ms/step - loss: 0.1029 - accuracy: 1.0000\n",
            "Epoch 26/100\n",
            "1/1 [==============================] - 0s 10ms/step - loss: 0.0862 - accuracy: 1.0000\n",
            "Epoch 27/100\n",
            "1/1 [==============================] - 0s 10ms/step - loss: 0.0717 - accuracy: 1.0000\n",
            "Epoch 28/100\n",
            "1/1 [==============================] - 0s 10ms/step - loss: 0.0591 - accuracy: 1.0000\n",
            "Epoch 29/100\n",
            "1/1 [==============================] - 0s 11ms/step - loss: 0.0482 - accuracy: 1.0000\n",
            "Epoch 30/100\n",
            "1/1 [==============================] - 0s 13ms/step - loss: 0.0388 - accuracy: 1.0000\n",
            "Epoch 31/100\n",
            "1/1 [==============================] - 0s 15ms/step - loss: 0.0310 - accuracy: 1.0000\n",
            "Epoch 32/100\n",
            "1/1 [==============================] - 0s 14ms/step - loss: 0.0244 - accuracy: 1.0000\n",
            "Epoch 33/100\n",
            "1/1 [==============================] - 0s 10ms/step - loss: 0.0191 - accuracy: 1.0000\n",
            "Epoch 34/100\n",
            "1/1 [==============================] - 0s 11ms/step - loss: 0.0148 - accuracy: 1.0000\n",
            "Epoch 35/100\n",
            "1/1 [==============================] - 0s 11ms/step - loss: 0.0115 - accuracy: 1.0000\n",
            "Epoch 36/100\n",
            "1/1 [==============================] - 0s 12ms/step - loss: 0.0090 - accuracy: 1.0000\n",
            "Epoch 37/100\n",
            "1/1 [==============================] - 0s 11ms/step - loss: 0.0071 - accuracy: 1.0000\n",
            "Epoch 38/100\n",
            "1/1 [==============================] - 0s 11ms/step - loss: 0.0057 - accuracy: 1.0000\n",
            "Epoch 39/100\n",
            "1/1 [==============================] - 0s 11ms/step - loss: 0.0047 - accuracy: 1.0000\n",
            "Epoch 40/100\n",
            "1/1 [==============================] - 0s 11ms/step - loss: 0.0038 - accuracy: 1.0000\n",
            "Epoch 41/100\n",
            "1/1 [==============================] - 0s 13ms/step - loss: 0.0032 - accuracy: 1.0000\n",
            "Epoch 42/100\n",
            "1/1 [==============================] - 0s 13ms/step - loss: 0.0027 - accuracy: 1.0000\n",
            "Epoch 43/100\n",
            "1/1 [==============================] - 0s 10ms/step - loss: 0.0023 - accuracy: 1.0000\n",
            "Epoch 44/100\n",
            "1/1 [==============================] - 0s 11ms/step - loss: 0.0019 - accuracy: 1.0000\n",
            "Epoch 45/100\n",
            "1/1 [==============================] - 0s 11ms/step - loss: 0.0016 - accuracy: 1.0000\n",
            "Epoch 46/100\n",
            "1/1 [==============================] - 0s 10ms/step - loss: 0.0014 - accuracy: 1.0000\n",
            "Epoch 47/100\n",
            "1/1 [==============================] - 0s 11ms/step - loss: 0.0012 - accuracy: 1.0000\n",
            "Epoch 48/100\n",
            "1/1 [==============================] - 0s 11ms/step - loss: 0.0011 - accuracy: 1.0000\n",
            "Epoch 49/100\n",
            "1/1 [==============================] - 0s 11ms/step - loss: 9.3856e-04 - accuracy: 1.0000\n",
            "Epoch 50/100\n",
            "1/1 [==============================] - 0s 16ms/step - loss: 8.2755e-04 - accuracy: 1.0000\n",
            "Epoch 51/100\n",
            "1/1 [==============================] - 0s 12ms/step - loss: 7.3436e-04 - accuracy: 1.0000\n",
            "Epoch 52/100\n",
            "1/1 [==============================] - 0s 11ms/step - loss: 6.5583e-04 - accuracy: 1.0000\n",
            "Epoch 53/100\n",
            "1/1 [==============================] - 0s 11ms/step - loss: 5.8959e-04 - accuracy: 1.0000\n",
            "Epoch 54/100\n",
            "1/1 [==============================] - 0s 12ms/step - loss: 5.3364e-04 - accuracy: 1.0000\n",
            "Epoch 55/100\n",
            "1/1 [==============================] - 0s 11ms/step - loss: 4.8618e-04 - accuracy: 1.0000\n",
            "Epoch 56/100\n",
            "1/1 [==============================] - 0s 10ms/step - loss: 4.4585e-04 - accuracy: 1.0000\n",
            "Epoch 57/100\n",
            "1/1 [==============================] - 0s 11ms/step - loss: 4.1144e-04 - accuracy: 1.0000\n",
            "Epoch 58/100\n",
            "1/1 [==============================] - 0s 11ms/step - loss: 3.8209e-04 - accuracy: 1.0000\n",
            "Epoch 59/100\n",
            "1/1 [==============================] - 0s 10ms/step - loss: 3.5685e-04 - accuracy: 1.0000\n",
            "Epoch 60/100\n",
            "1/1 [==============================] - 0s 10ms/step - loss: 3.3515e-04 - accuracy: 1.0000\n",
            "Epoch 61/100\n",
            "1/1 [==============================] - 0s 11ms/step - loss: 3.1633e-04 - accuracy: 1.0000\n",
            "Epoch 62/100\n",
            "1/1 [==============================] - 0s 10ms/step - loss: 3.0007e-04 - accuracy: 1.0000\n",
            "Epoch 63/100\n",
            "1/1 [==============================] - 0s 10ms/step - loss: 2.8586e-04 - accuracy: 1.0000\n",
            "Epoch 64/100\n",
            "1/1 [==============================] - 0s 10ms/step - loss: 2.7343e-04 - accuracy: 1.0000\n",
            "Epoch 65/100\n",
            "1/1 [==============================] - 0s 10ms/step - loss: 2.6253e-04 - accuracy: 1.0000\n",
            "Epoch 66/100\n",
            "1/1 [==============================] - 0s 10ms/step - loss: 2.5295e-04 - accuracy: 1.0000\n",
            "Epoch 67/100\n",
            "1/1 [==============================] - 0s 10ms/step - loss: 2.4445e-04 - accuracy: 1.0000\n",
            "Epoch 68/100\n",
            "1/1 [==============================] - 0s 10ms/step - loss: 2.3688e-04 - accuracy: 1.0000\n",
            "Epoch 69/100\n",
            "1/1 [==============================] - 0s 10ms/step - loss: 2.3016e-04 - accuracy: 1.0000\n",
            "Epoch 70/100\n",
            "1/1 [==============================] - 0s 10ms/step - loss: 2.2410e-04 - accuracy: 1.0000\n",
            "Epoch 71/100\n",
            "1/1 [==============================] - 0s 10ms/step - loss: 2.1868e-04 - accuracy: 1.0000\n",
            "Epoch 72/100\n",
            "1/1 [==============================] - 0s 11ms/step - loss: 2.1381e-04 - accuracy: 1.0000\n",
            "Epoch 73/100\n",
            "1/1 [==============================] - 0s 11ms/step - loss: 2.0938e-04 - accuracy: 1.0000\n",
            "Epoch 74/100\n",
            "1/1 [==============================] - 0s 36ms/step - loss: 2.0530e-04 - accuracy: 1.0000\n",
            "Epoch 75/100\n",
            "1/1 [==============================] - 0s 15ms/step - loss: 2.0158e-04 - accuracy: 1.0000\n",
            "Epoch 76/100\n",
            "1/1 [==============================] - 0s 19ms/step - loss: 1.9820e-04 - accuracy: 1.0000\n",
            "Epoch 77/100\n",
            "1/1 [==============================] - 0s 12ms/step - loss: 1.9505e-04 - accuracy: 1.0000\n",
            "Epoch 78/100\n",
            "1/1 [==============================] - 0s 10ms/step - loss: 1.9216e-04 - accuracy: 1.0000\n",
            "Epoch 79/100\n",
            "1/1 [==============================] - 0s 13ms/step - loss: 1.8947e-04 - accuracy: 1.0000\n",
            "Epoch 80/100\n",
            "1/1 [==============================] - 0s 12ms/step - loss: 1.8697e-04 - accuracy: 1.0000\n",
            "Epoch 81/100\n",
            "1/1 [==============================] - 0s 14ms/step - loss: 1.8461e-04 - accuracy: 1.0000\n",
            "Epoch 82/100\n",
            "1/1 [==============================] - 0s 16ms/step - loss: 1.8239e-04 - accuracy: 1.0000\n",
            "Epoch 83/100\n",
            "1/1 [==============================] - 0s 11ms/step - loss: 1.8034e-04 - accuracy: 1.0000\n",
            "Epoch 84/100\n",
            "1/1 [==============================] - 0s 11ms/step - loss: 1.7836e-04 - accuracy: 1.0000\n",
            "Epoch 85/100\n",
            "1/1 [==============================] - 0s 9ms/step - loss: 1.7654e-04 - accuracy: 1.0000\n",
            "Epoch 86/100\n",
            "1/1 [==============================] - 0s 10ms/step - loss: 1.7475e-04 - accuracy: 1.0000\n",
            "Epoch 87/100\n",
            "1/1 [==============================] - 0s 10ms/step - loss: 1.7302e-04 - accuracy: 1.0000\n",
            "Epoch 88/100\n",
            "1/1 [==============================] - 0s 8ms/step - loss: 1.7143e-04 - accuracy: 1.0000\n",
            "Epoch 89/100\n",
            "1/1 [==============================] - 0s 9ms/step - loss: 1.6986e-04 - accuracy: 1.0000\n",
            "Epoch 90/100\n",
            "1/1 [==============================] - 0s 22ms/step - loss: 1.6836e-04 - accuracy: 1.0000\n",
            "Epoch 91/100\n",
            "1/1 [==============================] - 0s 27ms/step - loss: 1.6691e-04 - accuracy: 1.0000\n",
            "Epoch 92/100\n",
            "1/1 [==============================] - 0s 14ms/step - loss: 1.6554e-04 - accuracy: 1.0000\n",
            "Epoch 93/100\n",
            "1/1 [==============================] - 0s 14ms/step - loss: 1.6419e-04 - accuracy: 1.0000\n",
            "Epoch 94/100\n",
            "1/1 [==============================] - 0s 11ms/step - loss: 1.6291e-04 - accuracy: 1.0000\n",
            "Epoch 95/100\n",
            "1/1 [==============================] - 0s 14ms/step - loss: 1.6161e-04 - accuracy: 1.0000\n",
            "Epoch 96/100\n",
            "1/1 [==============================] - 0s 16ms/step - loss: 1.6042e-04 - accuracy: 1.0000\n",
            "Epoch 97/100\n",
            "1/1 [==============================] - 0s 13ms/step - loss: 1.5917e-04 - accuracy: 1.0000\n",
            "Epoch 98/100\n",
            "1/1 [==============================] - 0s 8ms/step - loss: 1.5802e-04 - accuracy: 1.0000\n",
            "Epoch 99/100\n",
            "1/1 [==============================] - 0s 9ms/step - loss: 1.5689e-04 - accuracy: 1.0000\n",
            "Epoch 100/100\n",
            "1/1 [==============================] - 0s 8ms/step - loss: 1.5573e-04 - accuracy: 1.0000\n"
          ],
          "name": "stdout"
        }
      ]
    },
    {
      "cell_type": "code",
      "metadata": {
        "colab": {
          "base_uri": "https://localhost:8080/",
          "height": 279
        },
        "id": "YxJ4kOkxzneL",
        "outputId": "5df7e8e9-b583-4f7a-f681-4a1a52fab4b7"
      },
      "source": [
        "plt.figure(figsize=(12, 4))\n",
        "\n",
        "plt.subplot(1, 2, 1)\n",
        "plt.plot(history.history['loss'], 'b-', label='loss')\n",
        "plt.xlabel('Epoch')\n",
        "plt.legend()\n",
        "\n",
        "plt.subplot(1, 2, 2)\n",
        "plt.plot(history.history['accuracy'], 'g-', label='accuracy')\n",
        "plt.xlabel('Epoch')\n",
        "plt.legend()\n",
        "\n",
        "plt.show()"
      ],
      "execution_count": 57,
      "outputs": [
        {
          "output_type": "display_data",
          "data": {
            "image/png": "[encoded data removed]",
            "text/plain": [
              "<Figure size 864x288 with 2 Axes>"
            ]
          },
          "metadata": {
            "tags": [],
            "needs_background": "light"
          }
        }
      ]
    },
    {
      "cell_type": "markdown",
      "metadata": {
        "id": "Eyeyqb8U1zxP"
      },
      "source": [
        ""
      ]
    },
    {
      "cell_type": "markdown",
      "metadata": {
        "id": "hjSlRk99zneL"
      },
      "source": [
        "## 평가"
      ]
    },
    {
      "cell_type": "code",
      "metadata": {
        "colab": {
          "base_uri": "https://localhost:8080/"
        },
        "id": "2HyKEaYdzneL",
        "outputId": "b42ae49f-bdbf-4925-9df3-95d146d4be94"
      },
      "source": [
        "# 모델 평가\n",
        "model.evaluate(train_inputs, train_labels)"
      ],
      "execution_count": 58,
      "outputs": [
        {
          "output_type": "stream",
          "text": [
            "1/1 [==============================] - 0s 354ms/step - loss: 1.5465e-04 - accuracy: 1.0000\n"
          ],
          "name": "stdout"
        },
        {
          "output_type": "execute_result",
          "data": {
            "text/plain": [
              "[0.00015465461183339357, 1.0]"
            ]
          },
          "metadata": {
            "tags": []
          },
          "execution_count": 58
        }
      ]
    },
    {
      "cell_type": "markdown",
      "metadata": {
        "id": "XpcISJ_ozneL"
      },
      "source": [
        "## 예측"
      ]
    },
    {
      "cell_type": "code",
      "metadata": {
        "id": "LJkTEZONXyFU"
      },
      "source": [
        "# 추론할 입력\n",
        "string = '나는 기분이 우울해'"
      ],
      "execution_count": 59,
      "outputs": []
    },
    {
      "cell_type": "code",
      "metadata": {
        "colab": {
          "base_uri": "https://localhost:8080/"
        },
        "id": "CfprsWzGXvWA",
        "outputId": "c85b6880-8c2c-4bee-a333-f9cd81b0e3f0"
      },
      "source": [
        "# 입력을 숫자로 변경\n",
        "infer_input = [word_to_id[word] for word in string.split()]\n",
        "infer_input"
      ],
      "execution_count": 60,
      "outputs": [
        {
          "output_type": "execute_result",
          "data": {
            "text/plain": [
              "[2, 4, 6]"
            ]
          },
          "metadata": {
            "tags": []
          },
          "execution_count": 60
        }
      ]
    },
    {
      "cell_type": "code",
      "metadata": {
        "colab": {
          "base_uri": "https://localhost:8080/"
        },
        "id": "Kg_dmgZOX30T",
        "outputId": "e5ee5ff4-d6df-42d9-de3c-c060d71ba349"
      },
      "source": [
        "# 문장의 길이를 모두 동일하게 변경 (최대길이 4)\n",
        "infer_input += [0] * (4 - len(infer_input))\n",
        "infer_input"
      ],
      "execution_count": 61,
      "outputs": [
        {
          "output_type": "execute_result",
          "data": {
            "text/plain": [
              "[2, 4, 6, 0]"
            ]
          },
          "metadata": {
            "tags": []
          },
          "execution_count": 61
        }
      ]
    },
    {
      "cell_type": "code",
      "metadata": {
        "colab": {
          "base_uri": "https://localhost:8080/"
        },
        "id": "MAfaCPQEzneL",
        "outputId": "1577c115-b164-49cf-94d4-878a98fd5724"
      },
      "source": [
        "# numpy array 변환 (batch size 1 추가)\n",
        "infer_inputs = np.array([infer_input])\n",
        "infer_inputs"
      ],
      "execution_count": 62,
      "outputs": [
        {
          "output_type": "execute_result",
          "data": {
            "text/plain": [
              "array([[2, 4, 6, 0]])"
            ]
          },
          "metadata": {
            "tags": []
          },
          "execution_count": 62
        }
      ]
    },
    {
      "cell_type": "code",
      "metadata": {
        "colab": {
          "base_uri": "https://localhost:8080/"
        },
        "id": "YUSMsyWbzneL",
        "outputId": "35df85f1-5387-4139-bd88-e1626c3d44ee"
      },
      "source": [
        "# 긍정/부정 추론\n",
        "y_preds = model.predict(infer_inputs)\n",
        "y_preds"
      ],
      "execution_count": 63,
      "outputs": [
        {
          "output_type": "execute_result",
          "data": {
            "text/plain": [
              "array([[[8.59860957e-05, 9.99860168e-01, 5.38804125e-05],\n",
              "        [5.58363499e-05, 9.99915719e-01, 2.85403221e-05],\n",
              "        [9.99866843e-01, 1.07483858e-04, 2.55774667e-05],\n",
              "        [1.00301215e-04, 9.99692798e-01, 2.06899087e-04]]], dtype=float32)"
            ]
          },
          "metadata": {
            "tags": []
          },
          "execution_count": 63
        }
      ]
    },
    {
      "cell_type": "code",
      "metadata": {
        "colab": {
          "base_uri": "https://localhost:8080/"
        },
        "id": "RdC00mgdzneL",
        "outputId": "5dc9668c-ef34-4df5-a16d-1abe3a901bf6"
      },
      "source": [
        "# 확률의 max 값을 추론 값으로 결정\n",
        "y_pred_class = np.argmax(y_preds, axis=2)\n",
        "y_pred_class"
      ],
      "execution_count": 64,
      "outputs": [
        {
          "output_type": "execute_result",
          "data": {
            "text/plain": [
              "array([[1, 1, 0, 1]])"
            ]
          },
          "metadata": {
            "tags": []
          },
          "execution_count": 64
        }
      ]
    },
    {
      "cell_type": "code",
      "metadata": {
        "colab": {
          "base_uri": "https://localhost:8080/"
        },
        "id": "iVYc0DXrTuaZ",
        "outputId": "1bc3cb17-0b97-44d5-84ba-f686b4875a90"
      },
      "source": [
        "# 각 예측 값에 대한 label string\n",
        "for row in y_pred_class:\n",
        "    for val in row:\n",
        "        print(val, ':', id_to_label[val])"
      ],
      "execution_count": 65,
      "outputs": [
        {
          "output_type": "stream",
          "text": [
            "1 : 중립\n",
            "1 : 중립\n",
            "0 : 부정\n",
            "1 : 중립\n"
          ],
          "name": "stdout"
        }
      ]
    },
    {
      "cell_type": "markdown",
      "metadata": {
        "id": "y_9x5ECWZhbS"
      },
      "source": [
        "# 문장 긍정(1), 부정(0) 분류 프로젝트"
      ]
    },
    {
      "cell_type": "markdown",
      "metadata": {
        "id": "3uPb-tIEZhbd"
      },
      "source": [
        "## 데이터"
      ]
    },
    {
      "cell_type": "code",
      "metadata": {
        "id": "i7oqS_rHZhbe"
      },
      "source": [
        "# 입력 문장\n",
        "sentences = [\n",
        "    '나는 오늘 기분이 좋아',\n",
        "    '나는 오늘 우울해'\n",
        "]\n",
        "\n",
        "# 출력 정답\n",
        "labels = [1, 0]  # 긍정(1), 부정(0)\n",
        "\n",
        "# 정답 dic\n",
        "id_to_label = {0: '부정', 1: '긍정'}"
      ],
      "execution_count": 66,
      "outputs": []
    },
    {
      "cell_type": "markdown",
      "metadata": {
        "id": "5QAm2W2eZhbe"
      },
      "source": [
        "## Vocabulary"
      ]
    },
    {
      "cell_type": "code",
      "metadata": {
        "colab": {
          "base_uri": "https://localhost:8080/"
        },
        "id": "nPAFem00Zhbe",
        "outputId": "2c754c95-ea0e-404c-eb53-70ef56df5e37"
      },
      "source": [
        "# 각 문장을 띄어쓰기 단위로 분할\n",
        "words = []\n",
        "for sentence in sentences:\n",
        "    words.extend(sentence.split())\n",
        "words"
      ],
      "execution_count": 67,
      "outputs": [
        {
          "output_type": "execute_result",
          "data": {
            "text/plain": [
              "['나는', '오늘', '기분이', '좋아', '나는', '오늘', '우울해']"
            ]
          },
          "metadata": {
            "tags": []
          },
          "execution_count": 67
        }
      ]
    },
    {
      "cell_type": "code",
      "metadata": {
        "colab": {
          "base_uri": "https://localhost:8080/"
        },
        "id": "fG66UxYRZhbf",
        "outputId": "cc3370bf-6546-45d9-fe82-3f9d683fe4f9"
      },
      "source": [
        "# 중복 단어 제거\n",
        "words = list(dict.fromkeys(words))\n",
        "words"
      ],
      "execution_count": 68,
      "outputs": [
        {
          "output_type": "execute_result",
          "data": {
            "text/plain": [
              "['나는', '오늘', '기분이', '좋아', '우울해']"
            ]
          },
          "metadata": {
            "tags": []
          },
          "execution_count": 68
        }
      ]
    },
    {
      "cell_type": "code",
      "metadata": {
        "colab": {
          "base_uri": "https://localhost:8080/"
        },
        "id": "c4z8up8GZhbf",
        "outputId": "ef3fd021-7cf4-4137-b4f5-905ff618cb89"
      },
      "source": [
        "# 각 단어별 고유한 번호 부여\n",
        "word_to_id = {'[PAD]': 0, '[UNK]': 1}\n",
        "for word in words:\n",
        "    word_to_id[word] = len(word_to_id)\n",
        "word_to_id"
      ],
      "execution_count": 69,
      "outputs": [
        {
          "output_type": "execute_result",
          "data": {
            "text/plain": [
              "{'[PAD]': 0, '[UNK]': 1, '기분이': 4, '나는': 2, '오늘': 3, '우울해': 6, '좋아': 5}"
            ]
          },
          "metadata": {
            "tags": []
          },
          "execution_count": 69
        }
      ]
    },
    {
      "cell_type": "code",
      "metadata": {
        "colab": {
          "base_uri": "https://localhost:8080/"
        },
        "id": "uOCStzoAZhbf",
        "outputId": "e249df11-887c-4fe9-f6cf-8a928f2dfe1b"
      },
      "source": [
        "# 각 숫자별 단어 부여\n",
        "id_to_word = {_id:word for word, _id in word_to_id.items()}\n",
        "id_to_word"
      ],
      "execution_count": 70,
      "outputs": [
        {
          "output_type": "execute_result",
          "data": {
            "text/plain": [
              "{0: '[PAD]', 1: '[UNK]', 2: '나는', 3: '오늘', 4: '기분이', 5: '좋아', 6: '우울해'}"
            ]
          },
          "metadata": {
            "tags": []
          },
          "execution_count": 70
        }
      ]
    },
    {
      "cell_type": "markdown",
      "metadata": {
        "id": "GIGGW1zCZhbf"
      },
      "source": [
        "## 모델 학습용 데이터 생성"
      ]
    },
    {
      "cell_type": "code",
      "metadata": {
        "colab": {
          "base_uri": "https://localhost:8080/"
        },
        "id": "vqOJgFInZhbf",
        "outputId": "fa1f4680-87ac-4f47-e17e-ae5780ad914b"
      },
      "source": [
        "# 학습용 입력 데이터 생성\n",
        "train_inputs = []\n",
        "for sentence in sentences:\n",
        "    train_inputs.append([word_to_id[word] for word in sentence.split()])\n",
        "train_inputs"
      ],
      "execution_count": 71,
      "outputs": [
        {
          "output_type": "execute_result",
          "data": {
            "text/plain": [
              "[[2, 3, 4, 5], [2, 3, 6]]"
            ]
          },
          "metadata": {
            "tags": []
          },
          "execution_count": 71
        }
      ]
    },
    {
      "cell_type": "code",
      "metadata": {
        "colab": {
          "base_uri": "https://localhost:8080/"
        },
        "id": "3tnBuxc7Zhbg",
        "outputId": "1e7893ab-ffba-47b4-c154-99c5f2a2d9ab"
      },
      "source": [
        "# train label은 labels를 그래도 사용\n",
        "train_labels = labels\n",
        "train_labels"
      ],
      "execution_count": 72,
      "outputs": [
        {
          "output_type": "execute_result",
          "data": {
            "text/plain": [
              "[1, 0]"
            ]
          },
          "metadata": {
            "tags": []
          },
          "execution_count": 72
        }
      ]
    },
    {
      "cell_type": "code",
      "metadata": {
        "colab": {
          "base_uri": "https://localhost:8080/"
        },
        "id": "dDgDN_bNZhbg",
        "outputId": "2d78ebfb-ff90-4ef3-ba08-3c5f356c87c5"
      },
      "source": [
        "# 문장의 길이를 모두 동일하게 변경 (최대길이 4)\n",
        "for row in train_inputs:\n",
        "    row += [0] * (4 - len(row))\n",
        "train_inputs"
      ],
      "execution_count": 73,
      "outputs": [
        {
          "output_type": "execute_result",
          "data": {
            "text/plain": [
              "[[2, 3, 4, 5], [2, 3, 6, 0]]"
            ]
          },
          "metadata": {
            "tags": []
          },
          "execution_count": 73
        }
      ]
    },
    {
      "cell_type": "code",
      "metadata": {
        "colab": {
          "base_uri": "https://localhost:8080/"
        },
        "id": "NK056QQoZhbg",
        "outputId": "cb085a59-be2c-4390-f528-fd347e38653a"
      },
      "source": [
        "# train inputs을 numpy array로 변환\n",
        "train_inputs = np.array(train_inputs)\n",
        "train_inputs"
      ],
      "execution_count": 74,
      "outputs": [
        {
          "output_type": "execute_result",
          "data": {
            "text/plain": [
              "array([[2, 3, 4, 5],\n",
              "       [2, 3, 6, 0]])"
            ]
          },
          "metadata": {
            "tags": []
          },
          "execution_count": 74
        }
      ]
    },
    {
      "cell_type": "code",
      "metadata": {
        "colab": {
          "base_uri": "https://localhost:8080/"
        },
        "id": "Sfjb3EZAZhbh",
        "outputId": "0f9bb0cd-c17a-4bdc-cc52-8384860db62f"
      },
      "source": [
        "# 학습용 정답을 numpy array로 변환\n",
        "train_labels = np.array(train_labels)\n",
        "train_labels"
      ],
      "execution_count": 75,
      "outputs": [
        {
          "output_type": "execute_result",
          "data": {
            "text/plain": [
              "array([1, 0])"
            ]
          },
          "metadata": {
            "tags": []
          },
          "execution_count": 75
        }
      ]
    },
    {
      "cell_type": "markdown",
      "metadata": {
        "id": "85GzrE0HZhbh"
      },
      "source": [
        "## 모델링"
      ]
    },
    {
      "cell_type": "code",
      "metadata": {
        "colab": {
          "base_uri": "https://localhost:8080/"
        },
        "id": "ho--z_ahZhbh",
        "outputId": "7d1192c4-d2ba-4522-8a94-0c517226972b"
      },
      "source": [
        "# 입력 단어를 vector로 변환\n",
        "embedding = tf.keras.layers.Embedding(len(word_to_id), 8)\n",
        "hidden = embedding(train_inputs)\n",
        "hidden"
      ],
      "execution_count": 76,
      "outputs": [
        {
          "output_type": "execute_result",
          "data": {
            "text/plain": [
              "<tf.Tensor: shape=(2, 4, 8), dtype=float32, numpy=\n",
              "array([[[ 0.02951249,  0.04050869, -0.00110207, -0.00286565,\n",
              "         -0.0134358 ,  0.01925356, -0.03192197, -0.0224604 ],\n",
              "        [-0.0074688 , -0.00308798, -0.0495938 ,  0.04538815,\n",
              "         -0.0085479 , -0.00170746,  0.00109444, -0.00764736],\n",
              "        [-0.02905436, -0.02890896, -0.02936269,  0.0205111 ,\n",
              "         -0.00663141, -0.04887185,  0.03184196,  0.01743067],\n",
              "        [ 0.0218735 ,  0.02232413,  0.00967147, -0.02633269,\n",
              "         -0.03542371,  0.02308096, -0.04393815, -0.0128117 ]],\n",
              "\n",
              "       [[ 0.02951249,  0.04050869, -0.00110207, -0.00286565,\n",
              "         -0.0134358 ,  0.01925356, -0.03192197, -0.0224604 ],\n",
              "        [-0.0074688 , -0.00308798, -0.0495938 ,  0.04538815,\n",
              "         -0.0085479 , -0.00170746,  0.00109444, -0.00764736],\n",
              "        [ 0.02587981, -0.02921733, -0.04669337, -0.04177745,\n",
              "         -0.04581201, -0.00211779,  0.0447146 ,  0.03462278],\n",
              "        [ 0.00830946,  0.01685952,  0.0452924 , -0.01516217,\n",
              "          0.02946118,  0.04157338, -0.03121672, -0.00215127]]],\n",
              "      dtype=float32)>"
            ]
          },
          "metadata": {
            "tags": []
          },
          "execution_count": 76
        }
      ]
    },
    {
      "cell_type": "code",
      "metadata": {
        "colab": {
          "base_uri": "https://localhost:8080/"
        },
        "id": "iAHwFqpiaKLj",
        "outputId": "8bea60eb-c1c1-4f34-db7e-49efdf581633"
      },
      "source": [
        "# 각 단어 벡터의 최대값 기준으로 벡터를 더해서 차원을 줄여줌 (문장 vector 생성)\n",
        "pool = tf.keras.layers.GlobalMaxPool1D()\n",
        "hidden_pool = pool(hidden)\n",
        "hidden_pool"
      ],
      "execution_count": 77,
      "outputs": [
        {
          "output_type": "execute_result",
          "data": {
            "text/plain": [
              "<tf.Tensor: shape=(2, 8), dtype=float32, numpy=\n",
              "array([[ 0.02951249,  0.04050869,  0.00967147,  0.04538815, -0.00663141,\n",
              "         0.02308096,  0.03184196,  0.01743067],\n",
              "       [ 0.02951249,  0.04050869,  0.0452924 ,  0.04538815,  0.02946118,\n",
              "         0.04157338,  0.0447146 ,  0.03462278]], dtype=float32)>"
            ]
          },
          "metadata": {
            "tags": []
          },
          "execution_count": 77
        }
      ]
    },
    {
      "cell_type": "code",
      "metadata": {
        "colab": {
          "base_uri": "https://localhost:8080/"
        },
        "id": "P_H1viaeZhbh",
        "outputId": "ff84e316-64cf-4e74-fc6b-9d4745c4b7e2"
      },
      "source": [
        "# 문장 vector를 이용해서 긍정(1), 부정(0) 확률값 예측\n",
        "linear = tf.keras.layers.Dense(2, activation=tf.nn.softmax)\n",
        "outputs = linear(hidden_pool)\n",
        "outputs"
      ],
      "execution_count": 78,
      "outputs": [
        {
          "output_type": "execute_result",
          "data": {
            "text/plain": [
              "<tf.Tensor: shape=(2, 2), dtype=float32, numpy=\n",
              "array([[0.4858245 , 0.5141755 ],\n",
              "       [0.49470106, 0.5052989 ]], dtype=float32)>"
            ]
          },
          "metadata": {
            "tags": []
          },
          "execution_count": 78
        }
      ]
    },
    {
      "cell_type": "code",
      "metadata": {
        "id": "7QPDAjdMZhbh"
      },
      "source": [
        "def build_model(n_vocab, d_model, n_seq, n_out):\n",
        "    \"\"\"\n",
        "    동작만 하는 간단한 모델\n",
        "    :param n_vocab: vocabulary 단어 수\n",
        "    :param d_model: 단어를 의미하는 벡터의 차원 수\n",
        "    :param n_seq: 문장길이 (단어 수)\n",
        "    :param n_out: 예측할 class 개수\n",
        "    \"\"\"\n",
        "    inputs = tf.keras.layers.Input((n_seq,))  # (bs, n_seq)\n",
        "    # 입력 단어를 vector로 변환\n",
        "    embedding = tf.keras.layers.Embedding(n_vocab, d_model)\n",
        "    hidden = embedding(inputs)  # (bs, n_seq, d_model)\n",
        "    #######################################\n",
        "    # bidirectional rnn\n",
        "    rnn_bi = tf.keras.layers.Bidirectional(tf.keras.layers.SimpleRNN(units=128, return_sequences=True)) # 256\n",
        "    hidden = rnn_bi(hidden)\n",
        "\n",
        "    # cnn layer1\n",
        "    cnn_1 = tf.keras.layers.Conv1D(filters=128, kernel_size=3, padding=\"causal\") # 128\n",
        "    hidden = cnn_1(hidden)\n",
        "\n",
        "    # cnn layer2\n",
        "    cnn_2 = tf.keras.layers.Conv1D(filters=64, kernel_size=3, padding=\"valid\") # 64\n",
        "    hidden = cnn_2(hidden)\n",
        "\n",
        "    #######################################\n",
        "    # 각 단어 벡터의 최대값 기준으로 벡터를 더해서 차원을 줄여줌 (문장 vector 생성)\n",
        "    pool = tf.keras.layers.GlobalMaxPool1D()\n",
        "    hidden_pool = pool(hidden)  # (bs, d_model)\n",
        "    # 문장 vector를 이용해서 긍정(1), 부정(0) 확률값 예측\n",
        "    linear = tf.keras.layers.Dense(2, activation=tf.nn.softmax)\n",
        "    outputs = linear(hidden_pool)  # (bs, n_out)\n",
        "    # 학습할 모델 선언\n",
        "    model = tf.keras.Model(inputs=inputs, outputs=outputs)\n",
        "    return model"
      ],
      "execution_count": 145,
      "outputs": []
    },
    {
      "cell_type": "code",
      "metadata": {
        "colab": {
          "base_uri": "https://localhost:8080/",
          "height": 754
        },
        "id": "FlT9uYrxZhbi",
        "outputId": "6e6c76bd-712b-4233-f2ac-37149b5c7a2f"
      },
      "source": [
        "# 모델 생성\n",
        "model = build_model(len(word_to_id), 8, 4, 2)\n",
        "# 모델 내용 그래프 출력\n",
        "tf.keras.utils.plot_model(model, 'model.png', show_shapes=True)"
      ],
      "execution_count": 146,
      "outputs": [
        {
          "output_type": "execute_result",
          "data": {
            "image/png": "[encoded data removed]",
            "text/plain": [
              "<IPython.core.display.Image object>"
            ]
          },
          "metadata": {
            "tags": []
          },
          "execution_count": 146
        }
      ]
    },
    {
      "cell_type": "markdown",
      "metadata": {
        "id": "rrhMcv0FZhbi"
      },
      "source": [
        "## 학습"
      ]
    },
    {
      "cell_type": "code",
      "metadata": {
        "id": "oh87DPXoZhbi"
      },
      "source": [
        "# 모델 loss, optimizer, metric 정의\n",
        "model.compile(loss='sparse_categorical_crossentropy', optimizer='adam', metrics=['accuracy'])"
      ],
      "execution_count": 147,
      "outputs": []
    },
    {
      "cell_type": "code",
      "metadata": {
        "colab": {
          "base_uri": "https://localhost:8080/"
        },
        "id": "K5mlWw7lZhbi",
        "outputId": "00e3e439-785b-423f-c91e-a2cf6a3d535d"
      },
      "source": [
        "# 모델 학습\n",
        "history = model.fit(train_inputs, train_labels, epochs=20, batch_size=16)"
      ],
      "execution_count": 148,
      "outputs": [
        {
          "output_type": "stream",
          "text": [
            "Epoch 1/20\n",
            "1/1 [==============================] - 1s 1s/step - loss: 0.6799 - accuracy: 0.5000\n",
            "Epoch 2/20\n",
            "1/1 [==============================] - 0s 10ms/step - loss: 0.6159 - accuracy: 1.0000\n",
            "Epoch 3/20\n",
            "1/1 [==============================] - 0s 10ms/step - loss: 0.5522 - accuracy: 1.0000\n",
            "Epoch 4/20\n",
            "1/1 [==============================] - 0s 8ms/step - loss: 0.4748 - accuracy: 1.0000\n",
            "Epoch 5/20\n",
            "1/1 [==============================] - 0s 12ms/step - loss: 0.3905 - accuracy: 1.0000\n",
            "Epoch 6/20\n",
            "1/1 [==============================] - 0s 8ms/step - loss: 0.3020 - accuracy: 1.0000\n",
            "Epoch 7/20\n",
            "1/1 [==============================] - 0s 8ms/step - loss: 0.2126 - accuracy: 1.0000\n",
            "Epoch 8/20\n",
            "1/1 [==============================] - 0s 8ms/step - loss: 0.1329 - accuracy: 1.0000\n",
            "Epoch 9/20\n",
            "1/1 [==============================] - 0s 8ms/step - loss: 0.0736 - accuracy: 1.0000\n",
            "Epoch 10/20\n",
            "1/1 [==============================] - 0s 13ms/step - loss: 0.0357 - accuracy: 1.0000\n",
            "Epoch 11/20\n",
            "1/1 [==============================] - 0s 9ms/step - loss: 0.0152 - accuracy: 1.0000\n",
            "Epoch 12/20\n",
            "1/1 [==============================] - 0s 10ms/step - loss: 0.0059 - accuracy: 1.0000\n",
            "Epoch 13/20\n",
            "1/1 [==============================] - 0s 8ms/step - loss: 0.0021 - accuracy: 1.0000\n",
            "Epoch 14/20\n",
            "1/1 [==============================] - 0s 8ms/step - loss: 7.3041e-04 - accuracy: 1.0000\n",
            "Epoch 15/20\n",
            "1/1 [==============================] - 0s 10ms/step - loss: 2.4137e-04 - accuracy: 1.0000\n",
            "Epoch 16/20\n",
            "1/1 [==============================] - 0s 7ms/step - loss: 7.8377e-05 - accuracy: 1.0000\n",
            "Epoch 17/20\n",
            "1/1 [==============================] - 0s 10ms/step - loss: 2.5451e-05 - accuracy: 1.0000\n",
            "Epoch 18/20\n",
            "1/1 [==============================] - 0s 14ms/step - loss: 8.3446e-06 - accuracy: 1.0000\n",
            "Epoch 19/20\n",
            "1/1 [==============================] - 0s 13ms/step - loss: 2.7418e-06 - accuracy: 1.0000\n",
            "Epoch 20/20\n",
            "1/1 [==============================] - 0s 13ms/step - loss: 9.5367e-07 - accuracy: 1.0000\n"
          ],
          "name": "stdout"
        }
      ]
    },
    {
      "cell_type": "code",
      "metadata": {
        "colab": {
          "base_uri": "https://localhost:8080/",
          "height": 279
        },
        "id": "Xedcn0HqZhbi",
        "outputId": "77ed97d2-b4e6-467d-c09c-87df2e35e476"
      },
      "source": [
        "plt.figure(figsize=(12, 4))\n",
        "\n",
        "plt.subplot(1, 2, 1)\n",
        "plt.plot(history.history['loss'], 'b-', label='loss')\n",
        "plt.xlabel('Epoch')\n",
        "plt.legend()\n",
        "\n",
        "plt.subplot(1, 2, 2)\n",
        "plt.plot(history.history['accuracy'], 'g-', label='accuracy')\n",
        "plt.xlabel('Epoch')\n",
        "plt.legend()\n",
        "\n",
        "plt.show()"
      ],
      "execution_count": 149,
      "outputs": [
        {
          "output_type": "display_data",
          "data": {
            "image/png": "[encoded data removed]",
            "text/plain": [
              "<Figure size 864x288 with 2 Axes>"
            ]
          },
          "metadata": {
            "tags": [],
            "needs_background": "light"
          }
        }
      ]
    },
    {
      "cell_type": "markdown",
      "metadata": {
        "id": "ib6gdZI5Zhbi"
      },
      "source": [
        "## 평가"
      ]
    },
    {
      "cell_type": "code",
      "metadata": {
        "colab": {
          "base_uri": "https://localhost:8080/"
        },
        "id": "IEayBpfbZhbj",
        "outputId": "012bfae4-bb47-4032-cc54-18ad7c45f313"
      },
      "source": [
        "# 모델 평가\n",
        "model.evaluate(train_inputs, train_labels)"
      ],
      "execution_count": 150,
      "outputs": [
        {
          "output_type": "stream",
          "text": [
            "1/1 [==============================] - 0s 284ms/step - loss: 2.9802e-07 - accuracy: 1.0000\n"
          ],
          "name": "stdout"
        },
        {
          "output_type": "execute_result",
          "data": {
            "text/plain": [
              "[2.9802316703353426e-07, 1.0]"
            ]
          },
          "metadata": {
            "tags": []
          },
          "execution_count": 150
        }
      ]
    },
    {
      "cell_type": "markdown",
      "metadata": {
        "id": "Vlt4WXgWZhbj"
      },
      "source": [
        "## 예측"
      ]
    },
    {
      "cell_type": "code",
      "metadata": {
        "id": "tvS1GqDhZhbj"
      },
      "source": [
        "# 추론할 입력\n",
        "string = '나는 기분이 우울해'"
      ],
      "execution_count": 151,
      "outputs": []
    },
    {
      "cell_type": "code",
      "metadata": {
        "colab": {
          "base_uri": "https://localhost:8080/"
        },
        "id": "0EM08Z8vZhbj",
        "outputId": "012c088c-4a6e-4f45-979d-d42ddd392a4d"
      },
      "source": [
        "# 입력을 숫자로 변경\n",
        "infer_input = [word_to_id[word] for word in string.split()]\n",
        "infer_input"
      ],
      "execution_count": 152,
      "outputs": [
        {
          "output_type": "execute_result",
          "data": {
            "text/plain": [
              "[2, 4, 6]"
            ]
          },
          "metadata": {
            "tags": []
          },
          "execution_count": 152
        }
      ]
    },
    {
      "cell_type": "code",
      "metadata": {
        "colab": {
          "base_uri": "https://localhost:8080/"
        },
        "id": "V18cJiq6Zhbj",
        "outputId": "d1ed9d2f-1c31-4a03-f02b-845ca1a83db5"
      },
      "source": [
        "# 문장의 길이를 모두 동일하게 변경 (최대길이 4)\n",
        "infer_input += [0] * (4 - len(infer_input))\n",
        "infer_input"
      ],
      "execution_count": 153,
      "outputs": [
        {
          "output_type": "execute_result",
          "data": {
            "text/plain": [
              "[2, 4, 6, 0]"
            ]
          },
          "metadata": {
            "tags": []
          },
          "execution_count": 153
        }
      ]
    },
    {
      "cell_type": "code",
      "metadata": {
        "colab": {
          "base_uri": "https://localhost:8080/"
        },
        "id": "NonjgnZ1Zhbj",
        "outputId": "dafdd71f-4a8b-4338-ed3e-3631bb1ea827"
      },
      "source": [
        "# numpy array 변환 (batch size 1 추가)\n",
        "infer_inputs = np.array([infer_input])\n",
        "infer_inputs"
      ],
      "execution_count": 154,
      "outputs": [
        {
          "output_type": "execute_result",
          "data": {
            "text/plain": [
              "array([[2, 4, 6, 0]])"
            ]
          },
          "metadata": {
            "tags": []
          },
          "execution_count": 154
        }
      ]
    },
    {
      "cell_type": "code",
      "metadata": {
        "colab": {
          "base_uri": "https://localhost:8080/"
        },
        "id": "bF_ANe3WZhbj",
        "outputId": "05d7539a-fd47-4319-a9a4-fa80f088cd0f"
      },
      "source": [
        "# 긍정/부정 추론\n",
        "y_preds = model.predict(infer_inputs)\n",
        "y_preds"
      ],
      "execution_count": 155,
      "outputs": [
        {
          "output_type": "execute_result",
          "data": {
            "text/plain": [
              "array([[9.9999702e-01, 2.9306007e-06]], dtype=float32)"
            ]
          },
          "metadata": {
            "tags": []
          },
          "execution_count": 155
        }
      ]
    },
    {
      "cell_type": "code",
      "metadata": {
        "colab": {
          "base_uri": "https://localhost:8080/"
        },
        "id": "KDPL_ZzSZhbk",
        "outputId": "102ba0c2-f6ba-428b-c5e4-affef2f397bc"
      },
      "source": [
        "# 확률의 max 값을 추론 값으로 결정\n",
        "y_pred_class = np.argmax(y_preds, axis=1)\n",
        "y_pred_class"
      ],
      "execution_count": 156,
      "outputs": [
        {
          "output_type": "execute_result",
          "data": {
            "text/plain": [
              "array([0])"
            ]
          },
          "metadata": {
            "tags": []
          },
          "execution_count": 156
        }
      ]
    },
    {
      "cell_type": "code",
      "metadata": {
        "colab": {
          "base_uri": "https://localhost:8080/"
        },
        "id": "8TBB3S9lZhbk",
        "outputId": "02789670-03b2-49bd-e686-e155ee3d138b"
      },
      "source": [
        "# 각 예측 값에 대한 label string\n",
        "for val in y_pred_class:\n",
        "    print(val, ':', id_to_label[val])"
      ],
      "execution_count": 157,
      "outputs": [
        {
          "output_type": "stream",
          "text": [
            "0 : 부정\n"
          ],
          "name": "stdout"
        }
      ]
    }
  ]
}