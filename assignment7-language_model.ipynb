m{
  "nbformat": 4,
  "nbformat_minor": 0,
  "metadata": {
    "colab": {
      "name": "07-01-language-model-과제.ipynb",
      "provenance": [],
      "collapsed_sections": [
        "6dfJPT-2XMTB",
        "JHkHg6XAXoyK",
        "XwriCkq_R1Lc",
        "3myBX8hNEH1u",
        "L2vJmIBt3-ci",
        "_dBAGBHE3-ck",
        "MFWK8EvH3-cp",
        "g2rxLFrL3-cq"
      ],
      "toc_visible": true
    },
    "kernelspec": {
      "name": "python3",
      "display_name": "Python 3"
    },
    "accelerator": "GPU",
    "widgets": {
      "application/vnd.jupyter.widget-state+json": {
        "b1343c9d0e53432593d173eb3f3be851": {
          "model_module": "@jupyter-widgets/controls",
          "model_name": "HBoxModel",
          "state": {
            "_view_name": "HBoxView",
            "_dom_classes": [],
            "_model_name": "HBoxModel",
            "_view_module": "@jupyter-widgets/controls",
            "_model_module_version": "1.5.0",
            "_view_count": null,
            "_view_module_version": "1.5.0",
            "box_style": "",
            "layout": "IPY_MODEL_99e99d858b5e417b859c30eef76fb36a",
            "_model_module": "@jupyter-widgets/controls",
            "children": [
              "IPY_MODEL_d89f0e7815124e2f904ce459840ba061",
              "IPY_MODEL_11121cf513ca40eca06a88972eea2bbe"
            ]
          }
        },
        "99e99d858b5e417b859c30eef76fb36a": {
          "model_module": "@jupyter-widgets/base",
          "model_name": "LayoutModel",
          "state": {
            "_view_name": "LayoutView",
            "grid_template_rows": null,
            "right": null,
            "justify_content": null,
            "_view_module": "@jupyter-widgets/base",
            "overflow": null,
            "_model_module_version": "1.2.0",
            "_view_count": null,
            "flex_flow": null,
            "width": null,
            "min_width": null,
            "border": null,
            "align_items": null,
            "bottom": null,
            "_model_module": "@jupyter-widgets/base",
            "top": null,
            "grid_column": null,
            "overflow_y": null,
            "overflow_x": null,
            "grid_auto_flow": null,
            "grid_area": null,
            "grid_template_columns": null,
            "flex": null,
            "_model_name": "LayoutModel",
            "justify_items": null,
            "grid_row": null,
            "max_height": null,
            "align_content": null,
            "visibility": null,
            "align_self": null,
            "height": null,
            "min_height": null,
            "padding": null,
            "grid_auto_rows": null,
            "grid_gap": null,
            "max_width": null,
            "order": null,
            "_view_module_version": "1.2.0",
            "grid_template_areas": null,
            "object_position": null,
            "object_fit": null,
            "grid_auto_columns": null,
            "margin": null,
            "display": null,
            "left": null
          }
        },
        "d89f0e7815124e2f904ce459840ba061": {
          "model_module": "@jupyter-widgets/controls",
          "model_name": "FloatProgressModel",
          "state": {
            "_view_name": "ProgressView",
            "style": "IPY_MODEL_c66bfb1538224d3f9ef49cdb4dc31869",
            "_dom_classes": [],
            "description": "100%",
            "_model_name": "FloatProgressModel",
            "bar_style": "success",
            "max": 4,
            "_view_module": "@jupyter-widgets/controls",
            "_model_module_version": "1.5.0",
            "value": 4,
            "_view_count": null,
            "_view_module_version": "1.5.0",
            "orientation": "horizontal",
            "min": 0,
            "description_tooltip": null,
            "_model_module": "@jupyter-widgets/controls",
            "layout": "IPY_MODEL_59883e3da2b148839f8ccdc777342218"
          }
        },
        "11121cf513ca40eca06a88972eea2bbe": {
          "model_module": "@jupyter-widgets/controls",
          "model_name": "HTMLModel",
          "state": {
            "_view_name": "HTMLView",
            "style": "IPY_MODEL_71bba91570be4df797263659c251d66b",
            "_dom_classes": [],
            "description": "",
            "_model_name": "HTMLModel",
            "placeholder": "​",
            "_view_module": "@jupyter-widgets/controls",
            "_model_module_version": "1.5.0",
            "value": " 4/4 [00:01&lt;00:00,  2.27it/s]",
            "_view_count": null,
            "_view_module_version": "1.5.0",
            "description_tooltip": null,
            "_model_module": "@jupyter-widgets/controls",
            "layout": "IPY_MODEL_4937293236f444929be7d5c8692236a3"
          }
        },
        "c66bfb1538224d3f9ef49cdb4dc31869": {
          "model_module": "@jupyter-widgets/controls",
          "model_name": "ProgressStyleModel",
          "state": {
            "_view_name": "StyleView",
            "_model_name": "ProgressStyleModel",
            "description_width": "initial",
            "_view_module": "@jupyter-widgets/base",
            "_model_module_version": "1.5.0",
            "_view_count": null,
            "_view_module_version": "1.2.0",
            "bar_color": null,
            "_model_module": "@jupyter-widgets/controls"
          }
        },
        "59883e3da2b148839f8ccdc777342218": {
          "model_module": "@jupyter-widgets/base",
          "model_name": "LayoutModel",
          "state": {
            "_view_name": "LayoutView",
            "grid_template_rows": null,
            "right": null,
            "justify_content": null,
            "_view_module": "@jupyter-widgets/base",
            "overflow": null,
            "_model_module_version": "1.2.0",
            "_view_count": null,
            "flex_flow": null,
            "width": null,
            "min_width": null,
            "border": null,
            "align_items": null,
            "bottom": null,
            "_model_module": "@jupyter-widgets/base",
            "top": null,
            "grid_column": null,
            "overflow_y": null,
            "overflow_x": null,
            "grid_auto_flow": null,
            "grid_area": null,
            "grid_template_columns": null,
            "flex": null,
            "_model_name": "LayoutModel",
            "justify_items": null,
            "grid_row": null,
            "max_height": null,
            "align_content": null,
            "visibility": null,
            "align_self": null,
            "height": null,
            "min_height": null,
            "padding": null,
            "grid_auto_rows": null,
            "grid_gap": null,
            "max_width": null,
            "order": null,
            "_view_module_version": "1.2.0",
            "grid_template_areas": null,
            "object_position": null,
            "object_fit": null,
            "grid_auto_columns": null,
            "margin": null,
            "display": null,
            "left": null
          }
        },
        "71bba91570be4df797263659c251d66b": {
          "model_module": "@jupyter-widgets/controls",
          "model_name": "DescriptionStyleModel",
          "state": {
            "_view_name": "StyleView",
            "_model_name": "DescriptionStyleModel",
            "description_width": "",
            "_view_module": "@jupyter-widgets/base",
            "_model_module_version": "1.5.0",
            "_view_count": null,
            "_view_module_version": "1.2.0",
            "_model_module": "@jupyter-widgets/controls"
          }
        },
        "4937293236f444929be7d5c8692236a3": {
          "model_module": "@jupyter-widgets/base",
          "model_name": "LayoutModel",
          "state": {
            "_view_name": "LayoutView",
            "grid_template_rows": null,
            "right": null,
            "justify_content": null,
            "_view_module": "@jupyter-widgets/base",
            "overflow": null,
            "_model_module_version": "1.2.0",
            "_view_count": null,
            "flex_flow": null,
            "width": null,
            "min_width": null,
            "border": null,
            "align_items": null,
            "bottom": null,
            "_model_module": "@jupyter-widgets/base",
            "top": null,
            "grid_column": null,
            "overflow_y": null,
            "overflow_x": null,
            "grid_auto_flow": null,
            "grid_area": null,
            "grid_template_columns": null,
            "flex": null,
            "_model_name": "LayoutModel",
            "justify_items": null,
            "grid_row": null,
            "max_height": null,
            "align_content": null,
            "visibility": null,
            "align_self": null,
            "height": null,
            "min_height": null,
            "padding": null,
            "grid_auto_rows": null,
            "grid_gap": null,
            "max_width": null,
            "order": null,
            "_view_module_version": "1.2.0",
            "grid_template_areas": null,
            "object_position": null,
            "object_fit": null,
            "grid_auto_columns": null,
            "margin": null,
            "display": null,
            "left": null
          }
        }
      }
    }
  },
  "cells": [
    {
      "cell_type": "markdown",
      "metadata": {
        "id": "6dfJPT-2XMTB"
      },
      "source": [
        "# Install"
      ]
    },
    {
      "cell_type": "code",
      "metadata": {
        "id": "a193aGJWVaqb",
        "outputId": "2f4ba267-81e7-4b09-f596-41f60197cda6",
        "colab": {
          "base_uri": "https://localhost:8080/"
        }
      },
      "source": [
        "!pip install sentencepiece"
      ],
      "execution_count": 2,
      "outputs": [
        {
          "output_type": "stream",
          "text": [
            "Collecting sentencepiece\n",
            "\u001b[?25l  Downloading https://files.pythonhosted.org/packages/14/67/e42bd1181472c95c8cda79305df848264f2a7f62740995a46945d9797b67/sentencepiece-0.1.95-cp36-cp36m-manylinux2014_x86_64.whl (1.2MB)\n",
            "\r\u001b[K     |▎                               | 10kB 23.5MB/s eta 0:00:01\r\u001b[K     |▌                               | 20kB 18.9MB/s eta 0:00:01\r\u001b[K     |▉                               | 30kB 11.3MB/s eta 0:00:01\r\u001b[K     |█                               | 40kB 8.8MB/s eta 0:00:01\r\u001b[K     |█▍                              | 51kB 7.5MB/s eta 0:00:01\r\u001b[K     |█▋                              | 61kB 8.2MB/s eta 0:00:01\r\u001b[K     |██                              | 71kB 8.6MB/s eta 0:00:01\r\u001b[K     |██▏                             | 81kB 8.3MB/s eta 0:00:01\r\u001b[K     |██▌                             | 92kB 8.2MB/s eta 0:00:01\r\u001b[K     |██▊                             | 102kB 7.4MB/s eta 0:00:01\r\u001b[K     |███                             | 112kB 7.4MB/s eta 0:00:01\r\u001b[K     |███▎                            | 122kB 7.4MB/s eta 0:00:01\r\u001b[K     |███▌                            | 133kB 7.4MB/s eta 0:00:01\r\u001b[K     |███▉                            | 143kB 7.4MB/s eta 0:00:01\r\u001b[K     |████                            | 153kB 7.4MB/s eta 0:00:01\r\u001b[K     |████▍                           | 163kB 7.4MB/s eta 0:00:01\r\u001b[K     |████▋                           | 174kB 7.4MB/s eta 0:00:01\r\u001b[K     |█████                           | 184kB 7.4MB/s eta 0:00:01\r\u001b[K     |█████▏                          | 194kB 7.4MB/s eta 0:00:01\r\u001b[K     |█████▌                          | 204kB 7.4MB/s eta 0:00:01\r\u001b[K     |█████▊                          | 215kB 7.4MB/s eta 0:00:01\r\u001b[K     |██████                          | 225kB 7.4MB/s eta 0:00:01\r\u001b[K     |██████▎                         | 235kB 7.4MB/s eta 0:00:01\r\u001b[K     |██████▌                         | 245kB 7.4MB/s eta 0:00:01\r\u001b[K     |██████▉                         | 256kB 7.4MB/s eta 0:00:01\r\u001b[K     |███████                         | 266kB 7.4MB/s eta 0:00:01\r\u001b[K     |███████▍                        | 276kB 7.4MB/s eta 0:00:01\r\u001b[K     |███████▋                        | 286kB 7.4MB/s eta 0:00:01\r\u001b[K     |████████                        | 296kB 7.4MB/s eta 0:00:01\r\u001b[K     |████████▏                       | 307kB 7.4MB/s eta 0:00:01\r\u001b[K     |████████▍                       | 317kB 7.4MB/s eta 0:00:01\r\u001b[K     |████████▊                       | 327kB 7.4MB/s eta 0:00:01\r\u001b[K     |█████████                       | 337kB 7.4MB/s eta 0:00:01\r\u001b[K     |█████████▎                      | 348kB 7.4MB/s eta 0:00:01\r\u001b[K     |█████████▌                      | 358kB 7.4MB/s eta 0:00:01\r\u001b[K     |█████████▉                      | 368kB 7.4MB/s eta 0:00:01\r\u001b[K     |██████████                      | 378kB 7.4MB/s eta 0:00:01\r\u001b[K     |██████████▍                     | 389kB 7.4MB/s eta 0:00:01\r\u001b[K     |██████████▋                     | 399kB 7.4MB/s eta 0:00:01\r\u001b[K     |███████████                     | 409kB 7.4MB/s eta 0:00:01\r\u001b[K     |███████████▏                    | 419kB 7.4MB/s eta 0:00:01\r\u001b[K     |███████████▍                    | 430kB 7.4MB/s eta 0:00:01\r\u001b[K     |███████████▊                    | 440kB 7.4MB/s eta 0:00:01\r\u001b[K     |████████████                    | 450kB 7.4MB/s eta 0:00:01\r\u001b[K     |████████████▎                   | 460kB 7.4MB/s eta 0:00:01\r\u001b[K     |████████████▌                   | 471kB 7.4MB/s eta 0:00:01\r\u001b[K     |████████████▉                   | 481kB 7.4MB/s eta 0:00:01\r\u001b[K     |█████████████                   | 491kB 7.4MB/s eta 0:00:01\r\u001b[K     |█████████████▍                  | 501kB 7.4MB/s eta 0:00:01\r\u001b[K     |█████████████▋                  | 512kB 7.4MB/s eta 0:00:01\r\u001b[K     |█████████████▉                  | 522kB 7.4MB/s eta 0:00:01\r\u001b[K     |██████████████▏                 | 532kB 7.4MB/s eta 0:00:01\r\u001b[K     |██████████████▍                 | 542kB 7.4MB/s eta 0:00:01\r\u001b[K     |██████████████▊                 | 552kB 7.4MB/s eta 0:00:01\r\u001b[K     |███████████████                 | 563kB 7.4MB/s eta 0:00:01\r\u001b[K     |███████████████▎                | 573kB 7.4MB/s eta 0:00:01\r\u001b[K     |███████████████▌                | 583kB 7.4MB/s eta 0:00:01\r\u001b[K     |███████████████▉                | 593kB 7.4MB/s eta 0:00:01\r\u001b[K     |████████████████                | 604kB 7.4MB/s eta 0:00:01\r\u001b[K     |████████████████▍               | 614kB 7.4MB/s eta 0:00:01\r\u001b[K     |████████████████▋               | 624kB 7.4MB/s eta 0:00:01\r\u001b[K     |████████████████▉               | 634kB 7.4MB/s eta 0:00:01\r\u001b[K     |█████████████████▏              | 645kB 7.4MB/s eta 0:00:01\r\u001b[K     |█████████████████▍              | 655kB 7.4MB/s eta 0:00:01\r\u001b[K     |█████████████████▊              | 665kB 7.4MB/s eta 0:00:01\r\u001b[K     |██████████████████              | 675kB 7.4MB/s eta 0:00:01\r\u001b[K     |██████████████████▎             | 686kB 7.4MB/s eta 0:00:01\r\u001b[K     |██████████████████▌             | 696kB 7.4MB/s eta 0:00:01\r\u001b[K     |██████████████████▉             | 706kB 7.4MB/s eta 0:00:01\r\u001b[K     |███████████████████             | 716kB 7.4MB/s eta 0:00:01\r\u001b[K     |███████████████████▎            | 727kB 7.4MB/s eta 0:00:01\r\u001b[K     |███████████████████▋            | 737kB 7.4MB/s eta 0:00:01\r\u001b[K     |███████████████████▉            | 747kB 7.4MB/s eta 0:00:01\r\u001b[K     |████████████████████▏           | 757kB 7.4MB/s eta 0:00:01\r\u001b[K     |████████████████████▍           | 768kB 7.4MB/s eta 0:00:01\r\u001b[K     |████████████████████▊           | 778kB 7.4MB/s eta 0:00:01\r\u001b[K     |█████████████████████           | 788kB 7.4MB/s eta 0:00:01\r\u001b[K     |█████████████████████▎          | 798kB 7.4MB/s eta 0:00:01\r\u001b[K     |█████████████████████▌          | 808kB 7.4MB/s eta 0:00:01\r\u001b[K     |█████████████████████▉          | 819kB 7.4MB/s eta 0:00:01\r\u001b[K     |██████████████████████          | 829kB 7.4MB/s eta 0:00:01\r\u001b[K     |██████████████████████▎         | 839kB 7.4MB/s eta 0:00:01\r\u001b[K     |██████████████████████▋         | 849kB 7.4MB/s eta 0:00:01\r\u001b[K     |██████████████████████▉         | 860kB 7.4MB/s eta 0:00:01\r\u001b[K     |███████████████████████▏        | 870kB 7.4MB/s eta 0:00:01\r\u001b[K     |███████████████████████▍        | 880kB 7.4MB/s eta 0:00:01\r\u001b[K     |███████████████████████▊        | 890kB 7.4MB/s eta 0:00:01\r\u001b[K     |████████████████████████        | 901kB 7.4MB/s eta 0:00:01\r\u001b[K     |████████████████████████▎       | 911kB 7.4MB/s eta 0:00:01\r\u001b[K     |████████████████████████▌       | 921kB 7.4MB/s eta 0:00:01\r\u001b[K     |████████████████████████▊       | 931kB 7.4MB/s eta 0:00:01\r\u001b[K     |█████████████████████████       | 942kB 7.4MB/s eta 0:00:01\r\u001b[K     |█████████████████████████▎      | 952kB 7.4MB/s eta 0:00:01\r\u001b[K     |█████████████████████████▋      | 962kB 7.4MB/s eta 0:00:01\r\u001b[K     |█████████████████████████▉      | 972kB 7.4MB/s eta 0:00:01\r\u001b[K     |██████████████████████████▏     | 983kB 7.4MB/s eta 0:00:01\r\u001b[K     |██████████████████████████▍     | 993kB 7.4MB/s eta 0:00:01\r\u001b[K     |██████████████████████████▊     | 1.0MB 7.4MB/s eta 0:00:01\r\u001b[K     |███████████████████████████     | 1.0MB 7.4MB/s eta 0:00:01\r\u001b[K     |███████████████████████████▎    | 1.0MB 7.4MB/s eta 0:00:01\r\u001b[K     |███████████████████████████▌    | 1.0MB 7.4MB/s eta 0:00:01\r\u001b[K     |███████████████████████████▊    | 1.0MB 7.4MB/s eta 0:00:01\r\u001b[K     |████████████████████████████    | 1.1MB 7.4MB/s eta 0:00:01\r\u001b[K     |████████████████████████████▎   | 1.1MB 7.4MB/s eta 0:00:01\r\u001b[K     |████████████████████████████▋   | 1.1MB 7.4MB/s eta 0:00:01\r\u001b[K     |████████████████████████████▉   | 1.1MB 7.4MB/s eta 0:00:01\r\u001b[K     |█████████████████████████████▏  | 1.1MB 7.4MB/s eta 0:00:01\r\u001b[K     |█████████████████████████████▍  | 1.1MB 7.4MB/s eta 0:00:01\r\u001b[K     |█████████████████████████████▊  | 1.1MB 7.4MB/s eta 0:00:01\r\u001b[K     |██████████████████████████████  | 1.1MB 7.4MB/s eta 0:00:01\r\u001b[K     |██████████████████████████████▏ | 1.1MB 7.4MB/s eta 0:00:01\r\u001b[K     |██████████████████████████████▌ | 1.1MB 7.4MB/s eta 0:00:01\r\u001b[K     |██████████████████████████████▊ | 1.2MB 7.4MB/s eta 0:00:01\r\u001b[K     |███████████████████████████████ | 1.2MB 7.4MB/s eta 0:00:01\r\u001b[K     |███████████████████████████████▎| 1.2MB 7.4MB/s eta 0:00:01\r\u001b[K     |███████████████████████████████▋| 1.2MB 7.4MB/s eta 0:00:01\r\u001b[K     |███████████████████████████████▉| 1.2MB 7.4MB/s eta 0:00:01\r\u001b[K     |████████████████████████████████| 1.2MB 7.4MB/s \n",
            "\u001b[?25hInstalling collected packages: sentencepiece\n",
            "Successfully installed sentencepiece-0.1.95\n"
          ],
          "name": "stdout"
        }
      ]
    },
    {
      "cell_type": "markdown",
      "metadata": {
        "id": "JHkHg6XAXoyK"
      },
      "source": [
        "# Evn"
      ]
    },
    {
      "cell_type": "code",
      "metadata": {
        "id": "WkYXFwcBXJDG"
      },
      "source": [
        "import os\n",
        "import random\n",
        "import shutil\n",
        "import json\n",
        "import zipfile\n",
        "import math\n",
        "import copy\n",
        "import collections\n",
        "import re\n",
        "\n",
        "import matplotlib.pyplot as plt\n",
        "import pandas as pd\n",
        "import numpy as np\n",
        "import sentencepiece as spm\n",
        "import tensorflow as tf\n",
        "import tensorflow.keras.backend as K\n",
        "\n",
        "from tqdm.notebook import tqdm"
      ],
      "execution_count": 3,
      "outputs": []
    },
    {
      "cell_type": "code",
      "metadata": {
        "id": "nvjyruUlXtlR"
      },
      "source": [
        "# random seed initialize\n",
        "random_seed = 1234\n",
        "random.seed(random_seed)\n",
        "np.random.seed(random_seed)\n",
        "tf.random.set_seed(random_seed)"
      ],
      "execution_count": 4,
      "outputs": []
    },
    {
      "cell_type": "code",
      "metadata": {
        "id": "BC3fXkhdYcYt",
        "outputId": "97f28bab-6213-4123-9902-1e0769f457ac",
        "colab": {
          "base_uri": "https://localhost:8080/"
        }
      },
      "source": [
        "!nvidia-smi"
      ],
      "execution_count": 5,
      "outputs": [
        {
          "output_type": "stream",
          "text": [
            "Tue Feb  2 14:37:48 2021       \n",
            "+-----------------------------------------------------------------------------+\n",
            "| NVIDIA-SMI 460.32.03    Driver Version: 418.67       CUDA Version: 10.1     |\n",
            "|-------------------------------+----------------------+----------------------+\n",
            "| GPU  Name        Persistence-M| Bus-Id        Disp.A | Volatile Uncorr. ECC |\n",
            "| Fan  Temp  Perf  Pwr:Usage/Cap|         Memory-Usage | GPU-Util  Compute M. |\n",
            "|                               |                      |               MIG M. |\n",
            "|===============================+======================+======================|\n",
            "|   0  Tesla T4            Off  | 00000000:00:04.0 Off |                    0 |\n",
            "| N/A   48C    P8    10W /  70W |      0MiB / 15079MiB |      0%      Default |\n",
            "|                               |                      |                 ERR! |\n",
            "+-------------------------------+----------------------+----------------------+\n",
            "                                                                               \n",
            "+-----------------------------------------------------------------------------+\n",
            "| Processes:                                                                  |\n",
            "|  GPU   GI   CI        PID   Type   Process name                  GPU Memory |\n",
            "|        ID   ID                                                   Usage      |\n",
            "|=============================================================================|\n",
            "|  No running processes found                                                 |\n",
            "+-----------------------------------------------------------------------------+\n"
          ],
          "name": "stdout"
        }
      ]
    },
    {
      "cell_type": "code",
      "metadata": {
        "id": "xVRdxYReYeQj",
        "outputId": "2f7c1da2-3530-4653-abeb-9dc05e27b547",
        "colab": {
          "base_uri": "https://localhost:8080/"
        }
      },
      "source": [
        "# google drive mount\n",
        "from google.colab import drive\n",
        "drive.mount('/content/drive')"
      ],
      "execution_count": 6,
      "outputs": [
        {
          "output_type": "stream",
          "text": [
            "Mounted at /content/drive\n"
          ],
          "name": "stdout"
        }
      ]
    },
    {
      "cell_type": "code",
      "metadata": {
        "id": "byCIiLJBbFHh",
        "outputId": "00fb72e8-4abc-439b-ef3d-8c1a2044ec02",
        "colab": {
          "base_uri": "https://localhost:8080/"
        }
      },
      "source": [
        "# data dir\n",
        "data_dir = '/content/drive/MyDrive/NLP_data'\n",
        "os.listdir(data_dir)"
      ],
      "execution_count": 7,
      "outputs": [
        {
          "output_type": "execute_result",
          "data": {
            "text/plain": [
              "['ko_32000.model',\n",
              " 'ko_32000.vocab',\n",
              " 'kowiki',\n",
              " '.ipynb_checkpoints',\n",
              " 'nsmc',\n",
              " 'quora']"
            ]
          },
          "metadata": {
            "tags": []
          },
          "execution_count": 7
        }
      ]
    },
    {
      "cell_type": "code",
      "metadata": {
        "id": "_Ru56YS3-SME",
        "outputId": "59e3f085-453e-4f97-f670-ed9ef2baa462",
        "colab": {
          "base_uri": "https://localhost:8080/"
        }
      },
      "source": [
        "# korean wiki dir\n",
        "kowiki_dir = os.path.join(data_dir, 'kowiki')\n",
        "if not os.path.exists(kowiki_dir):\n",
        "    os.makedirs(kowiki_dir)\n",
        "os.listdir(kowiki_dir)"
      ],
      "execution_count": 8,
      "outputs": [
        {
          "output_type": "execute_result",
          "data": {
            "text/plain": [
              "['kowiki.txt.zip', 'my_corpus.txt', 'kowiki_lm.json', 'lm.hdf5', 'lm.csv']"
            ]
          },
          "metadata": {
            "tags": []
          },
          "execution_count": 8
        }
      ]
    },
    {
      "cell_type": "markdown",
      "metadata": {
        "id": "XwriCkq_R1Lc"
      },
      "source": [
        "# Vocabulary & config"
      ]
    },
    {
      "cell_type": "code",
      "metadata": {
        "id": "2H0BLydCb7lg",
        "outputId": "1f48538b-8e0d-4021-89f8-a1937da11907",
        "colab": {
          "base_uri": "https://localhost:8080/"
        }
      },
      "source": [
        "# vocab loading\n",
        "vocab = spm.SentencePieceProcessor()\n",
        "vocab.load(os.path.join(data_dir, 'ko_32000.model'))"
      ],
      "execution_count": 9,
      "outputs": [
        {
          "output_type": "execute_result",
          "data": {
            "text/plain": [
              "True"
            ]
          },
          "metadata": {
            "tags": []
          },
          "execution_count": 9
        }
      ]
    },
    {
      "cell_type": "code",
      "metadata": {
        "id": "0ETZ19flTRmt"
      },
      "source": [
        "n_vocab = len(vocab)  # number of vocabulary\n",
        "n_seq = 256  # number of sequence\n",
        "d_model = 256  # dimension of model"
      ],
      "execution_count": 10,
      "outputs": []
    },
    {
      "cell_type": "markdown",
      "metadata": {
        "id": "3myBX8hNEH1u"
      },
      "source": [
        "# 모델링"
      ]
    },
    {
      "cell_type": "code",
      "metadata": {
        "id": "SobekkcjEX_P"
      },
      "source": [
        "def build_model(n_vocab, d_model, n_seq):\n",
        "    \"\"\"\n",
        "    문장 유사도 비교 모델\n",
        "    :param n_vocab: vocabulary 단어 수\n",
        "    :param d_model: 단어를 의미하는 벡터의 차원 수\n",
        "    :param n_seq: 문장 길이 (단어 수)\n",
        "    \"\"\"\n",
        "    inputs = tf.keras.layers.Input((n_seq,))  # (bs, n_seq)\n",
        "    # 입력 단어를 vector로 변환\n",
        "    embedding = tf.keras.layers.Embedding(n_vocab, d_model)\n",
        "    hidden = embedding(inputs)  # (bs, n_seq, d_model)\n",
        "    # LSTM\n",
        "    lstm = tf.keras.layers.LSTM(units=d_model * 2, return_sequences=True)\n",
        "    hidden = lstm(hidden)  # (bs, n_seq, d_model * 2)\n",
        "    # 다음단어 확률 분포\n",
        "    dense = tf.keras.layers.Dense(n_vocab, activation=tf.nn.softmax)\n",
        "    outputs = dense(hidden)\n",
        "    # 학습할 모델 선언\n",
        "    model = tf.keras.Model(inputs=inputs, outputs=outputs)\n",
        "    return model"
      ],
      "execution_count": 11,
      "outputs": []
    },
    {
      "cell_type": "code",
      "metadata": {
        "id": "KxO3DNgIqIIV"
      },
      "source": [
        "  # 모델 생성\r\n",
        "  model = build_model(n_vocab, d_model, n_seq)"
      ],
      "execution_count": 12,
      "outputs": []
    },
    {
      "cell_type": "markdown",
      "metadata": {
        "id": "L2vJmIBt3-ci"
      },
      "source": [
        "# All Data Project"
      ]
    },
    {
      "cell_type": "markdown",
      "metadata": {
        "id": "_dBAGBHE3-ck"
      },
      "source": [
        "## Data\n"
      ]
    },
    {
      "cell_type": "code",
      "metadata": {
        "id": "X7Jbbcdm3-ck"
      },
      "source": [
        "def load_data(vocab, n_seq):\n",
        "    \"\"\"\n",
        "    Language Model 학습 데이터 생성\n",
        "    :param vocab: vocabulary object\n",
        "    :param n_seq: number of sequence\n",
        "    :return inputs_1: input data 1\n",
        "    :return inputs_2: input data 2\n",
        "    :return labels: label data\n",
        "    \"\"\"\n",
        "    # line 수 조회\n",
        "    n_line = 0\n",
        "    with open(os.path.join(kowiki_dir, 'kowiki_lm.json')) as f:\n",
        "        for line in f:\n",
        "            n_line += 1\n",
        "    # 최대 100,000개 데이터\n",
        "    n_data = min(n_line, 100000)\n",
        "    # 빈 데이터 생성\n",
        "    inputs = np.zeros((n_data, n_seq)).astype(np.int32)\n",
        "    labels = np.zeros((n_data, n_seq)).astype(np.int32)\n",
        "\n",
        "    with open(os.path.join(kowiki_dir, 'kowiki_lm.json')) as f:\n",
        "        for i, line in enumerate(tqdm(f, total=n_data)):\n",
        "            if i >= n_data:\n",
        "                break\n",
        "            data = json.loads(line)\n",
        "            token_id = [vocab.piece_to_id(p) for p in data['token']]\n",
        "            # input id\n",
        "            input_id = [vocab.bos_id()] + token_id\n",
        "            input_id += [0] * (n_seq - len(input_id))\n",
        "            # label id\n",
        "            label_id = token_id + [vocab.eos_id()]\n",
        "            label_id += [0] * (n_seq - len(label_id))\n",
        "            # 값 저장\n",
        "            inputs[i] = input_id\n",
        "            labels[i] = label_id\n",
        "\n",
        "    return inputs, labels"
      ],
      "execution_count": 13,
      "outputs": []
    },
    {
      "cell_type": "code",
      "metadata": {
        "id": "w3P_qk633-cl",
        "outputId": "6ad752a0-c51c-48d7-b1c2-d5b78a7eec56",
        "colab": {
          "base_uri": "https://localhost:8080/",
          "height": 0,
          "referenced_widgets": [
            "b1343c9d0e53432593d173eb3f3be851",
            "99e99d858b5e417b859c30eef76fb36a",
            "d89f0e7815124e2f904ce459840ba061",
            "11121cf513ca40eca06a88972eea2bbe",
            "c66bfb1538224d3f9ef49cdb4dc31869",
            "59883e3da2b148839f8ccdc777342218",
            "71bba91570be4df797263659c251d66b",
            "4937293236f444929be7d5c8692236a3"
          ]
        }
      },
      "source": [
        "# train data 생성\n",
        "train_inputs, train_labels = load_data(vocab, n_seq)\n",
        "train_inputs, train_labels"
      ],
      "execution_count": 14,
      "outputs": [
        {
          "output_type": "display_data",
          "data": {
            "application/vnd.jupyter.widget-view+json": {
              "model_id": "b1343c9d0e53432593d173eb3f3be851",
              "version_minor": 0,
              "version_major": 2
            },
            "text/plain": [
              "HBox(children=(FloatProgress(value=0.0, max=4.0), HTML(value='')))"
            ]
          },
          "metadata": {
            "tags": []
          }
        },
        {
          "output_type": "stream",
          "text": [
            "\n"
          ],
          "name": "stdout"
        },
        {
          "output_type": "execute_result",
          "data": {
            "text/plain": [
              "(array([[    2, 14473, 14639, ...,    24,   112,  6087],\n",
              "        [    2,   138,   931, ...,   167,  8945,    59],\n",
              "        [    2, 12780,    82, ...,    16,  2194,    43],\n",
              "        [    2,   319,  1139, ...,     0,     0,     0]], dtype=int32),\n",
              " array([[14473, 14639,  2033, ...,   112,  6087,     3],\n",
              "        [  138,   931,  6428, ...,  8945,    59,     3],\n",
              "        [12780,    82,  3392, ...,  2194,    43,     3],\n",
              "        [  319,  1139, 10218, ...,     0,     0,     0]], dtype=int32))"
            ]
          },
          "metadata": {
            "tags": []
          },
          "execution_count": 14
        }
      ]
    },
    {
      "cell_type": "markdown",
      "metadata": {
        "id": "MFWK8EvH3-cp"
      },
      "source": [
        "## Loss & Acc"
      ]
    },
    {
      "cell_type": "code",
      "metadata": {
        "id": "3cpcM1MW3-cp"
      },
      "source": [
        "def lm_loss(y_true, y_pred):\n",
        "    \"\"\"\n",
        "    pad 부분을 제외하고 loss를 계산하는 함수\n",
        "    :param y_true: 정답\n",
        "    :param y_pred: 예측 값\n",
        "    :retrun loss: pad 부분이 제외된 loss 값\n",
        "    \"\"\"\n",
        "    loss = tf.keras.losses.SparseCategoricalCrossentropy(reduction=tf.keras.losses.Reduction.NONE)(y_true, y_pred)\n",
        "    mask = tf.not_equal(y_true, 0)\n",
        "    mask = tf.cast(mask, tf.float32)\n",
        "    loss *= mask\n",
        "    return loss"
      ],
      "execution_count": 15,
      "outputs": []
    },
    {
      "cell_type": "code",
      "metadata": {
        "id": "Xt7wUUf53-cp"
      },
      "source": [
        "def lm_acc(y_true, y_pred):\n",
        "    \"\"\"\n",
        "    pad 부분을 제외하고 accuracy를 계산하는 함수\n",
        "    :param y_true: 정답\n",
        "    :param y_pred: 예측 값\n",
        "    :retrun loss: pad 부분이 제외된 accuracy 값\n",
        "    \"\"\"\n",
        "    y_true = tf.cast(y_true, tf.float32)\n",
        "    y_pred_class = tf.cast(tf.argmax(y_pred, axis=-1), tf.float32)\n",
        "    matches = tf.cast(tf.equal(y_true, y_pred_class), tf.float32)\n",
        "    mask = tf.not_equal(y_true, 0)\n",
        "    mask = tf.cast(mask, tf.float32)\n",
        "    matches *= mask\n",
        "    accuracy = tf.reduce_sum(matches) / tf.maximum(tf.reduce_sum(mask), 1)\n",
        "    return accuracy"
      ],
      "execution_count": 16,
      "outputs": []
    },
    {
      "cell_type": "markdown",
      "metadata": {
        "id": "g2rxLFrL3-cq"
      },
      "source": [
        "## 학습"
      ]
    },
    {
      "cell_type": "code",
      "metadata": {
        "id": "E45XLFFC3-cq"
      },
      "source": [
        "# 모델 loss, optimizer, metric 정의\n",
        "model.compile(loss=lm_loss, optimizer='adam', metrics=[lm_acc])"
      ],
      "execution_count": 17,
      "outputs": []
    },
    {
      "cell_type": "code",
      "metadata": {
        "id": "Js_YBU2l3-cq"
      },
      "source": [
        "# early stopping\n",
        "early_stopping = tf.keras.callbacks.EarlyStopping(monitor='lm_acc', patience=5)\n",
        "# save weights callback\n",
        "save_weights = tf.keras.callbacks.ModelCheckpoint(os.path.join(kowiki_dir, 'lm.hdf5'),\n",
        "                                                  monitor='lm_acc',\n",
        "                                                  verbose=1,\n",
        "                                                  save_best_only=True,\n",
        "                                                  mode=\"max\",\n",
        "                                                  save_freq=\"epoch\",\n",
        "                                                  save_weights_only=True)\n",
        "# csv logger\n",
        "csv_logger = tf.keras.callbacks.CSVLogger(os.path.join(kowiki_dir, 'lm.csv'))"
      ],
      "execution_count": 18,
      "outputs": []
    },
    {
      "cell_type": "code",
      "metadata": {
        "id": "mQqvywUG3-cq",
        "outputId": "1baba82e-d4cf-41bb-b3c9-6353212d1244",
        "colab": {
          "base_uri": "https://localhost:8080/"
        }
      },
      "source": [
        "# 모델 학습\n",
        "history = model.fit(train_inputs,\n",
        "                    train_labels,\n",
        "                    epochs=2,\n",
        "                    batch_size=64,  # oom이 발생하면 값을 줄여주세요.\n",
        "                    callbacks=[early_stopping, save_weights, csv_logger])"
      ],
      "execution_count": 19,
      "outputs": [
        {
          "output_type": "stream",
          "text": [
            "Epoch 1/2\n",
            "1/1 [==============================] - 8s 8s/step - loss: 9.4417 - lm_acc: 0.0000e+00\n",
            "\n",
            "Epoch 00001: lm_acc improved from -inf to 0.00000, saving model to /content/drive/MyDrive/NLP_data/kowiki/lm.hdf5\n",
            "Epoch 2/2\n",
            "1/1 [==============================] - 0s 277ms/step - loss: 9.4384 - lm_acc: 0.0655\n",
            "\n",
            "Epoch 00002: lm_acc improved from 0.00000 to 0.06545, saving model to /content/drive/MyDrive/NLP_data/kowiki/lm.hdf5\n"
          ],
          "name": "stdout"
        }
      ]
    },
    {
      "cell_type": "code",
      "metadata": {
        "id": "EttHWg_w3-cr",
        "outputId": "1dd117fc-c57b-4663-b8a1-ef0354213133",
        "colab": {
          "base_uri": "https://localhost:8080/",
          "height": 279
        }
      },
      "source": [
        "plt.figure(figsize=(12, 4))\n",
        "\n",
        "plt.subplot(1, 2, 1)\n",
        "plt.plot(history.history['loss'], 'b-', label='loss')\n",
        "plt.xlabel('Epoch')\n",
        "plt.legend()\n",
        "\n",
        "plt.subplot(1, 2, 2)\n",
        "plt.plot(history.history['lm_acc'], 'g-', label='acc')\n",
        "plt.xlabel('Epoch')\n",
        "plt.legend()\n",
        "\n",
        "plt.show()"
      ],
      "execution_count": 20,
      "outputs": [
        {
          "output_type": "display_data",
          "data": {
            "image/png": "[encoded data removed]",
            "text/plain": [
              "<Figure size 864x288 with 2 Axes>"
            ]
          },
          "metadata": {
            "tags": [],
            "needs_background": "light"
          }
        }
      ]
    }
  ]
}