{
  "nbformat": 4,
  "nbformat_minor": 0,
  "metadata": {
    "colab": {
      "name": "06-01-text-similarity-과제.ipynb",
      "provenance": [],
      "collapsed_sections": [
        "g78tzmjN3mzF",
        "6dfJPT-2XMTB",
        "XwriCkq_R1Lc"
      ],
      "toc_visible": true
    },
    "kernelspec": {
      "name": "python3",
      "display_name": "Python 3"
    },
    "accelerator": "GPU",
    "widgets": {
      "application/vnd.jupyter.widget-state+json": {
        "5b706f6ee2d742cc8541709c554bfcc1": {
          "model_module": "@jupyter-widgets/controls",
          "model_name": "HBoxModel",
          "state": {
            "_view_name": "HBoxView",
            "_dom_classes": [],
            "_model_name": "HBoxModel",
            "_view_module": "@jupyter-widgets/controls",
            "_model_module_version": "1.5.0",
            "_view_count": null,
            "_view_module_version": "1.5.0",
            "box_style": "",
            "layout": "IPY_MODEL_6147abf6ab37453b89f1eb9c67699222",
            "_model_module": "@jupyter-widgets/controls",
            "children": [
              "IPY_MODEL_724311a5afc9443883f4dad7d17a43b1",
              "IPY_MODEL_410d2e05f403466cbc02b48eb1432258"
            ]
          }
        },
        "6147abf6ab37453b89f1eb9c67699222": {
          "model_module": "@jupyter-widgets/base",
          "model_name": "LayoutModel",
          "state": {
            "_view_name": "LayoutView",
            "grid_template_rows": null,
            "right": null,
            "justify_content": null,
            "_view_module": "@jupyter-widgets/base",
            "overflow": null,
            "_model_module_version": "1.2.0",
            "_view_count": null,
            "flex_flow": null,
            "width": null,
            "min_width": null,
            "border": null,
            "align_items": null,
            "bottom": null,
            "_model_module": "@jupyter-widgets/base",
            "top": null,
            "grid_column": null,
            "overflow_y": null,
            "overflow_x": null,
            "grid_auto_flow": null,
            "grid_area": null,
            "grid_template_columns": null,
            "flex": null,
            "_model_name": "LayoutModel",
            "justify_items": null,
            "grid_row": null,
            "max_height": null,
            "align_content": null,
            "visibility": null,
            "align_self": null,
            "height": null,
            "min_height": null,
            "padding": null,
            "grid_auto_rows": null,
            "grid_gap": null,
            "max_width": null,
            "order": null,
            "_view_module_version": "1.2.0",
            "grid_template_areas": null,
            "object_position": null,
            "object_fit": null,
            "grid_auto_columns": null,
            "margin": null,
            "display": null,
            "left": null
          }
        },
        "724311a5afc9443883f4dad7d17a43b1": {
          "model_module": "@jupyter-widgets/controls",
          "model_name": "FloatProgressModel",
          "state": {
            "_view_name": "ProgressView",
            "style": "IPY_MODEL_37bccee0dcdc4b31b5589869a835cce6",
            "_dom_classes": [],
            "description": "100%",
            "_model_name": "FloatProgressModel",
            "bar_style": "success",
            "max": 6888,
            "_view_module": "@jupyter-widgets/controls",
            "_model_module_version": "1.5.0",
            "value": 6888,
            "_view_count": null,
            "_view_module_version": "1.5.0",
            "orientation": "horizontal",
            "min": 0,
            "description_tooltip": null,
            "_model_module": "@jupyter-widgets/controls",
            "layout": "IPY_MODEL_69f0891292444da7b10b1fd21ec3ad5a"
          }
        },
        "410d2e05f403466cbc02b48eb1432258": {
          "model_module": "@jupyter-widgets/controls",
          "model_name": "HTMLModel",
          "state": {
            "_view_name": "HTMLView",
            "style": "IPY_MODEL_6b6b11a0d9f541458ef56459b704b518",
            "_dom_classes": [],
            "description": "",
            "_model_name": "HTMLModel",
            "placeholder": "​",
            "_view_module": "@jupyter-widgets/controls",
            "_model_module_version": "1.5.0",
            "value": " 6888/6888 [00:03&lt;00:00, 1741.97it/s]",
            "_view_count": null,
            "_view_module_version": "1.5.0",
            "description_tooltip": null,
            "_model_module": "@jupyter-widgets/controls",
            "layout": "IPY_MODEL_bd256c09b4e24bb696d2cc154decce58"
          }
        },
        "37bccee0dcdc4b31b5589869a835cce6": {
          "model_module": "@jupyter-widgets/controls",
          "model_name": "ProgressStyleModel",
          "state": {
            "_view_name": "StyleView",
            "_model_name": "ProgressStyleModel",
            "description_width": "initial",
            "_view_module": "@jupyter-widgets/base",
            "_model_module_version": "1.5.0",
            "_view_count": null,
            "_view_module_version": "1.2.0",
            "bar_color": null,
            "_model_module": "@jupyter-widgets/controls"
          }
        },
        "69f0891292444da7b10b1fd21ec3ad5a": {
          "model_module": "@jupyter-widgets/base",
          "model_name": "LayoutModel",
          "state": {
            "_view_name": "LayoutView",
            "grid_template_rows": null,
            "right": null,
            "justify_content": null,
            "_view_module": "@jupyter-widgets/base",
            "overflow": null,
            "_model_module_version": "1.2.0",
            "_view_count": null,
            "flex_flow": null,
            "width": null,
            "min_width": null,
            "border": null,
            "align_items": null,
            "bottom": null,
            "_model_module": "@jupyter-widgets/base",
            "top": null,
            "grid_column": null,
            "overflow_y": null,
            "overflow_x": null,
            "grid_auto_flow": null,
            "grid_area": null,
            "grid_template_columns": null,
            "flex": null,
            "_model_name": "LayoutModel",
            "justify_items": null,
            "grid_row": null,
            "max_height": null,
            "align_content": null,
            "visibility": null,
            "align_self": null,
            "height": null,
            "min_height": null,
            "padding": null,
            "grid_auto_rows": null,
            "grid_gap": null,
            "max_width": null,
            "order": null,
            "_view_module_version": "1.2.0",
            "grid_template_areas": null,
            "object_position": null,
            "object_fit": null,
            "grid_auto_columns": null,
            "margin": null,
            "display": null,
            "left": null
          }
        },
        "6b6b11a0d9f541458ef56459b704b518": {
          "model_module": "@jupyter-widgets/controls",
          "model_name": "DescriptionStyleModel",
          "state": {
            "_view_name": "StyleView",
            "_model_name": "DescriptionStyleModel",
            "description_width": "",
            "_view_module": "@jupyter-widgets/base",
            "_model_module_version": "1.5.0",
            "_view_count": null,
            "_view_module_version": "1.2.0",
            "_model_module": "@jupyter-widgets/controls"
          }
        },
        "bd256c09b4e24bb696d2cc154decce58": {
          "model_module": "@jupyter-widgets/base",
          "model_name": "LayoutModel",
          "state": {
            "_view_name": "LayoutView",
            "grid_template_rows": null,
            "right": null,
            "justify_content": null,
            "_view_module": "@jupyter-widgets/base",
            "overflow": null,
            "_model_module_version": "1.2.0",
            "_view_count": null,
            "flex_flow": null,
            "width": null,
            "min_width": null,
            "border": null,
            "align_items": null,
            "bottom": null,
            "_model_module": "@jupyter-widgets/base",
            "top": null,
            "grid_column": null,
            "overflow_y": null,
            "overflow_x": null,
            "grid_auto_flow": null,
            "grid_area": null,
            "grid_template_columns": null,
            "flex": null,
            "_model_name": "LayoutModel",
            "justify_items": null,
            "grid_row": null,
            "max_height": null,
            "align_content": null,
            "visibility": null,
            "align_self": null,
            "height": null,
            "min_height": null,
            "padding": null,
            "grid_auto_rows": null,
            "grid_gap": null,
            "max_width": null,
            "order": null,
            "_view_module_version": "1.2.0",
            "grid_template_areas": null,
            "object_position": null,
            "object_fit": null,
            "grid_auto_columns": null,
            "margin": null,
            "display": null,
            "left": null
          }
        },
        "adb9feb83f3047c691cbc380b37705c6": {
          "model_module": "@jupyter-widgets/controls",
          "model_name": "HBoxModel",
          "state": {
            "_view_name": "HBoxView",
            "_dom_classes": [],
            "_model_name": "HBoxModel",
            "_view_module": "@jupyter-widgets/controls",
            "_model_module_version": "1.5.0",
            "_view_count": null,
            "_view_module_version": "1.5.0",
            "box_style": "",
            "layout": "IPY_MODEL_55198ca66e694b8f919c9f8acba2398f",
            "_model_module": "@jupyter-widgets/controls",
            "children": [
              "IPY_MODEL_ef5139f9675c45d7abb9cf68e5609e36",
              "IPY_MODEL_bd73ab1b97da4283a14e132320cc1a6e"
            ]
          }
        },
        "55198ca66e694b8f919c9f8acba2398f": {
          "model_module": "@jupyter-widgets/base",
          "model_name": "LayoutModel",
          "state": {
            "_view_name": "LayoutView",
            "grid_template_rows": null,
            "right": null,
            "justify_content": null,
            "_view_module": "@jupyter-widgets/base",
            "overflow": null,
            "_model_module_version": "1.2.0",
            "_view_count": null,
            "flex_flow": null,
            "width": null,
            "min_width": null,
            "border": null,
            "align_items": null,
            "bottom": null,
            "_model_module": "@jupyter-widgets/base",
            "top": null,
            "grid_column": null,
            "overflow_y": null,
            "overflow_x": null,
            "grid_auto_flow": null,
            "grid_area": null,
            "grid_template_columns": null,
            "flex": null,
            "_model_name": "LayoutModel",
            "justify_items": null,
            "grid_row": null,
            "max_height": null,
            "align_content": null,
            "visibility": null,
            "align_self": null,
            "height": null,
            "min_height": null,
            "padding": null,
            "grid_auto_rows": null,
            "grid_gap": null,
            "max_width": null,
            "order": null,
            "_view_module_version": "1.2.0",
            "grid_template_areas": null,
            "object_position": null,
            "object_fit": null,
            "grid_auto_columns": null,
            "margin": null,
            "display": null,
            "left": null
          }
        },
        "ef5139f9675c45d7abb9cf68e5609e36": {
          "model_module": "@jupyter-widgets/controls",
          "model_name": "FloatProgressModel",
          "state": {
            "_view_name": "ProgressView",
            "style": "IPY_MODEL_64de523f98ed48a6abbc71e81047bf49",
            "_dom_classes": [],
            "description": "100%",
            "_model_name": "FloatProgressModel",
            "bar_style": "success",
            "max": 688,
            "_view_module": "@jupyter-widgets/controls",
            "_model_module_version": "1.5.0",
            "value": 688,
            "_view_count": null,
            "_view_module_version": "1.5.0",
            "orientation": "horizontal",
            "min": 0,
            "description_tooltip": null,
            "_model_module": "@jupyter-widgets/controls",
            "layout": "IPY_MODEL_76632f5bab6943fd94007ca8783dc9ea"
          }
        },
        "bd73ab1b97da4283a14e132320cc1a6e": {
          "model_module": "@jupyter-widgets/controls",
          "model_name": "HTMLModel",
          "state": {
            "_view_name": "HTMLView",
            "style": "IPY_MODEL_84c3bf26212843f18a2ce0daf7633f72",
            "_dom_classes": [],
            "description": "",
            "_model_name": "HTMLModel",
            "placeholder": "​",
            "_view_module": "@jupyter-widgets/controls",
            "_model_module_version": "1.5.0",
            "value": " 688/688 [00:00&lt;00:00, 5606.11it/s]",
            "_view_count": null,
            "_view_module_version": "1.5.0",
            "description_tooltip": null,
            "_model_module": "@jupyter-widgets/controls",
            "layout": "IPY_MODEL_d8ecf662c6614e099accf4eb8f3972a9"
          }
        },
        "64de523f98ed48a6abbc71e81047bf49": {
          "model_module": "@jupyter-widgets/controls",
          "model_name": "ProgressStyleModel",
          "state": {
            "_view_name": "StyleView",
            "_model_name": "ProgressStyleModel",
            "description_width": "initial",
            "_view_module": "@jupyter-widgets/base",
            "_model_module_version": "1.5.0",
            "_view_count": null,
            "_view_module_version": "1.2.0",
            "bar_color": null,
            "_model_module": "@jupyter-widgets/controls"
          }
        },
        "76632f5bab6943fd94007ca8783dc9ea": {
          "model_module": "@jupyter-widgets/base",
          "model_name": "LayoutModel",
          "state": {
            "_view_name": "LayoutView",
            "grid_template_rows": null,
            "right": null,
            "justify_content": null,
            "_view_module": "@jupyter-widgets/base",
            "overflow": null,
            "_model_module_version": "1.2.0",
            "_view_count": null,
            "flex_flow": null,
            "width": null,
            "min_width": null,
            "border": null,
            "align_items": null,
            "bottom": null,
            "_model_module": "@jupyter-widgets/base",
            "top": null,
            "grid_column": null,
            "overflow_y": null,
            "overflow_x": null,
            "grid_auto_flow": null,
            "grid_area": null,
            "grid_template_columns": null,
            "flex": null,
            "_model_name": "LayoutModel",
            "justify_items": null,
            "grid_row": null,
            "max_height": null,
            "align_content": null,
            "visibility": null,
            "align_self": null,
            "height": null,
            "min_height": null,
            "padding": null,
            "grid_auto_rows": null,
            "grid_gap": null,
            "max_width": null,
            "order": null,
            "_view_module_version": "1.2.0",
            "grid_template_areas": null,
            "object_position": null,
            "object_fit": null,
            "grid_auto_columns": null,
            "margin": null,
            "display": null,
            "left": null
          }
        },
        "84c3bf26212843f18a2ce0daf7633f72": {
          "model_module": "@jupyter-widgets/controls",
          "model_name": "DescriptionStyleModel",
          "state": {
            "_view_name": "StyleView",
            "_model_name": "DescriptionStyleModel",
            "description_width": "",
            "_view_module": "@jupyter-widgets/base",
            "_model_module_version": "1.5.0",
            "_view_count": null,
            "_view_module_version": "1.2.0",
            "_model_module": "@jupyter-widgets/controls"
          }
        },
        "d8ecf662c6614e099accf4eb8f3972a9": {
          "model_module": "@jupyter-widgets/base",
          "model_name": "LayoutModel",
          "state": {
            "_view_name": "LayoutView",
            "grid_template_rows": null,
            "right": null,
            "justify_content": null,
            "_view_module": "@jupyter-widgets/base",
            "overflow": null,
            "_model_module_version": "1.2.0",
            "_view_count": null,
            "flex_flow": null,
            "width": null,
            "min_width": null,
            "border": null,
            "align_items": null,
            "bottom": null,
            "_model_module": "@jupyter-widgets/base",
            "top": null,
            "grid_column": null,
            "overflow_y": null,
            "overflow_x": null,
            "grid_auto_flow": null,
            "grid_area": null,
            "grid_template_columns": null,
            "flex": null,
            "_model_name": "LayoutModel",
            "justify_items": null,
            "grid_row": null,
            "max_height": null,
            "align_content": null,
            "visibility": null,
            "align_self": null,
            "height": null,
            "min_height": null,
            "padding": null,
            "grid_auto_rows": null,
            "grid_gap": null,
            "max_width": null,
            "order": null,
            "_view_module_version": "1.2.0",
            "grid_template_areas": null,
            "object_position": null,
            "object_fit": null,
            "grid_auto_columns": null,
            "margin": null,
            "display": null,
            "left": null
          }
        }
      }
    }
  },
  "cells": [
    {
      "cell_type": "markdown",
      "metadata": {
        "id": "g78tzmjN3mzF"
      },
      "source": [
        "# 한글폰트 설치\n",
        "- 아래 실행후 '런터임 다시 시작' 하면 됩니다.\n",
        "- 메뉴에서 '런타임' >> '런타임 다시 시작'을 클릭하세요.\n",
        "- 런타임 다시 시작 후 다시 실행할 필요 없습니다."
      ]
    },
    {
      "cell_type": "code",
      "metadata": {
        "id": "Co97FHic3p0D",
        "colab": {
          "base_uri": "https://localhost:8080/"
        },
        "outputId": "85631200-4dc5-4b0c-8a6c-bd6ad95de41d"
      },
      "source": [
        "# 폰트 설치\n",
        "!apt-get update -qq # 나눔고딕 설치\n",
        "!apt-get install fonts-nanum* -qq\n",
        "\n",
        "import matplotlib as mpl\n",
        "import matplotlib.pyplot as plt\n",
        "import matplotlib.font_manager as fm\n",
        "\n",
        "# 폰트 로딩\n",
        "fontpath = '/usr/share/fonts/truetype/nanum/NanumBarunGothic.ttf'\n",
        "font = fm.FontProperties(fname=fontpath, size=9)\n",
        "plt.rc('font', family='NanumBarunGothic') \n",
        "mpl.font_manager._rebuild()"
      ],
      "execution_count": 1,
      "outputs": [
        {
          "output_type": "stream",
          "text": [
            "Selecting previously unselected package fonts-nanum.\n",
            "(Reading database ... 146374 files and directories currently installed.)\n",
            "Preparing to unpack .../fonts-nanum_20170925-1_all.deb ...\n",
            "Unpacking fonts-nanum (20170925-1) ...\n",
            "Selecting previously unselected package fonts-nanum-eco.\n",
            "Preparing to unpack .../fonts-nanum-eco_1.000-6_all.deb ...\n",
            "Unpacking fonts-nanum-eco (1.000-6) ...\n",
            "Selecting previously unselected package fonts-nanum-extra.\n",
            "Preparing to unpack .../fonts-nanum-extra_20170925-1_all.deb ...\n",
            "Unpacking fonts-nanum-extra (20170925-1) ...\n",
            "Selecting previously unselected package fonts-nanum-coding.\n",
            "Preparing to unpack .../fonts-nanum-coding_2.5-1_all.deb ...\n",
            "Unpacking fonts-nanum-coding (2.5-1) ...\n",
            "Setting up fonts-nanum-extra (20170925-1) ...\n",
            "Setting up fonts-nanum (20170925-1) ...\n",
            "Setting up fonts-nanum-coding (2.5-1) ...\n",
            "Setting up fonts-nanum-eco (1.000-6) ...\n",
            "Processing triggers for fontconfig (2.12.6-0ubuntu2) ...\n"
          ],
          "name": "stdout"
        }
      ]
    },
    {
      "cell_type": "markdown",
      "metadata": {
        "id": "6dfJPT-2XMTB"
      },
      "source": [
        "# Install"
      ]
    },
    {
      "cell_type": "code",
      "metadata": {
        "id": "a193aGJWVaqb",
        "colab": {
          "base_uri": "https://localhost:8080/"
        },
        "outputId": "4f51d308-f817-44cb-e155-6b48c1d45181"
      },
      "source": [
        "!pip install sentencepiece"
      ],
      "execution_count": 1,
      "outputs": [
        {
          "output_type": "stream",
          "text": [
            "Collecting sentencepiece\n",
            "\u001b[?25l  Downloading https://files.pythonhosted.org/packages/14/67/e42bd1181472c95c8cda79305df848264f2a7f62740995a46945d9797b67/sentencepiece-0.1.95-cp36-cp36m-manylinux2014_x86_64.whl (1.2MB)\n",
            "\r\u001b[K     |▎                               | 10kB 21.3MB/s eta 0:00:01\r\u001b[K     |▌                               | 20kB 29.3MB/s eta 0:00:01\r\u001b[K     |▉                               | 30kB 22.3MB/s eta 0:00:01\r\u001b[K     |█                               | 40kB 21.0MB/s eta 0:00:01\r\u001b[K     |█▍                              | 51kB 21.5MB/s eta 0:00:01\r\u001b[K     |█▋                              | 61kB 16.3MB/s eta 0:00:01\r\u001b[K     |██                              | 71kB 16.0MB/s eta 0:00:01\r\u001b[K     |██▏                             | 81kB 15.4MB/s eta 0:00:01\r\u001b[K     |██▌                             | 92kB 15.4MB/s eta 0:00:01\r\u001b[K     |██▊                             | 102kB 16.0MB/s eta 0:00:01\r\u001b[K     |███                             | 112kB 16.0MB/s eta 0:00:01\r\u001b[K     |███▎                            | 122kB 16.0MB/s eta 0:00:01\r\u001b[K     |███▌                            | 133kB 16.0MB/s eta 0:00:01\r\u001b[K     |███▉                            | 143kB 16.0MB/s eta 0:00:01\r\u001b[K     |████                            | 153kB 16.0MB/s eta 0:00:01\r\u001b[K     |████▍                           | 163kB 16.0MB/s eta 0:00:01\r\u001b[K     |████▋                           | 174kB 16.0MB/s eta 0:00:01\r\u001b[K     |█████                           | 184kB 16.0MB/s eta 0:00:01\r\u001b[K     |█████▏                          | 194kB 16.0MB/s eta 0:00:01\r\u001b[K     |█████▌                          | 204kB 16.0MB/s eta 0:00:01\r\u001b[K     |█████▊                          | 215kB 16.0MB/s eta 0:00:01\r\u001b[K     |██████                          | 225kB 16.0MB/s eta 0:00:01\r\u001b[K     |██████▎                         | 235kB 16.0MB/s eta 0:00:01\r\u001b[K     |██████▌                         | 245kB 16.0MB/s eta 0:00:01\r\u001b[K     |██████▉                         | 256kB 16.0MB/s eta 0:00:01\r\u001b[K     |███████                         | 266kB 16.0MB/s eta 0:00:01\r\u001b[K     |███████▍                        | 276kB 16.0MB/s eta 0:00:01\r\u001b[K     |███████▋                        | 286kB 16.0MB/s eta 0:00:01\r\u001b[K     |████████                        | 296kB 16.0MB/s eta 0:00:01\r\u001b[K     |████████▏                       | 307kB 16.0MB/s eta 0:00:01\r\u001b[K     |████████▍                       | 317kB 16.0MB/s eta 0:00:01\r\u001b[K     |████████▊                       | 327kB 16.0MB/s eta 0:00:01\r\u001b[K     |█████████                       | 337kB 16.0MB/s eta 0:00:01\r\u001b[K     |█████████▎                      | 348kB 16.0MB/s eta 0:00:01\r\u001b[K     |█████████▌                      | 358kB 16.0MB/s eta 0:00:01\r\u001b[K     |█████████▉                      | 368kB 16.0MB/s eta 0:00:01\r\u001b[K     |██████████                      | 378kB 16.0MB/s eta 0:00:01\r\u001b[K     |██████████▍                     | 389kB 16.0MB/s eta 0:00:01\r\u001b[K     |██████████▋                     | 399kB 16.0MB/s eta 0:00:01\r\u001b[K     |███████████                     | 409kB 16.0MB/s eta 0:00:01\r\u001b[K     |███████████▏                    | 419kB 16.0MB/s eta 0:00:01\r\u001b[K     |███████████▍                    | 430kB 16.0MB/s eta 0:00:01\r\u001b[K     |███████████▊                    | 440kB 16.0MB/s eta 0:00:01\r\u001b[K     |████████████                    | 450kB 16.0MB/s eta 0:00:01\r\u001b[K     |████████████▎                   | 460kB 16.0MB/s eta 0:00:01\r\u001b[K     |████████████▌                   | 471kB 16.0MB/s eta 0:00:01\r\u001b[K     |████████████▉                   | 481kB 16.0MB/s eta 0:00:01\r\u001b[K     |█████████████                   | 491kB 16.0MB/s eta 0:00:01\r\u001b[K     |█████████████▍                  | 501kB 16.0MB/s eta 0:00:01\r\u001b[K     |█████████████▋                  | 512kB 16.0MB/s eta 0:00:01\r\u001b[K     |█████████████▉                  | 522kB 16.0MB/s eta 0:00:01\r\u001b[K     |██████████████▏                 | 532kB 16.0MB/s eta 0:00:01\r\u001b[K     |██████████████▍                 | 542kB 16.0MB/s eta 0:00:01\r\u001b[K     |██████████████▊                 | 552kB 16.0MB/s eta 0:00:01\r\u001b[K     |███████████████                 | 563kB 16.0MB/s eta 0:00:01\r\u001b[K     |███████████████▎                | 573kB 16.0MB/s eta 0:00:01\r\u001b[K     |███████████████▌                | 583kB 16.0MB/s eta 0:00:01\r\u001b[K     |███████████████▉                | 593kB 16.0MB/s eta 0:00:01\r\u001b[K     |████████████████                | 604kB 16.0MB/s eta 0:00:01\r\u001b[K     |████████████████▍               | 614kB 16.0MB/s eta 0:00:01\r\u001b[K     |████████████████▋               | 624kB 16.0MB/s eta 0:00:01\r\u001b[K     |████████████████▉               | 634kB 16.0MB/s eta 0:00:01\r\u001b[K     |█████████████████▏              | 645kB 16.0MB/s eta 0:00:01\r\u001b[K     |█████████████████▍              | 655kB 16.0MB/s eta 0:00:01\r\u001b[K     |█████████████████▊              | 665kB 16.0MB/s eta 0:00:01\r\u001b[K     |██████████████████              | 675kB 16.0MB/s eta 0:00:01\r\u001b[K     |██████████████████▎             | 686kB 16.0MB/s eta 0:00:01\r\u001b[K     |██████████████████▌             | 696kB 16.0MB/s eta 0:00:01\r\u001b[K     |██████████████████▉             | 706kB 16.0MB/s eta 0:00:01\r\u001b[K     |███████████████████             | 716kB 16.0MB/s eta 0:00:01\r\u001b[K     |███████████████████▎            | 727kB 16.0MB/s eta 0:00:01\r\u001b[K     |███████████████████▋            | 737kB 16.0MB/s eta 0:00:01\r\u001b[K     |███████████████████▉            | 747kB 16.0MB/s eta 0:00:01\r\u001b[K     |████████████████████▏           | 757kB 16.0MB/s eta 0:00:01\r\u001b[K     |████████████████████▍           | 768kB 16.0MB/s eta 0:00:01\r\u001b[K     |████████████████████▊           | 778kB 16.0MB/s eta 0:00:01\r\u001b[K     |█████████████████████           | 788kB 16.0MB/s eta 0:00:01\r\u001b[K     |█████████████████████▎          | 798kB 16.0MB/s eta 0:00:01\r\u001b[K     |█████████████████████▌          | 808kB 16.0MB/s eta 0:00:01\r\u001b[K     |█████████████████████▉          | 819kB 16.0MB/s eta 0:00:01\r\u001b[K     |██████████████████████          | 829kB 16.0MB/s eta 0:00:01\r\u001b[K     |██████████████████████▎         | 839kB 16.0MB/s eta 0:00:01\r\u001b[K     |██████████████████████▋         | 849kB 16.0MB/s eta 0:00:01\r\u001b[K     |██████████████████████▉         | 860kB 16.0MB/s eta 0:00:01\r\u001b[K     |███████████████████████▏        | 870kB 16.0MB/s eta 0:00:01\r\u001b[K     |███████████████████████▍        | 880kB 16.0MB/s eta 0:00:01\r\u001b[K     |███████████████████████▊        | 890kB 16.0MB/s eta 0:00:01\r\u001b[K     |████████████████████████        | 901kB 16.0MB/s eta 0:00:01\r\u001b[K     |████████████████████████▎       | 911kB 16.0MB/s eta 0:00:01\r\u001b[K     |████████████████████████▌       | 921kB 16.0MB/s eta 0:00:01\r\u001b[K     |████████████████████████▊       | 931kB 16.0MB/s eta 0:00:01\r\u001b[K     |█████████████████████████       | 942kB 16.0MB/s eta 0:00:01\r\u001b[K     |█████████████████████████▎      | 952kB 16.0MB/s eta 0:00:01\r\u001b[K     |█████████████████████████▋      | 962kB 16.0MB/s eta 0:00:01\r\u001b[K     |█████████████████████████▉      | 972kB 16.0MB/s eta 0:00:01\r\u001b[K     |██████████████████████████▏     | 983kB 16.0MB/s eta 0:00:01\r\u001b[K     |██████████████████████████▍     | 993kB 16.0MB/s eta 0:00:01\r\u001b[K     |██████████████████████████▊     | 1.0MB 16.0MB/s eta 0:00:01\r\u001b[K     |███████████████████████████     | 1.0MB 16.0MB/s eta 0:00:01\r\u001b[K     |███████████████████████████▎    | 1.0MB 16.0MB/s eta 0:00:01\r\u001b[K     |███████████████████████████▌    | 1.0MB 16.0MB/s eta 0:00:01\r\u001b[K     |███████████████████████████▊    | 1.0MB 16.0MB/s eta 0:00:01\r\u001b[K     |████████████████████████████    | 1.1MB 16.0MB/s eta 0:00:01\r\u001b[K     |████████████████████████████▎   | 1.1MB 16.0MB/s eta 0:00:01\r\u001b[K     |████████████████████████████▋   | 1.1MB 16.0MB/s eta 0:00:01\r\u001b[K     |████████████████████████████▉   | 1.1MB 16.0MB/s eta 0:00:01\r\u001b[K     |█████████████████████████████▏  | 1.1MB 16.0MB/s eta 0:00:01\r\u001b[K     |█████████████████████████████▍  | 1.1MB 16.0MB/s eta 0:00:01\r\u001b[K     |█████████████████████████████▊  | 1.1MB 16.0MB/s eta 0:00:01\r\u001b[K     |██████████████████████████████  | 1.1MB 16.0MB/s eta 0:00:01\r\u001b[K     |██████████████████████████████▏ | 1.1MB 16.0MB/s eta 0:00:01\r\u001b[K     |██████████████████████████████▌ | 1.1MB 16.0MB/s eta 0:00:01\r\u001b[K     |██████████████████████████████▊ | 1.2MB 16.0MB/s eta 0:00:01\r\u001b[K     |███████████████████████████████ | 1.2MB 16.0MB/s eta 0:00:01\r\u001b[K     |███████████████████████████████▎| 1.2MB 16.0MB/s eta 0:00:01\r\u001b[K     |███████████████████████████████▋| 1.2MB 16.0MB/s eta 0:00:01\r\u001b[K     |███████████████████████████████▉| 1.2MB 16.0MB/s eta 0:00:01\r\u001b[K     |████████████████████████████████| 1.2MB 16.0MB/s \n",
            "\u001b[?25hInstalling collected packages: sentencepiece\n",
            "Successfully installed sentencepiece-0.1.95\n"
          ],
          "name": "stdout"
        }
      ]
    },
    {
      "cell_type": "markdown",
      "metadata": {
        "id": "JHkHg6XAXoyK"
      },
      "source": [
        "# Evn"
      ]
    },
    {
      "cell_type": "code",
      "metadata": {
        "id": "WkYXFwcBXJDG"
      },
      "source": [
        "import os\n",
        "import random\n",
        "import shutil\n",
        "import json\n",
        "import zipfile\n",
        "import math\n",
        "import copy\n",
        "import collections\n",
        "import re\n",
        "\n",
        "import matplotlib.pyplot as plt\n",
        "import seaborn as sns\n",
        "from wordcloud import WordCloud\n",
        "import pandas as pd\n",
        "import numpy as np\n",
        "import sentencepiece as spm\n",
        "import tensorflow as tf\n",
        "import tensorflow.keras.backend as K\n",
        "\n",
        "from tqdm.notebook import tqdm"
      ],
      "execution_count": 2,
      "outputs": []
    },
    {
      "cell_type": "code",
      "metadata": {
        "id": "nvjyruUlXtlR"
      },
      "source": [
        "# random seed initialize\n",
        "random_seed = 1234\n",
        "random.seed(random_seed)\n",
        "np.random.seed(random_seed)\n",
        "tf.random.set_seed(random_seed)"
      ],
      "execution_count": 3,
      "outputs": []
    },
    {
      "cell_type": "code",
      "metadata": {
        "id": "BC3fXkhdYcYt",
        "colab": {
          "base_uri": "https://localhost:8080/"
        },
        "outputId": "aaefa1f9-93e2-4443-fa29-b09b30a37422"
      },
      "source": [
        "!nvidia-smi"
      ],
      "execution_count": 4,
      "outputs": [
        {
          "output_type": "stream",
          "text": [
            "Mon Feb  1 13:08:27 2021       \n",
            "+-----------------------------------------------------------------------------+\n",
            "| NVIDIA-SMI 460.32.03    Driver Version: 418.67       CUDA Version: 10.1     |\n",
            "|-------------------------------+----------------------+----------------------+\n",
            "| GPU  Name        Persistence-M| Bus-Id        Disp.A | Volatile Uncorr. ECC |\n",
            "| Fan  Temp  Perf  Pwr:Usage/Cap|         Memory-Usage | GPU-Util  Compute M. |\n",
            "|                               |                      |               MIG M. |\n",
            "|===============================+======================+======================|\n",
            "|   0  Tesla T4            Off  | 00000000:00:04.0 Off |                    0 |\n",
            "| N/A   60C    P8    10W /  70W |      0MiB / 15079MiB |      0%      Default |\n",
            "|                               |                      |                 ERR! |\n",
            "+-------------------------------+----------------------+----------------------+\n",
            "                                                                               \n",
            "+-----------------------------------------------------------------------------+\n",
            "| Processes:                                                                  |\n",
            "|  GPU   GI   CI        PID   Type   Process name                  GPU Memory |\n",
            "|        ID   ID                                                   Usage      |\n",
            "|=============================================================================|\n",
            "|  No running processes found                                                 |\n",
            "+-----------------------------------------------------------------------------+\n"
          ],
          "name": "stdout"
        }
      ]
    },
    {
      "cell_type": "code",
      "metadata": {
        "id": "xVRdxYReYeQj",
        "colab": {
          "base_uri": "https://localhost:8080/"
        },
        "outputId": "7212a51f-63fd-4ada-deed-46ece92fc549"
      },
      "source": [
        "# google drive mount\n",
        "from google.colab import drive\n",
        "drive.mount('/content/drive')"
      ],
      "execution_count": 5,
      "outputs": [
        {
          "output_type": "stream",
          "text": [
            "Mounted at /content/drive\n"
          ],
          "name": "stdout"
        }
      ]
    },
    {
      "cell_type": "code",
      "metadata": {
        "id": "byCIiLJBbFHh",
        "colab": {
          "base_uri": "https://localhost:8080/"
        },
        "outputId": "58bb1a70-24f6-4f22-d5e7-10f9768642ba"
      },
      "source": [
        "# data dir\n",
        "data_dir = '/content/drive/MyDrive/NLP_data'\n",
        "os.listdir(data_dir)"
      ],
      "execution_count": 6,
      "outputs": [
        {
          "output_type": "execute_result",
          "data": {
            "text/plain": [
              "['ko_32000.model',\n",
              " 'ko_32000.vocab',\n",
              " 'kowiki',\n",
              " '.ipynb_checkpoints',\n",
              " 'nsmc',\n",
              " 'quora']"
            ]
          },
          "metadata": {
            "tags": []
          },
          "execution_count": 6
        }
      ]
    },
    {
      "cell_type": "code",
      "metadata": {
        "id": "_Ru56YS3-SME",
        "colab": {
          "base_uri": "https://localhost:8080/"
        },
        "outputId": "fc4593d1-94e8-454d-8b15-1101b6c9733e"
      },
      "source": [
        "# quora dir\n",
        "quora_dir = os.path.join(data_dir, 'quora')\n",
        "if not os.path.exists(quora_dir):\n",
        "    os.makedirs(quora_dir)\n",
        "os.listdir(quora_dir)"
      ],
      "execution_count": 7,
      "outputs": [
        {
          "output_type": "execute_result",
          "data": {
            "text/plain": [
              "['kor_Pair_test.csv', 'kor_pair_train.csv', 'stub.csv', 'stub.hdf5']"
            ]
          },
          "metadata": {
            "tags": []
          },
          "execution_count": 7
        }
      ]
    },
    {
      "cell_type": "markdown",
      "metadata": {
        "id": "XwriCkq_R1Lc"
      },
      "source": [
        "# Vocabulary & config"
      ]
    },
    {
      "cell_type": "code",
      "metadata": {
        "id": "2H0BLydCb7lg",
        "colab": {
          "base_uri": "https://localhost:8080/"
        },
        "outputId": "6abcb8d7-175e-441b-80ed-ad14352f81a4"
      },
      "source": [
        "# vocab loading\n",
        "vocab = spm.SentencePieceProcessor()\n",
        "vocab.load(os.path.join(data_dir, 'ko_32000.model'))"
      ],
      "execution_count": 8,
      "outputs": [
        {
          "output_type": "execute_result",
          "data": {
            "text/plain": [
              "True"
            ]
          },
          "metadata": {
            "tags": []
          },
          "execution_count": 8
        }
      ]
    },
    {
      "cell_type": "code",
      "metadata": {
        "id": "0ETZ19flTRmt"
      },
      "source": [
        "n_vocab = len(vocab)  # number of vocabulary\n",
        "n_seq_1 = 26  # number of sequence 1\n",
        "n_seq_2 = 27  # number of sequence 2\n",
        "d_model = 256  # dimension of model\n",
        "n_out = 2  # number of output class"
      ],
      "execution_count": 9,
      "outputs": []
    },
    {
      "cell_type": "markdown",
      "metadata": {
        "id": "3myBX8hNEH1u"
      },
      "source": [
        "# 모델링"
      ]
    },
    {
      "cell_type": "code",
      "metadata": {
        "id": "SobekkcjEX_P"
      },
      "source": [
        "def build_model(n_vocab, d_model, n_seq_1, n_seq_2):\n",
        "    \"\"\"\n",
        "    문장 유사도 비교 모델\n",
        "    :param n_vocab: vocabulary 단어 수\n",
        "    :param d_model: 단어를 의미하는 벡터의 차원 수\n",
        "    :param n_seq_1: 문장 1 길이 (단어 수)\n",
        "    :param n_seq_2: 문장 2 길이 (단어 수)\n",
        "    \"\"\"\n",
        "    inputs_1 = tf.keras.layers.Input((n_seq_1,))  # (bs, n_seq_1)\n",
        "    inputs_2 = tf.keras.layers.Input((n_seq_2,))  # (bs, n_seq_2)\n",
        "    # 입력 단어를 vector로 변환\n",
        "    embedding = tf.keras.layers.Embedding(n_vocab, d_model)\n",
        "    hidden_1 = embedding(inputs_1)  # (bs, n_seq_1, d_model)\n",
        "    hidden_2 = embedding(inputs_2)  # (bs, n_seq_2, d_model)\n",
        "    ####################################\n",
        "    # RNN or CNN 추가해 보세요.\n",
        "    rnn = tf.keras.layers.Bidirectional(tf.keras.layers.SimpleRNN(units=128, return_sequences=True))\n",
        "    hidden_1 = rnn(hidden_1)\n",
        "    hidden_2 = rnn(hidden_2)\n",
        "\n",
        "    lstm = tf.keras.layers.LSTM(units=128, return_sequences=True)\n",
        "    hidden_1 = lstm(hidden_1)\n",
        "    hidden_2 = lstm(hidden_2)\n",
        "\n",
        "    gru = tf.keras.layers.GRU(units=128, return_sequences=True)\n",
        "    hidden_1 = gru(hidden_1)\n",
        "    hidden_2 = gru(hidden_2)\n",
        "\n",
        "    cnn = tf.keras.layers.Conv1D(filters=64, kernel_size=3, padding='same')\n",
        "    hidden_1 = cnn(hidden_1)\n",
        "    hidden_2 = cnn(hidden_2)\n",
        "\n",
        "    ####################################\n",
        "    # 각 단어 벡터의 최대값 기준으로 벡터를 더해서 차원을 줄여줌 (문장 vector 생성)\n",
        "    pool = tf.keras.layers.GlobalMaxPool1D()\n",
        "    hidden_pool_1 = pool(hidden_1)  # (bs, d_model)\n",
        "    hidden_pool_2 = pool(hidden_2)  # (bs, d_model)\n",
        "    # distance 계산 ||a - b||\n",
        "    distance = K.sum(K.abs(hidden_pool_1 - hidden_pool_2), axis=-1)\n",
        "    outputs = K.exp(-distance)\n",
        "    # 학습할 모델 선언\n",
        "    model = tf.keras.Model(inputs=(inputs_1, inputs_2), outputs=outputs)\n",
        "    return model"
      ],
      "execution_count": 20,
      "outputs": []
    },
    {
      "cell_type": "markdown",
      "metadata": {
        "id": "zSaoCf37q3aC"
      },
      "source": [
        "# All Data Project"
      ]
    },
    {
      "cell_type": "markdown",
      "metadata": {
        "id": "arOON7lCq3aC"
      },
      "source": [
        "## Data\n"
      ]
    },
    {
      "cell_type": "code",
      "metadata": {
        "id": "tNIbidDEq3aC",
        "colab": {
          "base_uri": "https://localhost:8080/",
          "height": 453
        },
        "outputId": "e667f43f-e5d8-429e-a827-fabe8769cbc9"
      },
      "source": [
        "df_train = pd.read_csv(os.path.join(quora_dir, 'kor_pair_train.csv'), delimiter=',')\n",
        "df_train"
      ],
      "execution_count": 11,
      "outputs": [
        {
          "output_type": "execute_result",
          "data": {
            "text/html": [
              "<div>\n",
              "<style scoped>\n",
              "    .dataframe tbody tr th:only-of-type {\n",
              "        vertical-align: middle;\n",
              "    }\n",
              "\n",
              "    .dataframe tbody tr th {\n",
              "        vertical-align: top;\n",
              "    }\n",
              "\n",
              "    .dataframe thead th {\n",
              "        text-align: right;\n",
              "    }\n",
              "</style>\n",
              "<table border=\"1\" class=\"dataframe\">\n",
              "  <thead>\n",
              "    <tr style=\"text-align: right;\">\n",
              "      <th></th>\n",
              "      <th>id</th>\n",
              "      <th>qid1</th>\n",
              "      <th>qid2</th>\n",
              "      <th>question1</th>\n",
              "      <th>question2</th>\n",
              "      <th>is_duplicate</th>\n",
              "    </tr>\n",
              "  </thead>\n",
              "  <tbody>\n",
              "    <tr>\n",
              "      <th>0</th>\n",
              "      <td>1</td>\n",
              "      <td>1</td>\n",
              "      <td>2</td>\n",
              "      <td>1000일 만난 여자친구와 이별</td>\n",
              "      <td>10년 연예의끝</td>\n",
              "      <td>1</td>\n",
              "    </tr>\n",
              "    <tr>\n",
              "      <th>1</th>\n",
              "      <td>2</td>\n",
              "      <td>3</td>\n",
              "      <td>4</td>\n",
              "      <td>10년 연애사 되돌아보니 다 부질없네</td>\n",
              "      <td>10년이라는 시간이 참 무색하다 싶네</td>\n",
              "      <td>1</td>\n",
              "    </tr>\n",
              "    <tr>\n",
              "      <th>2</th>\n",
              "      <td>3</td>\n",
              "      <td>5</td>\n",
              "      <td>6</td>\n",
              "      <td>10년만나다 헤어지네</td>\n",
              "      <td>14년된 여자친구랑 이별</td>\n",
              "      <td>1</td>\n",
              "    </tr>\n",
              "    <tr>\n",
              "      <th>3</th>\n",
              "      <td>4</td>\n",
              "      <td>7</td>\n",
              "      <td>8</td>\n",
              "      <td>10월의 마지막밤 . 더 보고싶네 그사람</td>\n",
              "      <td>15년…안녕</td>\n",
              "      <td>1</td>\n",
              "    </tr>\n",
              "    <tr>\n",
              "      <th>4</th>\n",
              "      <td>5</td>\n",
              "      <td>9</td>\n",
              "      <td>10</td>\n",
              "      <td>14년의 기나긴 이야기.</td>\n",
              "      <td>1년 9개월 의 연애 종지부.</td>\n",
              "      <td>1</td>\n",
              "    </tr>\n",
              "    <tr>\n",
              "      <th>...</th>\n",
              "      <td>...</td>\n",
              "      <td>...</td>\n",
              "      <td>...</td>\n",
              "      <td>...</td>\n",
              "      <td>...</td>\n",
              "      <td>...</td>\n",
              "    </tr>\n",
              "    <tr>\n",
              "      <th>6883</th>\n",
              "      <td>6884</td>\n",
              "      <td>13767</td>\n",
              "      <td>13768</td>\n",
              "      <td>O형 남자와 썸을 타는데</td>\n",
              "      <td>O형 여자와 썸을 타는데</td>\n",
              "      <td>1</td>\n",
              "    </tr>\n",
              "    <tr>\n",
              "      <th>6884</th>\n",
              "      <td>6885</td>\n",
              "      <td>13769</td>\n",
              "      <td>13770</td>\n",
              "      <td>SD카드 안돼</td>\n",
              "      <td>SD카드 망가졌어</td>\n",
              "      <td>0</td>\n",
              "    </tr>\n",
              "    <tr>\n",
              "      <th>6885</th>\n",
              "      <td>6886</td>\n",
              "      <td>13771</td>\n",
              "      <td>13772</td>\n",
              "      <td>SNS 를 끊어야 하는데.</td>\n",
              "      <td>가슴 아픈 이별</td>\n",
              "      <td>1</td>\n",
              "    </tr>\n",
              "    <tr>\n",
              "      <th>6886</th>\n",
              "      <td>6887</td>\n",
              "      <td>13773</td>\n",
              "      <td>13774</td>\n",
              "      <td>SNS 시간낭비인데 자꾸 보게됨</td>\n",
              "      <td>SNS 시간낭비인 거 아는데 매일 하는 중</td>\n",
              "      <td>0</td>\n",
              "    </tr>\n",
              "    <tr>\n",
              "      <th>6887</th>\n",
              "      <td>6888</td>\n",
              "      <td>13775</td>\n",
              "      <td>13776</td>\n",
              "      <td>sns에서 다른 이성이랑 대화하는걸 보니 화가 나</td>\n",
              "      <td>가슴에 구멍이 너무 커.</td>\n",
              "      <td>1</td>\n",
              "    </tr>\n",
              "  </tbody>\n",
              "</table>\n",
              "<p>6888 rows × 6 columns</p>\n",
              "</div>"
            ],
            "text/plain": [
              "        id   qid1  ...                question2 is_duplicate\n",
              "0        1      1  ...                 10년 연예의끝            1\n",
              "1        2      3  ...     10년이라는 시간이 참 무색하다 싶네            1\n",
              "2        3      5  ...            14년된 여자친구랑 이별            1\n",
              "3        4      7  ...                   15년…안녕            1\n",
              "4        5      9  ...         1년 9개월 의 연애 종지부.            1\n",
              "...    ...    ...  ...                      ...          ...\n",
              "6883  6884  13767  ...            O형 여자와 썸을 타는데            1\n",
              "6884  6885  13769  ...                SD카드 망가졌어            0\n",
              "6885  6886  13771  ...                 가슴 아픈 이별            1\n",
              "6886  6887  13773  ...  SNS 시간낭비인 거 아는데 매일 하는 중            0\n",
              "6887  6888  13775  ...            가슴에 구멍이 너무 커.            1\n",
              "\n",
              "[6888 rows x 6 columns]"
            ]
          },
          "metadata": {
            "tags": []
          },
          "execution_count": 11
        }
      ]
    },
    {
      "cell_type": "code",
      "metadata": {
        "id": "6kGWoqa0q3aD",
        "colab": {
          "base_uri": "https://localhost:8080/",
          "height": 453
        },
        "outputId": "3672ab52-2b63-4a1f-89f9-52a4254496a0"
      },
      "source": [
        "df_train = df_train.dropna()\n",
        "df_train"
      ],
      "execution_count": 12,
      "outputs": [
        {
          "output_type": "execute_result",
          "data": {
            "text/html": [
              "<div>\n",
              "<style scoped>\n",
              "    .dataframe tbody tr th:only-of-type {\n",
              "        vertical-align: middle;\n",
              "    }\n",
              "\n",
              "    .dataframe tbody tr th {\n",
              "        vertical-align: top;\n",
              "    }\n",
              "\n",
              "    .dataframe thead th {\n",
              "        text-align: right;\n",
              "    }\n",
              "</style>\n",
              "<table border=\"1\" class=\"dataframe\">\n",
              "  <thead>\n",
              "    <tr style=\"text-align: right;\">\n",
              "      <th></th>\n",
              "      <th>id</th>\n",
              "      <th>qid1</th>\n",
              "      <th>qid2</th>\n",
              "      <th>question1</th>\n",
              "      <th>question2</th>\n",
              "      <th>is_duplicate</th>\n",
              "    </tr>\n",
              "  </thead>\n",
              "  <tbody>\n",
              "    <tr>\n",
              "      <th>0</th>\n",
              "      <td>1</td>\n",
              "      <td>1</td>\n",
              "      <td>2</td>\n",
              "      <td>1000일 만난 여자친구와 이별</td>\n",
              "      <td>10년 연예의끝</td>\n",
              "      <td>1</td>\n",
              "    </tr>\n",
              "    <tr>\n",
              "      <th>1</th>\n",
              "      <td>2</td>\n",
              "      <td>3</td>\n",
              "      <td>4</td>\n",
              "      <td>10년 연애사 되돌아보니 다 부질없네</td>\n",
              "      <td>10년이라는 시간이 참 무색하다 싶네</td>\n",
              "      <td>1</td>\n",
              "    </tr>\n",
              "    <tr>\n",
              "      <th>2</th>\n",
              "      <td>3</td>\n",
              "      <td>5</td>\n",
              "      <td>6</td>\n",
              "      <td>10년만나다 헤어지네</td>\n",
              "      <td>14년된 여자친구랑 이별</td>\n",
              "      <td>1</td>\n",
              "    </tr>\n",
              "    <tr>\n",
              "      <th>3</th>\n",
              "      <td>4</td>\n",
              "      <td>7</td>\n",
              "      <td>8</td>\n",
              "      <td>10월의 마지막밤 . 더 보고싶네 그사람</td>\n",
              "      <td>15년…안녕</td>\n",
              "      <td>1</td>\n",
              "    </tr>\n",
              "    <tr>\n",
              "      <th>4</th>\n",
              "      <td>5</td>\n",
              "      <td>9</td>\n",
              "      <td>10</td>\n",
              "      <td>14년의 기나긴 이야기.</td>\n",
              "      <td>1년 9개월 의 연애 종지부.</td>\n",
              "      <td>1</td>\n",
              "    </tr>\n",
              "    <tr>\n",
              "      <th>...</th>\n",
              "      <td>...</td>\n",
              "      <td>...</td>\n",
              "      <td>...</td>\n",
              "      <td>...</td>\n",
              "      <td>...</td>\n",
              "      <td>...</td>\n",
              "    </tr>\n",
              "    <tr>\n",
              "      <th>6883</th>\n",
              "      <td>6884</td>\n",
              "      <td>13767</td>\n",
              "      <td>13768</td>\n",
              "      <td>O형 남자와 썸을 타는데</td>\n",
              "      <td>O형 여자와 썸을 타는데</td>\n",
              "      <td>1</td>\n",
              "    </tr>\n",
              "    <tr>\n",
              "      <th>6884</th>\n",
              "      <td>6885</td>\n",
              "      <td>13769</td>\n",
              "      <td>13770</td>\n",
              "      <td>SD카드 안돼</td>\n",
              "      <td>SD카드 망가졌어</td>\n",
              "      <td>0</td>\n",
              "    </tr>\n",
              "    <tr>\n",
              "      <th>6885</th>\n",
              "      <td>6886</td>\n",
              "      <td>13771</td>\n",
              "      <td>13772</td>\n",
              "      <td>SNS 를 끊어야 하는데.</td>\n",
              "      <td>가슴 아픈 이별</td>\n",
              "      <td>1</td>\n",
              "    </tr>\n",
              "    <tr>\n",
              "      <th>6886</th>\n",
              "      <td>6887</td>\n",
              "      <td>13773</td>\n",
              "      <td>13774</td>\n",
              "      <td>SNS 시간낭비인데 자꾸 보게됨</td>\n",
              "      <td>SNS 시간낭비인 거 아는데 매일 하는 중</td>\n",
              "      <td>0</td>\n",
              "    </tr>\n",
              "    <tr>\n",
              "      <th>6887</th>\n",
              "      <td>6888</td>\n",
              "      <td>13775</td>\n",
              "      <td>13776</td>\n",
              "      <td>sns에서 다른 이성이랑 대화하는걸 보니 화가 나</td>\n",
              "      <td>가슴에 구멍이 너무 커.</td>\n",
              "      <td>1</td>\n",
              "    </tr>\n",
              "  </tbody>\n",
              "</table>\n",
              "<p>6888 rows × 6 columns</p>\n",
              "</div>"
            ],
            "text/plain": [
              "        id   qid1  ...                question2 is_duplicate\n",
              "0        1      1  ...                 10년 연예의끝            1\n",
              "1        2      3  ...     10년이라는 시간이 참 무색하다 싶네            1\n",
              "2        3      5  ...            14년된 여자친구랑 이별            1\n",
              "3        4      7  ...                   15년…안녕            1\n",
              "4        5      9  ...         1년 9개월 의 연애 종지부.            1\n",
              "...    ...    ...  ...                      ...          ...\n",
              "6883  6884  13767  ...            O형 여자와 썸을 타는데            1\n",
              "6884  6885  13769  ...                SD카드 망가졌어            0\n",
              "6885  6886  13771  ...                 가슴 아픈 이별            1\n",
              "6886  6887  13773  ...  SNS 시간낭비인 거 아는데 매일 하는 중            0\n",
              "6887  6888  13775  ...            가슴에 구멍이 너무 커.            1\n",
              "\n",
              "[6888 rows x 6 columns]"
            ]
          },
          "metadata": {
            "tags": []
          },
          "execution_count": 12
        }
      ]
    },
    {
      "cell_type": "code",
      "metadata": {
        "id": "KWPDQFPBq3aD",
        "colab": {
          "base_uri": "https://localhost:8080/",
          "height": 419
        },
        "outputId": "da61248d-ee2d-4c8e-c83e-648093bb25eb"
      },
      "source": [
        "df_test = pd.read_csv(os.path.join(quora_dir, 'kor_Pair_test.csv'), delimiter=',')\n",
        "df_test"
      ],
      "execution_count": 13,
      "outputs": [
        {
          "output_type": "execute_result",
          "data": {
            "text/html": [
              "<div>\n",
              "<style scoped>\n",
              "    .dataframe tbody tr th:only-of-type {\n",
              "        vertical-align: middle;\n",
              "    }\n",
              "\n",
              "    .dataframe tbody tr th {\n",
              "        vertical-align: top;\n",
              "    }\n",
              "\n",
              "    .dataframe thead th {\n",
              "        text-align: right;\n",
              "    }\n",
              "</style>\n",
              "<table border=\"1\" class=\"dataframe\">\n",
              "  <thead>\n",
              "    <tr style=\"text-align: right;\">\n",
              "      <th></th>\n",
              "      <th>test_id</th>\n",
              "      <th>question1</th>\n",
              "      <th>question2</th>\n",
              "      <th>is_duplicate</th>\n",
              "      <th>Unnamed: 4</th>\n",
              "    </tr>\n",
              "  </thead>\n",
              "  <tbody>\n",
              "    <tr>\n",
              "      <th>0</th>\n",
              "      <td>1</td>\n",
              "      <td>21살의 사랑에 대해</td>\n",
              "      <td>사랑을 노력한다는게 말이 되나요?</td>\n",
              "      <td>1</td>\n",
              "      <td>NaN</td>\n",
              "    </tr>\n",
              "    <tr>\n",
              "      <th>1</th>\n",
              "      <td>2</td>\n",
              "      <td>2년 가량의 연애</td>\n",
              "      <td>2년 만났어</td>\n",
              "      <td>0</td>\n",
              "      <td>NaN</td>\n",
              "    </tr>\n",
              "    <tr>\n",
              "      <th>2</th>\n",
              "      <td>3</td>\n",
              "      <td>2년 만난 기념일이야</td>\n",
              "      <td>우리 벌써 2년 동안 사궜어</td>\n",
              "      <td>0</td>\n",
              "      <td>NaN</td>\n",
              "    </tr>\n",
              "    <tr>\n",
              "      <th>3</th>\n",
              "      <td>4</td>\n",
              "      <td>2년 사귀었는데 결혼하려고</td>\n",
              "      <td>2년째 짝사랑하는 사람이 있어.</td>\n",
              "      <td>1</td>\n",
              "      <td>NaN</td>\n",
              "    </tr>\n",
              "    <tr>\n",
              "      <th>4</th>\n",
              "      <td>5</td>\n",
              "      <td>5급면제도 나랑사랑카드 발급하나요?</td>\n",
              "      <td>아이콘 노래 사랑을 했다 별로인것같은데</td>\n",
              "      <td>1</td>\n",
              "      <td>NaN</td>\n",
              "    </tr>\n",
              "    <tr>\n",
              "      <th>...</th>\n",
              "      <td>...</td>\n",
              "      <td>...</td>\n",
              "      <td>...</td>\n",
              "      <td>...</td>\n",
              "      <td>...</td>\n",
              "    </tr>\n",
              "    <tr>\n",
              "      <th>683</th>\n",
              "      <td>684</td>\n",
              "      <td>회사에서 짤릴 필이 와</td>\n",
              "      <td>나 회사 짤릴 거 같은데 어떻게 만회하지</td>\n",
              "      <td>0</td>\n",
              "      <td>1.0</td>\n",
              "    </tr>\n",
              "    <tr>\n",
              "      <th>684</th>\n",
              "      <td>685</td>\n",
              "      <td>효율적으로 공부하는 방법</td>\n",
              "      <td>새 해 결심 뭐였더라</td>\n",
              "      <td>1</td>\n",
              "      <td>NaN</td>\n",
              "    </tr>\n",
              "    <tr>\n",
              "      <th>685</th>\n",
              "      <td>686</td>\n",
              "      <td>휴대폰 액정 깨졌어</td>\n",
              "      <td>액정 깨짐</td>\n",
              "      <td>0</td>\n",
              "      <td>NaN</td>\n",
              "    </tr>\n",
              "    <tr>\n",
              "      <th>686</th>\n",
              "      <td>687</td>\n",
              "      <td>힘든 일이 너무 많아요</td>\n",
              "      <td>괜찮아 천천히 해도 돼</td>\n",
              "      <td>1</td>\n",
              "      <td>NaN</td>\n",
              "    </tr>\n",
              "    <tr>\n",
              "      <th>687</th>\n",
              "      <td>688</td>\n",
              "      <td>AI도 감정 있나?</td>\n",
              "      <td>이런 감정은 처음인데 설레네</td>\n",
              "      <td>1</td>\n",
              "      <td>NaN</td>\n",
              "    </tr>\n",
              "  </tbody>\n",
              "</table>\n",
              "<p>688 rows × 5 columns</p>\n",
              "</div>"
            ],
            "text/plain": [
              "     test_id            question1  ... is_duplicate  Unnamed: 4\n",
              "0          1          21살의 사랑에 대해  ...            1         NaN\n",
              "1          2            2년 가량의 연애  ...            0         NaN\n",
              "2          3          2년 만난 기념일이야  ...            0         NaN\n",
              "3          4       2년 사귀었는데 결혼하려고  ...            1         NaN\n",
              "4          5  5급면제도 나랑사랑카드 발급하나요?  ...            1         NaN\n",
              "..       ...                  ...  ...          ...         ...\n",
              "683      684         회사에서 짤릴 필이 와  ...            0         1.0\n",
              "684      685        효율적으로 공부하는 방법  ...            1         NaN\n",
              "685      686           휴대폰 액정 깨졌어  ...            0         NaN\n",
              "686      687         힘든 일이 너무 많아요  ...            1         NaN\n",
              "687      688           AI도 감정 있나?  ...            1         NaN\n",
              "\n",
              "[688 rows x 5 columns]"
            ]
          },
          "metadata": {
            "tags": []
          },
          "execution_count": 13
        }
      ]
    },
    {
      "cell_type": "code",
      "metadata": {
        "id": "y9ewl-6Zq3aE",
        "colab": {
          "base_uri": "https://localhost:8080/",
          "height": 419
        },
        "outputId": "3f0ae544-7918-4883-e524-75d6d03e303f"
      },
      "source": [
        "df_test = df_test[['test_id', 'question1', 'question2', 'is_duplicate']]\n",
        "df_test"
      ],
      "execution_count": 14,
      "outputs": [
        {
          "output_type": "execute_result",
          "data": {
            "text/html": [
              "<div>\n",
              "<style scoped>\n",
              "    .dataframe tbody tr th:only-of-type {\n",
              "        vertical-align: middle;\n",
              "    }\n",
              "\n",
              "    .dataframe tbody tr th {\n",
              "        vertical-align: top;\n",
              "    }\n",
              "\n",
              "    .dataframe thead th {\n",
              "        text-align: right;\n",
              "    }\n",
              "</style>\n",
              "<table border=\"1\" class=\"dataframe\">\n",
              "  <thead>\n",
              "    <tr style=\"text-align: right;\">\n",
              "      <th></th>\n",
              "      <th>test_id</th>\n",
              "      <th>question1</th>\n",
              "      <th>question2</th>\n",
              "      <th>is_duplicate</th>\n",
              "    </tr>\n",
              "  </thead>\n",
              "  <tbody>\n",
              "    <tr>\n",
              "      <th>0</th>\n",
              "      <td>1</td>\n",
              "      <td>21살의 사랑에 대해</td>\n",
              "      <td>사랑을 노력한다는게 말이 되나요?</td>\n",
              "      <td>1</td>\n",
              "    </tr>\n",
              "    <tr>\n",
              "      <th>1</th>\n",
              "      <td>2</td>\n",
              "      <td>2년 가량의 연애</td>\n",
              "      <td>2년 만났어</td>\n",
              "      <td>0</td>\n",
              "    </tr>\n",
              "    <tr>\n",
              "      <th>2</th>\n",
              "      <td>3</td>\n",
              "      <td>2년 만난 기념일이야</td>\n",
              "      <td>우리 벌써 2년 동안 사궜어</td>\n",
              "      <td>0</td>\n",
              "    </tr>\n",
              "    <tr>\n",
              "      <th>3</th>\n",
              "      <td>4</td>\n",
              "      <td>2년 사귀었는데 결혼하려고</td>\n",
              "      <td>2년째 짝사랑하는 사람이 있어.</td>\n",
              "      <td>1</td>\n",
              "    </tr>\n",
              "    <tr>\n",
              "      <th>4</th>\n",
              "      <td>5</td>\n",
              "      <td>5급면제도 나랑사랑카드 발급하나요?</td>\n",
              "      <td>아이콘 노래 사랑을 했다 별로인것같은데</td>\n",
              "      <td>1</td>\n",
              "    </tr>\n",
              "    <tr>\n",
              "      <th>...</th>\n",
              "      <td>...</td>\n",
              "      <td>...</td>\n",
              "      <td>...</td>\n",
              "      <td>...</td>\n",
              "    </tr>\n",
              "    <tr>\n",
              "      <th>683</th>\n",
              "      <td>684</td>\n",
              "      <td>회사에서 짤릴 필이 와</td>\n",
              "      <td>나 회사 짤릴 거 같은데 어떻게 만회하지</td>\n",
              "      <td>0</td>\n",
              "    </tr>\n",
              "    <tr>\n",
              "      <th>684</th>\n",
              "      <td>685</td>\n",
              "      <td>효율적으로 공부하는 방법</td>\n",
              "      <td>새 해 결심 뭐였더라</td>\n",
              "      <td>1</td>\n",
              "    </tr>\n",
              "    <tr>\n",
              "      <th>685</th>\n",
              "      <td>686</td>\n",
              "      <td>휴대폰 액정 깨졌어</td>\n",
              "      <td>액정 깨짐</td>\n",
              "      <td>0</td>\n",
              "    </tr>\n",
              "    <tr>\n",
              "      <th>686</th>\n",
              "      <td>687</td>\n",
              "      <td>힘든 일이 너무 많아요</td>\n",
              "      <td>괜찮아 천천히 해도 돼</td>\n",
              "      <td>1</td>\n",
              "    </tr>\n",
              "    <tr>\n",
              "      <th>687</th>\n",
              "      <td>688</td>\n",
              "      <td>AI도 감정 있나?</td>\n",
              "      <td>이런 감정은 처음인데 설레네</td>\n",
              "      <td>1</td>\n",
              "    </tr>\n",
              "  </tbody>\n",
              "</table>\n",
              "<p>688 rows × 4 columns</p>\n",
              "</div>"
            ],
            "text/plain": [
              "     test_id            question1               question2  is_duplicate\n",
              "0          1          21살의 사랑에 대해      사랑을 노력한다는게 말이 되나요?             1\n",
              "1          2            2년 가량의 연애                  2년 만났어             0\n",
              "2          3          2년 만난 기념일이야         우리 벌써 2년 동안 사궜어             0\n",
              "3          4       2년 사귀었는데 결혼하려고       2년째 짝사랑하는 사람이 있어.             1\n",
              "4          5  5급면제도 나랑사랑카드 발급하나요?   아이콘 노래 사랑을 했다 별로인것같은데             1\n",
              "..       ...                  ...                     ...           ...\n",
              "683      684         회사에서 짤릴 필이 와  나 회사 짤릴 거 같은데 어떻게 만회하지             0\n",
              "684      685        효율적으로 공부하는 방법             새 해 결심 뭐였더라             1\n",
              "685      686           휴대폰 액정 깨졌어                   액정 깨짐             0\n",
              "686      687         힘든 일이 너무 많아요            괜찮아 천천히 해도 돼             1\n",
              "687      688           AI도 감정 있나?         이런 감정은 처음인데 설레네             1\n",
              "\n",
              "[688 rows x 4 columns]"
            ]
          },
          "metadata": {
            "tags": []
          },
          "execution_count": 14
        }
      ]
    },
    {
      "cell_type": "code",
      "metadata": {
        "id": "kXcHn9p4q3aE",
        "colab": {
          "base_uri": "https://localhost:8080/",
          "height": 419
        },
        "outputId": "67d20c0b-0e6d-4260-84e1-41aecd61e42e"
      },
      "source": [
        "df_test = df_test.dropna()\n",
        "df_test"
      ],
      "execution_count": 15,
      "outputs": [
        {
          "output_type": "execute_result",
          "data": {
            "text/html": [
              "<div>\n",
              "<style scoped>\n",
              "    .dataframe tbody tr th:only-of-type {\n",
              "        vertical-align: middle;\n",
              "    }\n",
              "\n",
              "    .dataframe tbody tr th {\n",
              "        vertical-align: top;\n",
              "    }\n",
              "\n",
              "    .dataframe thead th {\n",
              "        text-align: right;\n",
              "    }\n",
              "</style>\n",
              "<table border=\"1\" class=\"dataframe\">\n",
              "  <thead>\n",
              "    <tr style=\"text-align: right;\">\n",
              "      <th></th>\n",
              "      <th>test_id</th>\n",
              "      <th>question1</th>\n",
              "      <th>question2</th>\n",
              "      <th>is_duplicate</th>\n",
              "    </tr>\n",
              "  </thead>\n",
              "  <tbody>\n",
              "    <tr>\n",
              "      <th>0</th>\n",
              "      <td>1</td>\n",
              "      <td>21살의 사랑에 대해</td>\n",
              "      <td>사랑을 노력한다는게 말이 되나요?</td>\n",
              "      <td>1</td>\n",
              "    </tr>\n",
              "    <tr>\n",
              "      <th>1</th>\n",
              "      <td>2</td>\n",
              "      <td>2년 가량의 연애</td>\n",
              "      <td>2년 만났어</td>\n",
              "      <td>0</td>\n",
              "    </tr>\n",
              "    <tr>\n",
              "      <th>2</th>\n",
              "      <td>3</td>\n",
              "      <td>2년 만난 기념일이야</td>\n",
              "      <td>우리 벌써 2년 동안 사궜어</td>\n",
              "      <td>0</td>\n",
              "    </tr>\n",
              "    <tr>\n",
              "      <th>3</th>\n",
              "      <td>4</td>\n",
              "      <td>2년 사귀었는데 결혼하려고</td>\n",
              "      <td>2년째 짝사랑하는 사람이 있어.</td>\n",
              "      <td>1</td>\n",
              "    </tr>\n",
              "    <tr>\n",
              "      <th>4</th>\n",
              "      <td>5</td>\n",
              "      <td>5급면제도 나랑사랑카드 발급하나요?</td>\n",
              "      <td>아이콘 노래 사랑을 했다 별로인것같은데</td>\n",
              "      <td>1</td>\n",
              "    </tr>\n",
              "    <tr>\n",
              "      <th>...</th>\n",
              "      <td>...</td>\n",
              "      <td>...</td>\n",
              "      <td>...</td>\n",
              "      <td>...</td>\n",
              "    </tr>\n",
              "    <tr>\n",
              "      <th>683</th>\n",
              "      <td>684</td>\n",
              "      <td>회사에서 짤릴 필이 와</td>\n",
              "      <td>나 회사 짤릴 거 같은데 어떻게 만회하지</td>\n",
              "      <td>0</td>\n",
              "    </tr>\n",
              "    <tr>\n",
              "      <th>684</th>\n",
              "      <td>685</td>\n",
              "      <td>효율적으로 공부하는 방법</td>\n",
              "      <td>새 해 결심 뭐였더라</td>\n",
              "      <td>1</td>\n",
              "    </tr>\n",
              "    <tr>\n",
              "      <th>685</th>\n",
              "      <td>686</td>\n",
              "      <td>휴대폰 액정 깨졌어</td>\n",
              "      <td>액정 깨짐</td>\n",
              "      <td>0</td>\n",
              "    </tr>\n",
              "    <tr>\n",
              "      <th>686</th>\n",
              "      <td>687</td>\n",
              "      <td>힘든 일이 너무 많아요</td>\n",
              "      <td>괜찮아 천천히 해도 돼</td>\n",
              "      <td>1</td>\n",
              "    </tr>\n",
              "    <tr>\n",
              "      <th>687</th>\n",
              "      <td>688</td>\n",
              "      <td>AI도 감정 있나?</td>\n",
              "      <td>이런 감정은 처음인데 설레네</td>\n",
              "      <td>1</td>\n",
              "    </tr>\n",
              "  </tbody>\n",
              "</table>\n",
              "<p>688 rows × 4 columns</p>\n",
              "</div>"
            ],
            "text/plain": [
              "     test_id            question1               question2  is_duplicate\n",
              "0          1          21살의 사랑에 대해      사랑을 노력한다는게 말이 되나요?             1\n",
              "1          2            2년 가량의 연애                  2년 만났어             0\n",
              "2          3          2년 만난 기념일이야         우리 벌써 2년 동안 사궜어             0\n",
              "3          4       2년 사귀었는데 결혼하려고       2년째 짝사랑하는 사람이 있어.             1\n",
              "4          5  5급면제도 나랑사랑카드 발급하나요?   아이콘 노래 사랑을 했다 별로인것같은데             1\n",
              "..       ...                  ...                     ...           ...\n",
              "683      684         회사에서 짤릴 필이 와  나 회사 짤릴 거 같은데 어떻게 만회하지             0\n",
              "684      685        효율적으로 공부하는 방법             새 해 결심 뭐였더라             1\n",
              "685      686           휴대폰 액정 깨졌어                   액정 깨짐             0\n",
              "686      687         힘든 일이 너무 많아요            괜찮아 천천히 해도 돼             1\n",
              "687      688           AI도 감정 있나?         이런 감정은 처음인데 설레네             1\n",
              "\n",
              "[688 rows x 4 columns]"
            ]
          },
          "metadata": {
            "tags": []
          },
          "execution_count": 15
        }
      ]
    },
    {
      "cell_type": "code",
      "metadata": {
        "id": "pl2JDf6Aq3aF"
      },
      "source": [
        "def load_data(df, n_seq_1, n_seq_2):\n",
        "    \"\"\"\n",
        "    Quora 학습 데이터 생성\n",
        "    :param df: data frame\n",
        "    :param n_seq_1: number of sequence 1\n",
        "    :param n_seq_2: number of sequence 2\n",
        "    :return inputs_1: input data 1\n",
        "    :return inputs_2: input data 2\n",
        "    :return labels: label data\n",
        "    \"\"\"\n",
        "    inputs_1 = np.zeros((len(df), n_seq_1)).astype(np.int32)\n",
        "    inputs_2 = np.zeros((len(df), n_seq_2)).astype(np.int32)\n",
        "    labels = np.zeros((len(df),))\n",
        "    index = 0\n",
        "    for i, row in tqdm(df.iterrows(), total=len(df)):\n",
        "        # tokens 저장\n",
        "        # print()\n",
        "        is_duplicate = row['is_duplicate']\n",
        "        question1 = row['question1']\n",
        "        question2 = row['question2']\n",
        "        # print(is_duplicate, question1, question2)\n",
        "\n",
        "        tokens_1 = vocab.encode_as_pieces(question1)\n",
        "        # print(len(tokens_1), ':', tokens_1)\n",
        "        tokens_2 = vocab.encode_as_pieces(question2)\n",
        "        # print(len(tokens_2), ':', tokens_2)\n",
        "\n",
        "        token_ids_1 = vocab.encode_as_ids(question1)\n",
        "        # print(len(token_ids_1), ':', token_ids_1)\n",
        "        token_ids_2 = vocab.encode_as_ids(question2)\n",
        "        # print(len(token_ids_2), ':', token_ids_2)\n",
        "\n",
        "        token_ids_1 = token_ids_1[:n_seq_1]\n",
        "        # print(len(token_ids_1), ':', token_ids_1)\n",
        "        token_ids_2 = token_ids_2[:n_seq_2]\n",
        "        # print(len(token_ids_2), ':', token_ids_2)\n",
        "\n",
        "        token_ids_1 += [0] * (n_seq_1 - len(token_ids_1))\n",
        "        # print(len(token_ids_1), ':', token_ids_1)\n",
        "        token_ids_2 += [0] * (n_seq_2 - len(token_ids_2))\n",
        "        # print(len(token_ids_2), ':', token_ids_2)\n",
        "\n",
        "        labels[index] = 1 - is_duplicate  # 0 -> 1, 1 -> 0\n",
        "        inputs_1[index] = token_ids_1\n",
        "        inputs_2[index] = token_ids_2\n",
        "        index += 1\n",
        "    return inputs_1, inputs_2, labels"
      ],
      "execution_count": 16,
      "outputs": []
    },
    {
      "cell_type": "code",
      "metadata": {
        "id": "f5cu4GTFq3aF",
        "colab": {
          "base_uri": "https://localhost:8080/",
          "height": 321,
          "referenced_widgets": [
            "5b706f6ee2d742cc8541709c554bfcc1",
            "6147abf6ab37453b89f1eb9c67699222",
            "724311a5afc9443883f4dad7d17a43b1",
            "410d2e05f403466cbc02b48eb1432258",
            "37bccee0dcdc4b31b5589869a835cce6",
            "69f0891292444da7b10b1fd21ec3ad5a",
            "6b6b11a0d9f541458ef56459b704b518",
            "bd256c09b4e24bb696d2cc154decce58"
          ]
        },
        "outputId": "4ae61d48-b7bb-40b6-c8e2-5a0876d117cb"
      },
      "source": [
        "# train data 생성\n",
        "train_inputs_1, train_inputs_2, train_labels = load_data(df_train, n_seq_1, n_seq_2)\n",
        "train_inputs_1, train_inputs_2, train_labels"
      ],
      "execution_count": 17,
      "outputs": [
        {
          "output_type": "display_data",
          "data": {
            "application/vnd.jupyter.widget-view+json": {
              "model_id": "5b706f6ee2d742cc8541709c554bfcc1",
              "version_minor": 0,
              "version_major": 2
            },
            "text/plain": [
              "HBox(children=(FloatProgress(value=0.0, max=6888.0), HTML(value='')))"
            ]
          },
          "metadata": {
            "tags": []
          }
        },
        {
          "output_type": "stream",
          "text": [
            "\n"
          ],
          "name": "stdout"
        },
        {
          "output_type": "execute_result",
          "data": {
            "text/plain": [
              "(array([[ 3800,    26,  7314, ...,     0,     0,     0],\n",
              "        [   67,    15,  8256, ...,     0,     0,     0],\n",
              "        [   67,    15,    62, ...,     0,     0,     0],\n",
              "        ...,\n",
              "        [17834,    10,    20, ...,     0,     0,     0],\n",
              "        [17834,  1151,  4468, ...,     0,     0,     0],\n",
              "        [ 2067, 17548,    22, ...,     0,     0,     0]], dtype=int32),\n",
              " array([[   67,    15, 13442, ...,     0,     0,     0],\n",
              "        [   67,    15,   218, ...,     0,     0,     0],\n",
              "        [  242,    15,    85, ...,     0,     0,     0],\n",
              "        ...,\n",
              "        [ 5135, 29356,    29, ...,     0,     0,     0],\n",
              "        [17834,  1151,  4468, ...,     0,     0,     0],\n",
              "        [ 5135,    13, 20337, ...,     0,     0,     0]], dtype=int32),\n",
              " array([0., 0., 0., ..., 0., 1., 0.]))"
            ]
          },
          "metadata": {
            "tags": []
          },
          "execution_count": 17
        }
      ]
    },
    {
      "cell_type": "code",
      "metadata": {
        "id": "wAc54dMJq3aF",
        "colab": {
          "base_uri": "https://localhost:8080/",
          "height": 1000,
          "referenced_widgets": [
            "adb9feb83f3047c691cbc380b37705c6",
            "55198ca66e694b8f919c9f8acba2398f",
            "ef5139f9675c45d7abb9cf68e5609e36",
            "bd73ab1b97da4283a14e132320cc1a6e",
            "64de523f98ed48a6abbc71e81047bf49",
            "76632f5bab6943fd94007ca8783dc9ea",
            "84c3bf26212843f18a2ce0daf7633f72",
            "d8ecf662c6614e099accf4eb8f3972a9"
          ]
        },
        "outputId": "3c9418f5-664e-494e-b0a5-e9cd61bbd035"
      },
      "source": [
        "# test data 생성\n",
        "test_inputs_1, test_inputs_2, test_labels = load_data(df_test, n_seq_1, n_seq_2)\n",
        "test_inputs_1, test_inputs_2, test_labels"
      ],
      "execution_count": 18,
      "outputs": [
        {
          "output_type": "display_data",
          "data": {
            "application/vnd.jupyter.widget-view+json": {
              "model_id": "adb9feb83f3047c691cbc380b37705c6",
              "version_minor": 0,
              "version_major": 2
            },
            "text/plain": [
              "HBox(children=(FloatProgress(value=0.0, max=688.0), HTML(value='')))"
            ]
          },
          "metadata": {
            "tags": []
          }
        },
        {
          "output_type": "stream",
          "text": [
            "\n"
          ],
          "name": "stdout"
        },
        {
          "output_type": "execute_result",
          "data": {
            "text/plain": [
              "(array([[  513,   704,     9, ...,     0,     0,     0],\n",
              "        [   36,    15,  5657, ...,     0,     0,     0],\n",
              "        [   36,    15,  7314, ...,     0,     0,     0],\n",
              "        ...,\n",
              "        [22848, 27427,  4221, ...,     0,     0,     0],\n",
              "        [10736,  2101,  2329, ...,     0,     0,     0],\n",
              "        [17194,    32,  3971, ...,     0,     0,     0]], dtype=int32),\n",
              " array([[ 5775,  2184,  1973, ...,     0,     0,     0],\n",
              "        [   36,    15, 10711, ...,     0,     0,     0],\n",
              "        [ 1680, 29038,    36, ...,     0,     0,     0],\n",
              "        ...,\n",
              "        [27427,  4221,  4418, ...,     0,     0,     0],\n",
              "        [22827,   141, 17629, ...,     0,     0,     0],\n",
              "        [ 1001,  3971,    18, ...,     0,     0,     0]], dtype=int32),\n",
              " array([0., 1., 1., 0., 0., 0., 1., 0., 0., 0., 1., 0., 1., 0., 0., 1., 1.,\n",
              "        1., 1., 0., 1., 0., 0., 1., 1., 0., 0., 0., 1., 1., 0., 0., 1., 1.,\n",
              "        1., 0., 0., 0., 1., 0., 0., 0., 0., 1., 0., 1., 0., 1., 0., 0., 1.,\n",
              "        1., 0., 1., 0., 1., 1., 0., 1., 1., 1., 0., 1., 0., 0., 0., 0., 0.,\n",
              "        1., 0., 1., 1., 1., 0., 1., 1., 1., 0., 1., 1., 1., 1., 1., 1., 1.,\n",
              "        0., 1., 1., 0., 0., 1., 1., 1., 1., 1., 0., 1., 0., 0., 1., 1., 1.,\n",
              "        0., 1., 1., 1., 0., 0., 0., 1., 1., 0., 0., 1., 1., 1., 1., 0., 1.,\n",
              "        1., 0., 1., 1., 1., 0., 0., 1., 1., 0., 0., 1., 0., 0., 0., 1., 1.,\n",
              "        0., 0., 0., 0., 1., 0., 0., 0., 0., 0., 0., 0., 1., 1., 0., 0., 1.,\n",
              "        1., 1., 1., 1., 1., 0., 1., 1., 1., 0., 1., 1., 1., 1., 0., 0., 1.,\n",
              "        1., 1., 1., 1., 1., 1., 0., 1., 1., 0., 1., 0., 0., 0., 1., 1., 0.,\n",
              "        0., 0., 0., 1., 1., 0., 0., 1., 0., 0., 0., 1., 0., 1., 0., 0., 1.,\n",
              "        1., 1., 0., 0., 1., 1., 0., 1., 1., 0., 1., 0., 0., 1., 0., 0., 1.,\n",
              "        0., 1., 0., 0., 1., 1., 1., 1., 0., 1., 0., 0., 1., 1., 1., 1., 1.,\n",
              "        0., 1., 0., 1., 1., 0., 1., 1., 0., 1., 1., 0., 1., 1., 1., 1., 1.,\n",
              "        0., 1., 1., 1., 1., 1., 0., 1., 0., 0., 0., 0., 1., 1., 0., 0., 0.,\n",
              "        1., 0., 1., 0., 0., 0., 0., 0., 0., 0., 1., 0., 0., 1., 0., 0., 0.,\n",
              "        0., 1., 0., 1., 0., 1., 0., 1., 0., 0., 0., 1., 1., 1., 1., 1., 1.,\n",
              "        1., 0., 0., 1., 1., 0., 1., 0., 1., 0., 1., 1., 0., 0., 0., 0., 1.,\n",
              "        1., 1., 0., 1., 0., 1., 1., 1., 1., 0., 1., 1., 1., 0., 1., 0., 1.,\n",
              "        1., 1., 0., 0., 0., 1., 0., 1., 1., 1., 1., 1., 1., 0., 1., 0., 1.,\n",
              "        1., 0., 0., 0., 0., 1., 0., 1., 1., 0., 1., 0., 0., 0., 0., 1., 0.,\n",
              "        0., 0., 1., 0., 0., 1., 0., 0., 0., 0., 0., 0., 1., 1., 1., 0., 0.,\n",
              "        1., 0., 1., 0., 0., 1., 0., 0., 0., 1., 1., 0., 0., 0., 0., 1., 1.,\n",
              "        0., 0., 0., 0., 1., 0., 1., 1., 1., 1., 1., 0., 1., 1., 1., 0., 1.,\n",
              "        0., 1., 0., 1., 1., 0., 0., 1., 1., 1., 1., 0., 1., 1., 1., 1., 0.,\n",
              "        0., 1., 0., 1., 0., 0., 1., 0., 0., 0., 0., 0., 1., 1., 0., 0., 0.,\n",
              "        0., 0., 1., 0., 1., 0., 1., 0., 1., 0., 0., 0., 0., 1., 1., 1., 1.,\n",
              "        0., 1., 1., 1., 1., 0., 0., 1., 1., 1., 0., 1., 0., 0., 1., 0., 0.,\n",
              "        1., 0., 0., 1., 1., 0., 0., 1., 0., 0., 0., 0., 0., 1., 0., 1., 0.,\n",
              "        0., 1., 0., 1., 1., 1., 0., 1., 1., 1., 0., 1., 1., 0., 0., 0., 1.,\n",
              "        1., 0., 1., 1., 0., 0., 0., 1., 1., 1., 1., 1., 1., 0., 0., 0., 1.,\n",
              "        1., 0., 0., 0., 0., 1., 0., 1., 1., 1., 1., 1., 0., 0., 0., 0., 1.,\n",
              "        1., 0., 1., 1., 0., 1., 0., 0., 0., 0., 0., 1., 0., 1., 1., 1., 1.,\n",
              "        1., 1., 1., 0., 1., 0., 1., 1., 0., 1., 0., 0., 1., 0., 1., 1., 1.,\n",
              "        0., 1., 1., 0., 1., 1., 0., 0., 1., 0., 0., 1., 1., 1., 1., 1., 1.,\n",
              "        1., 0., 0., 0., 1., 1., 1., 1., 0., 0., 1., 1., 1., 0., 0., 1., 1.,\n",
              "        0., 1., 0., 0., 0., 1., 0., 1., 1., 1., 0., 0., 0., 0., 1., 0., 1.,\n",
              "        1., 0., 1., 1., 1., 0., 0., 1., 1., 1., 0., 0., 1., 1., 0., 0., 0.,\n",
              "        1., 0., 1., 1., 0., 0., 1., 1., 1., 1., 1., 1., 0., 0., 0., 1., 0.,\n",
              "        0., 1., 1., 1., 0., 1., 0., 0.]))"
            ]
          },
          "metadata": {
            "tags": []
          },
          "execution_count": 18
        }
      ]
    },
    {
      "cell_type": "markdown",
      "metadata": {
        "id": "wMPwmL79q3aG"
      },
      "source": [
        "## 학습"
      ]
    },
    {
      "cell_type": "code",
      "metadata": {
        "id": "dFNqEE0Bq3aG",
        "colab": {
          "base_uri": "https://localhost:8080/",
          "height": 1000
        },
        "outputId": "1f1c47cb-29d3-45e8-b094-60c8c420e981"
      },
      "source": [
        "# 모델 생성\n",
        "model = build_model(len(vocab), d_model, n_seq_1, n_seq_2)\n",
        "# 모델 내용 그래프 출력\n",
        "tf.keras.utils.plot_model(model, 'model.png', show_shapes=True)"
      ],
      "execution_count": 35,
      "outputs": [
        {
          "output_type": "execute_result",
          "data": {
            "image/png": "[encoded data removed]",
            "text/plain": [
              "<IPython.core.display.Image object>"
            ]
          },
          "metadata": {
            "tags": []
          },
          "execution_count": 35
        }
      ]
    },
    {
      "cell_type": "code",
      "metadata": {
        "id": "jQIP_O8Dq3aG"
      },
      "source": [
        "# 모델 loss, optimizer, metric 정의\n",
        "model.compile(loss='mean_squared_error', optimizer='adam', metrics=['binary_accuracy'])"
      ],
      "execution_count": 36,
      "outputs": []
    },
    {
      "cell_type": "code",
      "metadata": {
        "id": "P8Kb7jHvq3aG"
      },
      "source": [
        "# early stopping\n",
        "early_stopping = tf.keras.callbacks.EarlyStopping(monitor='val_binary_accuracy', patience=5)\n",
        "# save weights callback\n",
        "save_weights = tf.keras.callbacks.ModelCheckpoint(os.path.join(quora_dir, 'stub.hdf5'),\n",
        "                                                  monitor='val_binary_accuracy',\n",
        "                                                  verbose=1,\n",
        "                                                  save_best_only=True,\n",
        "                                                  mode=\"max\",\n",
        "                                                  save_freq=\"epoch\",\n",
        "                                                  save_weights_only=True)\n",
        "# csv logger\n",
        "csv_logger = tf.keras.callbacks.CSVLogger(os.path.join(quora_dir, 'stub.csv'))"
      ],
      "execution_count": 37,
      "outputs": []
    },
    {
      "cell_type": "code",
      "metadata": {
        "id": "DU7VaxEcq3aG",
        "colab": {
          "base_uri": "https://localhost:8080/"
        },
        "outputId": "b0a046d1-1cee-4725-e580-42c172f94dd3"
      },
      "source": [
        "# 모델 학습\n",
        "history = model.fit((train_inputs_1, train_inputs_2),\n",
        "                    train_labels,\n",
        "                    validation_data=((test_inputs_1, test_inputs_2), test_labels),\n",
        "                    epochs=100,\n",
        "                    batch_size=256,\n",
        "                    callbacks=[early_stopping, save_weights, csv_logger])"
      ],
      "execution_count": 38,
      "outputs": [
        {
          "output_type": "stream",
          "text": [
            "Epoch 1/100\n",
            "27/27 [==============================] - 12s 219ms/step - loss: 0.1657 - binary_accuracy: 0.7672 - val_loss: 0.2394 - val_binary_accuracy: 0.5934\n",
            "\n",
            "Epoch 00001: val_binary_accuracy improved from -inf to 0.59339, saving model to /content/drive/MyDrive/NLP_data/quora/stub.hdf5\n",
            "Epoch 2/100\n",
            "27/27 [==============================] - 5s 175ms/step - loss: 0.1088 - binary_accuracy: 0.8849 - val_loss: 0.2591 - val_binary_accuracy: 0.5713\n",
            "\n",
            "Epoch 00002: val_binary_accuracy did not improve from 0.59339\n",
            "Epoch 3/100\n",
            "27/27 [==============================] - 5s 173ms/step - loss: 0.0783 - binary_accuracy: 0.9185 - val_loss: 0.2360 - val_binary_accuracy: 0.6287\n",
            "\n",
            "Epoch 00003: val_binary_accuracy improved from 0.59339 to 0.62867, saving model to /content/drive/MyDrive/NLP_data/quora/stub.hdf5\n",
            "Epoch 4/100\n",
            "27/27 [==============================] - 5s 168ms/step - loss: 0.0560 - binary_accuracy: 0.9498 - val_loss: 0.2459 - val_binary_accuracy: 0.6203\n",
            "\n",
            "Epoch 00004: val_binary_accuracy did not improve from 0.62867\n",
            "Epoch 5/100\n",
            "27/27 [==============================] - 4s 166ms/step - loss: 0.0446 - binary_accuracy: 0.9586 - val_loss: 0.2376 - val_binary_accuracy: 0.6222\n",
            "\n",
            "Epoch 00005: val_binary_accuracy did not improve from 0.62867\n",
            "Epoch 6/100\n",
            "27/27 [==============================] - 4s 163ms/step - loss: 0.0369 - binary_accuracy: 0.9703 - val_loss: 0.2346 - val_binary_accuracy: 0.6418\n",
            "\n",
            "Epoch 00006: val_binary_accuracy improved from 0.62867 to 0.64181, saving model to /content/drive/MyDrive/NLP_data/quora/stub.hdf5\n",
            "Epoch 7/100\n",
            "27/27 [==============================] - 5s 173ms/step - loss: 0.0334 - binary_accuracy: 0.9702 - val_loss: 0.2516 - val_binary_accuracy: 0.6330\n",
            "\n",
            "Epoch 00007: val_binary_accuracy did not improve from 0.64181\n",
            "Epoch 8/100\n",
            "27/27 [==============================] - 5s 172ms/step - loss: 0.0271 - binary_accuracy: 0.9777 - val_loss: 0.2697 - val_binary_accuracy: 0.6183\n",
            "\n",
            "Epoch 00008: val_binary_accuracy did not improve from 0.64181\n",
            "Epoch 9/100\n",
            "27/27 [==============================] - 5s 171ms/step - loss: 0.0231 - binary_accuracy: 0.9815 - val_loss: 0.2592 - val_binary_accuracy: 0.6371\n",
            "\n",
            "Epoch 00009: val_binary_accuracy did not improve from 0.64181\n",
            "Epoch 10/100\n",
            "27/27 [==============================] - 4s 163ms/step - loss: 0.0208 - binary_accuracy: 0.9825 - val_loss: 0.2615 - val_binary_accuracy: 0.6355\n",
            "\n",
            "Epoch 00010: val_binary_accuracy did not improve from 0.64181\n",
            "Epoch 11/100\n",
            "27/27 [==============================] - 5s 175ms/step - loss: 0.0185 - binary_accuracy: 0.9840 - val_loss: 0.2739 - val_binary_accuracy: 0.6286\n",
            "\n",
            "Epoch 00011: val_binary_accuracy did not improve from 0.64181\n"
          ],
          "name": "stdout"
        }
      ]
    },
    {
      "cell_type": "code",
      "metadata": {
        "id": "6jigtzHxq3aG",
        "colab": {
          "base_uri": "https://localhost:8080/",
          "height": 282
        },
        "outputId": "ecbf4f95-1b92-493a-d9ac-18b329d69314"
      },
      "source": [
        "plt.figure(figsize=(12, 4))\n",
        "\n",
        "plt.subplot(1, 2, 1)\n",
        "plt.plot(history.history['loss'], 'b-', label='loss')\n",
        "plt.plot(history.history['val_loss'], 'r--', label='val_loss')\n",
        "plt.xlabel('Epoch')\n",
        "plt.legend()\n",
        "\n",
        "plt.subplot(1, 2, 2)\n",
        "plt.plot(history.history['binary_accuracy'], 'g-', label='acc')\n",
        "plt.plot(history.history['val_binary_accuracy'], 'k--', label='val_acc')\n",
        "plt.xlabel('Epoch')\n",
        "plt.legend()\n",
        "\n",
        "plt.show()"
      ],
      "execution_count": 39,
      "outputs": [
        {
          "output_type": "display_data",
          "data": {
            "image/png": "[encoded data removed]",
            "text/plain": [
              "<Figure size 864x288 with 2 Axes>"
            ]
          },
          "metadata": {
            "tags": [],
            "needs_background": "light"
          }
        }
      ]
    },
    {
      "cell_type": "markdown",
      "metadata": {
        "id": "jTN2yeNEq3aI"
      },
      "source": [
        "## Inference"
      ]
    },
    {
      "cell_type": "code",
      "metadata": {
        "id": "iSWxgN2iq3aI"
      },
      "source": [
        "# 모델 생성\n",
        "model = build_model(len(vocab), d_model, n_seq_1, n_seq_2)\n",
        "# train weight로 초기화\n",
        "model.load_weights(os.path.join(quora_dir, 'stub.hdf5'))"
      ],
      "execution_count": 40,
      "outputs": []
    },
    {
      "cell_type": "code",
      "metadata": {
        "id": "i0nmHeRbq3aI",
        "colab": {
          "base_uri": "https://localhost:8080/"
        },
        "outputId": "9045cdbc-7359-478c-9243-00d194a1e583"
      },
      "source": [
        "# 예측\n",
        "logits = model.predict((test_inputs_1, test_inputs_2))\n",
        "logits"
      ],
      "execution_count": 41,
      "outputs": [
        {
          "output_type": "execute_result",
          "data": {
            "text/plain": [
              "array([5.87283522e-02, 1.76990688e-01, 5.61442852e-01, 5.72297454e-01,\n",
              "       6.56198084e-01, 5.92100492e-04, 6.03616238e-01, 4.74260211e-01,\n",
              "       5.57159245e-01, 7.51758277e-01, 8.91909301e-01, 3.28755856e-01,\n",
              "       7.83497036e-01, 7.22211972e-02, 6.09418936e-02, 7.55842090e-01,\n",
              "       6.12104952e-01, 8.07456255e-01, 7.92287767e-01, 7.89611220e-01,\n",
              "       7.97733426e-01, 5.88491499e-01, 6.86279655e-01, 7.76329875e-01,\n",
              "       6.60523653e-01, 5.88887453e-01, 2.04722837e-01, 3.88829917e-01,\n",
              "       6.29373848e-01, 8.98362041e-01, 1.34348627e-02, 3.25102150e-01,\n",
              "       4.15539205e-01, 8.52811158e-01, 8.92537117e-01, 5.54954708e-01,\n",
              "       1.57387123e-01, 5.45051813e-01, 6.61537111e-01, 8.43423605e-01,\n",
              "       3.75619948e-01, 5.16357839e-01, 1.08441800e-01, 7.01854050e-01,\n",
              "       1.41107077e-02, 8.63915384e-01, 1.90287545e-01, 9.72145736e-01,\n",
              "       4.62729305e-01, 2.53898472e-01, 8.34641337e-01, 7.30381191e-01,\n",
              "       1.07710706e-02, 5.58350742e-01, 4.44450229e-01, 7.70316541e-01,\n",
              "       7.08535850e-01, 4.60651547e-01, 5.89708626e-01, 8.73052180e-01,\n",
              "       8.38178337e-01, 6.70027435e-01, 7.93723702e-01, 8.02866518e-01,\n",
              "       8.36945295e-01, 5.85421443e-01, 6.98776543e-02, 4.49737430e-01,\n",
              "       4.87555653e-01, 4.18108433e-01, 2.84459680e-01, 8.47098649e-01,\n",
              "       7.47223794e-01, 8.31121683e-01, 5.14638484e-01, 9.33516800e-01,\n",
              "       6.82904541e-01, 6.72119260e-01, 3.85680646e-01, 5.35262525e-01,\n",
              "       7.88664162e-01, 1.96273282e-01, 4.60262418e-01, 7.73050070e-01,\n",
              "       9.15553212e-01, 7.75042295e-01, 6.52852118e-01, 8.21796417e-01,\n",
              "       8.50492418e-01, 6.64906442e-01, 8.43671918e-01, 7.57121801e-01,\n",
              "       6.99872792e-01, 8.13165009e-01, 4.54700410e-01, 1.61987498e-01,\n",
              "       6.75638020e-01, 4.39583570e-01, 6.15036607e-01, 6.63848341e-01,\n",
              "       7.72436440e-01, 5.45825422e-01, 8.93927932e-01, 5.74923396e-01,\n",
              "       6.76531792e-01, 9.04157043e-01, 9.13572967e-01, 2.76855767e-01,\n",
              "       7.09526539e-02, 5.10291994e-01, 1.06000863e-01, 6.46944225e-01,\n",
              "       1.76803336e-01, 8.07874441e-01, 8.28327119e-01, 3.35564137e-01,\n",
              "       2.11156175e-01, 2.34311253e-01, 8.38541925e-01, 7.77030647e-01,\n",
              "       4.13606286e-01, 9.04664457e-01, 2.11489126e-01, 6.95461810e-01,\n",
              "       4.77443546e-01, 7.07223356e-01, 9.07688320e-01, 8.17051888e-01,\n",
              "       8.49185765e-01, 2.14886129e-01, 6.48650050e-01, 6.35884479e-02,\n",
              "       8.65157902e-01, 6.29549026e-01, 8.03999186e-01, 2.86387112e-02,\n",
              "       3.75172235e-02, 5.47656298e-01, 5.76250136e-01, 6.40817702e-01,\n",
              "       8.53748322e-01, 1.42539199e-02, 4.62923706e-01, 5.31833768e-01,\n",
              "       5.94998956e-01, 3.26344818e-02, 6.70852721e-01, 4.49341893e-01,\n",
              "       6.17469013e-01, 6.55340612e-01, 6.26184344e-01, 6.56470358e-01,\n",
              "       9.84185755e-01, 5.63661873e-01, 9.61629689e-01, 9.93333638e-01,\n",
              "       8.48950863e-01, 1.46614276e-02, 7.76607156e-01, 3.59486759e-01,\n",
              "       1.63536295e-01, 6.67223334e-01, 8.51739407e-01, 8.75620723e-01,\n",
              "       7.86380112e-01, 7.43858099e-01, 6.67913318e-01, 6.39815807e-01,\n",
              "       8.87701929e-01, 5.11512578e-01, 6.33771181e-01, 2.62184262e-01,\n",
              "       9.73620892e-01, 8.50852132e-01, 5.67268729e-01, 7.96229422e-01,\n",
              "       6.90955400e-01, 8.53235662e-01, 8.53591442e-01, 7.72110999e-01,\n",
              "       7.55130768e-01, 2.35918071e-02, 7.82706678e-01, 8.05858195e-01,\n",
              "       9.45968747e-01, 9.39334512e-01, 8.71900201e-01, 4.27828729e-01,\n",
              "       6.17928922e-01, 4.78772849e-01, 7.73205638e-01, 1.34613991e-01,\n",
              "       1.69449359e-01, 1.04797699e-01, 1.43057913e-01, 5.76146925e-03,\n",
              "       8.84449761e-03, 8.56037557e-01, 6.96259975e-01, 1.45661205e-01,\n",
              "       7.68852234e-01, 6.85082316e-01, 6.82976171e-02, 7.45379210e-01,\n",
              "       6.61790729e-01, 7.48616338e-01, 7.78686047e-01, 9.33013082e-01,\n",
              "       8.39782476e-01, 8.80334079e-01, 9.05615743e-03, 6.55327559e-01,\n",
              "       7.91996539e-01, 8.10695827e-01, 8.44263077e-01, 4.69935894e-01,\n",
              "       6.41193688e-01, 6.59673274e-01, 4.26843107e-01, 5.16053252e-02,\n",
              "       9.11131024e-01, 4.61835682e-01, 3.81862313e-01, 7.21866429e-01,\n",
              "       1.15972877e-01, 8.81980002e-01, 7.46097028e-01, 5.73057532e-01,\n",
              "       7.49203622e-01, 7.65047789e-01, 1.59545556e-01, 7.84542978e-01,\n",
              "       7.97603846e-01, 5.55084586e-01, 7.53730714e-01, 7.38908887e-01,\n",
              "       8.05330694e-01, 8.79342079e-01, 8.01340878e-01, 6.76989019e-01,\n",
              "       3.99545193e-01, 2.22171500e-01, 5.34722388e-01, 1.61151171e-01,\n",
              "       8.44139397e-01, 8.89513195e-01, 5.37954986e-01, 4.22652692e-01,\n",
              "       6.24651670e-01, 4.84277576e-01, 8.52028668e-01, 4.85259980e-01,\n",
              "       5.52753747e-01, 9.16248381e-01, 1.09178424e-02, 9.35005605e-01,\n",
              "       9.03194845e-01, 9.37363088e-01, 7.32726455e-01, 6.73525929e-01,\n",
              "       7.66730428e-01, 6.63893163e-01, 7.34431922e-01, 9.83225033e-02,\n",
              "       4.96454984e-01, 3.52776468e-01, 7.93859601e-01, 3.11313689e-01,\n",
              "       8.46335828e-01, 3.31747562e-01, 1.77067101e-01, 6.52172923e-01,\n",
              "       2.39938661e-01, 5.55166125e-01, 2.30980128e-01, 3.92333061e-01,\n",
              "       5.75318754e-01, 7.81660378e-01, 4.39435780e-01, 4.89038527e-01,\n",
              "       1.56567425e-01, 5.27993560e-01, 8.78602087e-01, 7.07253456e-01,\n",
              "       3.26126516e-01, 8.15228879e-01, 1.82954252e-01, 2.04427615e-01,\n",
              "       6.29772127e-01, 2.89902300e-01, 2.05338672e-01, 5.54450154e-01,\n",
              "       9.57783997e-01, 7.68557966e-01, 5.33073127e-01, 1.56624913e-02,\n",
              "       8.72583687e-01, 6.37384832e-01, 6.79490149e-01, 4.61378783e-01,\n",
              "       9.57165480e-01, 9.20972109e-01, 8.75612855e-01, 9.44709182e-01,\n",
              "       7.55975008e-01, 9.00644243e-01, 8.68040383e-01, 7.86140800e-01,\n",
              "       1.94327965e-01, 6.86255276e-01, 5.70694029e-01, 1.79279014e-01,\n",
              "       5.04253149e-01, 2.69657463e-01, 7.67389953e-01, 6.12729788e-01,\n",
              "       7.04012513e-01, 8.39005947e-01, 8.56678903e-01, 7.10902154e-01,\n",
              "       7.15792298e-01, 6.23736024e-01, 6.88231468e-01, 8.27212811e-01,\n",
              "       6.96677327e-01, 7.76320815e-01, 8.14197838e-01, 3.02523106e-01,\n",
              "       7.65457928e-01, 4.82777227e-03, 8.07868958e-01, 8.21556985e-01,\n",
              "       8.50639284e-01, 4.68140692e-01, 6.60403013e-01, 9.21765566e-01,\n",
              "       3.53781402e-01, 8.03944468e-01, 9.05057371e-01, 6.48600519e-01,\n",
              "       8.42441618e-01, 8.20063353e-01, 5.17013013e-01, 8.09864223e-01,\n",
              "       7.72401571e-01, 7.36936033e-01, 5.40818095e-01, 7.45713055e-01,\n",
              "       5.85857153e-01, 7.52618432e-01, 8.90698016e-01, 5.74293733e-01,\n",
              "       7.24441588e-01, 4.29504901e-01, 8.55564892e-01, 2.85062604e-02,\n",
              "       7.11285174e-01, 7.57112861e-01, 3.56502950e-01, 5.45058131e-01,\n",
              "       7.73321450e-01, 5.98276556e-01, 8.17238271e-01, 7.87521422e-01,\n",
              "       3.68871957e-01, 5.52540243e-01, 4.70328443e-02, 7.05173254e-01,\n",
              "       6.50831684e-02, 7.44417161e-02, 6.74953043e-01, 8.00169051e-01,\n",
              "       7.63719261e-01, 5.49332738e-01, 2.07793623e-01, 7.88482070e-01,\n",
              "       8.49352777e-01, 8.16107690e-02, 6.57683611e-01, 7.29329765e-01,\n",
              "       7.35741854e-01, 8.44316244e-01, 5.30701160e-01, 4.73061264e-01,\n",
              "       6.28395319e-01, 4.25615050e-02, 8.09229553e-01, 8.81389081e-01,\n",
              "       7.81838179e-01, 7.57128656e-01, 2.99153239e-01, 2.44215786e-01,\n",
              "       4.82245952e-01, 9.54677820e-01, 8.14563453e-01, 2.36860752e-01,\n",
              "       6.17120385e-01, 4.60339993e-01, 8.47663164e-01, 3.89203042e-01,\n",
              "       4.76706773e-01, 9.41142321e-01, 1.63646191e-01, 4.97767568e-01,\n",
              "       8.01629364e-01, 4.92939770e-01, 8.63048494e-01, 5.69458492e-03,\n",
              "       6.27924681e-01, 5.31001925e-01, 6.58608198e-01, 7.11114585e-01,\n",
              "       4.92406726e-01, 3.76205266e-01, 8.41700494e-01, 8.14147174e-01,\n",
              "       8.68982300e-02, 8.91050160e-01, 4.92487490e-01, 3.07865620e-01,\n",
              "       7.34795749e-01, 8.84384751e-01, 8.81570876e-01, 4.92678732e-01,\n",
              "       8.39234471e-01, 7.89126873e-01, 5.63516498e-01, 5.51905990e-01,\n",
              "       3.83016504e-02, 9.00546908e-01, 3.35713178e-01, 1.69413209e-01,\n",
              "       3.04608017e-01, 6.89135790e-01, 5.26113093e-01, 8.40910494e-01,\n",
              "       4.39205021e-01, 8.04721892e-01, 5.91468275e-01, 5.80509543e-01,\n",
              "       8.19748580e-01, 2.10478693e-01, 1.67832524e-02, 8.69117975e-01,\n",
              "       3.06496054e-01, 8.29158068e-01, 5.69073319e-01, 9.11783934e-01,\n",
              "       3.81598413e-01, 6.83301926e-01, 8.11294436e-01, 8.14282656e-01,\n",
              "       5.47065198e-01, 8.90802324e-01, 6.12073541e-01, 2.60813683e-01,\n",
              "       5.06220043e-01, 4.91286635e-01, 4.29864265e-02, 2.85983950e-01,\n",
              "       1.89683899e-01, 6.93813086e-01, 6.18286252e-01, 4.46563125e-01,\n",
              "       4.96302962e-01, 7.73176253e-01, 9.33457792e-01, 5.61865628e-01,\n",
              "       4.70589161e-01, 9.53875855e-03, 7.20648421e-03, 5.60030282e-01,\n",
              "       1.40113503e-01, 9.33481336e-01, 6.58169985e-01, 1.43176734e-01,\n",
              "       5.93418598e-01, 9.97495592e-01, 9.44750428e-01, 6.08212590e-01,\n",
              "       4.56760824e-01, 7.34370351e-01, 1.07968636e-01, 9.69183862e-01,\n",
              "       6.81681633e-01, 8.78420234e-01, 3.02075446e-01, 9.44988310e-01,\n",
              "       8.86599183e-01, 6.06308103e-01, 8.93360257e-01, 8.03575099e-01,\n",
              "       6.40447617e-01, 9.39764440e-01, 8.90313268e-01, 5.34562945e-01,\n",
              "       9.07336622e-02, 8.10867012e-01, 9.43269312e-01, 1.59439906e-01,\n",
              "       7.50655115e-01, 5.16522340e-02, 9.42552090e-02, 3.39939773e-01,\n",
              "       5.92653155e-01, 7.73360074e-01, 4.11377311e-01, 7.94321656e-01,\n",
              "       7.90704548e-01, 6.98448479e-01, 7.87502944e-01, 8.38194370e-01,\n",
              "       7.19804227e-01, 6.24245703e-01, 9.27993596e-01, 6.99135423e-01,\n",
              "       3.00008088e-01, 7.91097224e-01, 1.03520334e-01, 4.88283217e-01,\n",
              "       2.97001928e-01, 3.31641138e-01, 8.30461800e-01, 5.78590631e-01,\n",
              "       3.64265800e-01, 4.49929595e-01, 9.60277259e-01, 7.69601762e-01,\n",
              "       2.05477849e-01, 6.61791027e-01, 2.84229219e-01, 5.66398263e-01,\n",
              "       3.46617669e-01, 5.14454663e-01, 6.08202457e-01, 4.94264632e-01,\n",
              "       7.05853462e-01, 7.58340001e-01, 6.24166191e-01, 8.76209915e-01,\n",
              "       5.72723210e-01, 6.76487744e-01, 7.71250129e-01, 6.24543250e-01,\n",
              "       2.99828708e-01, 5.93570352e-01, 5.22020042e-01, 8.60614240e-01,\n",
              "       7.22896934e-01, 9.65903997e-01, 4.09101427e-01, 2.50259578e-01,\n",
              "       8.39163840e-01, 8.20334196e-01, 8.60307217e-01, 9.67367887e-01,\n",
              "       8.49935889e-01, 1.97775945e-01, 9.09173012e-01, 4.41466272e-01,\n",
              "       7.74953663e-01, 3.69878620e-01, 1.88111335e-01, 7.54850149e-01,\n",
              "       7.91590869e-01, 5.48045039e-01, 7.66527891e-01, 4.85171974e-01,\n",
              "       5.77366829e-01, 8.55667770e-01, 8.66329372e-01, 5.68699062e-01,\n",
              "       7.98263669e-01, 7.47163177e-01, 8.74058485e-01, 6.55198276e-01,\n",
              "       7.69646525e-01, 8.15638006e-01, 6.47414029e-01, 8.80051255e-01,\n",
              "       7.39602745e-01, 4.77009743e-01, 8.38047981e-01, 2.67460197e-01,\n",
              "       4.43727404e-01, 7.47298837e-01, 5.23063719e-01, 8.68872702e-01,\n",
              "       6.36848509e-01, 1.21355243e-01, 7.34845042e-01, 5.60599379e-03,\n",
              "       1.03150427e-01, 7.68072128e-01, 7.24179387e-01, 3.66543561e-01,\n",
              "       7.06939995e-01, 5.23443460e-01, 8.17218125e-01, 9.61229324e-01,\n",
              "       3.23743492e-01, 2.95687944e-01, 6.70406640e-01, 6.96809292e-01,\n",
              "       7.37748086e-01, 5.37197173e-01, 7.12437928e-01, 4.74259079e-01,\n",
              "       9.18891668e-01, 7.49021530e-01, 7.82308221e-01, 9.44838107e-01,\n",
              "       7.13692188e-01, 6.56930804e-01, 8.65190685e-01, 6.62331223e-01,\n",
              "       4.97592181e-01, 9.29573476e-01, 7.97045350e-01, 8.97244394e-01,\n",
              "       6.38361156e-01, 1.91804960e-01, 8.13869476e-01, 7.44721115e-01,\n",
              "       6.50497198e-01, 7.11394846e-01, 7.03349054e-01, 8.93848956e-01,\n",
              "       3.96128356e-01, 7.62645543e-01, 8.04850459e-01, 3.64020526e-01,\n",
              "       4.91559319e-02, 8.36125731e-01, 6.72011077e-01, 7.45225728e-01,\n",
              "       5.58094561e-01, 3.14250648e-01, 8.83614779e-01, 2.38338724e-01,\n",
              "       8.12946141e-01, 7.20097780e-01, 6.58157587e-01, 9.29696977e-01,\n",
              "       4.26593751e-01, 6.14877999e-01, 6.12029612e-01, 1.35266706e-01,\n",
              "       7.80908883e-01, 5.21095395e-01, 4.12461102e-01, 1.41074518e-02,\n",
              "       7.39460287e-04, 6.11954570e-01, 7.91234195e-01, 7.95273006e-01,\n",
              "       1.00272812e-01, 2.88192958e-01, 8.22454095e-01, 3.99458677e-01,\n",
              "       2.87955493e-01, 1.32810220e-01, 4.55188975e-02, 3.10190301e-02,\n",
              "       1.77149195e-02, 1.94606707e-02, 8.14321101e-01, 8.68157625e-01,\n",
              "       8.88689607e-03, 3.41610499e-02, 9.38482046e-01, 7.73588061e-01,\n",
              "       2.59098530e-01, 8.80813062e-01, 6.85530305e-01, 7.65478730e-01,\n",
              "       4.11591053e-01, 8.75330508e-01, 6.66228235e-01, 5.39119542e-03,\n",
              "       3.94213468e-01, 4.92326379e-01, 4.99043912e-01, 6.28416538e-01,\n",
              "       2.87465930e-01, 9.13491011e-01, 7.72535384e-01, 2.17769966e-01],\n",
              "      dtype=float32)"
            ]
          },
          "metadata": {
            "tags": []
          },
          "execution_count": 41
        }
      ]
    },
    {
      "cell_type": "code",
      "metadata": {
        "id": "K8CprZvVq3aI",
        "colab": {
          "base_uri": "https://localhost:8080/"
        },
        "outputId": "fd0d6d64-dcdf-496a-a118-cdfc1affdad8"
      },
      "source": [
        "# 0.5를 기준으로 (0, 1) 결정\n",
        "test_preds = (0.5 < logits).astype(np.int)\n",
        "test_preds"
      ],
      "execution_count": 42,
      "outputs": [
        {
          "output_type": "execute_result",
          "data": {
            "text/plain": [
              "array([0, 0, 1, 1, 1, 0, 1, 0, 1, 1, 1, 0, 1, 0, 0, 1, 1, 1, 1, 1, 1, 1,\n",
              "       1, 1, 1, 1, 0, 0, 1, 1, 0, 0, 0, 1, 1, 1, 0, 1, 1, 1, 0, 1, 0, 1,\n",
              "       0, 1, 0, 1, 0, 0, 1, 1, 0, 1, 0, 1, 1, 0, 1, 1, 1, 1, 1, 1, 1, 1,\n",
              "       0, 0, 0, 0, 0, 1, 1, 1, 1, 1, 1, 1, 0, 1, 1, 0, 0, 1, 1, 1, 1, 1,\n",
              "       1, 1, 1, 1, 1, 1, 0, 0, 1, 0, 1, 1, 1, 1, 1, 1, 1, 1, 1, 0, 0, 1,\n",
              "       0, 1, 0, 1, 1, 0, 0, 0, 1, 1, 0, 1, 0, 1, 0, 1, 1, 1, 1, 0, 1, 0,\n",
              "       1, 1, 1, 0, 0, 1, 1, 1, 1, 0, 0, 1, 1, 0, 1, 0, 1, 1, 1, 1, 1, 1,\n",
              "       1, 1, 1, 0, 1, 0, 0, 1, 1, 1, 1, 1, 1, 1, 1, 1, 1, 0, 1, 1, 1, 1,\n",
              "       1, 1, 1, 1, 1, 0, 1, 1, 1, 1, 1, 0, 1, 0, 1, 0, 0, 0, 0, 0, 0, 1,\n",
              "       1, 0, 1, 1, 0, 1, 1, 1, 1, 1, 1, 1, 0, 1, 1, 1, 1, 0, 1, 1, 0, 0,\n",
              "       1, 0, 0, 1, 0, 1, 1, 1, 1, 1, 0, 1, 1, 1, 1, 1, 1, 1, 1, 1, 0, 0,\n",
              "       1, 0, 1, 1, 1, 0, 1, 0, 1, 0, 1, 1, 0, 1, 1, 1, 1, 1, 1, 1, 1, 0,\n",
              "       0, 0, 1, 0, 1, 0, 0, 1, 0, 1, 0, 0, 1, 1, 0, 0, 0, 1, 1, 1, 0, 1,\n",
              "       0, 0, 1, 0, 0, 1, 1, 1, 1, 0, 1, 1, 1, 0, 1, 1, 1, 1, 1, 1, 1, 1,\n",
              "       0, 1, 1, 0, 1, 0, 1, 1, 1, 1, 1, 1, 1, 1, 1, 1, 1, 1, 1, 0, 1, 0,\n",
              "       1, 1, 1, 0, 1, 1, 0, 1, 1, 1, 1, 1, 1, 1, 1, 1, 1, 1, 1, 1, 1, 1,\n",
              "       1, 0, 1, 0, 1, 1, 0, 1, 1, 1, 1, 1, 0, 1, 0, 1, 0, 0, 1, 1, 1, 1,\n",
              "       0, 1, 1, 0, 1, 1, 1, 1, 1, 0, 1, 0, 1, 1, 1, 1, 0, 0, 0, 1, 1, 0,\n",
              "       1, 0, 1, 0, 0, 1, 0, 0, 1, 0, 1, 0, 1, 1, 1, 1, 0, 0, 1, 1, 0, 1,\n",
              "       0, 0, 1, 1, 1, 0, 1, 1, 1, 1, 0, 1, 0, 0, 0, 1, 1, 1, 0, 1, 1, 1,\n",
              "       1, 0, 0, 1, 0, 1, 1, 1, 0, 1, 1, 1, 1, 1, 1, 0, 1, 0, 0, 0, 0, 1,\n",
              "       1, 0, 0, 1, 1, 1, 0, 0, 0, 1, 0, 1, 1, 0, 1, 1, 1, 1, 0, 1, 0, 1,\n",
              "       1, 1, 0, 1, 1, 1, 1, 1, 1, 1, 1, 1, 0, 1, 1, 0, 1, 0, 0, 0, 1, 1,\n",
              "       0, 1, 1, 1, 1, 1, 1, 1, 1, 1, 0, 1, 0, 0, 0, 0, 1, 1, 0, 0, 1, 1,\n",
              "       0, 1, 0, 1, 0, 1, 1, 0, 1, 1, 1, 1, 1, 1, 1, 1, 0, 1, 1, 1, 1, 1,\n",
              "       0, 0, 1, 1, 1, 1, 1, 0, 1, 0, 1, 0, 0, 1, 1, 1, 1, 0, 1, 1, 1, 1,\n",
              "       1, 1, 1, 1, 1, 1, 1, 1, 1, 0, 1, 0, 0, 1, 1, 1, 1, 0, 1, 0, 0, 1,\n",
              "       1, 0, 1, 1, 1, 1, 0, 0, 1, 1, 1, 1, 1, 0, 1, 1, 1, 1, 1, 1, 1, 1,\n",
              "       0, 1, 1, 1, 1, 0, 1, 1, 1, 1, 1, 1, 0, 1, 1, 0, 0, 1, 1, 1, 1, 0,\n",
              "       1, 0, 1, 1, 1, 1, 0, 1, 1, 0, 1, 1, 0, 0, 0, 1, 1, 1, 0, 0, 1, 0,\n",
              "       0, 0, 0, 0, 0, 0, 1, 1, 0, 0, 1, 1, 0, 1, 1, 1, 0, 1, 1, 0, 0, 0,\n",
              "       0, 1, 0, 1, 1, 0])"
            ]
          },
          "metadata": {
            "tags": []
          },
          "execution_count": 42
        }
      ]
    },
    {
      "cell_type": "code",
      "metadata": {
        "id": "Nr6i_0noq3aJ",
        "colab": {
          "base_uri": "https://localhost:8080/"
        },
        "outputId": "b5fa3c1e-d1d6-49d6-adf6-de70166318d8"
      },
      "source": [
        "# confusion matrix 계산\n",
        "confusion_matrix = np.zeros((2, 2)).astype(np.int)\n",
        "for y_true, y_pred in zip(test_labels, test_preds):\n",
        "    confusion_matrix[int(y_true), int(y_pred)] += 1\n",
        "confusion_matrix"
      ],
      "execution_count": 43,
      "outputs": [
        {
          "output_type": "execute_result",
          "data": {
            "text/plain": [
              "array([[154, 175],\n",
              "       [ 71, 288]])"
            ]
          },
          "metadata": {
            "tags": []
          },
          "execution_count": 43
        }
      ]
    },
    {
      "cell_type": "code",
      "metadata": {
        "id": "dRx3o1frq3aJ",
        "colab": {
          "base_uri": "https://localhost:8080/"
        },
        "outputId": "5810330a-464b-46c5-d1fb-2d7afec3314f"
      },
      "source": [
        "# score 계산\n",
        "tp = confusion_matrix[1, 1]\n",
        "tn = confusion_matrix[0, 0]\n",
        "fp = confusion_matrix[0, 1]\n",
        "fn = confusion_matrix[1, 0]\n",
        "\n",
        "accuracy = (tp + tn) / max(tp + tn + fp + fn, 1)\n",
        "print(f'accuracy: {accuracy}')\n",
        "precision = (tp) / max(tp + fp, 1)\n",
        "print(f'precision: {precision}')\n",
        "recall = (tp) / max(tp + fn, 1)\n",
        "print(f'recall: {recall}')\n",
        "f1 = 2 * (precision * recall) / max(precision + recall, 1)\n",
        "print(f'f1: {f1}')"
      ],
      "execution_count": 44,
      "outputs": [
        {
          "output_type": "stream",
          "text": [
            "accuracy: 0.6424418604651163\n",
            "precision: 0.6220302375809935\n",
            "recall: 0.8022284122562674\n",
            "f1: 0.7007299270072993\n"
          ],
          "name": "stdout"
        }
      ]
    },
    {
      "cell_type": "code",
      "metadata": {
        "id": "dTLqY8UUq3aJ"
      },
      "source": [
        "def do_predict(model, n_seq_1, string1, n_seq_2, string2):\n",
        "    \"\"\"\n",
        "    입력에 대한 답변 생성하는 함수\n",
        "    :param model: model\n",
        "    :param n_seq_1: 입력 개수 1\n",
        "    :param string1: 입력 문자열 1\n",
        "    :param n_seq_1: 입력 개수 3\n",
        "    :param string2: 입력 문자열 2\n",
        "    \"\"\"\n",
        "    # token 생성: <string 1 tokens>, [PAD] tokens\n",
        "    token1 = vocab.encode_as_ids(string1)[:n_seq_1]\n",
        "    token1 += [0] * (n_seq_1 - len(token1))\n",
        "\n",
        "    # token 생성: <string 2 tokens>, [PAD] tokens\n",
        "    token2 = vocab.encode_as_ids(string2)[:n_seq_2]\n",
        "    token2 += [0] * (n_seq_2 - len(token2))\n",
        "\n",
        "    y_pred = model.predict((np.array([token1]), np.array([token2])))\n",
        "\n",
        "    # print(y_pred[0]) 예측값 확인을 위해 추가\n",
        "\n",
        "    return \"같음\" if y_pred[0] > 0.5 else \"다름\""
      ],
      "execution_count": 50,
      "outputs": []
    },
    {
      "cell_type": "code",
      "metadata": {
        "id": "jOLOr1Ygq3aJ",
        "colab": {
          "base_uri": "https://localhost:8080/"
        },
        "outputId": "99f87c63-904a-43b9-9b9b-a50101c76352"
      },
      "source": [
        "while True:\n",
        "    print(\"string #1 > \", end=\"\")\n",
        "    string1 = str(input())\n",
        "    if len(string1) == 0:\n",
        "        break\n",
        "    print(\"string #2 > \", end=\"\")\n",
        "    string2 = str(input())\n",
        "    if len(string2) == 0:\n",
        "        break\n",
        "    print(f\"output > {do_predict(model, n_seq_1, string1, n_seq_2, string2)}\")"
      ],
      "execution_count": 56,
      "outputs": [
        {
          "output_type": "stream",
          "text": [
            "string #1 > 헤어 에센스 냄새 별로야\n",
            "string #2 > 스탠드 이케아꺼 좋더라\n",
            "output > 다름\n",
            "string #1 > 나 배고파\n",
            "string #2 > 저녁 먹으러가자\n",
            "output > 같음\n",
            "string #1 > \n"
          ],
          "name": "stdout"
        }
      ]
    },
    {
      "cell_type": "code",
      "metadata": {
        "id": "F1YfFKUrsVp8"
      },
      "source": [
        ""
      ],
      "execution_count": null,
      "outputs": []
    }
  ]
}